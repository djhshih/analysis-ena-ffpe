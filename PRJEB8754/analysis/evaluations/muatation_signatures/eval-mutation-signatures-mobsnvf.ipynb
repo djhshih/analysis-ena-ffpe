{
 "cells": [
  {
   "cell_type": "code",
   "execution_count": 1,
   "id": "46c4100d",
   "metadata": {},
   "outputs": [],
   "source": [
    "#!/usr/bin/env python3\n",
    "import os\n",
    "import sys\n",
    "import glob\n",
    "import pysam\n"
   ]
  },
  {
   "cell_type": "code",
   "execution_count": 2,
   "id": "256107ef",
   "metadata": {},
   "outputs": [],
   "source": [
    "\n",
    "module_path = os.path.abspath(\"../../../python\")\n",
    "sys.path.append(module_path)\n",
    "\n",
    "import mutation_signatures as ms\n"
   ]
  },
  {
   "cell_type": "code",
   "execution_count": 10,
   "id": "3cef89f7",
   "metadata": {},
   "outputs": [],
   "source": [
    "\n",
    "vcf_paths = sorted(glob.glob(\"../../../ffpe-snvf/mobsnvf/*/*.mobsnvf.filtered.snv\"))\n",
    "reference_genome_path= \"../../../data/ref/Homo_sapiens_assembly38.fasta\"\n",
    "reference_genome = pysam.FastaFile(reference_genome_path)\n",
    "outdir_root = \"../../evaluations/ad_filtered\"\n"
   ]
  },
  {
   "cell_type": "code",
   "execution_count": 11,
   "id": "3bc9caf9",
   "metadata": {},
   "outputs": [
    {
     "data": {
      "text/plain": [
       "['../../../ffpe-snvf/mobsnvf/Pat01_Meta_FFPE_ERR791893/Pat01_Meta_FFPE_ERR791893.mobsnvf.filtered.snv',\n",
       " '../../../ffpe-snvf/mobsnvf/Pat01_Meta_Frozen_ERR791883/Pat01_Meta_Frozen_ERR791883.mobsnvf.filtered.snv',\n",
       " '../../../ffpe-snvf/mobsnvf/Pat03_Meta_FFPE_ERR791895/Pat03_Meta_FFPE_ERR791895.mobsnvf.filtered.snv',\n",
       " '../../../ffpe-snvf/mobsnvf/Pat03_Meta_Frozen_ERR791884/Pat03_Meta_Frozen_ERR791884.mobsnvf.filtered.snv',\n",
       " '../../../ffpe-snvf/mobsnvf/Pat04_Meta_FFPE_ERR791896/Pat04_Meta_FFPE_ERR791896.mobsnvf.filtered.snv',\n",
       " '../../../ffpe-snvf/mobsnvf/Pat04_Meta_Frozen_ERR791891/Pat04_Meta_Frozen_ERR791891.mobsnvf.filtered.snv',\n",
       " '../../../ffpe-snvf/mobsnvf/Pat04_Prim_FFPE_ERR791897/Pat04_Prim_FFPE_ERR791897.mobsnvf.filtered.snv',\n",
       " '../../../ffpe-snvf/mobsnvf/Pat08_Meta_FFPE_ERR791901/Pat08_Meta_FFPE_ERR791901.mobsnvf.filtered.snv',\n",
       " '../../../ffpe-snvf/mobsnvf/Pat08_Meta_Frozen_ERR791886/Pat08_Meta_Frozen_ERR791886.mobsnvf.filtered.snv',\n",
       " '../../../ffpe-snvf/mobsnvf/Pat09_Meta_FFPE_ERR791902/Pat09_Meta_FFPE_ERR791902.mobsnvf.filtered.snv',\n",
       " '../../../ffpe-snvf/mobsnvf/Pat09_Meta_Frozen_ERR791887/Pat09_Meta_Frozen_ERR791887.mobsnvf.filtered.snv',\n",
       " '../../../ffpe-snvf/mobsnvf/Pat10_Meta_FFPE_ERR791903/Pat10_Meta_FFPE_ERR791903.mobsnvf.filtered.snv',\n",
       " '../../../ffpe-snvf/mobsnvf/Pat10_Meta_Frozen_ERR791888/Pat10_Meta_Frozen_ERR791888.mobsnvf.filtered.snv',\n",
       " '../../../ffpe-snvf/mobsnvf/Pat10_Prim_FFPE_ERR791904/Pat10_Prim_FFPE_ERR791904.mobsnvf.filtered.snv',\n",
       " '../../../ffpe-snvf/mobsnvf/Pat11_Meta_FFPE_ERR791905/Pat11_Meta_FFPE_ERR791905.mobsnvf.filtered.snv',\n",
       " '../../../ffpe-snvf/mobsnvf/Pat11_Prim_FFPE_ERR791906/Pat11_Prim_FFPE_ERR791906.mobsnvf.filtered.snv',\n",
       " '../../../ffpe-snvf/mobsnvf/Pat12_Meta_FFPE_ERR791907/Pat12_Meta_FFPE_ERR791907.mobsnvf.filtered.snv',\n",
       " '../../../ffpe-snvf/mobsnvf/Pat12_Meta_Frozen_ERR791911/Pat12_Meta_Frozen_ERR791911.mobsnvf.filtered.snv',\n",
       " '../../../ffpe-snvf/mobsnvf/Pat13_Meta_FFPE_ERR791908/Pat13_Meta_FFPE_ERR791908.mobsnvf.filtered.snv',\n",
       " '../../../ffpe-snvf/mobsnvf/Pat13_Meta_Frozen_ERR791890/Pat13_Meta_Frozen_ERR791890.mobsnvf.filtered.snv',\n",
       " '../../../ffpe-snvf/mobsnvf/Pat14_Meta_FFPE_ERR791909/Pat14_Meta_FFPE_ERR791909.mobsnvf.filtered.snv',\n",
       " '../../../ffpe-snvf/mobsnvf/Pat14_Meta_Frozen_ERR791885/Pat14_Meta_Frozen_ERR791885.mobsnvf.filtered.snv',\n",
       " '../../../ffpe-snvf/mobsnvf/Pat14_Prim_FFPE_ERR791910/Pat14_Prim_FFPE_ERR791910.mobsnvf.filtered.snv']"
      ]
     },
     "execution_count": 11,
     "metadata": {},
     "output_type": "execute_result"
    }
   ],
   "source": [
    "vcf_paths"
   ]
  },
  {
   "cell_type": "code",
   "execution_count": 5,
   "id": "9b3408e0",
   "metadata": {},
   "outputs": [],
   "source": [
    "\n",
    "for vcf_path in vcf_paths:\n",
    "\n",
    "\tsample_name = os.path.basename(vcf_path).removesuffix(\".gz\").removesuffix(\".vcf\").removesuffix(\".mobsnvf.filtered.snv\")\n",
    "\n",
    "\toutdir = f\"{outdir_root}/mutation_signatures/{sample_name}/mobsnvf\"\n",
    "\tos.makedirs(outdir, exist_ok=True)\n",
    "\tbreak\n",
    "\tvariants_96c = ms.variants_mut_profile(vcf_path, sample_name, reference_genome)\n",
    "\tmutaion_counts_96c = ms.create_96c_mutation_counts(variants_96c)\n",
    "\n",
    "\tprint(f\"{sample_name}:\")\n",
    "\n",
    "\tvariants_96c.write_csv(f\"{outdir}/{sample_name}_96c_mutation_profiles.tsv\", separator=\"\\t\")\n",
    "\tprint(f\"\\tSaved mutation profiles to: {outdir}/{sample_name}_mobsnvf_96c_mutations.tsv\")\n",
    "\n",
    "\tmutaion_counts_96c.write_csv(f\"{outdir}/{sample_name}_mobsnvf_96c_mutation_count.tsv\", separator=\"\\t\")\n",
    "\tprint(f\"\\tSaved 96 channnel mutation counts to: {outdir}/{sample_name}_96c_mutation_count.tsv\")\n",
    "\n",
    "\tms.SBS96_plot(mutaion_counts_96c[:, 2].to_numpy(), label=sample_name, height=3, width=10, s=8, xticks_label=False, file=f\"{outdir}/{sample_name}_96c_mutation_signature.pdf\")\n",
    "\tprint(f\"\\tSaved 96 channnel mutation counts to: {outdir}/{sample_name}_mobsnvf_96c_mutation_signature.pdf\")\n",
    "\n",
    "\n",
    "\n"
   ]
  },
  {
   "cell_type": "code",
   "execution_count": 6,
   "id": "faa5763c",
   "metadata": {},
   "outputs": [
    {
     "ename": "NameError",
     "evalue": "name 'sample_name' is not defined",
     "output_type": "error",
     "traceback": [
      "\u001b[31m---------------------------------------------------------------------------\u001b[39m",
      "\u001b[31mNameError\u001b[39m                                 Traceback (most recent call last)",
      "\u001b[36mCell\u001b[39m\u001b[36m \u001b[39m\u001b[32mIn[6]\u001b[39m\u001b[32m, line 1\u001b[39m\n\u001b[32m----> \u001b[39m\u001b[32m1\u001b[39m \u001b[43msample_name\u001b[49m\n",
      "\u001b[31mNameError\u001b[39m: name 'sample_name' is not defined"
     ]
    }
   ],
   "source": [
    "sample_name"
   ]
  }
 ],
 "metadata": {
  "kernelspec": {
   "display_name": "ena-ffpe",
   "language": "python",
   "name": "python3"
  },
  "language_info": {
   "codemirror_mode": {
    "name": "ipython",
    "version": 3
   },
   "file_extension": ".py",
   "mimetype": "text/x-python",
   "name": "python",
   "nbconvert_exporter": "python",
   "pygments_lexer": "ipython3",
   "version": "3.12.11"
  }
 },
 "nbformat": 4,
 "nbformat_minor": 5
}
