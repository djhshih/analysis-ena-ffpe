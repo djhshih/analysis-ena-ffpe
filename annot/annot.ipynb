{
 "cells": [
  {
   "cell_type": "code",
   "execution_count": 134,
   "id": "a8ff112f",
   "metadata": {},
   "outputs": [],
   "source": [
    "import polars as pl\n",
    "import os\n",
    "import requests\n",
    "import xml.etree.ElementTree as ET"
   ]
  },
  {
   "cell_type": "code",
   "execution_count": 2,
   "id": "12c5f905",
   "metadata": {},
   "outputs": [
    {
     "data": {
      "application/vnd.microsoft.datawrangler.viewer.v0+json": {
       "columns": [
        {
         "name": "index",
         "rawType": "int64",
         "type": "integer"
        },
        {
         "name": "run_accession",
         "rawType": "object",
         "type": "string"
        },
        {
         "name": "sample_accession",
         "rawType": "object",
         "type": "string"
        },
        {
         "name": "experiment_accession",
         "rawType": "object",
         "type": "string"
        },
        {
         "name": "study_accession",
         "rawType": "object",
         "type": "string"
        },
        {
         "name": "tax_id",
         "rawType": "int64",
         "type": "integer"
        },
        {
         "name": "scientific_name",
         "rawType": "object",
         "type": "string"
        },
        {
         "name": "fastq_ftp",
         "rawType": "object",
         "type": "string"
        },
        {
         "name": "sra_ftp",
         "rawType": "object",
         "type": "unknown"
        },
        {
         "name": "bam_ftp",
         "rawType": "object",
         "type": "unknown"
        }
       ],
       "ref": "10b6382d-be75-4f86-9ab7-f76bca5c3bfd",
       "rows": [
        [
         "0",
         "ERR791879",
         "SAMEA3308178",
         "ERX836027",
         "PRJEB8754",
         "9606",
         "Homo sapiens",
         "ftp.sra.ebi.ac.uk/vol1/fastq/ERR791/ERR791879/ERR791879_1.fastq.gz;ftp.sra.ebi.ac.uk/vol1/fastq/ERR791/ERR791879/ERR791879_2.fastq.gz",
         null,
         null
        ],
        [
         "1",
         "ERR791881",
         "SAMEA3308180",
         "ERX836029",
         "PRJEB8754",
         "9606",
         "Homo sapiens",
         "ftp.sra.ebi.ac.uk/vol1/fastq/ERR791/ERR791881/ERR791881_1.fastq.gz;ftp.sra.ebi.ac.uk/vol1/fastq/ERR791/ERR791881/ERR791881_2.fastq.gz",
         null,
         null
        ],
        [
         "2",
         "ERR791882",
         "SAMEA3308181",
         "ERX836030",
         "PRJEB8754",
         "9606",
         "Homo sapiens",
         "ftp.sra.ebi.ac.uk/vol1/fastq/ERR791/ERR791882/ERR791882_1.fastq.gz;ftp.sra.ebi.ac.uk/vol1/fastq/ERR791/ERR791882/ERR791882_2.fastq.gz",
         null,
         null
        ],
        [
         "3",
         "ERR791884",
         "SAMEA3308183",
         "ERX836032",
         "PRJEB8754",
         "9606",
         "Homo sapiens",
         "ftp.sra.ebi.ac.uk/vol1/fastq/ERR791/ERR791884/ERR791884_1.fastq.gz;ftp.sra.ebi.ac.uk/vol1/fastq/ERR791/ERR791884/ERR791884_2.fastq.gz",
         null,
         null
        ],
        [
         "4",
         "ERR791888",
         "SAMEA3308187",
         "ERX836036",
         "PRJEB8754",
         "9606",
         "Homo sapiens",
         "ftp.sra.ebi.ac.uk/vol1/fastq/ERR791/ERR791888/ERR791888_1.fastq.gz;ftp.sra.ebi.ac.uk/vol1/fastq/ERR791/ERR791888/ERR791888_2.fastq.gz",
         null,
         null
        ],
        [
         "5",
         "ERR791890",
         "SAMEA3308189",
         "ERX836038",
         "PRJEB8754",
         "9606",
         "Homo sapiens",
         "ftp.sra.ebi.ac.uk/vol1/fastq/ERR791/ERR791890/ERR791890_1.fastq.gz;ftp.sra.ebi.ac.uk/vol1/fastq/ERR791/ERR791890/ERR791890_2.fastq.gz",
         null,
         null
        ],
        [
         "6",
         "ERR791892",
         "SAMEA3308191",
         "ERX836040",
         "PRJEB8754",
         "9606",
         "Homo sapiens",
         "ftp.sra.ebi.ac.uk/vol1/fastq/ERR791/ERR791892/ERR791892_1.fastq.gz;ftp.sra.ebi.ac.uk/vol1/fastq/ERR791/ERR791892/ERR791892_2.fastq.gz",
         null,
         null
        ],
        [
         "7",
         "ERR791895",
         "SAMEA3308194",
         "ERX836043",
         "PRJEB8754",
         "9606",
         "Homo sapiens",
         "ftp.sra.ebi.ac.uk/vol1/fastq/ERR791/ERR791895/ERR791895_1.fastq.gz;ftp.sra.ebi.ac.uk/vol1/fastq/ERR791/ERR791895/ERR791895_2.fastq.gz",
         null,
         null
        ],
        [
         "8",
         "ERR791898",
         "SAMEA3308197",
         "ERX836046",
         "PRJEB8754",
         "9606",
         "Homo sapiens",
         "ftp.sra.ebi.ac.uk/vol1/fastq/ERR791/ERR791898/ERR791898_1.fastq.gz;ftp.sra.ebi.ac.uk/vol1/fastq/ERR791/ERR791898/ERR791898_2.fastq.gz",
         null,
         null
        ],
        [
         "9",
         "ERR791902",
         "SAMEA3308201",
         "ERX836050",
         "PRJEB8754",
         "9606",
         "Homo sapiens",
         "ftp.sra.ebi.ac.uk/vol1/fastq/ERR791/ERR791902/ERR791902_1.fastq.gz;ftp.sra.ebi.ac.uk/vol1/fastq/ERR791/ERR791902/ERR791902_2.fastq.gz",
         null,
         null
        ],
        [
         "10",
         "ERR791907",
         "SAMEA3308206",
         "ERX836055",
         "PRJEB8754",
         "9606",
         "Homo sapiens",
         "ftp.sra.ebi.ac.uk/vol1/fastq/ERR791/ERR791907/ERR791907_1.fastq.gz;ftp.sra.ebi.ac.uk/vol1/fastq/ERR791/ERR791907/ERR791907_2.fastq.gz",
         null,
         null
        ],
        [
         "11",
         "ERR791908",
         "SAMEA3308207",
         "ERX836056",
         "PRJEB8754",
         "9606",
         "Homo sapiens",
         "ftp.sra.ebi.ac.uk/vol1/fastq/ERR791/ERR791908/ERR791908_1.fastq.gz;ftp.sra.ebi.ac.uk/vol1/fastq/ERR791/ERR791908/ERR791908_2.fastq.gz",
         null,
         null
        ],
        [
         "12",
         "ERR791909",
         "SAMEA3308208",
         "ERX836057",
         "PRJEB8754",
         "9606",
         "Homo sapiens",
         "ftp.sra.ebi.ac.uk/vol1/fastq/ERR791/ERR791909/ERR791909_1.fastq.gz;ftp.sra.ebi.ac.uk/vol1/fastq/ERR791/ERR791909/ERR791909_2.fastq.gz",
         null,
         null
        ],
        [
         "13",
         "ERR791913",
         "SAMEA3308212",
         "ERX836061",
         "PRJEB8754",
         "9606",
         "Homo sapiens",
         "ftp.sra.ebi.ac.uk/vol1/fastq/ERR791/ERR791913/ERR791913_1.fastq.gz;ftp.sra.ebi.ac.uk/vol1/fastq/ERR791/ERR791913/ERR791913_2.fastq.gz",
         null,
         null
        ],
        [
         "14",
         "ERR791914",
         "SAMEA3308213",
         "ERX836062",
         "PRJEB8754",
         "9606",
         "Homo sapiens",
         "ftp.sra.ebi.ac.uk/vol1/fastq/ERR791/ERR791914/ERR791914_1.fastq.gz;ftp.sra.ebi.ac.uk/vol1/fastq/ERR791/ERR791914/ERR791914_2.fastq.gz",
         null,
         null
        ],
        [
         "15",
         "ERR791916",
         "SAMEA3308215",
         "ERX836064",
         "PRJEB8754",
         "9606",
         "Homo sapiens",
         "ftp.sra.ebi.ac.uk/vol1/fastq/ERR791/ERR791916/ERR791916_1.fastq.gz;ftp.sra.ebi.ac.uk/vol1/fastq/ERR791/ERR791916/ERR791916_2.fastq.gz",
         null,
         null
        ],
        [
         "16",
         "ERR791876",
         "SAMEA3308175",
         "ERX836024",
         "PRJEB8754",
         "9606",
         "Homo sapiens",
         "ftp.sra.ebi.ac.uk/vol1/fastq/ERR791/ERR791876/ERR791876_1.fastq.gz;ftp.sra.ebi.ac.uk/vol1/fastq/ERR791/ERR791876/ERR791876_2.fastq.gz",
         null,
         null
        ],
        [
         "17",
         "ERR791878",
         "SAMEA3308177",
         "ERX836026",
         "PRJEB8754",
         "9606",
         "Homo sapiens",
         "ftp.sra.ebi.ac.uk/vol1/fastq/ERR791/ERR791878/ERR791878_1.fastq.gz;ftp.sra.ebi.ac.uk/vol1/fastq/ERR791/ERR791878/ERR791878_2.fastq.gz",
         null,
         null
        ],
        [
         "18",
         "ERR791885",
         "SAMEA3308184",
         "ERX836033",
         "PRJEB8754",
         "9606",
         "Homo sapiens",
         "ftp.sra.ebi.ac.uk/vol1/fastq/ERR791/ERR791885/ERR791885_1.fastq.gz;ftp.sra.ebi.ac.uk/vol1/fastq/ERR791/ERR791885/ERR791885_2.fastq.gz",
         null,
         null
        ],
        [
         "19",
         "ERR791887",
         "SAMEA3308186",
         "ERX836035",
         "PRJEB8754",
         "9606",
         "Homo sapiens",
         "ftp.sra.ebi.ac.uk/vol1/fastq/ERR791/ERR791887/ERR791887_1.fastq.gz;ftp.sra.ebi.ac.uk/vol1/fastq/ERR791/ERR791887/ERR791887_2.fastq.gz",
         null,
         null
        ],
        [
         "20",
         "ERR791889",
         "SAMEA3308188",
         "ERX836037",
         "PRJEB8754",
         "9606",
         "Homo sapiens",
         "ftp.sra.ebi.ac.uk/vol1/fastq/ERR791/ERR791889/ERR791889_1.fastq.gz;ftp.sra.ebi.ac.uk/vol1/fastq/ERR791/ERR791889/ERR791889_2.fastq.gz",
         null,
         null
        ],
        [
         "21",
         "ERR791893",
         "SAMEA3308192",
         "ERX836041",
         "PRJEB8754",
         "9606",
         "Homo sapiens",
         "ftp.sra.ebi.ac.uk/vol1/fastq/ERR791/ERR791893/ERR791893_1.fastq.gz;ftp.sra.ebi.ac.uk/vol1/fastq/ERR791/ERR791893/ERR791893_2.fastq.gz",
         null,
         null
        ],
        [
         "22",
         "ERR791894",
         "SAMEA3308193",
         "ERX836042",
         "PRJEB8754",
         "9606",
         "Homo sapiens",
         "ftp.sra.ebi.ac.uk/vol1/fastq/ERR791/ERR791894/ERR791894_1.fastq.gz;ftp.sra.ebi.ac.uk/vol1/fastq/ERR791/ERR791894/ERR791894_2.fastq.gz",
         null,
         null
        ],
        [
         "23",
         "ERR791896",
         "SAMEA3308195",
         "ERX836044",
         "PRJEB8754",
         "9606",
         "Homo sapiens",
         "ftp.sra.ebi.ac.uk/vol1/fastq/ERR791/ERR791896/ERR791896_1.fastq.gz;ftp.sra.ebi.ac.uk/vol1/fastq/ERR791/ERR791896/ERR791896_2.fastq.gz",
         null,
         null
        ],
        [
         "24",
         "ERR791900",
         "SAMEA3308199",
         "ERX836048",
         "PRJEB8754",
         "9606",
         "Homo sapiens",
         "ftp.sra.ebi.ac.uk/vol1/fastq/ERR791/ERR791900/ERR791900_1.fastq.gz;ftp.sra.ebi.ac.uk/vol1/fastq/ERR791/ERR791900/ERR791900_2.fastq.gz",
         null,
         null
        ],
        [
         "25",
         "ERR791901",
         "SAMEA3308200",
         "ERX836049",
         "PRJEB8754",
         "9606",
         "Homo sapiens",
         "ftp.sra.ebi.ac.uk/vol1/fastq/ERR791/ERR791901/ERR791901_1.fastq.gz;ftp.sra.ebi.ac.uk/vol1/fastq/ERR791/ERR791901/ERR791901_2.fastq.gz",
         null,
         null
        ],
        [
         "26",
         "ERR791903",
         "SAMEA3308202",
         "ERX836051",
         "PRJEB8754",
         "9606",
         "Homo sapiens",
         "ftp.sra.ebi.ac.uk/vol1/fastq/ERR791/ERR791903/ERR791903_1.fastq.gz;ftp.sra.ebi.ac.uk/vol1/fastq/ERR791/ERR791903/ERR791903_2.fastq.gz",
         null,
         null
        ],
        [
         "27",
         "ERR791904",
         "SAMEA3308203",
         "ERX836052",
         "PRJEB8754",
         "9606",
         "Homo sapiens",
         "ftp.sra.ebi.ac.uk/vol1/fastq/ERR791/ERR791904/ERR791904_1.fastq.gz;ftp.sra.ebi.ac.uk/vol1/fastq/ERR791/ERR791904/ERR791904_2.fastq.gz",
         null,
         null
        ],
        [
         "28",
         "ERR791906",
         "SAMEA3308205",
         "ERX836054",
         "PRJEB8754",
         "9606",
         "Homo sapiens",
         "ftp.sra.ebi.ac.uk/vol1/fastq/ERR791/ERR791906/ERR791906_1.fastq.gz;ftp.sra.ebi.ac.uk/vol1/fastq/ERR791/ERR791906/ERR791906_2.fastq.gz",
         null,
         null
        ],
        [
         "29",
         "ERR791912",
         "SAMEA3308211",
         "ERX836060",
         "PRJEB8754",
         "9606",
         "Homo sapiens",
         "ftp.sra.ebi.ac.uk/vol1/fastq/ERR791/ERR791912/ERR791912_1.fastq.gz;ftp.sra.ebi.ac.uk/vol1/fastq/ERR791/ERR791912/ERR791912_2.fastq.gz",
         null,
         null
        ],
        [
         "30",
         "ERR791874",
         "SAMEA3308173",
         "ERX836022",
         "PRJEB8754",
         "9606",
         "Homo sapiens",
         "ftp.sra.ebi.ac.uk/vol1/fastq/ERR791/ERR791874/ERR791874_1.fastq.gz;ftp.sra.ebi.ac.uk/vol1/fastq/ERR791/ERR791874/ERR791874_2.fastq.gz",
         null,
         null
        ],
        [
         "31",
         "ERR791875",
         "SAMEA3308174",
         "ERX836023",
         "PRJEB8754",
         "9606",
         "Homo sapiens",
         "ftp.sra.ebi.ac.uk/vol1/fastq/ERR791/ERR791875/ERR791875_1.fastq.gz;ftp.sra.ebi.ac.uk/vol1/fastq/ERR791/ERR791875/ERR791875_2.fastq.gz",
         null,
         null
        ],
        [
         "32",
         "ERR791877",
         "SAMEA3308176",
         "ERX836025",
         "PRJEB8754",
         "9606",
         "Homo sapiens",
         "ftp.sra.ebi.ac.uk/vol1/fastq/ERR791/ERR791877/ERR791877_1.fastq.gz;ftp.sra.ebi.ac.uk/vol1/fastq/ERR791/ERR791877/ERR791877_2.fastq.gz",
         null,
         null
        ],
        [
         "33",
         "ERR791880",
         "SAMEA3308179",
         "ERX836028",
         "PRJEB8754",
         "9606",
         "Homo sapiens",
         "ftp.sra.ebi.ac.uk/vol1/fastq/ERR791/ERR791880/ERR791880_1.fastq.gz;ftp.sra.ebi.ac.uk/vol1/fastq/ERR791/ERR791880/ERR791880_2.fastq.gz",
         null,
         null
        ],
        [
         "34",
         "ERR791883",
         "SAMEA3308182",
         "ERX836031",
         "PRJEB8754",
         "9606",
         "Homo sapiens",
         "ftp.sra.ebi.ac.uk/vol1/fastq/ERR791/ERR791883/ERR791883_1.fastq.gz;ftp.sra.ebi.ac.uk/vol1/fastq/ERR791/ERR791883/ERR791883_2.fastq.gz",
         null,
         null
        ],
        [
         "35",
         "ERR791886",
         "SAMEA3308185",
         "ERX836034",
         "PRJEB8754",
         "9606",
         "Homo sapiens",
         "ftp.sra.ebi.ac.uk/vol1/fastq/ERR791/ERR791886/ERR791886_1.fastq.gz;ftp.sra.ebi.ac.uk/vol1/fastq/ERR791/ERR791886/ERR791886_2.fastq.gz",
         null,
         null
        ],
        [
         "36",
         "ERR791891",
         "SAMEA3308190",
         "ERX836039",
         "PRJEB8754",
         "9606",
         "Homo sapiens",
         "ftp.sra.ebi.ac.uk/vol1/fastq/ERR791/ERR791891/ERR791891_1.fastq.gz;ftp.sra.ebi.ac.uk/vol1/fastq/ERR791/ERR791891/ERR791891_2.fastq.gz",
         null,
         null
        ],
        [
         "37",
         "ERR791897",
         "SAMEA3308196",
         "ERX836045",
         "PRJEB8754",
         "9606",
         "Homo sapiens",
         "ftp.sra.ebi.ac.uk/vol1/fastq/ERR791/ERR791897/ERR791897_1.fastq.gz;ftp.sra.ebi.ac.uk/vol1/fastq/ERR791/ERR791897/ERR791897_2.fastq.gz",
         null,
         null
        ],
        [
         "38",
         "ERR791899",
         "SAMEA3308198",
         "ERX836047",
         "PRJEB8754",
         "9606",
         "Homo sapiens",
         "ftp.sra.ebi.ac.uk/vol1/fastq/ERR791/ERR791899/ERR791899_1.fastq.gz;ftp.sra.ebi.ac.uk/vol1/fastq/ERR791/ERR791899/ERR791899_2.fastq.gz",
         null,
         null
        ],
        [
         "39",
         "ERR791905",
         "SAMEA3308204",
         "ERX836053",
         "PRJEB8754",
         "9606",
         "Homo sapiens",
         "ftp.sra.ebi.ac.uk/vol1/fastq/ERR791/ERR791905/ERR791905_1.fastq.gz;ftp.sra.ebi.ac.uk/vol1/fastq/ERR791/ERR791905/ERR791905_2.fastq.gz",
         null,
         null
        ],
        [
         "40",
         "ERR791910",
         "SAMEA3308209",
         "ERX836058",
         "PRJEB8754",
         "9606",
         "Homo sapiens",
         "ftp.sra.ebi.ac.uk/vol1/fastq/ERR791/ERR791910/ERR791910_1.fastq.gz;ftp.sra.ebi.ac.uk/vol1/fastq/ERR791/ERR791910/ERR791910_2.fastq.gz",
         null,
         null
        ],
        [
         "41",
         "ERR791911",
         "SAMEA3308210",
         "ERX836059",
         "PRJEB8754",
         "9606",
         "Homo sapiens",
         "ftp.sra.ebi.ac.uk/vol1/fastq/ERR791/ERR791911/ERR791911_1.fastq.gz;ftp.sra.ebi.ac.uk/vol1/fastq/ERR791/ERR791911/ERR791911_2.fastq.gz",
         null,
         null
        ],
        [
         "42",
         "ERR791915",
         "SAMEA3308214",
         "ERX836063",
         "PRJEB8754",
         "9606",
         "Homo sapiens",
         "ftp.sra.ebi.ac.uk/vol1/fastq/ERR791/ERR791915/ERR791915_1.fastq.gz;ftp.sra.ebi.ac.uk/vol1/fastq/ERR791/ERR791915/ERR791915_2.fastq.gz",
         null,
         null
        ]
       ],
       "shape": {
        "columns": 9,
        "rows": 43
       }
      },
      "text/html": [
       "<div><style>\n",
       ".dataframe > thead > tr,\n",
       ".dataframe > tbody > tr {\n",
       "  text-align: right;\n",
       "  white-space: pre-wrap;\n",
       "}\n",
       "</style>\n",
       "<small>shape: (43, 9)</small><table border=\"1\" class=\"dataframe\"><thead><tr><th>run_accession</th><th>sample_accession</th><th>experiment_accession</th><th>study_accession</th><th>tax_id</th><th>scientific_name</th><th>fastq_ftp</th><th>sra_ftp</th><th>bam_ftp</th></tr><tr><td>str</td><td>str</td><td>str</td><td>str</td><td>i64</td><td>str</td><td>str</td><td>str</td><td>str</td></tr></thead><tbody><tr><td>&quot;ERR791879&quot;</td><td>&quot;SAMEA3308178&quot;</td><td>&quot;ERX836027&quot;</td><td>&quot;PRJEB8754&quot;</td><td>9606</td><td>&quot;Homo sapiens&quot;</td><td>&quot;ftp.sra.ebi.ac.uk/vol1/fastq/E…</td><td>null</td><td>null</td></tr><tr><td>&quot;ERR791881&quot;</td><td>&quot;SAMEA3308180&quot;</td><td>&quot;ERX836029&quot;</td><td>&quot;PRJEB8754&quot;</td><td>9606</td><td>&quot;Homo sapiens&quot;</td><td>&quot;ftp.sra.ebi.ac.uk/vol1/fastq/E…</td><td>null</td><td>null</td></tr><tr><td>&quot;ERR791882&quot;</td><td>&quot;SAMEA3308181&quot;</td><td>&quot;ERX836030&quot;</td><td>&quot;PRJEB8754&quot;</td><td>9606</td><td>&quot;Homo sapiens&quot;</td><td>&quot;ftp.sra.ebi.ac.uk/vol1/fastq/E…</td><td>null</td><td>null</td></tr><tr><td>&quot;ERR791884&quot;</td><td>&quot;SAMEA3308183&quot;</td><td>&quot;ERX836032&quot;</td><td>&quot;PRJEB8754&quot;</td><td>9606</td><td>&quot;Homo sapiens&quot;</td><td>&quot;ftp.sra.ebi.ac.uk/vol1/fastq/E…</td><td>null</td><td>null</td></tr><tr><td>&quot;ERR791888&quot;</td><td>&quot;SAMEA3308187&quot;</td><td>&quot;ERX836036&quot;</td><td>&quot;PRJEB8754&quot;</td><td>9606</td><td>&quot;Homo sapiens&quot;</td><td>&quot;ftp.sra.ebi.ac.uk/vol1/fastq/E…</td><td>null</td><td>null</td></tr><tr><td>&hellip;</td><td>&hellip;</td><td>&hellip;</td><td>&hellip;</td><td>&hellip;</td><td>&hellip;</td><td>&hellip;</td><td>&hellip;</td><td>&hellip;</td></tr><tr><td>&quot;ERR791899&quot;</td><td>&quot;SAMEA3308198&quot;</td><td>&quot;ERX836047&quot;</td><td>&quot;PRJEB8754&quot;</td><td>9606</td><td>&quot;Homo sapiens&quot;</td><td>&quot;ftp.sra.ebi.ac.uk/vol1/fastq/E…</td><td>null</td><td>null</td></tr><tr><td>&quot;ERR791905&quot;</td><td>&quot;SAMEA3308204&quot;</td><td>&quot;ERX836053&quot;</td><td>&quot;PRJEB8754&quot;</td><td>9606</td><td>&quot;Homo sapiens&quot;</td><td>&quot;ftp.sra.ebi.ac.uk/vol1/fastq/E…</td><td>null</td><td>null</td></tr><tr><td>&quot;ERR791910&quot;</td><td>&quot;SAMEA3308209&quot;</td><td>&quot;ERX836058&quot;</td><td>&quot;PRJEB8754&quot;</td><td>9606</td><td>&quot;Homo sapiens&quot;</td><td>&quot;ftp.sra.ebi.ac.uk/vol1/fastq/E…</td><td>null</td><td>null</td></tr><tr><td>&quot;ERR791911&quot;</td><td>&quot;SAMEA3308210&quot;</td><td>&quot;ERX836059&quot;</td><td>&quot;PRJEB8754&quot;</td><td>9606</td><td>&quot;Homo sapiens&quot;</td><td>&quot;ftp.sra.ebi.ac.uk/vol1/fastq/E…</td><td>null</td><td>null</td></tr><tr><td>&quot;ERR791915&quot;</td><td>&quot;SAMEA3308214&quot;</td><td>&quot;ERX836063&quot;</td><td>&quot;PRJEB8754&quot;</td><td>9606</td><td>&quot;Homo sapiens&quot;</td><td>&quot;ftp.sra.ebi.ac.uk/vol1/fastq/E…</td><td>null</td><td>null</td></tr></tbody></table></div>"
      ],
      "text/plain": [
       "shape: (43, 9)\n",
       "┌────────────┬────────────┬────────────┬───────────┬───┬───────────┬───────────┬─────────┬─────────┐\n",
       "│ run_access ┆ sample_acc ┆ experiment ┆ study_acc ┆ … ┆ scientifi ┆ fastq_ftp ┆ sra_ftp ┆ bam_ftp │\n",
       "│ ion        ┆ ession     ┆ _accession ┆ ession    ┆   ┆ c_name    ┆ ---       ┆ ---     ┆ ---     │\n",
       "│ ---        ┆ ---        ┆ ---        ┆ ---       ┆   ┆ ---       ┆ str       ┆ str     ┆ str     │\n",
       "│ str        ┆ str        ┆ str        ┆ str       ┆   ┆ str       ┆           ┆         ┆         │\n",
       "╞════════════╪════════════╪════════════╪═══════════╪═══╪═══════════╪═══════════╪═════════╪═════════╡\n",
       "│ ERR791879  ┆ SAMEA33081 ┆ ERX836027  ┆ PRJEB8754 ┆ … ┆ Homo      ┆ ftp.sra.e ┆ null    ┆ null    │\n",
       "│            ┆ 78         ┆            ┆           ┆   ┆ sapiens   ┆ bi.ac.uk/ ┆         ┆         │\n",
       "│            ┆            ┆            ┆           ┆   ┆           ┆ vol1/fast ┆         ┆         │\n",
       "│            ┆            ┆            ┆           ┆   ┆           ┆ q/E…      ┆         ┆         │\n",
       "│ ERR791881  ┆ SAMEA33081 ┆ ERX836029  ┆ PRJEB8754 ┆ … ┆ Homo      ┆ ftp.sra.e ┆ null    ┆ null    │\n",
       "│            ┆ 80         ┆            ┆           ┆   ┆ sapiens   ┆ bi.ac.uk/ ┆         ┆         │\n",
       "│            ┆            ┆            ┆           ┆   ┆           ┆ vol1/fast ┆         ┆         │\n",
       "│            ┆            ┆            ┆           ┆   ┆           ┆ q/E…      ┆         ┆         │\n",
       "│ ERR791882  ┆ SAMEA33081 ┆ ERX836030  ┆ PRJEB8754 ┆ … ┆ Homo      ┆ ftp.sra.e ┆ null    ┆ null    │\n",
       "│            ┆ 81         ┆            ┆           ┆   ┆ sapiens   ┆ bi.ac.uk/ ┆         ┆         │\n",
       "│            ┆            ┆            ┆           ┆   ┆           ┆ vol1/fast ┆         ┆         │\n",
       "│            ┆            ┆            ┆           ┆   ┆           ┆ q/E…      ┆         ┆         │\n",
       "│ ERR791884  ┆ SAMEA33081 ┆ ERX836032  ┆ PRJEB8754 ┆ … ┆ Homo      ┆ ftp.sra.e ┆ null    ┆ null    │\n",
       "│            ┆ 83         ┆            ┆           ┆   ┆ sapiens   ┆ bi.ac.uk/ ┆         ┆         │\n",
       "│            ┆            ┆            ┆           ┆   ┆           ┆ vol1/fast ┆         ┆         │\n",
       "│            ┆            ┆            ┆           ┆   ┆           ┆ q/E…      ┆         ┆         │\n",
       "│ ERR791888  ┆ SAMEA33081 ┆ ERX836036  ┆ PRJEB8754 ┆ … ┆ Homo      ┆ ftp.sra.e ┆ null    ┆ null    │\n",
       "│            ┆ 87         ┆            ┆           ┆   ┆ sapiens   ┆ bi.ac.uk/ ┆         ┆         │\n",
       "│            ┆            ┆            ┆           ┆   ┆           ┆ vol1/fast ┆         ┆         │\n",
       "│            ┆            ┆            ┆           ┆   ┆           ┆ q/E…      ┆         ┆         │\n",
       "│ …          ┆ …          ┆ …          ┆ …         ┆ … ┆ …         ┆ …         ┆ …       ┆ …       │\n",
       "│ ERR791899  ┆ SAMEA33081 ┆ ERX836047  ┆ PRJEB8754 ┆ … ┆ Homo      ┆ ftp.sra.e ┆ null    ┆ null    │\n",
       "│            ┆ 98         ┆            ┆           ┆   ┆ sapiens   ┆ bi.ac.uk/ ┆         ┆         │\n",
       "│            ┆            ┆            ┆           ┆   ┆           ┆ vol1/fast ┆         ┆         │\n",
       "│            ┆            ┆            ┆           ┆   ┆           ┆ q/E…      ┆         ┆         │\n",
       "│ ERR791905  ┆ SAMEA33082 ┆ ERX836053  ┆ PRJEB8754 ┆ … ┆ Homo      ┆ ftp.sra.e ┆ null    ┆ null    │\n",
       "│            ┆ 04         ┆            ┆           ┆   ┆ sapiens   ┆ bi.ac.uk/ ┆         ┆         │\n",
       "│            ┆            ┆            ┆           ┆   ┆           ┆ vol1/fast ┆         ┆         │\n",
       "│            ┆            ┆            ┆           ┆   ┆           ┆ q/E…      ┆         ┆         │\n",
       "│ ERR791910  ┆ SAMEA33082 ┆ ERX836058  ┆ PRJEB8754 ┆ … ┆ Homo      ┆ ftp.sra.e ┆ null    ┆ null    │\n",
       "│            ┆ 09         ┆            ┆           ┆   ┆ sapiens   ┆ bi.ac.uk/ ┆         ┆         │\n",
       "│            ┆            ┆            ┆           ┆   ┆           ┆ vol1/fast ┆         ┆         │\n",
       "│            ┆            ┆            ┆           ┆   ┆           ┆ q/E…      ┆         ┆         │\n",
       "│ ERR791911  ┆ SAMEA33082 ┆ ERX836059  ┆ PRJEB8754 ┆ … ┆ Homo      ┆ ftp.sra.e ┆ null    ┆ null    │\n",
       "│            ┆ 10         ┆            ┆           ┆   ┆ sapiens   ┆ bi.ac.uk/ ┆         ┆         │\n",
       "│            ┆            ┆            ┆           ┆   ┆           ┆ vol1/fast ┆         ┆         │\n",
       "│            ┆            ┆            ┆           ┆   ┆           ┆ q/E…      ┆         ┆         │\n",
       "│ ERR791915  ┆ SAMEA33082 ┆ ERX836063  ┆ PRJEB8754 ┆ … ┆ Homo      ┆ ftp.sra.e ┆ null    ┆ null    │\n",
       "│            ┆ 14         ┆            ┆           ┆   ┆ sapiens   ┆ bi.ac.uk/ ┆         ┆         │\n",
       "│            ┆            ┆            ┆           ┆   ┆           ┆ vol1/fast ┆         ┆         │\n",
       "│            ┆            ┆            ┆           ┆   ┆           ┆ q/E…      ┆         ┆         │\n",
       "└────────────┴────────────┴────────────┴───────────┴───┴───────────┴───────────┴─────────┴─────────┘"
      ]
     },
     "execution_count": 2,
     "metadata": {},
     "output_type": "execute_result"
    }
   ],
   "source": [
    "sample_info = pl.read_csv(\"sample-info_stage0.tsv\", separator=\"\\t\")\n",
    "sample_info"
   ]
  },
  {
   "cell_type": "code",
   "execution_count": 87,
   "id": "28906f82",
   "metadata": {},
   "outputs": [
    {
     "name": "stdout",
     "output_type": "stream",
     "text": [
      "SAMEA3308178\n",
      "SAMEA3308180\n",
      "SAMEA3308181\n",
      "SAMEA3308183\n",
      "SAMEA3308187\n",
      "SAMEA3308189\n",
      "SAMEA3308191\n",
      "SAMEA3308194\n",
      "SAMEA3308197\n",
      "SAMEA3308201\n",
      "SAMEA3308206\n",
      "SAMEA3308207\n",
      "SAMEA3308208\n",
      "SAMEA3308212\n",
      "SAMEA3308213\n",
      "SAMEA3308215\n",
      "SAMEA3308175\n",
      "SAMEA3308177\n",
      "SAMEA3308184\n",
      "SAMEA3308186\n",
      "SAMEA3308188\n",
      "SAMEA3308192\n",
      "SAMEA3308193\n",
      "SAMEA3308195\n",
      "SAMEA3308199\n",
      "SAMEA3308200\n",
      "SAMEA3308202\n",
      "SAMEA3308203\n",
      "SAMEA3308205\n",
      "SAMEA3308211\n",
      "SAMEA3308173\n",
      "SAMEA3308174\n",
      "SAMEA3308176\n",
      "SAMEA3308179\n",
      "SAMEA3308182\n",
      "SAMEA3308185\n",
      "SAMEA3308190\n",
      "SAMEA3308196\n",
      "SAMEA3308198\n",
      "SAMEA3308204\n",
      "SAMEA3308209\n",
      "SAMEA3308210\n",
      "SAMEA3308214\n"
     ]
    }
   ],
   "source": [
    "annotation = {\n",
    "\t\"sample_accession\" : [],\n",
    "\t\"sample_title\" : [],\n",
    "\t\"sample_alias\" : [],\n",
    "\t\"center_name\" : []\n",
    "}\n",
    "\n",
    "for sample_accession in sample_info.get_column(\"sample_accession\"):\n",
    "    print(sample_accession)\n",
    "    \n",
    "    response = requests.get(f\"https://www.ebi.ac.uk/ena/browser/api/xml/{sample_accession}?includeLinks=true\")\n",
    "    response.raise_for_status()\n",
    "    root = ET.fromstring(response.content)\n",
    "    \n",
    "    annotation[\"sample_accession\"].append(sample_accession)\n",
    "    annotation[\"sample_title\"].append(root.find(\"SAMPLE\").find(\"TITLE\").text)\n",
    "    annotation[\"sample_alias\"].append(root.find(\"SAMPLE\").get(\"alias\"))\n",
    "    annotation[\"center_name\"].append(root.find(\"SAMPLE\").get(\"center_name\"))\n",
    "    \n",
    "extra_info = pl.DataFrame(annotation)\n",
    "\n",
    "sample_info_extra = sample_info.join(extra_info, on = \"sample_accession\")"
   ]
  },
  {
   "cell_type": "code",
   "execution_count": 98,
   "id": "b7c3faef",
   "metadata": {},
   "outputs": [
    {
     "data": {
      "application/vnd.microsoft.datawrangler.viewer.v0+json": {
       "columns": [
        {
         "name": "index",
         "rawType": "int64",
         "type": "integer"
        },
        {
         "name": "run_accession",
         "rawType": "object",
         "type": "string"
        },
        {
         "name": "sample_accession",
         "rawType": "object",
         "type": "string"
        },
        {
         "name": "experiment_accession",
         "rawType": "object",
         "type": "string"
        },
        {
         "name": "study_accession",
         "rawType": "object",
         "type": "string"
        },
        {
         "name": "tax_id",
         "rawType": "int64",
         "type": "integer"
        },
        {
         "name": "scientific_name",
         "rawType": "object",
         "type": "string"
        },
        {
         "name": "fastq_ftp",
         "rawType": "object",
         "type": "string"
        },
        {
         "name": "sra_ftp",
         "rawType": "object",
         "type": "unknown"
        },
        {
         "name": "bam_ftp",
         "rawType": "object",
         "type": "unknown"
        },
        {
         "name": "sample_title",
         "rawType": "object",
         "type": "string"
        },
        {
         "name": "sample_alias",
         "rawType": "object",
         "type": "string"
        },
        {
         "name": "center_name",
         "rawType": "object",
         "type": "string"
        }
       ],
       "ref": "a4bdec73-e9c6-4522-b184-08c1ad0e0950",
       "rows": [
        [
         "0",
         "ERR791879",
         "SAMEA3308178",
         "ERX836027",
         "PRJEB8754",
         "9606",
         "Homo sapiens",
         "ftp.sra.ebi.ac.uk/vol1/fastq/ERR791/ERR791879/ERR791879_1.fastq.gz;ftp.sra.ebi.ac.uk/vol1/fastq/ERR791/ERR791879/ERR791879_2.fastq.gz",
         null,
         null,
         "Human blood sample",
         "Primary-1_Blood_Frozen",
         "German Cancer Research Center"
        ],
        [
         "1",
         "ERR791881",
         "SAMEA3308180",
         "ERX836029",
         "PRJEB8754",
         "9606",
         "Homo sapiens",
         "ftp.sra.ebi.ac.uk/vol1/fastq/ERR791/ERR791881/ERR791881_1.fastq.gz;ftp.sra.ebi.ac.uk/vol1/fastq/ERR791/ERR791881/ERR791881_2.fastq.gz",
         null,
         null,
         "Cell line",
         "HS68_Cellline_Frozen",
         "German Cancer Research Center"
        ],
        [
         "2",
         "ERR791882",
         "SAMEA3308181",
         "ERX836030",
         "PRJEB8754",
         "9606",
         "Homo sapiens",
         "ftp.sra.ebi.ac.uk/vol1/fastq/ERR791/ERR791882/ERR791882_1.fastq.gz;ftp.sra.ebi.ac.uk/vol1/fastq/ERR791/ERR791882/ERR791882_2.fastq.gz",
         null,
         null,
         "Cell line",
         "SW480_Cellline_Frozen",
         "German Cancer Research Center"
        ],
        [
         "3",
         "ERR791884",
         "SAMEA3308183",
         "ERX836032",
         "PRJEB8754",
         "9606",
         "Homo sapiens",
         "ftp.sra.ebi.ac.uk/vol1/fastq/ERR791/ERR791884/ERR791884_1.fastq.gz;ftp.sra.ebi.ac.uk/vol1/fastq/ERR791/ERR791884/ERR791884_2.fastq.gz",
         null,
         null,
         "Frozen colorectal cancer liver metastasis specimen",
         "Pat03_Meta_Frozen",
         "German Cancer Research Center"
        ],
        [
         "4",
         "ERR791888",
         "SAMEA3308187",
         "ERX836036",
         "PRJEB8754",
         "9606",
         "Homo sapiens",
         "ftp.sra.ebi.ac.uk/vol1/fastq/ERR791/ERR791888/ERR791888_1.fastq.gz;ftp.sra.ebi.ac.uk/vol1/fastq/ERR791/ERR791888/ERR791888_2.fastq.gz",
         null,
         null,
         "Frozen colorectal cancer liver metastasis specimen",
         "Pat10_Meta_Frozen",
         "German Cancer Research Center"
        ],
        [
         "5",
         "ERR791890",
         "SAMEA3308189",
         "ERX836038",
         "PRJEB8754",
         "9606",
         "Homo sapiens",
         "ftp.sra.ebi.ac.uk/vol1/fastq/ERR791/ERR791890/ERR791890_1.fastq.gz;ftp.sra.ebi.ac.uk/vol1/fastq/ERR791/ERR791890/ERR791890_2.fastq.gz",
         null,
         null,
         "Frozen colorectal cancer liver metastasis specimen",
         "Pat13_Meta_Frozen",
         "German Cancer Research Center"
        ],
        [
         "6",
         "ERR791892",
         "SAMEA3308191",
         "ERX836040",
         "PRJEB8754",
         "9606",
         "Homo sapiens",
         "ftp.sra.ebi.ac.uk/vol1/fastq/ERR791/ERR791892/ERR791892_1.fastq.gz;ftp.sra.ebi.ac.uk/vol1/fastq/ERR791/ERR791892/ERR791892_2.fastq.gz",
         null,
         null,
         "Frozen colorectal cancer liver metastasis specimen",
         "Pat15_Meta_Frozen",
         "German Cancer Research Center"
        ],
        [
         "7",
         "ERR791895",
         "SAMEA3308194",
         "ERX836043",
         "PRJEB8754",
         "9606",
         "Homo sapiens",
         "ftp.sra.ebi.ac.uk/vol1/fastq/ERR791/ERR791895/ERR791895_1.fastq.gz;ftp.sra.ebi.ac.uk/vol1/fastq/ERR791/ERR791895/ERR791895_2.fastq.gz",
         null,
         null,
         "FFPE colorectal cancer liver metastasis specimen",
         "Pat03_Meta_FFPE",
         "German Cancer Research Center"
        ],
        [
         "8",
         "ERR791898",
         "SAMEA3308197",
         "ERX836046",
         "PRJEB8754",
         "9606",
         "Homo sapiens",
         "ftp.sra.ebi.ac.uk/vol1/fastq/ERR791/ERR791898/ERR791898_1.fastq.gz;ftp.sra.ebi.ac.uk/vol1/fastq/ERR791/ERR791898/ERR791898_2.fastq.gz",
         null,
         null,
         "FFPE colorectal cancer liver metastasis specimen",
         "Pat05_Meta_FFPE",
         "German Cancer Research Center"
        ],
        [
         "9",
         "ERR791902",
         "SAMEA3308201",
         "ERX836050",
         "PRJEB8754",
         "9606",
         "Homo sapiens",
         "ftp.sra.ebi.ac.uk/vol1/fastq/ERR791/ERR791902/ERR791902_1.fastq.gz;ftp.sra.ebi.ac.uk/vol1/fastq/ERR791/ERR791902/ERR791902_2.fastq.gz",
         null,
         null,
         "FFPE colorectal cancer liver metastasis specimen",
         "Pat09_Meta_FFPE",
         "German Cancer Research Center"
        ],
        [
         "10",
         "ERR791907",
         "SAMEA3308206",
         "ERX836055",
         "PRJEB8754",
         "9606",
         "Homo sapiens",
         "ftp.sra.ebi.ac.uk/vol1/fastq/ERR791/ERR791907/ERR791907_1.fastq.gz;ftp.sra.ebi.ac.uk/vol1/fastq/ERR791/ERR791907/ERR791907_2.fastq.gz",
         null,
         null,
         "FFPE colorectal cancer liver metastasis specimen",
         "Pat12_Meta_FFPE",
         "German Cancer Research Center"
        ],
        [
         "11",
         "ERR791908",
         "SAMEA3308207",
         "ERX836056",
         "PRJEB8754",
         "9606",
         "Homo sapiens",
         "ftp.sra.ebi.ac.uk/vol1/fastq/ERR791/ERR791908/ERR791908_1.fastq.gz;ftp.sra.ebi.ac.uk/vol1/fastq/ERR791/ERR791908/ERR791908_2.fastq.gz",
         null,
         null,
         "FFPE colorectal cancer liver metastasis specimen",
         "Pat13_Meta_FFPE",
         "German Cancer Research Center"
        ],
        [
         "12",
         "ERR791909",
         "SAMEA3308208",
         "ERX836057",
         "PRJEB8754",
         "9606",
         "Homo sapiens",
         "ftp.sra.ebi.ac.uk/vol1/fastq/ERR791/ERR791909/ERR791909_1.fastq.gz;ftp.sra.ebi.ac.uk/vol1/fastq/ERR791/ERR791909/ERR791909_2.fastq.gz",
         null,
         null,
         "FFPE colorectal cancer liver metastasis specimen",
         "Pat14_Meta_FFPE",
         "German Cancer Research Center"
        ],
        [
         "13",
         "ERR791913",
         "SAMEA3308212",
         "ERX836061",
         "PRJEB8754",
         "9606",
         "Homo sapiens",
         "ftp.sra.ebi.ac.uk/vol1/fastq/ERR791/ERR791913/ERR791913_1.fastq.gz;ftp.sra.ebi.ac.uk/vol1/fastq/ERR791/ERR791913/ERR791913_2.fastq.gz",
         null,
         null,
         "Frozen colorectal cancer liver metastasis specimen",
         "Pat16_Meta_Frozen",
         "German Cancer Research Center"
        ],
        [
         "14",
         "ERR791914",
         "SAMEA3308213",
         "ERX836062",
         "PRJEB8754",
         "9606",
         "Homo sapiens",
         "ftp.sra.ebi.ac.uk/vol1/fastq/ERR791/ERR791914/ERR791914_1.fastq.gz;ftp.sra.ebi.ac.uk/vol1/fastq/ERR791/ERR791914/ERR791914_2.fastq.gz",
         null,
         null,
         "Frozen colorectal cancer liver metastasis specimen",
         "Pat17_Meta_Frozen",
         "German Cancer Research Center"
        ],
        [
         "15",
         "ERR791916",
         "SAMEA3308215",
         "ERX836064",
         "PRJEB8754",
         "9606",
         "Homo sapiens",
         "ftp.sra.ebi.ac.uk/vol1/fastq/ERR791/ERR791916/ERR791916_1.fastq.gz;ftp.sra.ebi.ac.uk/vol1/fastq/ERR791/ERR791916/ERR791916_2.fastq.gz",
         null,
         null,
         "Cell line derived from human colorectal cancer",
         "Pat16_Cellline_Frozen",
         "German Cancer Research Center"
        ],
        [
         "16",
         "ERR791876",
         "SAMEA3308175",
         "ERX836024",
         "PRJEB8754",
         "9606",
         "Homo sapiens",
         "ftp.sra.ebi.ac.uk/vol1/fastq/ERR791/ERR791876/ERR791876_1.fastq.gz;ftp.sra.ebi.ac.uk/vol1/fastq/ERR791/ERR791876/ERR791876_2.fastq.gz",
         null,
         null,
         "Cell line",
         "HT55_Cellline_Frozen",
         "German Cancer Research Center"
        ],
        [
         "17",
         "ERR791878",
         "SAMEA3308177",
         "ERX836026",
         "PRJEB8754",
         "9606",
         "Homo sapiens",
         "ftp.sra.ebi.ac.uk/vol1/fastq/ERR791/ERR791878/ERR791878_1.fastq.gz;ftp.sra.ebi.ac.uk/vol1/fastq/ERR791/ERR791878/ERR791878_2.fastq.gz",
         null,
         null,
         "Cell line",
         "Primary-1_Cellline_Frozen",
         "German Cancer Research Center"
        ],
        [
         "18",
         "ERR791885",
         "SAMEA3308184",
         "ERX836033",
         "PRJEB8754",
         "9606",
         "Homo sapiens",
         "ftp.sra.ebi.ac.uk/vol1/fastq/ERR791/ERR791885/ERR791885_1.fastq.gz;ftp.sra.ebi.ac.uk/vol1/fastq/ERR791/ERR791885/ERR791885_2.fastq.gz",
         null,
         null,
         "Frozen colorectal cancer liver metastasis specimen",
         "Pat14_Meta_Frozen",
         "German Cancer Research Center"
        ],
        [
         "19",
         "ERR791887",
         "SAMEA3308186",
         "ERX836035",
         "PRJEB8754",
         "9606",
         "Homo sapiens",
         "ftp.sra.ebi.ac.uk/vol1/fastq/ERR791/ERR791887/ERR791887_1.fastq.gz;ftp.sra.ebi.ac.uk/vol1/fastq/ERR791/ERR791887/ERR791887_2.fastq.gz",
         null,
         null,
         "Frozen colorectal cancer liver metastasis specimen",
         "Pat09_Meta_Frozen",
         "German Cancer Research Center"
        ],
        [
         "20",
         "ERR791889",
         "SAMEA3308188",
         "ERX836037",
         "PRJEB8754",
         "9606",
         "Homo sapiens",
         "ftp.sra.ebi.ac.uk/vol1/fastq/ERR791/ERR791889/ERR791889_1.fastq.gz;ftp.sra.ebi.ac.uk/vol1/fastq/ERR791/ERR791889/ERR791889_2.fastq.gz",
         null,
         null,
         "Frozen colorectal cancer liver metastasis specimen",
         "Pat11_Meta_Frozen",
         "German Cancer Research Center"
        ],
        [
         "21",
         "ERR791893",
         "SAMEA3308192",
         "ERX836041",
         "PRJEB8754",
         "9606",
         "Homo sapiens",
         "ftp.sra.ebi.ac.uk/vol1/fastq/ERR791/ERR791893/ERR791893_1.fastq.gz;ftp.sra.ebi.ac.uk/vol1/fastq/ERR791/ERR791893/ERR791893_2.fastq.gz",
         null,
         null,
         "FFPE colorectal cancer liver metastasis specimen",
         "Pat01_Meta_FFPE",
         "German Cancer Research Center"
        ],
        [
         "22",
         "ERR791894",
         "SAMEA3308193",
         "ERX836042",
         "PRJEB8754",
         "9606",
         "Homo sapiens",
         "ftp.sra.ebi.ac.uk/vol1/fastq/ERR791/ERR791894/ERR791894_1.fastq.gz;ftp.sra.ebi.ac.uk/vol1/fastq/ERR791/ERR791894/ERR791894_2.fastq.gz",
         null,
         null,
         "FFPE colorectal cancer liver metastasis specimen",
         "Pat02_Meta_FFPE",
         "German Cancer Research Center"
        ],
        [
         "23",
         "ERR791896",
         "SAMEA3308195",
         "ERX836044",
         "PRJEB8754",
         "9606",
         "Homo sapiens",
         "ftp.sra.ebi.ac.uk/vol1/fastq/ERR791/ERR791896/ERR791896_1.fastq.gz;ftp.sra.ebi.ac.uk/vol1/fastq/ERR791/ERR791896/ERR791896_2.fastq.gz",
         null,
         null,
         "FFPE colorectal cancer liver metastasis specimen",
         "Pat04_Meta_FFPE",
         "German Cancer Research Center"
        ],
        [
         "24",
         "ERR791900",
         "SAMEA3308199",
         "ERX836048",
         "PRJEB8754",
         "9606",
         "Homo sapiens",
         "ftp.sra.ebi.ac.uk/vol1/fastq/ERR791/ERR791900/ERR791900_1.fastq.gz;ftp.sra.ebi.ac.uk/vol1/fastq/ERR791/ERR791900/ERR791900_2.fastq.gz",
         null,
         null,
         "FFPE colorectal cancer liver metastasis specimen",
         "Pat06_Meta_FFPE",
         "German Cancer Research Center"
        ],
        [
         "25",
         "ERR791901",
         "SAMEA3308200",
         "ERX836049",
         "PRJEB8754",
         "9606",
         "Homo sapiens",
         "ftp.sra.ebi.ac.uk/vol1/fastq/ERR791/ERR791901/ERR791901_1.fastq.gz;ftp.sra.ebi.ac.uk/vol1/fastq/ERR791/ERR791901/ERR791901_2.fastq.gz",
         null,
         null,
         "FFPE colorectal cancer liver metastasis specimen",
         "Pat08_Meta_FFPE",
         "German Cancer Research Center"
        ],
        [
         "26",
         "ERR791903",
         "SAMEA3308202",
         "ERX836051",
         "PRJEB8754",
         "9606",
         "Homo sapiens",
         "ftp.sra.ebi.ac.uk/vol1/fastq/ERR791/ERR791903/ERR791903_1.fastq.gz;ftp.sra.ebi.ac.uk/vol1/fastq/ERR791/ERR791903/ERR791903_2.fastq.gz",
         null,
         null,
         "FFPE colorectal cancer liver metastasis specimen",
         "Pat10_Meta_FFPE",
         "German Cancer Research Center"
        ],
        [
         "27",
         "ERR791904",
         "SAMEA3308203",
         "ERX836052",
         "PRJEB8754",
         "9606",
         "Homo sapiens",
         "ftp.sra.ebi.ac.uk/vol1/fastq/ERR791/ERR791904/ERR791904_1.fastq.gz;ftp.sra.ebi.ac.uk/vol1/fastq/ERR791/ERR791904/ERR791904_2.fastq.gz",
         null,
         null,
         "FFPE colorectal cancer specimen",
         "Pat10_Prim_FFPE",
         "German Cancer Research Center"
        ],
        [
         "28",
         "ERR791906",
         "SAMEA3308205",
         "ERX836054",
         "PRJEB8754",
         "9606",
         "Homo sapiens",
         "ftp.sra.ebi.ac.uk/vol1/fastq/ERR791/ERR791906/ERR791906_1.fastq.gz;ftp.sra.ebi.ac.uk/vol1/fastq/ERR791/ERR791906/ERR791906_2.fastq.gz",
         null,
         null,
         "FFPE colorectal cancer liver metastasis specimen",
         "Pat11_Prim_FFPE",
         "German Cancer Research Center"
        ],
        [
         "29",
         "ERR791912",
         "SAMEA3308211",
         "ERX836060",
         "PRJEB8754",
         "9606",
         "Homo sapiens",
         "ftp.sra.ebi.ac.uk/vol1/fastq/ERR791/ERR791912/ERR791912_1.fastq.gz;ftp.sra.ebi.ac.uk/vol1/fastq/ERR791/ERR791912/ERR791912_2.fastq.gz",
         null,
         null,
         "Frozen colorectal cancer liver metastasis specimen",
         "Pat13-2nd-run_Meta_Frozen",
         "German Cancer Research Center"
        ],
        [
         "30",
         "ERR791874",
         "SAMEA3308173",
         "ERX836022",
         "PRJEB8754",
         "9606",
         "Homo sapiens",
         "ftp.sra.ebi.ac.uk/vol1/fastq/ERR791/ERR791874/ERR791874_1.fastq.gz;ftp.sra.ebi.ac.uk/vol1/fastq/ERR791/ERR791874/ERR791874_2.fastq.gz",
         null,
         null,
         "Cell line",
         "DLD1_Cellline_Frozen",
         "German Cancer Research Center"
        ],
        [
         "31",
         "ERR791875",
         "SAMEA3308174",
         "ERX836023",
         "PRJEB8754",
         "9606",
         "Homo sapiens",
         "ftp.sra.ebi.ac.uk/vol1/fastq/ERR791/ERR791875/ERR791875_1.fastq.gz;ftp.sra.ebi.ac.uk/vol1/fastq/ERR791/ERR791875/ERR791875_2.fastq.gz",
         null,
         null,
         "Cell line",
         "HCT116_Cellline_Frozen",
         "German Cancer Research Center"
        ],
        [
         "32",
         "ERR791877",
         "SAMEA3308176",
         "ERX836025",
         "PRJEB8754",
         "9606",
         "Homo sapiens",
         "ftp.sra.ebi.ac.uk/vol1/fastq/ERR791/ERR791877/ERR791877_1.fastq.gz;ftp.sra.ebi.ac.uk/vol1/fastq/ERR791/ERR791877/ERR791877_2.fastq.gz",
         null,
         null,
         "Cell line",
         "HUH7_Cellline_Frozen",
         "German Cancer Research Center"
        ],
        [
         "33",
         "ERR791880",
         "SAMEA3308179",
         "ERX836028",
         "PRJEB8754",
         "9606",
         "Homo sapiens",
         "ftp.sra.ebi.ac.uk/vol1/fastq/ERR791/ERR791880/ERR791880_1.fastq.gz;ftp.sra.ebi.ac.uk/vol1/fastq/ERR791/ERR791880/ERR791880_2.fastq.gz",
         null,
         null,
         "Cell line",
         "HEK293T_Cellline_Frozen",
         "German Cancer Research Center"
        ],
        [
         "34",
         "ERR791883",
         "SAMEA3308182",
         "ERX836031",
         "PRJEB8754",
         "9606",
         "Homo sapiens",
         "ftp.sra.ebi.ac.uk/vol1/fastq/ERR791/ERR791883/ERR791883_1.fastq.gz;ftp.sra.ebi.ac.uk/vol1/fastq/ERR791/ERR791883/ERR791883_2.fastq.gz",
         null,
         null,
         "Frozen colorectal cancer liver metastasis specimen",
         "Pat01_Meta_Frozen",
         "German Cancer Research Center"
        ],
        [
         "35",
         "ERR791886",
         "SAMEA3308185",
         "ERX836034",
         "PRJEB8754",
         "9606",
         "Homo sapiens",
         "ftp.sra.ebi.ac.uk/vol1/fastq/ERR791/ERR791886/ERR791886_1.fastq.gz;ftp.sra.ebi.ac.uk/vol1/fastq/ERR791/ERR791886/ERR791886_2.fastq.gz",
         null,
         null,
         "Frozen colorectal cancer liver metastasis specimen",
         "Pat08_Meta_Frozen",
         "German Cancer Research Center"
        ],
        [
         "36",
         "ERR791891",
         "SAMEA3308190",
         "ERX836039",
         "PRJEB8754",
         "9606",
         "Homo sapiens",
         "ftp.sra.ebi.ac.uk/vol1/fastq/ERR791/ERR791891/ERR791891_1.fastq.gz;ftp.sra.ebi.ac.uk/vol1/fastq/ERR791/ERR791891/ERR791891_2.fastq.gz",
         null,
         null,
         "Frozen colorectal cancer liver metastasis specimen",
         "Pat04_Meta_Frozen",
         "German Cancer Research Center"
        ],
        [
         "37",
         "ERR791897",
         "SAMEA3308196",
         "ERX836045",
         "PRJEB8754",
         "9606",
         "Homo sapiens",
         "ftp.sra.ebi.ac.uk/vol1/fastq/ERR791/ERR791897/ERR791897_1.fastq.gz;ftp.sra.ebi.ac.uk/vol1/fastq/ERR791/ERR791897/ERR791897_2.fastq.gz",
         null,
         null,
         "FFPE colorectal cancer specimen",
         "Pat04_Prim_FFPE",
         "German Cancer Research Center"
        ],
        [
         "38",
         "ERR791899",
         "SAMEA3308198",
         "ERX836047",
         "PRJEB8754",
         "9606",
         "Homo sapiens",
         "ftp.sra.ebi.ac.uk/vol1/fastq/ERR791/ERR791899/ERR791899_1.fastq.gz;ftp.sra.ebi.ac.uk/vol1/fastq/ERR791/ERR791899/ERR791899_2.fastq.gz",
         null,
         null,
         "FFPE colorectal cancer specimen",
         "Pat05_Prim_FFPE",
         "German Cancer Research Center"
        ],
        [
         "39",
         "ERR791905",
         "SAMEA3308204",
         "ERX836053",
         "PRJEB8754",
         "9606",
         "Homo sapiens",
         "ftp.sra.ebi.ac.uk/vol1/fastq/ERR791/ERR791905/ERR791905_1.fastq.gz;ftp.sra.ebi.ac.uk/vol1/fastq/ERR791/ERR791905/ERR791905_2.fastq.gz",
         null,
         null,
         "FFPE colorectal cancer liver metastasis specimen",
         "Pat11_Meta_FFPE",
         "German Cancer Research Center"
        ],
        [
         "40",
         "ERR791910",
         "SAMEA3308209",
         "ERX836058",
         "PRJEB8754",
         "9606",
         "Homo sapiens",
         "ftp.sra.ebi.ac.uk/vol1/fastq/ERR791/ERR791910/ERR791910_1.fastq.gz;ftp.sra.ebi.ac.uk/vol1/fastq/ERR791/ERR791910/ERR791910_2.fastq.gz",
         null,
         null,
         "FFPE colorectal cancer specimen",
         "Pat14_Prim_FFPE",
         "German Cancer Research Center"
        ],
        [
         "41",
         "ERR791911",
         "SAMEA3308210",
         "ERX836059",
         "PRJEB8754",
         "9606",
         "Homo sapiens",
         "ftp.sra.ebi.ac.uk/vol1/fastq/ERR791/ERR791911/ERR791911_1.fastq.gz;ftp.sra.ebi.ac.uk/vol1/fastq/ERR791/ERR791911/ERR791911_2.fastq.gz",
         null,
         null,
         "Frozen colorectal cancer liver metastasis specimen",
         "Pat12_Meta_Frozen",
         "German Cancer Research Center"
        ],
        [
         "42",
         "ERR791915",
         "SAMEA3308214",
         "ERX836063",
         "PRJEB8754",
         "9606",
         "Homo sapiens",
         "ftp.sra.ebi.ac.uk/vol1/fastq/ERR791/ERR791915/ERR791915_1.fastq.gz;ftp.sra.ebi.ac.uk/vol1/fastq/ERR791/ERR791915/ERR791915_2.fastq.gz",
         null,
         null,
         "Frozen colorectal cancer liver metastasis specimen",
         "Pat18_Meta_Frozen",
         "German Cancer Research Center"
        ]
       ],
       "shape": {
        "columns": 12,
        "rows": 43
       }
      },
      "text/html": [
       "<div><style>\n",
       ".dataframe > thead > tr,\n",
       ".dataframe > tbody > tr {\n",
       "  text-align: right;\n",
       "  white-space: pre-wrap;\n",
       "}\n",
       "</style>\n",
       "<small>shape: (43, 12)</small><table border=\"1\" class=\"dataframe\"><thead><tr><th>run_accession</th><th>sample_accession</th><th>experiment_accession</th><th>study_accession</th><th>tax_id</th><th>scientific_name</th><th>fastq_ftp</th><th>sra_ftp</th><th>bam_ftp</th><th>sample_title</th><th>sample_alias</th><th>center_name</th></tr><tr><td>str</td><td>str</td><td>str</td><td>str</td><td>i64</td><td>str</td><td>str</td><td>str</td><td>str</td><td>str</td><td>str</td><td>str</td></tr></thead><tbody><tr><td>&quot;ERR791879&quot;</td><td>&quot;SAMEA3308178&quot;</td><td>&quot;ERX836027&quot;</td><td>&quot;PRJEB8754&quot;</td><td>9606</td><td>&quot;Homo sapiens&quot;</td><td>&quot;ftp.sra.ebi.ac.uk/vol1/fastq/E…</td><td>null</td><td>null</td><td>&quot;Human blood sample&quot;</td><td>&quot;Primary-1_Blood_Frozen&quot;</td><td>&quot;German Cancer Research Center&quot;</td></tr><tr><td>&quot;ERR791881&quot;</td><td>&quot;SAMEA3308180&quot;</td><td>&quot;ERX836029&quot;</td><td>&quot;PRJEB8754&quot;</td><td>9606</td><td>&quot;Homo sapiens&quot;</td><td>&quot;ftp.sra.ebi.ac.uk/vol1/fastq/E…</td><td>null</td><td>null</td><td>&quot;Cell line&quot;</td><td>&quot;HS68_Cellline_Frozen&quot;</td><td>&quot;German Cancer Research Center&quot;</td></tr><tr><td>&quot;ERR791882&quot;</td><td>&quot;SAMEA3308181&quot;</td><td>&quot;ERX836030&quot;</td><td>&quot;PRJEB8754&quot;</td><td>9606</td><td>&quot;Homo sapiens&quot;</td><td>&quot;ftp.sra.ebi.ac.uk/vol1/fastq/E…</td><td>null</td><td>null</td><td>&quot;Cell line&quot;</td><td>&quot;SW480_Cellline_Frozen&quot;</td><td>&quot;German Cancer Research Center&quot;</td></tr><tr><td>&quot;ERR791884&quot;</td><td>&quot;SAMEA3308183&quot;</td><td>&quot;ERX836032&quot;</td><td>&quot;PRJEB8754&quot;</td><td>9606</td><td>&quot;Homo sapiens&quot;</td><td>&quot;ftp.sra.ebi.ac.uk/vol1/fastq/E…</td><td>null</td><td>null</td><td>&quot;Frozen colorectal cancer liver…</td><td>&quot;Pat03_Meta_Frozen&quot;</td><td>&quot;German Cancer Research Center&quot;</td></tr><tr><td>&quot;ERR791888&quot;</td><td>&quot;SAMEA3308187&quot;</td><td>&quot;ERX836036&quot;</td><td>&quot;PRJEB8754&quot;</td><td>9606</td><td>&quot;Homo sapiens&quot;</td><td>&quot;ftp.sra.ebi.ac.uk/vol1/fastq/E…</td><td>null</td><td>null</td><td>&quot;Frozen colorectal cancer liver…</td><td>&quot;Pat10_Meta_Frozen&quot;</td><td>&quot;German Cancer Research Center&quot;</td></tr><tr><td>&hellip;</td><td>&hellip;</td><td>&hellip;</td><td>&hellip;</td><td>&hellip;</td><td>&hellip;</td><td>&hellip;</td><td>&hellip;</td><td>&hellip;</td><td>&hellip;</td><td>&hellip;</td><td>&hellip;</td></tr><tr><td>&quot;ERR791899&quot;</td><td>&quot;SAMEA3308198&quot;</td><td>&quot;ERX836047&quot;</td><td>&quot;PRJEB8754&quot;</td><td>9606</td><td>&quot;Homo sapiens&quot;</td><td>&quot;ftp.sra.ebi.ac.uk/vol1/fastq/E…</td><td>null</td><td>null</td><td>&quot;FFPE colorectal cancer specime…</td><td>&quot;Pat05_Prim_FFPE&quot;</td><td>&quot;German Cancer Research Center&quot;</td></tr><tr><td>&quot;ERR791905&quot;</td><td>&quot;SAMEA3308204&quot;</td><td>&quot;ERX836053&quot;</td><td>&quot;PRJEB8754&quot;</td><td>9606</td><td>&quot;Homo sapiens&quot;</td><td>&quot;ftp.sra.ebi.ac.uk/vol1/fastq/E…</td><td>null</td><td>null</td><td>&quot;FFPE colorectal cancer liver m…</td><td>&quot;Pat11_Meta_FFPE&quot;</td><td>&quot;German Cancer Research Center&quot;</td></tr><tr><td>&quot;ERR791910&quot;</td><td>&quot;SAMEA3308209&quot;</td><td>&quot;ERX836058&quot;</td><td>&quot;PRJEB8754&quot;</td><td>9606</td><td>&quot;Homo sapiens&quot;</td><td>&quot;ftp.sra.ebi.ac.uk/vol1/fastq/E…</td><td>null</td><td>null</td><td>&quot;FFPE colorectal cancer specime…</td><td>&quot;Pat14_Prim_FFPE&quot;</td><td>&quot;German Cancer Research Center&quot;</td></tr><tr><td>&quot;ERR791911&quot;</td><td>&quot;SAMEA3308210&quot;</td><td>&quot;ERX836059&quot;</td><td>&quot;PRJEB8754&quot;</td><td>9606</td><td>&quot;Homo sapiens&quot;</td><td>&quot;ftp.sra.ebi.ac.uk/vol1/fastq/E…</td><td>null</td><td>null</td><td>&quot;Frozen colorectal cancer liver…</td><td>&quot;Pat12_Meta_Frozen&quot;</td><td>&quot;German Cancer Research Center&quot;</td></tr><tr><td>&quot;ERR791915&quot;</td><td>&quot;SAMEA3308214&quot;</td><td>&quot;ERX836063&quot;</td><td>&quot;PRJEB8754&quot;</td><td>9606</td><td>&quot;Homo sapiens&quot;</td><td>&quot;ftp.sra.ebi.ac.uk/vol1/fastq/E…</td><td>null</td><td>null</td><td>&quot;Frozen colorectal cancer liver…</td><td>&quot;Pat18_Meta_Frozen&quot;</td><td>&quot;German Cancer Research Center&quot;</td></tr></tbody></table></div>"
      ],
      "text/plain": [
       "shape: (43, 12)\n",
       "┌────────────┬───────────┬───────────┬───────────┬───┬─────────┬───────────┬───────────┬───────────┐\n",
       "│ run_access ┆ sample_ac ┆ experimen ┆ study_acc ┆ … ┆ bam_ftp ┆ sample_ti ┆ sample_al ┆ center_na │\n",
       "│ ion        ┆ cession   ┆ t_accessi ┆ ession    ┆   ┆ ---     ┆ tle       ┆ ias       ┆ me        │\n",
       "│ ---        ┆ ---       ┆ on        ┆ ---       ┆   ┆ str     ┆ ---       ┆ ---       ┆ ---       │\n",
       "│ str        ┆ str       ┆ ---       ┆ str       ┆   ┆         ┆ str       ┆ str       ┆ str       │\n",
       "│            ┆           ┆ str       ┆           ┆   ┆         ┆           ┆           ┆           │\n",
       "╞════════════╪═══════════╪═══════════╪═══════════╪═══╪═════════╪═══════════╪═══════════╪═══════════╡\n",
       "│ ERR791879  ┆ SAMEA3308 ┆ ERX836027 ┆ PRJEB8754 ┆ … ┆ null    ┆ Human     ┆ Primary-1 ┆ German    │\n",
       "│            ┆ 178       ┆           ┆           ┆   ┆         ┆ blood     ┆ _Blood_Fr ┆ Cancer    │\n",
       "│            ┆           ┆           ┆           ┆   ┆         ┆ sample    ┆ ozen      ┆ Research  │\n",
       "│            ┆           ┆           ┆           ┆   ┆         ┆           ┆           ┆ Center    │\n",
       "│ ERR791881  ┆ SAMEA3308 ┆ ERX836029 ┆ PRJEB8754 ┆ … ┆ null    ┆ Cell line ┆ HS68_Cell ┆ German    │\n",
       "│            ┆ 180       ┆           ┆           ┆   ┆         ┆           ┆ line_Froz ┆ Cancer    │\n",
       "│            ┆           ┆           ┆           ┆   ┆         ┆           ┆ en        ┆ Research  │\n",
       "│            ┆           ┆           ┆           ┆   ┆         ┆           ┆           ┆ Center    │\n",
       "│ ERR791882  ┆ SAMEA3308 ┆ ERX836030 ┆ PRJEB8754 ┆ … ┆ null    ┆ Cell line ┆ SW480_Cel ┆ German    │\n",
       "│            ┆ 181       ┆           ┆           ┆   ┆         ┆           ┆ lline_Fro ┆ Cancer    │\n",
       "│            ┆           ┆           ┆           ┆   ┆         ┆           ┆ zen       ┆ Research  │\n",
       "│            ┆           ┆           ┆           ┆   ┆         ┆           ┆           ┆ Center    │\n",
       "│ ERR791884  ┆ SAMEA3308 ┆ ERX836032 ┆ PRJEB8754 ┆ … ┆ null    ┆ Frozen    ┆ Pat03_Met ┆ German    │\n",
       "│            ┆ 183       ┆           ┆           ┆   ┆         ┆ colorecta ┆ a_Frozen  ┆ Cancer    │\n",
       "│            ┆           ┆           ┆           ┆   ┆         ┆ l cancer  ┆           ┆ Research  │\n",
       "│            ┆           ┆           ┆           ┆   ┆         ┆ liver…    ┆           ┆ Center    │\n",
       "│ ERR791888  ┆ SAMEA3308 ┆ ERX836036 ┆ PRJEB8754 ┆ … ┆ null    ┆ Frozen    ┆ Pat10_Met ┆ German    │\n",
       "│            ┆ 187       ┆           ┆           ┆   ┆         ┆ colorecta ┆ a_Frozen  ┆ Cancer    │\n",
       "│            ┆           ┆           ┆           ┆   ┆         ┆ l cancer  ┆           ┆ Research  │\n",
       "│            ┆           ┆           ┆           ┆   ┆         ┆ liver…    ┆           ┆ Center    │\n",
       "│ …          ┆ …         ┆ …         ┆ …         ┆ … ┆ …       ┆ …         ┆ …         ┆ …         │\n",
       "│ ERR791899  ┆ SAMEA3308 ┆ ERX836047 ┆ PRJEB8754 ┆ … ┆ null    ┆ FFPE colo ┆ Pat05_Pri ┆ German    │\n",
       "│            ┆ 198       ┆           ┆           ┆   ┆         ┆ rectal    ┆ m_FFPE    ┆ Cancer    │\n",
       "│            ┆           ┆           ┆           ┆   ┆         ┆ cancer    ┆           ┆ Research  │\n",
       "│            ┆           ┆           ┆           ┆   ┆         ┆ specime…  ┆           ┆ Center    │\n",
       "│ ERR791905  ┆ SAMEA3308 ┆ ERX836053 ┆ PRJEB8754 ┆ … ┆ null    ┆ FFPE colo ┆ Pat11_Met ┆ German    │\n",
       "│            ┆ 204       ┆           ┆           ┆   ┆         ┆ rectal    ┆ a_FFPE    ┆ Cancer    │\n",
       "│            ┆           ┆           ┆           ┆   ┆         ┆ cancer    ┆           ┆ Research  │\n",
       "│            ┆           ┆           ┆           ┆   ┆         ┆ liver m…  ┆           ┆ Center    │\n",
       "│ ERR791910  ┆ SAMEA3308 ┆ ERX836058 ┆ PRJEB8754 ┆ … ┆ null    ┆ FFPE colo ┆ Pat14_Pri ┆ German    │\n",
       "│            ┆ 209       ┆           ┆           ┆   ┆         ┆ rectal    ┆ m_FFPE    ┆ Cancer    │\n",
       "│            ┆           ┆           ┆           ┆   ┆         ┆ cancer    ┆           ┆ Research  │\n",
       "│            ┆           ┆           ┆           ┆   ┆         ┆ specime…  ┆           ┆ Center    │\n",
       "│ ERR791911  ┆ SAMEA3308 ┆ ERX836059 ┆ PRJEB8754 ┆ … ┆ null    ┆ Frozen    ┆ Pat12_Met ┆ German    │\n",
       "│            ┆ 210       ┆           ┆           ┆   ┆         ┆ colorecta ┆ a_Frozen  ┆ Cancer    │\n",
       "│            ┆           ┆           ┆           ┆   ┆         ┆ l cancer  ┆           ┆ Research  │\n",
       "│            ┆           ┆           ┆           ┆   ┆         ┆ liver…    ┆           ┆ Center    │\n",
       "│ ERR791915  ┆ SAMEA3308 ┆ ERX836063 ┆ PRJEB8754 ┆ … ┆ null    ┆ Frozen    ┆ Pat18_Met ┆ German    │\n",
       "│            ┆ 214       ┆           ┆           ┆   ┆         ┆ colorecta ┆ a_Frozen  ┆ Cancer    │\n",
       "│            ┆           ┆           ┆           ┆   ┆         ┆ l cancer  ┆           ┆ Research  │\n",
       "│            ┆           ┆           ┆           ┆   ┆         ┆ liver…    ┆           ┆ Center    │\n",
       "└────────────┴───────────┴───────────┴───────────┴───┴─────────┴───────────┴───────────┴───────────┘"
      ]
     },
     "execution_count": 98,
     "metadata": {},
     "output_type": "execute_result"
    }
   ],
   "source": [
    "sample_info_extra"
   ]
  },
  {
   "cell_type": "code",
   "execution_count": 123,
   "id": "d5066925",
   "metadata": {},
   "outputs": [
    {
     "data": {
      "application/vnd.microsoft.datawrangler.viewer.v0+json": {
       "columns": [
        {
         "name": "index",
         "rawType": "int64",
         "type": "integer"
        },
        {
         "name": "sample_title",
         "rawType": "object",
         "type": "string"
        },
        {
         "name": "inferred_id",
         "rawType": "object",
         "type": "string"
        },
        {
         "name": "sample_type",
         "rawType": "object",
         "type": "string"
        },
        {
         "name": "preservation",
         "rawType": "object",
         "type": "string"
        },
        {
         "name": "run_accession",
         "rawType": "object",
         "type": "string"
        },
        {
         "name": "sample_accession",
         "rawType": "object",
         "type": "string"
        },
        {
         "name": "experiment_accession",
         "rawType": "object",
         "type": "string"
        },
        {
         "name": "study_accession",
         "rawType": "object",
         "type": "string"
        },
        {
         "name": "sample_alias",
         "rawType": "object",
         "type": "string"
        },
        {
         "name": "center_name",
         "rawType": "object",
         "type": "string"
        },
        {
         "name": "tax_id",
         "rawType": "int64",
         "type": "integer"
        },
        {
         "name": "scientific_name",
         "rawType": "object",
         "type": "string"
        },
        {
         "name": "fastq_ftp",
         "rawType": "object",
         "type": "string"
        },
        {
         "name": "sra_ftp",
         "rawType": "object",
         "type": "unknown"
        },
        {
         "name": "bam_ftp",
         "rawType": "object",
         "type": "unknown"
        }
       ],
       "ref": "04e35545-3f48-4274-9a9a-61856f99626a",
       "rows": [
        [
         "0",
         "Cell line",
         "DLD1",
         "Cellline",
         "Frozen",
         "ERR791874",
         "SAMEA3308173",
         "ERX836022",
         "PRJEB8754",
         "DLD1_Cellline_Frozen",
         "German Cancer Research Center",
         "9606",
         "Homo sapiens",
         "ftp.sra.ebi.ac.uk/vol1/fastq/ERR791/ERR791874/ERR791874_1.fastq.gz;ftp.sra.ebi.ac.uk/vol1/fastq/ERR791/ERR791874/ERR791874_2.fastq.gz",
         null,
         null
        ],
        [
         "1",
         "Cell line",
         "HCT116",
         "Cellline",
         "Frozen",
         "ERR791875",
         "SAMEA3308174",
         "ERX836023",
         "PRJEB8754",
         "HCT116_Cellline_Frozen",
         "German Cancer Research Center",
         "9606",
         "Homo sapiens",
         "ftp.sra.ebi.ac.uk/vol1/fastq/ERR791/ERR791875/ERR791875_1.fastq.gz;ftp.sra.ebi.ac.uk/vol1/fastq/ERR791/ERR791875/ERR791875_2.fastq.gz",
         null,
         null
        ],
        [
         "2",
         "Cell line",
         "HEK293T",
         "Cellline",
         "Frozen",
         "ERR791880",
         "SAMEA3308179",
         "ERX836028",
         "PRJEB8754",
         "HEK293T_Cellline_Frozen",
         "German Cancer Research Center",
         "9606",
         "Homo sapiens",
         "ftp.sra.ebi.ac.uk/vol1/fastq/ERR791/ERR791880/ERR791880_1.fastq.gz;ftp.sra.ebi.ac.uk/vol1/fastq/ERR791/ERR791880/ERR791880_2.fastq.gz",
         null,
         null
        ],
        [
         "3",
         "Cell line",
         "HS68",
         "Cellline",
         "Frozen",
         "ERR791881",
         "SAMEA3308180",
         "ERX836029",
         "PRJEB8754",
         "HS68_Cellline_Frozen",
         "German Cancer Research Center",
         "9606",
         "Homo sapiens",
         "ftp.sra.ebi.ac.uk/vol1/fastq/ERR791/ERR791881/ERR791881_1.fastq.gz;ftp.sra.ebi.ac.uk/vol1/fastq/ERR791/ERR791881/ERR791881_2.fastq.gz",
         null,
         null
        ],
        [
         "4",
         "Cell line",
         "HT55",
         "Cellline",
         "Frozen",
         "ERR791876",
         "SAMEA3308175",
         "ERX836024",
         "PRJEB8754",
         "HT55_Cellline_Frozen",
         "German Cancer Research Center",
         "9606",
         "Homo sapiens",
         "ftp.sra.ebi.ac.uk/vol1/fastq/ERR791/ERR791876/ERR791876_1.fastq.gz;ftp.sra.ebi.ac.uk/vol1/fastq/ERR791/ERR791876/ERR791876_2.fastq.gz",
         null,
         null
        ],
        [
         "5",
         "Cell line",
         "HUH7",
         "Cellline",
         "Frozen",
         "ERR791877",
         "SAMEA3308176",
         "ERX836025",
         "PRJEB8754",
         "HUH7_Cellline_Frozen",
         "German Cancer Research Center",
         "9606",
         "Homo sapiens",
         "ftp.sra.ebi.ac.uk/vol1/fastq/ERR791/ERR791877/ERR791877_1.fastq.gz;ftp.sra.ebi.ac.uk/vol1/fastq/ERR791/ERR791877/ERR791877_2.fastq.gz",
         null,
         null
        ],
        [
         "6",
         "FFPE colorectal cancer liver metastasis specimen",
         "Pat01",
         "Meta",
         "FFPE",
         "ERR791893",
         "SAMEA3308192",
         "ERX836041",
         "PRJEB8754",
         "Pat01_Meta_FFPE",
         "German Cancer Research Center",
         "9606",
         "Homo sapiens",
         "ftp.sra.ebi.ac.uk/vol1/fastq/ERR791/ERR791893/ERR791893_1.fastq.gz;ftp.sra.ebi.ac.uk/vol1/fastq/ERR791/ERR791893/ERR791893_2.fastq.gz",
         null,
         null
        ],
        [
         "7",
         "Frozen colorectal cancer liver metastasis specimen",
         "Pat01",
         "Meta",
         "Frozen",
         "ERR791883",
         "SAMEA3308182",
         "ERX836031",
         "PRJEB8754",
         "Pat01_Meta_Frozen",
         "German Cancer Research Center",
         "9606",
         "Homo sapiens",
         "ftp.sra.ebi.ac.uk/vol1/fastq/ERR791/ERR791883/ERR791883_1.fastq.gz;ftp.sra.ebi.ac.uk/vol1/fastq/ERR791/ERR791883/ERR791883_2.fastq.gz",
         null,
         null
        ],
        [
         "8",
         "FFPE colorectal cancer liver metastasis specimen",
         "Pat02",
         "Meta",
         "FFPE",
         "ERR791894",
         "SAMEA3308193",
         "ERX836042",
         "PRJEB8754",
         "Pat02_Meta_FFPE",
         "German Cancer Research Center",
         "9606",
         "Homo sapiens",
         "ftp.sra.ebi.ac.uk/vol1/fastq/ERR791/ERR791894/ERR791894_1.fastq.gz;ftp.sra.ebi.ac.uk/vol1/fastq/ERR791/ERR791894/ERR791894_2.fastq.gz",
         null,
         null
        ],
        [
         "9",
         "FFPE colorectal cancer liver metastasis specimen",
         "Pat03",
         "Meta",
         "FFPE",
         "ERR791895",
         "SAMEA3308194",
         "ERX836043",
         "PRJEB8754",
         "Pat03_Meta_FFPE",
         "German Cancer Research Center",
         "9606",
         "Homo sapiens",
         "ftp.sra.ebi.ac.uk/vol1/fastq/ERR791/ERR791895/ERR791895_1.fastq.gz;ftp.sra.ebi.ac.uk/vol1/fastq/ERR791/ERR791895/ERR791895_2.fastq.gz",
         null,
         null
        ],
        [
         "10",
         "Frozen colorectal cancer liver metastasis specimen",
         "Pat03",
         "Meta",
         "Frozen",
         "ERR791884",
         "SAMEA3308183",
         "ERX836032",
         "PRJEB8754",
         "Pat03_Meta_Frozen",
         "German Cancer Research Center",
         "9606",
         "Homo sapiens",
         "ftp.sra.ebi.ac.uk/vol1/fastq/ERR791/ERR791884/ERR791884_1.fastq.gz;ftp.sra.ebi.ac.uk/vol1/fastq/ERR791/ERR791884/ERR791884_2.fastq.gz",
         null,
         null
        ],
        [
         "11",
         "FFPE colorectal cancer specimen",
         "Pat04",
         "Prim",
         "FFPE",
         "ERR791897",
         "SAMEA3308196",
         "ERX836045",
         "PRJEB8754",
         "Pat04_Prim_FFPE",
         "German Cancer Research Center",
         "9606",
         "Homo sapiens",
         "ftp.sra.ebi.ac.uk/vol1/fastq/ERR791/ERR791897/ERR791897_1.fastq.gz;ftp.sra.ebi.ac.uk/vol1/fastq/ERR791/ERR791897/ERR791897_2.fastq.gz",
         null,
         null
        ],
        [
         "12",
         "FFPE colorectal cancer liver metastasis specimen",
         "Pat04",
         "Meta",
         "FFPE",
         "ERR791896",
         "SAMEA3308195",
         "ERX836044",
         "PRJEB8754",
         "Pat04_Meta_FFPE",
         "German Cancer Research Center",
         "9606",
         "Homo sapiens",
         "ftp.sra.ebi.ac.uk/vol1/fastq/ERR791/ERR791896/ERR791896_1.fastq.gz;ftp.sra.ebi.ac.uk/vol1/fastq/ERR791/ERR791896/ERR791896_2.fastq.gz",
         null,
         null
        ],
        [
         "13",
         "Frozen colorectal cancer liver metastasis specimen",
         "Pat04",
         "Meta",
         "Frozen",
         "ERR791891",
         "SAMEA3308190",
         "ERX836039",
         "PRJEB8754",
         "Pat04_Meta_Frozen",
         "German Cancer Research Center",
         "9606",
         "Homo sapiens",
         "ftp.sra.ebi.ac.uk/vol1/fastq/ERR791/ERR791891/ERR791891_1.fastq.gz;ftp.sra.ebi.ac.uk/vol1/fastq/ERR791/ERR791891/ERR791891_2.fastq.gz",
         null,
         null
        ],
        [
         "14",
         "FFPE colorectal cancer liver metastasis specimen",
         "Pat05",
         "Meta",
         "FFPE",
         "ERR791898",
         "SAMEA3308197",
         "ERX836046",
         "PRJEB8754",
         "Pat05_Meta_FFPE",
         "German Cancer Research Center",
         "9606",
         "Homo sapiens",
         "ftp.sra.ebi.ac.uk/vol1/fastq/ERR791/ERR791898/ERR791898_1.fastq.gz;ftp.sra.ebi.ac.uk/vol1/fastq/ERR791/ERR791898/ERR791898_2.fastq.gz",
         null,
         null
        ],
        [
         "15",
         "FFPE colorectal cancer specimen",
         "Pat05",
         "Prim",
         "FFPE",
         "ERR791899",
         "SAMEA3308198",
         "ERX836047",
         "PRJEB8754",
         "Pat05_Prim_FFPE",
         "German Cancer Research Center",
         "9606",
         "Homo sapiens",
         "ftp.sra.ebi.ac.uk/vol1/fastq/ERR791/ERR791899/ERR791899_1.fastq.gz;ftp.sra.ebi.ac.uk/vol1/fastq/ERR791/ERR791899/ERR791899_2.fastq.gz",
         null,
         null
        ],
        [
         "16",
         "FFPE colorectal cancer liver metastasis specimen",
         "Pat06",
         "Meta",
         "FFPE",
         "ERR791900",
         "SAMEA3308199",
         "ERX836048",
         "PRJEB8754",
         "Pat06_Meta_FFPE",
         "German Cancer Research Center",
         "9606",
         "Homo sapiens",
         "ftp.sra.ebi.ac.uk/vol1/fastq/ERR791/ERR791900/ERR791900_1.fastq.gz;ftp.sra.ebi.ac.uk/vol1/fastq/ERR791/ERR791900/ERR791900_2.fastq.gz",
         null,
         null
        ],
        [
         "17",
         "FFPE colorectal cancer liver metastasis specimen",
         "Pat08",
         "Meta",
         "FFPE",
         "ERR791901",
         "SAMEA3308200",
         "ERX836049",
         "PRJEB8754",
         "Pat08_Meta_FFPE",
         "German Cancer Research Center",
         "9606",
         "Homo sapiens",
         "ftp.sra.ebi.ac.uk/vol1/fastq/ERR791/ERR791901/ERR791901_1.fastq.gz;ftp.sra.ebi.ac.uk/vol1/fastq/ERR791/ERR791901/ERR791901_2.fastq.gz",
         null,
         null
        ],
        [
         "18",
         "Frozen colorectal cancer liver metastasis specimen",
         "Pat08",
         "Meta",
         "Frozen",
         "ERR791886",
         "SAMEA3308185",
         "ERX836034",
         "PRJEB8754",
         "Pat08_Meta_Frozen",
         "German Cancer Research Center",
         "9606",
         "Homo sapiens",
         "ftp.sra.ebi.ac.uk/vol1/fastq/ERR791/ERR791886/ERR791886_1.fastq.gz;ftp.sra.ebi.ac.uk/vol1/fastq/ERR791/ERR791886/ERR791886_2.fastq.gz",
         null,
         null
        ],
        [
         "19",
         "FFPE colorectal cancer liver metastasis specimen",
         "Pat09",
         "Meta",
         "FFPE",
         "ERR791902",
         "SAMEA3308201",
         "ERX836050",
         "PRJEB8754",
         "Pat09_Meta_FFPE",
         "German Cancer Research Center",
         "9606",
         "Homo sapiens",
         "ftp.sra.ebi.ac.uk/vol1/fastq/ERR791/ERR791902/ERR791902_1.fastq.gz;ftp.sra.ebi.ac.uk/vol1/fastq/ERR791/ERR791902/ERR791902_2.fastq.gz",
         null,
         null
        ],
        [
         "20",
         "Frozen colorectal cancer liver metastasis specimen",
         "Pat09",
         "Meta",
         "Frozen",
         "ERR791887",
         "SAMEA3308186",
         "ERX836035",
         "PRJEB8754",
         "Pat09_Meta_Frozen",
         "German Cancer Research Center",
         "9606",
         "Homo sapiens",
         "ftp.sra.ebi.ac.uk/vol1/fastq/ERR791/ERR791887/ERR791887_1.fastq.gz;ftp.sra.ebi.ac.uk/vol1/fastq/ERR791/ERR791887/ERR791887_2.fastq.gz",
         null,
         null
        ],
        [
         "21",
         "FFPE colorectal cancer liver metastasis specimen",
         "Pat10",
         "Meta",
         "FFPE",
         "ERR791903",
         "SAMEA3308202",
         "ERX836051",
         "PRJEB8754",
         "Pat10_Meta_FFPE",
         "German Cancer Research Center",
         "9606",
         "Homo sapiens",
         "ftp.sra.ebi.ac.uk/vol1/fastq/ERR791/ERR791903/ERR791903_1.fastq.gz;ftp.sra.ebi.ac.uk/vol1/fastq/ERR791/ERR791903/ERR791903_2.fastq.gz",
         null,
         null
        ],
        [
         "22",
         "FFPE colorectal cancer specimen",
         "Pat10",
         "Prim",
         "FFPE",
         "ERR791904",
         "SAMEA3308203",
         "ERX836052",
         "PRJEB8754",
         "Pat10_Prim_FFPE",
         "German Cancer Research Center",
         "9606",
         "Homo sapiens",
         "ftp.sra.ebi.ac.uk/vol1/fastq/ERR791/ERR791904/ERR791904_1.fastq.gz;ftp.sra.ebi.ac.uk/vol1/fastq/ERR791/ERR791904/ERR791904_2.fastq.gz",
         null,
         null
        ],
        [
         "23",
         "Frozen colorectal cancer liver metastasis specimen",
         "Pat10",
         "Meta",
         "Frozen",
         "ERR791888",
         "SAMEA3308187",
         "ERX836036",
         "PRJEB8754",
         "Pat10_Meta_Frozen",
         "German Cancer Research Center",
         "9606",
         "Homo sapiens",
         "ftp.sra.ebi.ac.uk/vol1/fastq/ERR791/ERR791888/ERR791888_1.fastq.gz;ftp.sra.ebi.ac.uk/vol1/fastq/ERR791/ERR791888/ERR791888_2.fastq.gz",
         null,
         null
        ],
        [
         "24",
         "FFPE colorectal cancer liver metastasis specimen",
         "Pat11",
         "Meta",
         "FFPE",
         "ERR791905",
         "SAMEA3308204",
         "ERX836053",
         "PRJEB8754",
         "Pat11_Meta_FFPE",
         "German Cancer Research Center",
         "9606",
         "Homo sapiens",
         "ftp.sra.ebi.ac.uk/vol1/fastq/ERR791/ERR791905/ERR791905_1.fastq.gz;ftp.sra.ebi.ac.uk/vol1/fastq/ERR791/ERR791905/ERR791905_2.fastq.gz",
         null,
         null
        ],
        [
         "25",
         "FFPE colorectal cancer liver metastasis specimen",
         "Pat11",
         "Prim",
         "FFPE",
         "ERR791906",
         "SAMEA3308205",
         "ERX836054",
         "PRJEB8754",
         "Pat11_Prim_FFPE",
         "German Cancer Research Center",
         "9606",
         "Homo sapiens",
         "ftp.sra.ebi.ac.uk/vol1/fastq/ERR791/ERR791906/ERR791906_1.fastq.gz;ftp.sra.ebi.ac.uk/vol1/fastq/ERR791/ERR791906/ERR791906_2.fastq.gz",
         null,
         null
        ],
        [
         "26",
         "Frozen colorectal cancer liver metastasis specimen",
         "Pat11",
         "Meta",
         "Frozen",
         "ERR791889",
         "SAMEA3308188",
         "ERX836037",
         "PRJEB8754",
         "Pat11_Meta_Frozen",
         "German Cancer Research Center",
         "9606",
         "Homo sapiens",
         "ftp.sra.ebi.ac.uk/vol1/fastq/ERR791/ERR791889/ERR791889_1.fastq.gz;ftp.sra.ebi.ac.uk/vol1/fastq/ERR791/ERR791889/ERR791889_2.fastq.gz",
         null,
         null
        ],
        [
         "27",
         "FFPE colorectal cancer liver metastasis specimen",
         "Pat12",
         "Meta",
         "FFPE",
         "ERR791907",
         "SAMEA3308206",
         "ERX836055",
         "PRJEB8754",
         "Pat12_Meta_FFPE",
         "German Cancer Research Center",
         "9606",
         "Homo sapiens",
         "ftp.sra.ebi.ac.uk/vol1/fastq/ERR791/ERR791907/ERR791907_1.fastq.gz;ftp.sra.ebi.ac.uk/vol1/fastq/ERR791/ERR791907/ERR791907_2.fastq.gz",
         null,
         null
        ],
        [
         "28",
         "Frozen colorectal cancer liver metastasis specimen",
         "Pat12",
         "Meta",
         "Frozen",
         "ERR791911",
         "SAMEA3308210",
         "ERX836059",
         "PRJEB8754",
         "Pat12_Meta_Frozen",
         "German Cancer Research Center",
         "9606",
         "Homo sapiens",
         "ftp.sra.ebi.ac.uk/vol1/fastq/ERR791/ERR791911/ERR791911_1.fastq.gz;ftp.sra.ebi.ac.uk/vol1/fastq/ERR791/ERR791911/ERR791911_2.fastq.gz",
         null,
         null
        ],
        [
         "29",
         "FFPE colorectal cancer liver metastasis specimen",
         "Pat13",
         "Meta",
         "FFPE",
         "ERR791908",
         "SAMEA3308207",
         "ERX836056",
         "PRJEB8754",
         "Pat13_Meta_FFPE",
         "German Cancer Research Center",
         "9606",
         "Homo sapiens",
         "ftp.sra.ebi.ac.uk/vol1/fastq/ERR791/ERR791908/ERR791908_1.fastq.gz;ftp.sra.ebi.ac.uk/vol1/fastq/ERR791/ERR791908/ERR791908_2.fastq.gz",
         null,
         null
        ],
        [
         "30",
         "Frozen colorectal cancer liver metastasis specimen",
         "Pat13",
         "Meta",
         "Frozen",
         "ERR791890",
         "SAMEA3308189",
         "ERX836038",
         "PRJEB8754",
         "Pat13_Meta_Frozen",
         "German Cancer Research Center",
         "9606",
         "Homo sapiens",
         "ftp.sra.ebi.ac.uk/vol1/fastq/ERR791/ERR791890/ERR791890_1.fastq.gz;ftp.sra.ebi.ac.uk/vol1/fastq/ERR791/ERR791890/ERR791890_2.fastq.gz",
         null,
         null
        ],
        [
         "31",
         "Frozen colorectal cancer liver metastasis specimen",
         "Pat13-2nd-run",
         "Meta",
         "Frozen",
         "ERR791912",
         "SAMEA3308211",
         "ERX836060",
         "PRJEB8754",
         "Pat13-2nd-run_Meta_Frozen",
         "German Cancer Research Center",
         "9606",
         "Homo sapiens",
         "ftp.sra.ebi.ac.uk/vol1/fastq/ERR791/ERR791912/ERR791912_1.fastq.gz;ftp.sra.ebi.ac.uk/vol1/fastq/ERR791/ERR791912/ERR791912_2.fastq.gz",
         null,
         null
        ],
        [
         "32",
         "FFPE colorectal cancer liver metastasis specimen",
         "Pat14",
         "Meta",
         "FFPE",
         "ERR791909",
         "SAMEA3308208",
         "ERX836057",
         "PRJEB8754",
         "Pat14_Meta_FFPE",
         "German Cancer Research Center",
         "9606",
         "Homo sapiens",
         "ftp.sra.ebi.ac.uk/vol1/fastq/ERR791/ERR791909/ERR791909_1.fastq.gz;ftp.sra.ebi.ac.uk/vol1/fastq/ERR791/ERR791909/ERR791909_2.fastq.gz",
         null,
         null
        ],
        [
         "33",
         "FFPE colorectal cancer specimen",
         "Pat14",
         "Prim",
         "FFPE",
         "ERR791910",
         "SAMEA3308209",
         "ERX836058",
         "PRJEB8754",
         "Pat14_Prim_FFPE",
         "German Cancer Research Center",
         "9606",
         "Homo sapiens",
         "ftp.sra.ebi.ac.uk/vol1/fastq/ERR791/ERR791910/ERR791910_1.fastq.gz;ftp.sra.ebi.ac.uk/vol1/fastq/ERR791/ERR791910/ERR791910_2.fastq.gz",
         null,
         null
        ],
        [
         "34",
         "Frozen colorectal cancer liver metastasis specimen",
         "Pat14",
         "Meta",
         "Frozen",
         "ERR791885",
         "SAMEA3308184",
         "ERX836033",
         "PRJEB8754",
         "Pat14_Meta_Frozen",
         "German Cancer Research Center",
         "9606",
         "Homo sapiens",
         "ftp.sra.ebi.ac.uk/vol1/fastq/ERR791/ERR791885/ERR791885_1.fastq.gz;ftp.sra.ebi.ac.uk/vol1/fastq/ERR791/ERR791885/ERR791885_2.fastq.gz",
         null,
         null
        ],
        [
         "35",
         "Frozen colorectal cancer liver metastasis specimen",
         "Pat15",
         "Meta",
         "Frozen",
         "ERR791892",
         "SAMEA3308191",
         "ERX836040",
         "PRJEB8754",
         "Pat15_Meta_Frozen",
         "German Cancer Research Center",
         "9606",
         "Homo sapiens",
         "ftp.sra.ebi.ac.uk/vol1/fastq/ERR791/ERR791892/ERR791892_1.fastq.gz;ftp.sra.ebi.ac.uk/vol1/fastq/ERR791/ERR791892/ERR791892_2.fastq.gz",
         null,
         null
        ],
        [
         "36",
         "Cell line derived from human colorectal cancer",
         "Pat16",
         "Cellline",
         "Frozen",
         "ERR791916",
         "SAMEA3308215",
         "ERX836064",
         "PRJEB8754",
         "Pat16_Cellline_Frozen",
         "German Cancer Research Center",
         "9606",
         "Homo sapiens",
         "ftp.sra.ebi.ac.uk/vol1/fastq/ERR791/ERR791916/ERR791916_1.fastq.gz;ftp.sra.ebi.ac.uk/vol1/fastq/ERR791/ERR791916/ERR791916_2.fastq.gz",
         null,
         null
        ],
        [
         "37",
         "Frozen colorectal cancer liver metastasis specimen",
         "Pat16",
         "Meta",
         "Frozen",
         "ERR791913",
         "SAMEA3308212",
         "ERX836061",
         "PRJEB8754",
         "Pat16_Meta_Frozen",
         "German Cancer Research Center",
         "9606",
         "Homo sapiens",
         "ftp.sra.ebi.ac.uk/vol1/fastq/ERR791/ERR791913/ERR791913_1.fastq.gz;ftp.sra.ebi.ac.uk/vol1/fastq/ERR791/ERR791913/ERR791913_2.fastq.gz",
         null,
         null
        ],
        [
         "38",
         "Frozen colorectal cancer liver metastasis specimen",
         "Pat17",
         "Meta",
         "Frozen",
         "ERR791914",
         "SAMEA3308213",
         "ERX836062",
         "PRJEB8754",
         "Pat17_Meta_Frozen",
         "German Cancer Research Center",
         "9606",
         "Homo sapiens",
         "ftp.sra.ebi.ac.uk/vol1/fastq/ERR791/ERR791914/ERR791914_1.fastq.gz;ftp.sra.ebi.ac.uk/vol1/fastq/ERR791/ERR791914/ERR791914_2.fastq.gz",
         null,
         null
        ],
        [
         "39",
         "Frozen colorectal cancer liver metastasis specimen",
         "Pat18",
         "Meta",
         "Frozen",
         "ERR791915",
         "SAMEA3308214",
         "ERX836063",
         "PRJEB8754",
         "Pat18_Meta_Frozen",
         "German Cancer Research Center",
         "9606",
         "Homo sapiens",
         "ftp.sra.ebi.ac.uk/vol1/fastq/ERR791/ERR791915/ERR791915_1.fastq.gz;ftp.sra.ebi.ac.uk/vol1/fastq/ERR791/ERR791915/ERR791915_2.fastq.gz",
         null,
         null
        ],
        [
         "40",
         "Human blood sample",
         "Primary-1",
         "Blood",
         "Frozen",
         "ERR791879",
         "SAMEA3308178",
         "ERX836027",
         "PRJEB8754",
         "Primary-1_Blood_Frozen",
         "German Cancer Research Center",
         "9606",
         "Homo sapiens",
         "ftp.sra.ebi.ac.uk/vol1/fastq/ERR791/ERR791879/ERR791879_1.fastq.gz;ftp.sra.ebi.ac.uk/vol1/fastq/ERR791/ERR791879/ERR791879_2.fastq.gz",
         null,
         null
        ],
        [
         "41",
         "Cell line",
         "Primary-1",
         "Cellline",
         "Frozen",
         "ERR791878",
         "SAMEA3308177",
         "ERX836026",
         "PRJEB8754",
         "Primary-1_Cellline_Frozen",
         "German Cancer Research Center",
         "9606",
         "Homo sapiens",
         "ftp.sra.ebi.ac.uk/vol1/fastq/ERR791/ERR791878/ERR791878_1.fastq.gz;ftp.sra.ebi.ac.uk/vol1/fastq/ERR791/ERR791878/ERR791878_2.fastq.gz",
         null,
         null
        ],
        [
         "42",
         "Cell line",
         "SW480",
         "Cellline",
         "Frozen",
         "ERR791882",
         "SAMEA3308181",
         "ERX836030",
         "PRJEB8754",
         "SW480_Cellline_Frozen",
         "German Cancer Research Center",
         "9606",
         "Homo sapiens",
         "ftp.sra.ebi.ac.uk/vol1/fastq/ERR791/ERR791882/ERR791882_1.fastq.gz;ftp.sra.ebi.ac.uk/vol1/fastq/ERR791/ERR791882/ERR791882_2.fastq.gz",
         null,
         null
        ]
       ],
       "shape": {
        "columns": 15,
        "rows": 43
       }
      },
      "text/html": [
       "<div><style>\n",
       ".dataframe > thead > tr,\n",
       ".dataframe > tbody > tr {\n",
       "  text-align: right;\n",
       "  white-space: pre-wrap;\n",
       "}\n",
       "</style>\n",
       "<small>shape: (43, 15)</small><table border=\"1\" class=\"dataframe\"><thead><tr><th>sample_title</th><th>inferred_id</th><th>sample_type</th><th>preservation</th><th>run_accession</th><th>sample_accession</th><th>experiment_accession</th><th>study_accession</th><th>sample_alias</th><th>center_name</th><th>tax_id</th><th>scientific_name</th><th>fastq_ftp</th><th>sra_ftp</th><th>bam_ftp</th></tr><tr><td>str</td><td>str</td><td>str</td><td>str</td><td>str</td><td>str</td><td>str</td><td>str</td><td>str</td><td>str</td><td>i64</td><td>str</td><td>str</td><td>str</td><td>str</td></tr></thead><tbody><tr><td>&quot;Cell line&quot;</td><td>&quot;DLD1&quot;</td><td>&quot;Cellline&quot;</td><td>&quot;Frozen&quot;</td><td>&quot;ERR791874&quot;</td><td>&quot;SAMEA3308173&quot;</td><td>&quot;ERX836022&quot;</td><td>&quot;PRJEB8754&quot;</td><td>&quot;DLD1_Cellline_Frozen&quot;</td><td>&quot;German Cancer Research Center&quot;</td><td>9606</td><td>&quot;Homo sapiens&quot;</td><td>&quot;ftp.sra.ebi.ac.uk/vol1/fastq/E…</td><td>null</td><td>null</td></tr><tr><td>&quot;Cell line&quot;</td><td>&quot;HCT116&quot;</td><td>&quot;Cellline&quot;</td><td>&quot;Frozen&quot;</td><td>&quot;ERR791875&quot;</td><td>&quot;SAMEA3308174&quot;</td><td>&quot;ERX836023&quot;</td><td>&quot;PRJEB8754&quot;</td><td>&quot;HCT116_Cellline_Frozen&quot;</td><td>&quot;German Cancer Research Center&quot;</td><td>9606</td><td>&quot;Homo sapiens&quot;</td><td>&quot;ftp.sra.ebi.ac.uk/vol1/fastq/E…</td><td>null</td><td>null</td></tr><tr><td>&quot;Cell line&quot;</td><td>&quot;HEK293T&quot;</td><td>&quot;Cellline&quot;</td><td>&quot;Frozen&quot;</td><td>&quot;ERR791880&quot;</td><td>&quot;SAMEA3308179&quot;</td><td>&quot;ERX836028&quot;</td><td>&quot;PRJEB8754&quot;</td><td>&quot;HEK293T_Cellline_Frozen&quot;</td><td>&quot;German Cancer Research Center&quot;</td><td>9606</td><td>&quot;Homo sapiens&quot;</td><td>&quot;ftp.sra.ebi.ac.uk/vol1/fastq/E…</td><td>null</td><td>null</td></tr><tr><td>&quot;Cell line&quot;</td><td>&quot;HS68&quot;</td><td>&quot;Cellline&quot;</td><td>&quot;Frozen&quot;</td><td>&quot;ERR791881&quot;</td><td>&quot;SAMEA3308180&quot;</td><td>&quot;ERX836029&quot;</td><td>&quot;PRJEB8754&quot;</td><td>&quot;HS68_Cellline_Frozen&quot;</td><td>&quot;German Cancer Research Center&quot;</td><td>9606</td><td>&quot;Homo sapiens&quot;</td><td>&quot;ftp.sra.ebi.ac.uk/vol1/fastq/E…</td><td>null</td><td>null</td></tr><tr><td>&quot;Cell line&quot;</td><td>&quot;HT55&quot;</td><td>&quot;Cellline&quot;</td><td>&quot;Frozen&quot;</td><td>&quot;ERR791876&quot;</td><td>&quot;SAMEA3308175&quot;</td><td>&quot;ERX836024&quot;</td><td>&quot;PRJEB8754&quot;</td><td>&quot;HT55_Cellline_Frozen&quot;</td><td>&quot;German Cancer Research Center&quot;</td><td>9606</td><td>&quot;Homo sapiens&quot;</td><td>&quot;ftp.sra.ebi.ac.uk/vol1/fastq/E…</td><td>null</td><td>null</td></tr><tr><td>&hellip;</td><td>&hellip;</td><td>&hellip;</td><td>&hellip;</td><td>&hellip;</td><td>&hellip;</td><td>&hellip;</td><td>&hellip;</td><td>&hellip;</td><td>&hellip;</td><td>&hellip;</td><td>&hellip;</td><td>&hellip;</td><td>&hellip;</td><td>&hellip;</td></tr><tr><td>&quot;Frozen colorectal cancer liver…</td><td>&quot;Pat17&quot;</td><td>&quot;Meta&quot;</td><td>&quot;Frozen&quot;</td><td>&quot;ERR791914&quot;</td><td>&quot;SAMEA3308213&quot;</td><td>&quot;ERX836062&quot;</td><td>&quot;PRJEB8754&quot;</td><td>&quot;Pat17_Meta_Frozen&quot;</td><td>&quot;German Cancer Research Center&quot;</td><td>9606</td><td>&quot;Homo sapiens&quot;</td><td>&quot;ftp.sra.ebi.ac.uk/vol1/fastq/E…</td><td>null</td><td>null</td></tr><tr><td>&quot;Frozen colorectal cancer liver…</td><td>&quot;Pat18&quot;</td><td>&quot;Meta&quot;</td><td>&quot;Frozen&quot;</td><td>&quot;ERR791915&quot;</td><td>&quot;SAMEA3308214&quot;</td><td>&quot;ERX836063&quot;</td><td>&quot;PRJEB8754&quot;</td><td>&quot;Pat18_Meta_Frozen&quot;</td><td>&quot;German Cancer Research Center&quot;</td><td>9606</td><td>&quot;Homo sapiens&quot;</td><td>&quot;ftp.sra.ebi.ac.uk/vol1/fastq/E…</td><td>null</td><td>null</td></tr><tr><td>&quot;Human blood sample&quot;</td><td>&quot;Primary-1&quot;</td><td>&quot;Blood&quot;</td><td>&quot;Frozen&quot;</td><td>&quot;ERR791879&quot;</td><td>&quot;SAMEA3308178&quot;</td><td>&quot;ERX836027&quot;</td><td>&quot;PRJEB8754&quot;</td><td>&quot;Primary-1_Blood_Frozen&quot;</td><td>&quot;German Cancer Research Center&quot;</td><td>9606</td><td>&quot;Homo sapiens&quot;</td><td>&quot;ftp.sra.ebi.ac.uk/vol1/fastq/E…</td><td>null</td><td>null</td></tr><tr><td>&quot;Cell line&quot;</td><td>&quot;Primary-1&quot;</td><td>&quot;Cellline&quot;</td><td>&quot;Frozen&quot;</td><td>&quot;ERR791878&quot;</td><td>&quot;SAMEA3308177&quot;</td><td>&quot;ERX836026&quot;</td><td>&quot;PRJEB8754&quot;</td><td>&quot;Primary-1_Cellline_Frozen&quot;</td><td>&quot;German Cancer Research Center&quot;</td><td>9606</td><td>&quot;Homo sapiens&quot;</td><td>&quot;ftp.sra.ebi.ac.uk/vol1/fastq/E…</td><td>null</td><td>null</td></tr><tr><td>&quot;Cell line&quot;</td><td>&quot;SW480&quot;</td><td>&quot;Cellline&quot;</td><td>&quot;Frozen&quot;</td><td>&quot;ERR791882&quot;</td><td>&quot;SAMEA3308181&quot;</td><td>&quot;ERX836030&quot;</td><td>&quot;PRJEB8754&quot;</td><td>&quot;SW480_Cellline_Frozen&quot;</td><td>&quot;German Cancer Research Center&quot;</td><td>9606</td><td>&quot;Homo sapiens&quot;</td><td>&quot;ftp.sra.ebi.ac.uk/vol1/fastq/E…</td><td>null</td><td>null</td></tr></tbody></table></div>"
      ],
      "text/plain": [
       "shape: (43, 15)\n",
       "┌────────────┬────────────┬────────────┬───────────┬───┬───────────┬───────────┬─────────┬─────────┐\n",
       "│ sample_tit ┆ inferred_i ┆ sample_typ ┆ preservat ┆ … ┆ scientifi ┆ fastq_ftp ┆ sra_ftp ┆ bam_ftp │\n",
       "│ le         ┆ d          ┆ e          ┆ ion       ┆   ┆ c_name    ┆ ---       ┆ ---     ┆ ---     │\n",
       "│ ---        ┆ ---        ┆ ---        ┆ ---       ┆   ┆ ---       ┆ str       ┆ str     ┆ str     │\n",
       "│ str        ┆ str        ┆ str        ┆ str       ┆   ┆ str       ┆           ┆         ┆         │\n",
       "╞════════════╪════════════╪════════════╪═══════════╪═══╪═══════════╪═══════════╪═════════╪═════════╡\n",
       "│ Cell line  ┆ DLD1       ┆ Cellline   ┆ Frozen    ┆ … ┆ Homo      ┆ ftp.sra.e ┆ null    ┆ null    │\n",
       "│            ┆            ┆            ┆           ┆   ┆ sapiens   ┆ bi.ac.uk/ ┆         ┆         │\n",
       "│            ┆            ┆            ┆           ┆   ┆           ┆ vol1/fast ┆         ┆         │\n",
       "│            ┆            ┆            ┆           ┆   ┆           ┆ q/E…      ┆         ┆         │\n",
       "│ Cell line  ┆ HCT116     ┆ Cellline   ┆ Frozen    ┆ … ┆ Homo      ┆ ftp.sra.e ┆ null    ┆ null    │\n",
       "│            ┆            ┆            ┆           ┆   ┆ sapiens   ┆ bi.ac.uk/ ┆         ┆         │\n",
       "│            ┆            ┆            ┆           ┆   ┆           ┆ vol1/fast ┆         ┆         │\n",
       "│            ┆            ┆            ┆           ┆   ┆           ┆ q/E…      ┆         ┆         │\n",
       "│ Cell line  ┆ HEK293T    ┆ Cellline   ┆ Frozen    ┆ … ┆ Homo      ┆ ftp.sra.e ┆ null    ┆ null    │\n",
       "│            ┆            ┆            ┆           ┆   ┆ sapiens   ┆ bi.ac.uk/ ┆         ┆         │\n",
       "│            ┆            ┆            ┆           ┆   ┆           ┆ vol1/fast ┆         ┆         │\n",
       "│            ┆            ┆            ┆           ┆   ┆           ┆ q/E…      ┆         ┆         │\n",
       "│ Cell line  ┆ HS68       ┆ Cellline   ┆ Frozen    ┆ … ┆ Homo      ┆ ftp.sra.e ┆ null    ┆ null    │\n",
       "│            ┆            ┆            ┆           ┆   ┆ sapiens   ┆ bi.ac.uk/ ┆         ┆         │\n",
       "│            ┆            ┆            ┆           ┆   ┆           ┆ vol1/fast ┆         ┆         │\n",
       "│            ┆            ┆            ┆           ┆   ┆           ┆ q/E…      ┆         ┆         │\n",
       "│ Cell line  ┆ HT55       ┆ Cellline   ┆ Frozen    ┆ … ┆ Homo      ┆ ftp.sra.e ┆ null    ┆ null    │\n",
       "│            ┆            ┆            ┆           ┆   ┆ sapiens   ┆ bi.ac.uk/ ┆         ┆         │\n",
       "│            ┆            ┆            ┆           ┆   ┆           ┆ vol1/fast ┆         ┆         │\n",
       "│            ┆            ┆            ┆           ┆   ┆           ┆ q/E…      ┆         ┆         │\n",
       "│ …          ┆ …          ┆ …          ┆ …         ┆ … ┆ …         ┆ …         ┆ …       ┆ …       │\n",
       "│ Frozen     ┆ Pat17      ┆ Meta       ┆ Frozen    ┆ … ┆ Homo      ┆ ftp.sra.e ┆ null    ┆ null    │\n",
       "│ colorectal ┆            ┆            ┆           ┆   ┆ sapiens   ┆ bi.ac.uk/ ┆         ┆         │\n",
       "│ cancer     ┆            ┆            ┆           ┆   ┆           ┆ vol1/fast ┆         ┆         │\n",
       "│ liver…     ┆            ┆            ┆           ┆   ┆           ┆ q/E…      ┆         ┆         │\n",
       "│ Frozen     ┆ Pat18      ┆ Meta       ┆ Frozen    ┆ … ┆ Homo      ┆ ftp.sra.e ┆ null    ┆ null    │\n",
       "│ colorectal ┆            ┆            ┆           ┆   ┆ sapiens   ┆ bi.ac.uk/ ┆         ┆         │\n",
       "│ cancer     ┆            ┆            ┆           ┆   ┆           ┆ vol1/fast ┆         ┆         │\n",
       "│ liver…     ┆            ┆            ┆           ┆   ┆           ┆ q/E…      ┆         ┆         │\n",
       "│ Human      ┆ Primary-1  ┆ Blood      ┆ Frozen    ┆ … ┆ Homo      ┆ ftp.sra.e ┆ null    ┆ null    │\n",
       "│ blood      ┆            ┆            ┆           ┆   ┆ sapiens   ┆ bi.ac.uk/ ┆         ┆         │\n",
       "│ sample     ┆            ┆            ┆           ┆   ┆           ┆ vol1/fast ┆         ┆         │\n",
       "│            ┆            ┆            ┆           ┆   ┆           ┆ q/E…      ┆         ┆         │\n",
       "│ Cell line  ┆ Primary-1  ┆ Cellline   ┆ Frozen    ┆ … ┆ Homo      ┆ ftp.sra.e ┆ null    ┆ null    │\n",
       "│            ┆            ┆            ┆           ┆   ┆ sapiens   ┆ bi.ac.uk/ ┆         ┆         │\n",
       "│            ┆            ┆            ┆           ┆   ┆           ┆ vol1/fast ┆         ┆         │\n",
       "│            ┆            ┆            ┆           ┆   ┆           ┆ q/E…      ┆         ┆         │\n",
       "│ Cell line  ┆ SW480      ┆ Cellline   ┆ Frozen    ┆ … ┆ Homo      ┆ ftp.sra.e ┆ null    ┆ null    │\n",
       "│            ┆            ┆            ┆           ┆   ┆ sapiens   ┆ bi.ac.uk/ ┆         ┆         │\n",
       "│            ┆            ┆            ┆           ┆   ┆           ┆ vol1/fast ┆         ┆         │\n",
       "│            ┆            ┆            ┆           ┆   ┆           ┆ q/E…      ┆         ┆         │\n",
       "└────────────┴────────────┴────────────┴───────────┴───┴───────────┴───────────┴─────────┴─────────┘"
      ]
     },
     "execution_count": 123,
     "metadata": {},
     "output_type": "execute_result"
    }
   ],
   "source": [
    "sample_info_new = (\n",
    "    sample_info_extra\n",
    "    .with_columns(\n",
    "        pl.col(\"sample_alias\").str.split(\"_\").alias(\"sample_alias_split\")\n",
    "    )\n",
    "    .with_columns(\n",
    "        pl.col(\"sample_alias_split\").list.get(0).alias(\"inferred_id\"),\n",
    "        pl.col(\"sample_alias_split\").list.get(1).alias(\"sample_type\"),\n",
    "        pl.col(\"sample_alias_split\").list.get(2).alias(\"preservation\")\n",
    "    )\n",
    "    .drop(\"sample_alias_split\") # Optionally drop the intermediate list column\n",
    "    .select(['sample_title',  'inferred_id', 'sample_type', 'preservation', 'run_accession', 'sample_accession', 'experiment_accession', 'study_accession',  'sample_alias', 'center_name', 'tax_id', 'scientific_name', 'fastq_ftp', 'sra_ftp', 'bam_ftp'])\n",
    "    .sort([\"inferred_id\", \"preservation\"])\n",
    ")\n",
    "\n",
    "sample_info_new.write_csv(\"sample-info_stage1.tsv\", separator=\"\\t\")\n",
    "sample_info_new"
   ]
  },
  {
   "cell_type": "code",
   "execution_count": 135,
   "id": "bf01f61a",
   "metadata": {},
   "outputs": [],
   "source": [
    "sample_info_new = pl.read_csv(\"sample-info_stage1.tsv\", separator=\"\\t\")"
   ]
  },
  {
   "cell_type": "code",
   "execution_count": 136,
   "id": "ad08b50f",
   "metadata": {},
   "outputs": [
    {
     "data": {
      "application/vnd.microsoft.datawrangler.viewer.v0+json": {
       "columns": [
        {
         "name": "index",
         "rawType": "int64",
         "type": "integer"
        },
        {
         "name": "sample_title",
         "rawType": "object",
         "type": "string"
        },
        {
         "name": "inferred_id",
         "rawType": "object",
         "type": "string"
        },
        {
         "name": "sample_type",
         "rawType": "object",
         "type": "string"
        },
        {
         "name": "preservation",
         "rawType": "object",
         "type": "string"
        },
        {
         "name": "run_accession",
         "rawType": "object",
         "type": "string"
        },
        {
         "name": "sample_accession",
         "rawType": "object",
         "type": "string"
        },
        {
         "name": "experiment_accession",
         "rawType": "object",
         "type": "string"
        },
        {
         "name": "study_accession",
         "rawType": "object",
         "type": "string"
        },
        {
         "name": "sample_alias",
         "rawType": "object",
         "type": "string"
        },
        {
         "name": "center_name",
         "rawType": "object",
         "type": "string"
        },
        {
         "name": "tax_id",
         "rawType": "int64",
         "type": "integer"
        },
        {
         "name": "scientific_name",
         "rawType": "object",
         "type": "string"
        },
        {
         "name": "fastq_ftp",
         "rawType": "object",
         "type": "string"
        },
        {
         "name": "sra_ftp",
         "rawType": "object",
         "type": "unknown"
        },
        {
         "name": "bam_ftp",
         "rawType": "object",
         "type": "unknown"
        }
       ],
       "ref": "364f7abe-96b6-43b5-8e43-fa0cb2cddd3e",
       "rows": [
        [
         "0",
         "FFPE colorectal cancer specimen",
         "Pat04",
         "Prim",
         "FFPE",
         "ERR791897",
         "SAMEA3308196",
         "ERX836045",
         "PRJEB8754",
         "Pat04_Prim_FFPE",
         "German Cancer Research Center",
         "9606",
         "Homo sapiens",
         "ftp.sra.ebi.ac.uk/vol1/fastq/ERR791/ERR791897/ERR791897_1.fastq.gz;ftp.sra.ebi.ac.uk/vol1/fastq/ERR791/ERR791897/ERR791897_2.fastq.gz",
         null,
         null
        ],
        [
         "1",
         "FFPE colorectal cancer specimen",
         "Pat05",
         "Prim",
         "FFPE",
         "ERR791899",
         "SAMEA3308198",
         "ERX836047",
         "PRJEB8754",
         "Pat05_Prim_FFPE",
         "German Cancer Research Center",
         "9606",
         "Homo sapiens",
         "ftp.sra.ebi.ac.uk/vol1/fastq/ERR791/ERR791899/ERR791899_1.fastq.gz;ftp.sra.ebi.ac.uk/vol1/fastq/ERR791/ERR791899/ERR791899_2.fastq.gz",
         null,
         null
        ],
        [
         "2",
         "FFPE colorectal cancer specimen",
         "Pat10",
         "Prim",
         "FFPE",
         "ERR791904",
         "SAMEA3308203",
         "ERX836052",
         "PRJEB8754",
         "Pat10_Prim_FFPE",
         "German Cancer Research Center",
         "9606",
         "Homo sapiens",
         "ftp.sra.ebi.ac.uk/vol1/fastq/ERR791/ERR791904/ERR791904_1.fastq.gz;ftp.sra.ebi.ac.uk/vol1/fastq/ERR791/ERR791904/ERR791904_2.fastq.gz",
         null,
         null
        ],
        [
         "3",
         "FFPE colorectal cancer liver metastasis specimen",
         "Pat11",
         "Prim",
         "FFPE",
         "ERR791906",
         "SAMEA3308205",
         "ERX836054",
         "PRJEB8754",
         "Pat11_Prim_FFPE",
         "German Cancer Research Center",
         "9606",
         "Homo sapiens",
         "ftp.sra.ebi.ac.uk/vol1/fastq/ERR791/ERR791906/ERR791906_1.fastq.gz;ftp.sra.ebi.ac.uk/vol1/fastq/ERR791/ERR791906/ERR791906_2.fastq.gz",
         null,
         null
        ],
        [
         "4",
         "FFPE colorectal cancer specimen",
         "Pat14",
         "Prim",
         "FFPE",
         "ERR791910",
         "SAMEA3308209",
         "ERX836058",
         "PRJEB8754",
         "Pat14_Prim_FFPE",
         "German Cancer Research Center",
         "9606",
         "Homo sapiens",
         "ftp.sra.ebi.ac.uk/vol1/fastq/ERR791/ERR791910/ERR791910_1.fastq.gz;ftp.sra.ebi.ac.uk/vol1/fastq/ERR791/ERR791910/ERR791910_2.fastq.gz",
         null,
         null
        ]
       ],
       "shape": {
        "columns": 15,
        "rows": 5
       }
      },
      "text/html": [
       "<div><style>\n",
       ".dataframe > thead > tr,\n",
       ".dataframe > tbody > tr {\n",
       "  text-align: right;\n",
       "  white-space: pre-wrap;\n",
       "}\n",
       "</style>\n",
       "<small>shape: (5, 15)</small><table border=\"1\" class=\"dataframe\"><thead><tr><th>sample_title</th><th>inferred_id</th><th>sample_type</th><th>preservation</th><th>run_accession</th><th>sample_accession</th><th>experiment_accession</th><th>study_accession</th><th>sample_alias</th><th>center_name</th><th>tax_id</th><th>scientific_name</th><th>fastq_ftp</th><th>sra_ftp</th><th>bam_ftp</th></tr><tr><td>str</td><td>str</td><td>str</td><td>str</td><td>str</td><td>str</td><td>str</td><td>str</td><td>str</td><td>str</td><td>i64</td><td>str</td><td>str</td><td>str</td><td>str</td></tr></thead><tbody><tr><td>&quot;FFPE colorectal cancer specime…</td><td>&quot;Pat04&quot;</td><td>&quot;Prim&quot;</td><td>&quot;FFPE&quot;</td><td>&quot;ERR791897&quot;</td><td>&quot;SAMEA3308196&quot;</td><td>&quot;ERX836045&quot;</td><td>&quot;PRJEB8754&quot;</td><td>&quot;Pat04_Prim_FFPE&quot;</td><td>&quot;German Cancer Research Center&quot;</td><td>9606</td><td>&quot;Homo sapiens&quot;</td><td>&quot;ftp.sra.ebi.ac.uk/vol1/fastq/E…</td><td>null</td><td>null</td></tr><tr><td>&quot;FFPE colorectal cancer specime…</td><td>&quot;Pat05&quot;</td><td>&quot;Prim&quot;</td><td>&quot;FFPE&quot;</td><td>&quot;ERR791899&quot;</td><td>&quot;SAMEA3308198&quot;</td><td>&quot;ERX836047&quot;</td><td>&quot;PRJEB8754&quot;</td><td>&quot;Pat05_Prim_FFPE&quot;</td><td>&quot;German Cancer Research Center&quot;</td><td>9606</td><td>&quot;Homo sapiens&quot;</td><td>&quot;ftp.sra.ebi.ac.uk/vol1/fastq/E…</td><td>null</td><td>null</td></tr><tr><td>&quot;FFPE colorectal cancer specime…</td><td>&quot;Pat10&quot;</td><td>&quot;Prim&quot;</td><td>&quot;FFPE&quot;</td><td>&quot;ERR791904&quot;</td><td>&quot;SAMEA3308203&quot;</td><td>&quot;ERX836052&quot;</td><td>&quot;PRJEB8754&quot;</td><td>&quot;Pat10_Prim_FFPE&quot;</td><td>&quot;German Cancer Research Center&quot;</td><td>9606</td><td>&quot;Homo sapiens&quot;</td><td>&quot;ftp.sra.ebi.ac.uk/vol1/fastq/E…</td><td>null</td><td>null</td></tr><tr><td>&quot;FFPE colorectal cancer liver m…</td><td>&quot;Pat11&quot;</td><td>&quot;Prim&quot;</td><td>&quot;FFPE&quot;</td><td>&quot;ERR791906&quot;</td><td>&quot;SAMEA3308205&quot;</td><td>&quot;ERX836054&quot;</td><td>&quot;PRJEB8754&quot;</td><td>&quot;Pat11_Prim_FFPE&quot;</td><td>&quot;German Cancer Research Center&quot;</td><td>9606</td><td>&quot;Homo sapiens&quot;</td><td>&quot;ftp.sra.ebi.ac.uk/vol1/fastq/E…</td><td>null</td><td>null</td></tr><tr><td>&quot;FFPE colorectal cancer specime…</td><td>&quot;Pat14&quot;</td><td>&quot;Prim&quot;</td><td>&quot;FFPE&quot;</td><td>&quot;ERR791910&quot;</td><td>&quot;SAMEA3308209&quot;</td><td>&quot;ERX836058&quot;</td><td>&quot;PRJEB8754&quot;</td><td>&quot;Pat14_Prim_FFPE&quot;</td><td>&quot;German Cancer Research Center&quot;</td><td>9606</td><td>&quot;Homo sapiens&quot;</td><td>&quot;ftp.sra.ebi.ac.uk/vol1/fastq/E…</td><td>null</td><td>null</td></tr></tbody></table></div>"
      ],
      "text/plain": [
       "shape: (5, 15)\n",
       "┌────────────┬────────────┬────────────┬───────────┬───┬───────────┬───────────┬─────────┬─────────┐\n",
       "│ sample_tit ┆ inferred_i ┆ sample_typ ┆ preservat ┆ … ┆ scientifi ┆ fastq_ftp ┆ sra_ftp ┆ bam_ftp │\n",
       "│ le         ┆ d          ┆ e          ┆ ion       ┆   ┆ c_name    ┆ ---       ┆ ---     ┆ ---     │\n",
       "│ ---        ┆ ---        ┆ ---        ┆ ---       ┆   ┆ ---       ┆ str       ┆ str     ┆ str     │\n",
       "│ str        ┆ str        ┆ str        ┆ str       ┆   ┆ str       ┆           ┆         ┆         │\n",
       "╞════════════╪════════════╪════════════╪═══════════╪═══╪═══════════╪═══════════╪═════════╪═════════╡\n",
       "│ FFPE       ┆ Pat04      ┆ Prim       ┆ FFPE      ┆ … ┆ Homo      ┆ ftp.sra.e ┆ null    ┆ null    │\n",
       "│ colorectal ┆            ┆            ┆           ┆   ┆ sapiens   ┆ bi.ac.uk/ ┆         ┆         │\n",
       "│ cancer     ┆            ┆            ┆           ┆   ┆           ┆ vol1/fast ┆         ┆         │\n",
       "│ specime…   ┆            ┆            ┆           ┆   ┆           ┆ q/E…      ┆         ┆         │\n",
       "│ FFPE       ┆ Pat05      ┆ Prim       ┆ FFPE      ┆ … ┆ Homo      ┆ ftp.sra.e ┆ null    ┆ null    │\n",
       "│ colorectal ┆            ┆            ┆           ┆   ┆ sapiens   ┆ bi.ac.uk/ ┆         ┆         │\n",
       "│ cancer     ┆            ┆            ┆           ┆   ┆           ┆ vol1/fast ┆         ┆         │\n",
       "│ specime…   ┆            ┆            ┆           ┆   ┆           ┆ q/E…      ┆         ┆         │\n",
       "│ FFPE       ┆ Pat10      ┆ Prim       ┆ FFPE      ┆ … ┆ Homo      ┆ ftp.sra.e ┆ null    ┆ null    │\n",
       "│ colorectal ┆            ┆            ┆           ┆   ┆ sapiens   ┆ bi.ac.uk/ ┆         ┆         │\n",
       "│ cancer     ┆            ┆            ┆           ┆   ┆           ┆ vol1/fast ┆         ┆         │\n",
       "│ specime…   ┆            ┆            ┆           ┆   ┆           ┆ q/E…      ┆         ┆         │\n",
       "│ FFPE       ┆ Pat11      ┆ Prim       ┆ FFPE      ┆ … ┆ Homo      ┆ ftp.sra.e ┆ null    ┆ null    │\n",
       "│ colorectal ┆            ┆            ┆           ┆   ┆ sapiens   ┆ bi.ac.uk/ ┆         ┆         │\n",
       "│ cancer     ┆            ┆            ┆           ┆   ┆           ┆ vol1/fast ┆         ┆         │\n",
       "│ liver m…   ┆            ┆            ┆           ┆   ┆           ┆ q/E…      ┆         ┆         │\n",
       "│ FFPE       ┆ Pat14      ┆ Prim       ┆ FFPE      ┆ … ┆ Homo      ┆ ftp.sra.e ┆ null    ┆ null    │\n",
       "│ colorectal ┆            ┆            ┆           ┆   ┆ sapiens   ┆ bi.ac.uk/ ┆         ┆         │\n",
       "│ cancer     ┆            ┆            ┆           ┆   ┆           ┆ vol1/fast ┆         ┆         │\n",
       "│ specime…   ┆            ┆            ┆           ┆   ┆           ┆ q/E…      ┆         ┆         │\n",
       "└────────────┴────────────┴────────────┴───────────┴───┴───────────┴───────────┴─────────┴─────────┘"
      ]
     },
     "execution_count": 136,
     "metadata": {},
     "output_type": "execute_result"
    }
   ],
   "source": [
    "sample_info_new.filter(pl.col(\"sample_type\") == \"Prim\")"
   ]
  },
  {
   "cell_type": "code",
   "execution_count": 137,
   "id": "a2f0fe9f",
   "metadata": {},
   "outputs": [
    {
     "data": {
      "application/vnd.microsoft.datawrangler.viewer.v0+json": {
       "columns": [
        {
         "name": "index",
         "rawType": "int64",
         "type": "integer"
        },
        {
         "name": "sample_title",
         "rawType": "object",
         "type": "string"
        },
        {
         "name": "inferred_id",
         "rawType": "object",
         "type": "string"
        },
        {
         "name": "sample_type",
         "rawType": "object",
         "type": "string"
        },
        {
         "name": "preservation",
         "rawType": "object",
         "type": "string"
        },
        {
         "name": "run_accession",
         "rawType": "object",
         "type": "string"
        },
        {
         "name": "sample_accession",
         "rawType": "object",
         "type": "string"
        },
        {
         "name": "experiment_accession",
         "rawType": "object",
         "type": "string"
        },
        {
         "name": "study_accession",
         "rawType": "object",
         "type": "string"
        },
        {
         "name": "sample_alias",
         "rawType": "object",
         "type": "string"
        },
        {
         "name": "center_name",
         "rawType": "object",
         "type": "string"
        },
        {
         "name": "tax_id",
         "rawType": "int64",
         "type": "integer"
        },
        {
         "name": "scientific_name",
         "rawType": "object",
         "type": "string"
        },
        {
         "name": "fastq_ftp",
         "rawType": "object",
         "type": "string"
        },
        {
         "name": "sra_ftp",
         "rawType": "object",
         "type": "unknown"
        },
        {
         "name": "bam_ftp",
         "rawType": "object",
         "type": "unknown"
        }
       ],
       "ref": "6dea580d-99cb-4bb5-b569-17a2840d5f07",
       "rows": [
        [
         "0",
         "FFPE colorectal cancer liver metastasis specimen",
         "Pat05",
         "Meta",
         "FFPE",
         "ERR791898",
         "SAMEA3308197",
         "ERX836046",
         "PRJEB8754",
         "Pat05_Meta_FFPE",
         "German Cancer Research Center",
         "9606",
         "Homo sapiens",
         "ftp.sra.ebi.ac.uk/vol1/fastq/ERR791/ERR791898/ERR791898_1.fastq.gz;ftp.sra.ebi.ac.uk/vol1/fastq/ERR791/ERR791898/ERR791898_2.fastq.gz",
         null,
         null
        ],
        [
         "1",
         "FFPE colorectal cancer specimen",
         "Pat05",
         "Prim",
         "FFPE",
         "ERR791899",
         "SAMEA3308198",
         "ERX836047",
         "PRJEB8754",
         "Pat05_Prim_FFPE",
         "German Cancer Research Center",
         "9606",
         "Homo sapiens",
         "ftp.sra.ebi.ac.uk/vol1/fastq/ERR791/ERR791899/ERR791899_1.fastq.gz;ftp.sra.ebi.ac.uk/vol1/fastq/ERR791/ERR791899/ERR791899_2.fastq.gz",
         null,
         null
        ]
       ],
       "shape": {
        "columns": 15,
        "rows": 2
       }
      },
      "text/html": [
       "<div><style>\n",
       ".dataframe > thead > tr,\n",
       ".dataframe > tbody > tr {\n",
       "  text-align: right;\n",
       "  white-space: pre-wrap;\n",
       "}\n",
       "</style>\n",
       "<small>shape: (2, 15)</small><table border=\"1\" class=\"dataframe\"><thead><tr><th>sample_title</th><th>inferred_id</th><th>sample_type</th><th>preservation</th><th>run_accession</th><th>sample_accession</th><th>experiment_accession</th><th>study_accession</th><th>sample_alias</th><th>center_name</th><th>tax_id</th><th>scientific_name</th><th>fastq_ftp</th><th>sra_ftp</th><th>bam_ftp</th></tr><tr><td>str</td><td>str</td><td>str</td><td>str</td><td>str</td><td>str</td><td>str</td><td>str</td><td>str</td><td>str</td><td>i64</td><td>str</td><td>str</td><td>str</td><td>str</td></tr></thead><tbody><tr><td>&quot;FFPE colorectal cancer liver m…</td><td>&quot;Pat05&quot;</td><td>&quot;Meta&quot;</td><td>&quot;FFPE&quot;</td><td>&quot;ERR791898&quot;</td><td>&quot;SAMEA3308197&quot;</td><td>&quot;ERX836046&quot;</td><td>&quot;PRJEB8754&quot;</td><td>&quot;Pat05_Meta_FFPE&quot;</td><td>&quot;German Cancer Research Center&quot;</td><td>9606</td><td>&quot;Homo sapiens&quot;</td><td>&quot;ftp.sra.ebi.ac.uk/vol1/fastq/E…</td><td>null</td><td>null</td></tr><tr><td>&quot;FFPE colorectal cancer specime…</td><td>&quot;Pat05&quot;</td><td>&quot;Prim&quot;</td><td>&quot;FFPE&quot;</td><td>&quot;ERR791899&quot;</td><td>&quot;SAMEA3308198&quot;</td><td>&quot;ERX836047&quot;</td><td>&quot;PRJEB8754&quot;</td><td>&quot;Pat05_Prim_FFPE&quot;</td><td>&quot;German Cancer Research Center&quot;</td><td>9606</td><td>&quot;Homo sapiens&quot;</td><td>&quot;ftp.sra.ebi.ac.uk/vol1/fastq/E…</td><td>null</td><td>null</td></tr></tbody></table></div>"
      ],
      "text/plain": [
       "shape: (2, 15)\n",
       "┌────────────┬────────────┬────────────┬───────────┬───┬───────────┬───────────┬─────────┬─────────┐\n",
       "│ sample_tit ┆ inferred_i ┆ sample_typ ┆ preservat ┆ … ┆ scientifi ┆ fastq_ftp ┆ sra_ftp ┆ bam_ftp │\n",
       "│ le         ┆ d          ┆ e          ┆ ion       ┆   ┆ c_name    ┆ ---       ┆ ---     ┆ ---     │\n",
       "│ ---        ┆ ---        ┆ ---        ┆ ---       ┆   ┆ ---       ┆ str       ┆ str     ┆ str     │\n",
       "│ str        ┆ str        ┆ str        ┆ str       ┆   ┆ str       ┆           ┆         ┆         │\n",
       "╞════════════╪════════════╪════════════╪═══════════╪═══╪═══════════╪═══════════╪═════════╪═════════╡\n",
       "│ FFPE       ┆ Pat05      ┆ Meta       ┆ FFPE      ┆ … ┆ Homo      ┆ ftp.sra.e ┆ null    ┆ null    │\n",
       "│ colorectal ┆            ┆            ┆           ┆   ┆ sapiens   ┆ bi.ac.uk/ ┆         ┆         │\n",
       "│ cancer     ┆            ┆            ┆           ┆   ┆           ┆ vol1/fast ┆         ┆         │\n",
       "│ liver m…   ┆            ┆            ┆           ┆   ┆           ┆ q/E…      ┆         ┆         │\n",
       "│ FFPE       ┆ Pat05      ┆ Prim       ┆ FFPE      ┆ … ┆ Homo      ┆ ftp.sra.e ┆ null    ┆ null    │\n",
       "│ colorectal ┆            ┆            ┆           ┆   ┆ sapiens   ┆ bi.ac.uk/ ┆         ┆         │\n",
       "│ cancer     ┆            ┆            ┆           ┆   ┆           ┆ vol1/fast ┆         ┆         │\n",
       "│ specime…   ┆            ┆            ┆           ┆   ┆           ┆ q/E…      ┆         ┆         │\n",
       "└────────────┴────────────┴────────────┴───────────┴───┴───────────┴───────────┴─────────┴─────────┘"
      ]
     },
     "execution_count": 137,
     "metadata": {},
     "output_type": "execute_result"
    }
   ],
   "source": [
    "sample_info_new.filter(pl.col(\"inferred_id\") == \"Pat05\")"
   ]
  },
  {
   "cell_type": "code",
   "execution_count": 138,
   "id": "fd7807cf",
   "metadata": {},
   "outputs": [
    {
     "data": {
      "application/vnd.microsoft.datawrangler.viewer.v0+json": {
       "columns": [
        {
         "name": "index",
         "rawType": "int64",
         "type": "integer"
        },
        {
         "name": "inferred_id",
         "rawType": "object",
         "type": "string"
        },
        {
         "name": "sample_type",
         "rawType": "object",
         "type": "string"
        },
        {
         "name": "FFPE_count",
         "rawType": "uint32",
         "type": "integer"
        },
        {
         "name": "FF_count",
         "rawType": "uint32",
         "type": "integer"
        }
       ],
       "ref": "be54723d-fd96-48b2-85c3-79ad8c8acd74",
       "rows": [
        [
         "0",
         "Pat01",
         "Meta",
         "1",
         "1"
        ],
        [
         "1",
         "Pat03",
         "Meta",
         "1",
         "1"
        ],
        [
         "2",
         "Pat04",
         "Meta",
         "1",
         "1"
        ],
        [
         "3",
         "Pat08",
         "Meta",
         "1",
         "1"
        ],
        [
         "4",
         "Pat09",
         "Meta",
         "1",
         "1"
        ],
        [
         "5",
         "Pat10",
         "Meta",
         "1",
         "1"
        ],
        [
         "6",
         "Pat11",
         "Meta",
         "1",
         "1"
        ],
        [
         "7",
         "Pat12",
         "Meta",
         "1",
         "1"
        ],
        [
         "8",
         "Pat13",
         "Meta",
         "1",
         "1"
        ],
        [
         "9",
         "Pat14",
         "Meta",
         "1",
         "1"
        ]
       ],
       "shape": {
        "columns": 4,
        "rows": 10
       }
      },
      "text/html": [
       "<div><style>\n",
       ".dataframe > thead > tr,\n",
       ".dataframe > tbody > tr {\n",
       "  text-align: right;\n",
       "  white-space: pre-wrap;\n",
       "}\n",
       "</style>\n",
       "<small>shape: (10, 4)</small><table border=\"1\" class=\"dataframe\"><thead><tr><th>inferred_id</th><th>sample_type</th><th>FFPE_count</th><th>FF_count</th></tr><tr><td>str</td><td>str</td><td>u32</td><td>u32</td></tr></thead><tbody><tr><td>&quot;Pat01&quot;</td><td>&quot;Meta&quot;</td><td>1</td><td>1</td></tr><tr><td>&quot;Pat03&quot;</td><td>&quot;Meta&quot;</td><td>1</td><td>1</td></tr><tr><td>&quot;Pat04&quot;</td><td>&quot;Meta&quot;</td><td>1</td><td>1</td></tr><tr><td>&quot;Pat08&quot;</td><td>&quot;Meta&quot;</td><td>1</td><td>1</td></tr><tr><td>&quot;Pat09&quot;</td><td>&quot;Meta&quot;</td><td>1</td><td>1</td></tr><tr><td>&quot;Pat10&quot;</td><td>&quot;Meta&quot;</td><td>1</td><td>1</td></tr><tr><td>&quot;Pat11&quot;</td><td>&quot;Meta&quot;</td><td>1</td><td>1</td></tr><tr><td>&quot;Pat12&quot;</td><td>&quot;Meta&quot;</td><td>1</td><td>1</td></tr><tr><td>&quot;Pat13&quot;</td><td>&quot;Meta&quot;</td><td>1</td><td>1</td></tr><tr><td>&quot;Pat14&quot;</td><td>&quot;Meta&quot;</td><td>1</td><td>1</td></tr></tbody></table></div>"
      ],
      "text/plain": [
       "shape: (10, 4)\n",
       "┌─────────────┬─────────────┬────────────┬──────────┐\n",
       "│ inferred_id ┆ sample_type ┆ FFPE_count ┆ FF_count │\n",
       "│ ---         ┆ ---         ┆ ---        ┆ ---      │\n",
       "│ str         ┆ str         ┆ u32        ┆ u32      │\n",
       "╞═════════════╪═════════════╪════════════╪══════════╡\n",
       "│ Pat01       ┆ Meta        ┆ 1          ┆ 1        │\n",
       "│ Pat03       ┆ Meta        ┆ 1          ┆ 1        │\n",
       "│ Pat04       ┆ Meta        ┆ 1          ┆ 1        │\n",
       "│ Pat08       ┆ Meta        ┆ 1          ┆ 1        │\n",
       "│ Pat09       ┆ Meta        ┆ 1          ┆ 1        │\n",
       "│ Pat10       ┆ Meta        ┆ 1          ┆ 1        │\n",
       "│ Pat11       ┆ Meta        ┆ 1          ┆ 1        │\n",
       "│ Pat12       ┆ Meta        ┆ 1          ┆ 1        │\n",
       "│ Pat13       ┆ Meta        ┆ 1          ┆ 1        │\n",
       "│ Pat14       ┆ Meta        ┆ 1          ┆ 1        │\n",
       "└─────────────┴─────────────┴────────────┴──────────┘"
      ]
     },
     "execution_count": 138,
     "metadata": {},
     "output_type": "execute_result"
    }
   ],
   "source": [
    "# 10 samples as mentioned in the pubication\n",
    "matched_ffpe_ff = (\n",
    "    sample_info_new\n",
    "\t.group_by([\"inferred_id\", \"sample_type\"], maintain_order=True)\n",
    "\t.agg([\n",
    "\t\t(pl.col(\"preservation\") == \"FFPE\").sum().alias(\"FFPE_count\"),\n",
    "\t\t(pl.col(\"preservation\") == \"Frozen\").sum().alias(\"FF_count\"),\n",
    "\t])\n",
    " \t\n",
    ")\n",
    "\n",
    "matched_ffpe_ff.write_csv(\"sample_preservation_count.tsv\", separator=\"\\t\")\n",
    "\n",
    "matched_ffpe_ff = matched_ffpe_ff.filter((pl.col(\"FFPE_count\") > 0) & (pl.col(\"FF_count\") > 0))\n",
    "\n",
    "matched_ffpe_ff"
   ]
  },
  {
   "cell_type": "code",
   "execution_count": 143,
   "id": "e7b578e2",
   "metadata": {},
   "outputs": [
    {
     "data": {
      "application/vnd.microsoft.datawrangler.viewer.v0+json": {
       "columns": [
        {
         "name": "index",
         "rawType": "int64",
         "type": "integer"
        },
        {
         "name": "sample_title",
         "rawType": "object",
         "type": "string"
        },
        {
         "name": "inferred_id",
         "rawType": "object",
         "type": "string"
        },
        {
         "name": "sample_type",
         "rawType": "object",
         "type": "string"
        },
        {
         "name": "preservation",
         "rawType": "object",
         "type": "string"
        },
        {
         "name": "run_accession",
         "rawType": "object",
         "type": "string"
        },
        {
         "name": "sample_accession",
         "rawType": "object",
         "type": "string"
        },
        {
         "name": "experiment_accession",
         "rawType": "object",
         "type": "string"
        },
        {
         "name": "study_accession",
         "rawType": "object",
         "type": "string"
        },
        {
         "name": "sample_alias",
         "rawType": "object",
         "type": "string"
        },
        {
         "name": "center_name",
         "rawType": "object",
         "type": "string"
        },
        {
         "name": "tax_id",
         "rawType": "int64",
         "type": "integer"
        },
        {
         "name": "scientific_name",
         "rawType": "object",
         "type": "string"
        },
        {
         "name": "fastq_ftp",
         "rawType": "object",
         "type": "string"
        },
        {
         "name": "sra_ftp",
         "rawType": "object",
         "type": "unknown"
        },
        {
         "name": "bam_ftp",
         "rawType": "object",
         "type": "unknown"
        }
       ],
       "ref": "e257c654-fa99-40b2-b84f-0aa3f6b47164",
       "rows": [
        [
         "0",
         "FFPE colorectal cancer liver metastasis specimen",
         "Pat01",
         "Meta",
         "FFPE",
         "ERR791893",
         "SAMEA3308192",
         "ERX836041",
         "PRJEB8754",
         "Pat01_Meta_FFPE",
         "German Cancer Research Center",
         "9606",
         "Homo sapiens",
         "ftp.sra.ebi.ac.uk/vol1/fastq/ERR791/ERR791893/ERR791893_1.fastq.gz;ftp.sra.ebi.ac.uk/vol1/fastq/ERR791/ERR791893/ERR791893_2.fastq.gz",
         null,
         null
        ],
        [
         "1",
         "Frozen colorectal cancer liver metastasis specimen",
         "Pat01",
         "Meta",
         "Frozen",
         "ERR791883",
         "SAMEA3308182",
         "ERX836031",
         "PRJEB8754",
         "Pat01_Meta_Frozen",
         "German Cancer Research Center",
         "9606",
         "Homo sapiens",
         "ftp.sra.ebi.ac.uk/vol1/fastq/ERR791/ERR791883/ERR791883_1.fastq.gz;ftp.sra.ebi.ac.uk/vol1/fastq/ERR791/ERR791883/ERR791883_2.fastq.gz",
         null,
         null
        ],
        [
         "2",
         "FFPE colorectal cancer liver metastasis specimen",
         "Pat03",
         "Meta",
         "FFPE",
         "ERR791895",
         "SAMEA3308194",
         "ERX836043",
         "PRJEB8754",
         "Pat03_Meta_FFPE",
         "German Cancer Research Center",
         "9606",
         "Homo sapiens",
         "ftp.sra.ebi.ac.uk/vol1/fastq/ERR791/ERR791895/ERR791895_1.fastq.gz;ftp.sra.ebi.ac.uk/vol1/fastq/ERR791/ERR791895/ERR791895_2.fastq.gz",
         null,
         null
        ],
        [
         "3",
         "Frozen colorectal cancer liver metastasis specimen",
         "Pat03",
         "Meta",
         "Frozen",
         "ERR791884",
         "SAMEA3308183",
         "ERX836032",
         "PRJEB8754",
         "Pat03_Meta_Frozen",
         "German Cancer Research Center",
         "9606",
         "Homo sapiens",
         "ftp.sra.ebi.ac.uk/vol1/fastq/ERR791/ERR791884/ERR791884_1.fastq.gz;ftp.sra.ebi.ac.uk/vol1/fastq/ERR791/ERR791884/ERR791884_2.fastq.gz",
         null,
         null
        ],
        [
         "4",
         "FFPE colorectal cancer specimen",
         "Pat04",
         "Prim",
         "FFPE",
         "ERR791897",
         "SAMEA3308196",
         "ERX836045",
         "PRJEB8754",
         "Pat04_Prim_FFPE",
         "German Cancer Research Center",
         "9606",
         "Homo sapiens",
         "ftp.sra.ebi.ac.uk/vol1/fastq/ERR791/ERR791897/ERR791897_1.fastq.gz;ftp.sra.ebi.ac.uk/vol1/fastq/ERR791/ERR791897/ERR791897_2.fastq.gz",
         null,
         null
        ],
        [
         "5",
         "FFPE colorectal cancer liver metastasis specimen",
         "Pat04",
         "Meta",
         "FFPE",
         "ERR791896",
         "SAMEA3308195",
         "ERX836044",
         "PRJEB8754",
         "Pat04_Meta_FFPE",
         "German Cancer Research Center",
         "9606",
         "Homo sapiens",
         "ftp.sra.ebi.ac.uk/vol1/fastq/ERR791/ERR791896/ERR791896_1.fastq.gz;ftp.sra.ebi.ac.uk/vol1/fastq/ERR791/ERR791896/ERR791896_2.fastq.gz",
         null,
         null
        ],
        [
         "6",
         "Frozen colorectal cancer liver metastasis specimen",
         "Pat04",
         "Meta",
         "Frozen",
         "ERR791891",
         "SAMEA3308190",
         "ERX836039",
         "PRJEB8754",
         "Pat04_Meta_Frozen",
         "German Cancer Research Center",
         "9606",
         "Homo sapiens",
         "ftp.sra.ebi.ac.uk/vol1/fastq/ERR791/ERR791891/ERR791891_1.fastq.gz;ftp.sra.ebi.ac.uk/vol1/fastq/ERR791/ERR791891/ERR791891_2.fastq.gz",
         null,
         null
        ],
        [
         "7",
         "FFPE colorectal cancer liver metastasis specimen",
         "Pat08",
         "Meta",
         "FFPE",
         "ERR791901",
         "SAMEA3308200",
         "ERX836049",
         "PRJEB8754",
         "Pat08_Meta_FFPE",
         "German Cancer Research Center",
         "9606",
         "Homo sapiens",
         "ftp.sra.ebi.ac.uk/vol1/fastq/ERR791/ERR791901/ERR791901_1.fastq.gz;ftp.sra.ebi.ac.uk/vol1/fastq/ERR791/ERR791901/ERR791901_2.fastq.gz",
         null,
         null
        ],
        [
         "8",
         "Frozen colorectal cancer liver metastasis specimen",
         "Pat08",
         "Meta",
         "Frozen",
         "ERR791886",
         "SAMEA3308185",
         "ERX836034",
         "PRJEB8754",
         "Pat08_Meta_Frozen",
         "German Cancer Research Center",
         "9606",
         "Homo sapiens",
         "ftp.sra.ebi.ac.uk/vol1/fastq/ERR791/ERR791886/ERR791886_1.fastq.gz;ftp.sra.ebi.ac.uk/vol1/fastq/ERR791/ERR791886/ERR791886_2.fastq.gz",
         null,
         null
        ],
        [
         "9",
         "FFPE colorectal cancer liver metastasis specimen",
         "Pat09",
         "Meta",
         "FFPE",
         "ERR791902",
         "SAMEA3308201",
         "ERX836050",
         "PRJEB8754",
         "Pat09_Meta_FFPE",
         "German Cancer Research Center",
         "9606",
         "Homo sapiens",
         "ftp.sra.ebi.ac.uk/vol1/fastq/ERR791/ERR791902/ERR791902_1.fastq.gz;ftp.sra.ebi.ac.uk/vol1/fastq/ERR791/ERR791902/ERR791902_2.fastq.gz",
         null,
         null
        ],
        [
         "10",
         "Frozen colorectal cancer liver metastasis specimen",
         "Pat09",
         "Meta",
         "Frozen",
         "ERR791887",
         "SAMEA3308186",
         "ERX836035",
         "PRJEB8754",
         "Pat09_Meta_Frozen",
         "German Cancer Research Center",
         "9606",
         "Homo sapiens",
         "ftp.sra.ebi.ac.uk/vol1/fastq/ERR791/ERR791887/ERR791887_1.fastq.gz;ftp.sra.ebi.ac.uk/vol1/fastq/ERR791/ERR791887/ERR791887_2.fastq.gz",
         null,
         null
        ],
        [
         "11",
         "FFPE colorectal cancer liver metastasis specimen",
         "Pat10",
         "Meta",
         "FFPE",
         "ERR791903",
         "SAMEA3308202",
         "ERX836051",
         "PRJEB8754",
         "Pat10_Meta_FFPE",
         "German Cancer Research Center",
         "9606",
         "Homo sapiens",
         "ftp.sra.ebi.ac.uk/vol1/fastq/ERR791/ERR791903/ERR791903_1.fastq.gz;ftp.sra.ebi.ac.uk/vol1/fastq/ERR791/ERR791903/ERR791903_2.fastq.gz",
         null,
         null
        ],
        [
         "12",
         "FFPE colorectal cancer specimen",
         "Pat10",
         "Prim",
         "FFPE",
         "ERR791904",
         "SAMEA3308203",
         "ERX836052",
         "PRJEB8754",
         "Pat10_Prim_FFPE",
         "German Cancer Research Center",
         "9606",
         "Homo sapiens",
         "ftp.sra.ebi.ac.uk/vol1/fastq/ERR791/ERR791904/ERR791904_1.fastq.gz;ftp.sra.ebi.ac.uk/vol1/fastq/ERR791/ERR791904/ERR791904_2.fastq.gz",
         null,
         null
        ],
        [
         "13",
         "Frozen colorectal cancer liver metastasis specimen",
         "Pat10",
         "Meta",
         "Frozen",
         "ERR791888",
         "SAMEA3308187",
         "ERX836036",
         "PRJEB8754",
         "Pat10_Meta_Frozen",
         "German Cancer Research Center",
         "9606",
         "Homo sapiens",
         "ftp.sra.ebi.ac.uk/vol1/fastq/ERR791/ERR791888/ERR791888_1.fastq.gz;ftp.sra.ebi.ac.uk/vol1/fastq/ERR791/ERR791888/ERR791888_2.fastq.gz",
         null,
         null
        ],
        [
         "14",
         "FFPE colorectal cancer liver metastasis specimen",
         "Pat11",
         "Meta",
         "FFPE",
         "ERR791905",
         "SAMEA3308204",
         "ERX836053",
         "PRJEB8754",
         "Pat11_Meta_FFPE",
         "German Cancer Research Center",
         "9606",
         "Homo sapiens",
         "ftp.sra.ebi.ac.uk/vol1/fastq/ERR791/ERR791905/ERR791905_1.fastq.gz;ftp.sra.ebi.ac.uk/vol1/fastq/ERR791/ERR791905/ERR791905_2.fastq.gz",
         null,
         null
        ],
        [
         "15",
         "FFPE colorectal cancer liver metastasis specimen",
         "Pat11",
         "Prim",
         "FFPE",
         "ERR791906",
         "SAMEA3308205",
         "ERX836054",
         "PRJEB8754",
         "Pat11_Prim_FFPE",
         "German Cancer Research Center",
         "9606",
         "Homo sapiens",
         "ftp.sra.ebi.ac.uk/vol1/fastq/ERR791/ERR791906/ERR791906_1.fastq.gz;ftp.sra.ebi.ac.uk/vol1/fastq/ERR791/ERR791906/ERR791906_2.fastq.gz",
         null,
         null
        ],
        [
         "16",
         "Frozen colorectal cancer liver metastasis specimen",
         "Pat11",
         "Meta",
         "Frozen",
         "ERR791889",
         "SAMEA3308188",
         "ERX836037",
         "PRJEB8754",
         "Pat11_Meta_Frozen",
         "German Cancer Research Center",
         "9606",
         "Homo sapiens",
         "ftp.sra.ebi.ac.uk/vol1/fastq/ERR791/ERR791889/ERR791889_1.fastq.gz;ftp.sra.ebi.ac.uk/vol1/fastq/ERR791/ERR791889/ERR791889_2.fastq.gz",
         null,
         null
        ],
        [
         "17",
         "FFPE colorectal cancer liver metastasis specimen",
         "Pat12",
         "Meta",
         "FFPE",
         "ERR791907",
         "SAMEA3308206",
         "ERX836055",
         "PRJEB8754",
         "Pat12_Meta_FFPE",
         "German Cancer Research Center",
         "9606",
         "Homo sapiens",
         "ftp.sra.ebi.ac.uk/vol1/fastq/ERR791/ERR791907/ERR791907_1.fastq.gz;ftp.sra.ebi.ac.uk/vol1/fastq/ERR791/ERR791907/ERR791907_2.fastq.gz",
         null,
         null
        ],
        [
         "18",
         "Frozen colorectal cancer liver metastasis specimen",
         "Pat12",
         "Meta",
         "Frozen",
         "ERR791911",
         "SAMEA3308210",
         "ERX836059",
         "PRJEB8754",
         "Pat12_Meta_Frozen",
         "German Cancer Research Center",
         "9606",
         "Homo sapiens",
         "ftp.sra.ebi.ac.uk/vol1/fastq/ERR791/ERR791911/ERR791911_1.fastq.gz;ftp.sra.ebi.ac.uk/vol1/fastq/ERR791/ERR791911/ERR791911_2.fastq.gz",
         null,
         null
        ],
        [
         "19",
         "FFPE colorectal cancer liver metastasis specimen",
         "Pat13",
         "Meta",
         "FFPE",
         "ERR791908",
         "SAMEA3308207",
         "ERX836056",
         "PRJEB8754",
         "Pat13_Meta_FFPE",
         "German Cancer Research Center",
         "9606",
         "Homo sapiens",
         "ftp.sra.ebi.ac.uk/vol1/fastq/ERR791/ERR791908/ERR791908_1.fastq.gz;ftp.sra.ebi.ac.uk/vol1/fastq/ERR791/ERR791908/ERR791908_2.fastq.gz",
         null,
         null
        ],
        [
         "20",
         "Frozen colorectal cancer liver metastasis specimen",
         "Pat13",
         "Meta",
         "Frozen",
         "ERR791890",
         "SAMEA3308189",
         "ERX836038",
         "PRJEB8754",
         "Pat13_Meta_Frozen",
         "German Cancer Research Center",
         "9606",
         "Homo sapiens",
         "ftp.sra.ebi.ac.uk/vol1/fastq/ERR791/ERR791890/ERR791890_1.fastq.gz;ftp.sra.ebi.ac.uk/vol1/fastq/ERR791/ERR791890/ERR791890_2.fastq.gz",
         null,
         null
        ],
        [
         "21",
         "FFPE colorectal cancer liver metastasis specimen",
         "Pat14",
         "Meta",
         "FFPE",
         "ERR791909",
         "SAMEA3308208",
         "ERX836057",
         "PRJEB8754",
         "Pat14_Meta_FFPE",
         "German Cancer Research Center",
         "9606",
         "Homo sapiens",
         "ftp.sra.ebi.ac.uk/vol1/fastq/ERR791/ERR791909/ERR791909_1.fastq.gz;ftp.sra.ebi.ac.uk/vol1/fastq/ERR791/ERR791909/ERR791909_2.fastq.gz",
         null,
         null
        ],
        [
         "22",
         "FFPE colorectal cancer specimen",
         "Pat14",
         "Prim",
         "FFPE",
         "ERR791910",
         "SAMEA3308209",
         "ERX836058",
         "PRJEB8754",
         "Pat14_Prim_FFPE",
         "German Cancer Research Center",
         "9606",
         "Homo sapiens",
         "ftp.sra.ebi.ac.uk/vol1/fastq/ERR791/ERR791910/ERR791910_1.fastq.gz;ftp.sra.ebi.ac.uk/vol1/fastq/ERR791/ERR791910/ERR791910_2.fastq.gz",
         null,
         null
        ],
        [
         "23",
         "Frozen colorectal cancer liver metastasis specimen",
         "Pat14",
         "Meta",
         "Frozen",
         "ERR791885",
         "SAMEA3308184",
         "ERX836033",
         "PRJEB8754",
         "Pat14_Meta_Frozen",
         "German Cancer Research Center",
         "9606",
         "Homo sapiens",
         "ftp.sra.ebi.ac.uk/vol1/fastq/ERR791/ERR791885/ERR791885_1.fastq.gz;ftp.sra.ebi.ac.uk/vol1/fastq/ERR791/ERR791885/ERR791885_2.fastq.gz",
         null,
         null
        ]
       ],
       "shape": {
        "columns": 15,
        "rows": 24
       }
      },
      "text/html": [
       "<div><style>\n",
       ".dataframe > thead > tr,\n",
       ".dataframe > tbody > tr {\n",
       "  text-align: right;\n",
       "  white-space: pre-wrap;\n",
       "}\n",
       "</style>\n",
       "<small>shape: (24, 15)</small><table border=\"1\" class=\"dataframe\"><thead><tr><th>sample_title</th><th>inferred_id</th><th>sample_type</th><th>preservation</th><th>run_accession</th><th>sample_accession</th><th>experiment_accession</th><th>study_accession</th><th>sample_alias</th><th>center_name</th><th>tax_id</th><th>scientific_name</th><th>fastq_ftp</th><th>sra_ftp</th><th>bam_ftp</th></tr><tr><td>str</td><td>str</td><td>str</td><td>str</td><td>str</td><td>str</td><td>str</td><td>str</td><td>str</td><td>str</td><td>i64</td><td>str</td><td>str</td><td>str</td><td>str</td></tr></thead><tbody><tr><td>&quot;FFPE colorectal cancer liver m…</td><td>&quot;Pat01&quot;</td><td>&quot;Meta&quot;</td><td>&quot;FFPE&quot;</td><td>&quot;ERR791893&quot;</td><td>&quot;SAMEA3308192&quot;</td><td>&quot;ERX836041&quot;</td><td>&quot;PRJEB8754&quot;</td><td>&quot;Pat01_Meta_FFPE&quot;</td><td>&quot;German Cancer Research Center&quot;</td><td>9606</td><td>&quot;Homo sapiens&quot;</td><td>&quot;ftp.sra.ebi.ac.uk/vol1/fastq/E…</td><td>null</td><td>null</td></tr><tr><td>&quot;Frozen colorectal cancer liver…</td><td>&quot;Pat01&quot;</td><td>&quot;Meta&quot;</td><td>&quot;Frozen&quot;</td><td>&quot;ERR791883&quot;</td><td>&quot;SAMEA3308182&quot;</td><td>&quot;ERX836031&quot;</td><td>&quot;PRJEB8754&quot;</td><td>&quot;Pat01_Meta_Frozen&quot;</td><td>&quot;German Cancer Research Center&quot;</td><td>9606</td><td>&quot;Homo sapiens&quot;</td><td>&quot;ftp.sra.ebi.ac.uk/vol1/fastq/E…</td><td>null</td><td>null</td></tr><tr><td>&quot;FFPE colorectal cancer liver m…</td><td>&quot;Pat03&quot;</td><td>&quot;Meta&quot;</td><td>&quot;FFPE&quot;</td><td>&quot;ERR791895&quot;</td><td>&quot;SAMEA3308194&quot;</td><td>&quot;ERX836043&quot;</td><td>&quot;PRJEB8754&quot;</td><td>&quot;Pat03_Meta_FFPE&quot;</td><td>&quot;German Cancer Research Center&quot;</td><td>9606</td><td>&quot;Homo sapiens&quot;</td><td>&quot;ftp.sra.ebi.ac.uk/vol1/fastq/E…</td><td>null</td><td>null</td></tr><tr><td>&quot;Frozen colorectal cancer liver…</td><td>&quot;Pat03&quot;</td><td>&quot;Meta&quot;</td><td>&quot;Frozen&quot;</td><td>&quot;ERR791884&quot;</td><td>&quot;SAMEA3308183&quot;</td><td>&quot;ERX836032&quot;</td><td>&quot;PRJEB8754&quot;</td><td>&quot;Pat03_Meta_Frozen&quot;</td><td>&quot;German Cancer Research Center&quot;</td><td>9606</td><td>&quot;Homo sapiens&quot;</td><td>&quot;ftp.sra.ebi.ac.uk/vol1/fastq/E…</td><td>null</td><td>null</td></tr><tr><td>&quot;FFPE colorectal cancer specime…</td><td>&quot;Pat04&quot;</td><td>&quot;Prim&quot;</td><td>&quot;FFPE&quot;</td><td>&quot;ERR791897&quot;</td><td>&quot;SAMEA3308196&quot;</td><td>&quot;ERX836045&quot;</td><td>&quot;PRJEB8754&quot;</td><td>&quot;Pat04_Prim_FFPE&quot;</td><td>&quot;German Cancer Research Center&quot;</td><td>9606</td><td>&quot;Homo sapiens&quot;</td><td>&quot;ftp.sra.ebi.ac.uk/vol1/fastq/E…</td><td>null</td><td>null</td></tr><tr><td>&hellip;</td><td>&hellip;</td><td>&hellip;</td><td>&hellip;</td><td>&hellip;</td><td>&hellip;</td><td>&hellip;</td><td>&hellip;</td><td>&hellip;</td><td>&hellip;</td><td>&hellip;</td><td>&hellip;</td><td>&hellip;</td><td>&hellip;</td><td>&hellip;</td></tr><tr><td>&quot;FFPE colorectal cancer liver m…</td><td>&quot;Pat13&quot;</td><td>&quot;Meta&quot;</td><td>&quot;FFPE&quot;</td><td>&quot;ERR791908&quot;</td><td>&quot;SAMEA3308207&quot;</td><td>&quot;ERX836056&quot;</td><td>&quot;PRJEB8754&quot;</td><td>&quot;Pat13_Meta_FFPE&quot;</td><td>&quot;German Cancer Research Center&quot;</td><td>9606</td><td>&quot;Homo sapiens&quot;</td><td>&quot;ftp.sra.ebi.ac.uk/vol1/fastq/E…</td><td>null</td><td>null</td></tr><tr><td>&quot;Frozen colorectal cancer liver…</td><td>&quot;Pat13&quot;</td><td>&quot;Meta&quot;</td><td>&quot;Frozen&quot;</td><td>&quot;ERR791890&quot;</td><td>&quot;SAMEA3308189&quot;</td><td>&quot;ERX836038&quot;</td><td>&quot;PRJEB8754&quot;</td><td>&quot;Pat13_Meta_Frozen&quot;</td><td>&quot;German Cancer Research Center&quot;</td><td>9606</td><td>&quot;Homo sapiens&quot;</td><td>&quot;ftp.sra.ebi.ac.uk/vol1/fastq/E…</td><td>null</td><td>null</td></tr><tr><td>&quot;FFPE colorectal cancer liver m…</td><td>&quot;Pat14&quot;</td><td>&quot;Meta&quot;</td><td>&quot;FFPE&quot;</td><td>&quot;ERR791909&quot;</td><td>&quot;SAMEA3308208&quot;</td><td>&quot;ERX836057&quot;</td><td>&quot;PRJEB8754&quot;</td><td>&quot;Pat14_Meta_FFPE&quot;</td><td>&quot;German Cancer Research Center&quot;</td><td>9606</td><td>&quot;Homo sapiens&quot;</td><td>&quot;ftp.sra.ebi.ac.uk/vol1/fastq/E…</td><td>null</td><td>null</td></tr><tr><td>&quot;FFPE colorectal cancer specime…</td><td>&quot;Pat14&quot;</td><td>&quot;Prim&quot;</td><td>&quot;FFPE&quot;</td><td>&quot;ERR791910&quot;</td><td>&quot;SAMEA3308209&quot;</td><td>&quot;ERX836058&quot;</td><td>&quot;PRJEB8754&quot;</td><td>&quot;Pat14_Prim_FFPE&quot;</td><td>&quot;German Cancer Research Center&quot;</td><td>9606</td><td>&quot;Homo sapiens&quot;</td><td>&quot;ftp.sra.ebi.ac.uk/vol1/fastq/E…</td><td>null</td><td>null</td></tr><tr><td>&quot;Frozen colorectal cancer liver…</td><td>&quot;Pat14&quot;</td><td>&quot;Meta&quot;</td><td>&quot;Frozen&quot;</td><td>&quot;ERR791885&quot;</td><td>&quot;SAMEA3308184&quot;</td><td>&quot;ERX836033&quot;</td><td>&quot;PRJEB8754&quot;</td><td>&quot;Pat14_Meta_Frozen&quot;</td><td>&quot;German Cancer Research Center&quot;</td><td>9606</td><td>&quot;Homo sapiens&quot;</td><td>&quot;ftp.sra.ebi.ac.uk/vol1/fastq/E…</td><td>null</td><td>null</td></tr></tbody></table></div>"
      ],
      "text/plain": [
       "shape: (24, 15)\n",
       "┌────────────┬────────────┬────────────┬───────────┬───┬───────────┬───────────┬─────────┬─────────┐\n",
       "│ sample_tit ┆ inferred_i ┆ sample_typ ┆ preservat ┆ … ┆ scientifi ┆ fastq_ftp ┆ sra_ftp ┆ bam_ftp │\n",
       "│ le         ┆ d          ┆ e          ┆ ion       ┆   ┆ c_name    ┆ ---       ┆ ---     ┆ ---     │\n",
       "│ ---        ┆ ---        ┆ ---        ┆ ---       ┆   ┆ ---       ┆ str       ┆ str     ┆ str     │\n",
       "│ str        ┆ str        ┆ str        ┆ str       ┆   ┆ str       ┆           ┆         ┆         │\n",
       "╞════════════╪════════════╪════════════╪═══════════╪═══╪═══════════╪═══════════╪═════════╪═════════╡\n",
       "│ FFPE       ┆ Pat01      ┆ Meta       ┆ FFPE      ┆ … ┆ Homo      ┆ ftp.sra.e ┆ null    ┆ null    │\n",
       "│ colorectal ┆            ┆            ┆           ┆   ┆ sapiens   ┆ bi.ac.uk/ ┆         ┆         │\n",
       "│ cancer     ┆            ┆            ┆           ┆   ┆           ┆ vol1/fast ┆         ┆         │\n",
       "│ liver m…   ┆            ┆            ┆           ┆   ┆           ┆ q/E…      ┆         ┆         │\n",
       "│ Frozen     ┆ Pat01      ┆ Meta       ┆ Frozen    ┆ … ┆ Homo      ┆ ftp.sra.e ┆ null    ┆ null    │\n",
       "│ colorectal ┆            ┆            ┆           ┆   ┆ sapiens   ┆ bi.ac.uk/ ┆         ┆         │\n",
       "│ cancer     ┆            ┆            ┆           ┆   ┆           ┆ vol1/fast ┆         ┆         │\n",
       "│ liver…     ┆            ┆            ┆           ┆   ┆           ┆ q/E…      ┆         ┆         │\n",
       "│ FFPE       ┆ Pat03      ┆ Meta       ┆ FFPE      ┆ … ┆ Homo      ┆ ftp.sra.e ┆ null    ┆ null    │\n",
       "│ colorectal ┆            ┆            ┆           ┆   ┆ sapiens   ┆ bi.ac.uk/ ┆         ┆         │\n",
       "│ cancer     ┆            ┆            ┆           ┆   ┆           ┆ vol1/fast ┆         ┆         │\n",
       "│ liver m…   ┆            ┆            ┆           ┆   ┆           ┆ q/E…      ┆         ┆         │\n",
       "│ Frozen     ┆ Pat03      ┆ Meta       ┆ Frozen    ┆ … ┆ Homo      ┆ ftp.sra.e ┆ null    ┆ null    │\n",
       "│ colorectal ┆            ┆            ┆           ┆   ┆ sapiens   ┆ bi.ac.uk/ ┆         ┆         │\n",
       "│ cancer     ┆            ┆            ┆           ┆   ┆           ┆ vol1/fast ┆         ┆         │\n",
       "│ liver…     ┆            ┆            ┆           ┆   ┆           ┆ q/E…      ┆         ┆         │\n",
       "│ FFPE       ┆ Pat04      ┆ Prim       ┆ FFPE      ┆ … ┆ Homo      ┆ ftp.sra.e ┆ null    ┆ null    │\n",
       "│ colorectal ┆            ┆            ┆           ┆   ┆ sapiens   ┆ bi.ac.uk/ ┆         ┆         │\n",
       "│ cancer     ┆            ┆            ┆           ┆   ┆           ┆ vol1/fast ┆         ┆         │\n",
       "│ specime…   ┆            ┆            ┆           ┆   ┆           ┆ q/E…      ┆         ┆         │\n",
       "│ …          ┆ …          ┆ …          ┆ …         ┆ … ┆ …         ┆ …         ┆ …       ┆ …       │\n",
       "│ FFPE       ┆ Pat13      ┆ Meta       ┆ FFPE      ┆ … ┆ Homo      ┆ ftp.sra.e ┆ null    ┆ null    │\n",
       "│ colorectal ┆            ┆            ┆           ┆   ┆ sapiens   ┆ bi.ac.uk/ ┆         ┆         │\n",
       "│ cancer     ┆            ┆            ┆           ┆   ┆           ┆ vol1/fast ┆         ┆         │\n",
       "│ liver m…   ┆            ┆            ┆           ┆   ┆           ┆ q/E…      ┆         ┆         │\n",
       "│ Frozen     ┆ Pat13      ┆ Meta       ┆ Frozen    ┆ … ┆ Homo      ┆ ftp.sra.e ┆ null    ┆ null    │\n",
       "│ colorectal ┆            ┆            ┆           ┆   ┆ sapiens   ┆ bi.ac.uk/ ┆         ┆         │\n",
       "│ cancer     ┆            ┆            ┆           ┆   ┆           ┆ vol1/fast ┆         ┆         │\n",
       "│ liver…     ┆            ┆            ┆           ┆   ┆           ┆ q/E…      ┆         ┆         │\n",
       "│ FFPE       ┆ Pat14      ┆ Meta       ┆ FFPE      ┆ … ┆ Homo      ┆ ftp.sra.e ┆ null    ┆ null    │\n",
       "│ colorectal ┆            ┆            ┆           ┆   ┆ sapiens   ┆ bi.ac.uk/ ┆         ┆         │\n",
       "│ cancer     ┆            ┆            ┆           ┆   ┆           ┆ vol1/fast ┆         ┆         │\n",
       "│ liver m…   ┆            ┆            ┆           ┆   ┆           ┆ q/E…      ┆         ┆         │\n",
       "│ FFPE       ┆ Pat14      ┆ Prim       ┆ FFPE      ┆ … ┆ Homo      ┆ ftp.sra.e ┆ null    ┆ null    │\n",
       "│ colorectal ┆            ┆            ┆           ┆   ┆ sapiens   ┆ bi.ac.uk/ ┆         ┆         │\n",
       "│ cancer     ┆            ┆            ┆           ┆   ┆           ┆ vol1/fast ┆         ┆         │\n",
       "│ specime…   ┆            ┆            ┆           ┆   ┆           ┆ q/E…      ┆         ┆         │\n",
       "│ Frozen     ┆ Pat14      ┆ Meta       ┆ Frozen    ┆ … ┆ Homo      ┆ ftp.sra.e ┆ null    ┆ null    │\n",
       "│ colorectal ┆            ┆            ┆           ┆   ┆ sapiens   ┆ bi.ac.uk/ ┆         ┆         │\n",
       "│ cancer     ┆            ┆            ┆           ┆   ┆           ┆ vol1/fast ┆         ┆         │\n",
       "│ liver…     ┆            ┆            ┆           ┆   ┆           ┆ q/E…      ┆         ┆         │\n",
       "└────────────┴────────────┴────────────┴───────────┴───┴───────────┴───────────┴─────────┴─────────┘"
      ]
     },
     "execution_count": 143,
     "metadata": {},
     "output_type": "execute_result"
    }
   ],
   "source": [
    "sample_info_matched_ffpe_ff_pat = (\n",
    "\tsample_info_new\n",
    " \t.filter(\n",
    "      pl.col(\"inferred_id\").is_in(matched_ffpe_ff.get_column(\"inferred_id\").implode())\n",
    "    )\n",
    ")\n",
    "\n",
    "# Keeping both Primary and Metastasis\n",
    "sample_info_matched_ffpe_ff_pat.write_csv(\"sample-info_matched-ff-ffpe_on-pat-id.tsv\", separator=\"\\t\")\n",
    "\n",
    "sample_info_matched_ffpe_ff_pat"
   ]
  },
  {
   "cell_type": "code",
   "execution_count": 146,
   "id": "71f47ede",
   "metadata": {},
   "outputs": [
    {
     "data": {
      "application/vnd.microsoft.datawrangler.viewer.v0+json": {
       "columns": [
        {
         "name": "index",
         "rawType": "int64",
         "type": "integer"
        },
        {
         "name": "sample_title",
         "rawType": "object",
         "type": "string"
        },
        {
         "name": "inferred_id",
         "rawType": "object",
         "type": "string"
        },
        {
         "name": "sample_type",
         "rawType": "object",
         "type": "string"
        },
        {
         "name": "preservation",
         "rawType": "object",
         "type": "string"
        },
        {
         "name": "run_accession",
         "rawType": "object",
         "type": "string"
        },
        {
         "name": "sample_accession",
         "rawType": "object",
         "type": "string"
        },
        {
         "name": "experiment_accession",
         "rawType": "object",
         "type": "string"
        },
        {
         "name": "study_accession",
         "rawType": "object",
         "type": "string"
        },
        {
         "name": "sample_alias",
         "rawType": "object",
         "type": "string"
        },
        {
         "name": "center_name",
         "rawType": "object",
         "type": "string"
        },
        {
         "name": "tax_id",
         "rawType": "int64",
         "type": "integer"
        },
        {
         "name": "scientific_name",
         "rawType": "object",
         "type": "string"
        },
        {
         "name": "fastq_ftp",
         "rawType": "object",
         "type": "string"
        },
        {
         "name": "sra_ftp",
         "rawType": "object",
         "type": "unknown"
        },
        {
         "name": "bam_ftp",
         "rawType": "object",
         "type": "unknown"
        }
       ],
       "ref": "04f9ad28-6be4-459d-b992-122e75689814",
       "rows": [
        [
         "0",
         "FFPE colorectal cancer liver metastasis specimen",
         "Pat01",
         "Meta",
         "FFPE",
         "ERR791893",
         "SAMEA3308192",
         "ERX836041",
         "PRJEB8754",
         "Pat01_Meta_FFPE",
         "German Cancer Research Center",
         "9606",
         "Homo sapiens",
         "ftp.sra.ebi.ac.uk/vol1/fastq/ERR791/ERR791893/ERR791893_1.fastq.gz;ftp.sra.ebi.ac.uk/vol1/fastq/ERR791/ERR791893/ERR791893_2.fastq.gz",
         null,
         null
        ],
        [
         "1",
         "Frozen colorectal cancer liver metastasis specimen",
         "Pat01",
         "Meta",
         "Frozen",
         "ERR791883",
         "SAMEA3308182",
         "ERX836031",
         "PRJEB8754",
         "Pat01_Meta_Frozen",
         "German Cancer Research Center",
         "9606",
         "Homo sapiens",
         "ftp.sra.ebi.ac.uk/vol1/fastq/ERR791/ERR791883/ERR791883_1.fastq.gz;ftp.sra.ebi.ac.uk/vol1/fastq/ERR791/ERR791883/ERR791883_2.fastq.gz",
         null,
         null
        ],
        [
         "2",
         "FFPE colorectal cancer liver metastasis specimen",
         "Pat03",
         "Meta",
         "FFPE",
         "ERR791895",
         "SAMEA3308194",
         "ERX836043",
         "PRJEB8754",
         "Pat03_Meta_FFPE",
         "German Cancer Research Center",
         "9606",
         "Homo sapiens",
         "ftp.sra.ebi.ac.uk/vol1/fastq/ERR791/ERR791895/ERR791895_1.fastq.gz;ftp.sra.ebi.ac.uk/vol1/fastq/ERR791/ERR791895/ERR791895_2.fastq.gz",
         null,
         null
        ],
        [
         "3",
         "Frozen colorectal cancer liver metastasis specimen",
         "Pat03",
         "Meta",
         "Frozen",
         "ERR791884",
         "SAMEA3308183",
         "ERX836032",
         "PRJEB8754",
         "Pat03_Meta_Frozen",
         "German Cancer Research Center",
         "9606",
         "Homo sapiens",
         "ftp.sra.ebi.ac.uk/vol1/fastq/ERR791/ERR791884/ERR791884_1.fastq.gz;ftp.sra.ebi.ac.uk/vol1/fastq/ERR791/ERR791884/ERR791884_2.fastq.gz",
         null,
         null
        ],
        [
         "4",
         "FFPE colorectal cancer liver metastasis specimen",
         "Pat04",
         "Meta",
         "FFPE",
         "ERR791896",
         "SAMEA3308195",
         "ERX836044",
         "PRJEB8754",
         "Pat04_Meta_FFPE",
         "German Cancer Research Center",
         "9606",
         "Homo sapiens",
         "ftp.sra.ebi.ac.uk/vol1/fastq/ERR791/ERR791896/ERR791896_1.fastq.gz;ftp.sra.ebi.ac.uk/vol1/fastq/ERR791/ERR791896/ERR791896_2.fastq.gz",
         null,
         null
        ],
        [
         "5",
         "Frozen colorectal cancer liver metastasis specimen",
         "Pat04",
         "Meta",
         "Frozen",
         "ERR791891",
         "SAMEA3308190",
         "ERX836039",
         "PRJEB8754",
         "Pat04_Meta_Frozen",
         "German Cancer Research Center",
         "9606",
         "Homo sapiens",
         "ftp.sra.ebi.ac.uk/vol1/fastq/ERR791/ERR791891/ERR791891_1.fastq.gz;ftp.sra.ebi.ac.uk/vol1/fastq/ERR791/ERR791891/ERR791891_2.fastq.gz",
         null,
         null
        ],
        [
         "6",
         "FFPE colorectal cancer liver metastasis specimen",
         "Pat08",
         "Meta",
         "FFPE",
         "ERR791901",
         "SAMEA3308200",
         "ERX836049",
         "PRJEB8754",
         "Pat08_Meta_FFPE",
         "German Cancer Research Center",
         "9606",
         "Homo sapiens",
         "ftp.sra.ebi.ac.uk/vol1/fastq/ERR791/ERR791901/ERR791901_1.fastq.gz;ftp.sra.ebi.ac.uk/vol1/fastq/ERR791/ERR791901/ERR791901_2.fastq.gz",
         null,
         null
        ],
        [
         "7",
         "Frozen colorectal cancer liver metastasis specimen",
         "Pat08",
         "Meta",
         "Frozen",
         "ERR791886",
         "SAMEA3308185",
         "ERX836034",
         "PRJEB8754",
         "Pat08_Meta_Frozen",
         "German Cancer Research Center",
         "9606",
         "Homo sapiens",
         "ftp.sra.ebi.ac.uk/vol1/fastq/ERR791/ERR791886/ERR791886_1.fastq.gz;ftp.sra.ebi.ac.uk/vol1/fastq/ERR791/ERR791886/ERR791886_2.fastq.gz",
         null,
         null
        ],
        [
         "8",
         "FFPE colorectal cancer liver metastasis specimen",
         "Pat09",
         "Meta",
         "FFPE",
         "ERR791902",
         "SAMEA3308201",
         "ERX836050",
         "PRJEB8754",
         "Pat09_Meta_FFPE",
         "German Cancer Research Center",
         "9606",
         "Homo sapiens",
         "ftp.sra.ebi.ac.uk/vol1/fastq/ERR791/ERR791902/ERR791902_1.fastq.gz;ftp.sra.ebi.ac.uk/vol1/fastq/ERR791/ERR791902/ERR791902_2.fastq.gz",
         null,
         null
        ],
        [
         "9",
         "Frozen colorectal cancer liver metastasis specimen",
         "Pat09",
         "Meta",
         "Frozen",
         "ERR791887",
         "SAMEA3308186",
         "ERX836035",
         "PRJEB8754",
         "Pat09_Meta_Frozen",
         "German Cancer Research Center",
         "9606",
         "Homo sapiens",
         "ftp.sra.ebi.ac.uk/vol1/fastq/ERR791/ERR791887/ERR791887_1.fastq.gz;ftp.sra.ebi.ac.uk/vol1/fastq/ERR791/ERR791887/ERR791887_2.fastq.gz",
         null,
         null
        ],
        [
         "10",
         "FFPE colorectal cancer liver metastasis specimen",
         "Pat10",
         "Meta",
         "FFPE",
         "ERR791903",
         "SAMEA3308202",
         "ERX836051",
         "PRJEB8754",
         "Pat10_Meta_FFPE",
         "German Cancer Research Center",
         "9606",
         "Homo sapiens",
         "ftp.sra.ebi.ac.uk/vol1/fastq/ERR791/ERR791903/ERR791903_1.fastq.gz;ftp.sra.ebi.ac.uk/vol1/fastq/ERR791/ERR791903/ERR791903_2.fastq.gz",
         null,
         null
        ],
        [
         "11",
         "Frozen colorectal cancer liver metastasis specimen",
         "Pat10",
         "Meta",
         "Frozen",
         "ERR791888",
         "SAMEA3308187",
         "ERX836036",
         "PRJEB8754",
         "Pat10_Meta_Frozen",
         "German Cancer Research Center",
         "9606",
         "Homo sapiens",
         "ftp.sra.ebi.ac.uk/vol1/fastq/ERR791/ERR791888/ERR791888_1.fastq.gz;ftp.sra.ebi.ac.uk/vol1/fastq/ERR791/ERR791888/ERR791888_2.fastq.gz",
         null,
         null
        ],
        [
         "12",
         "FFPE colorectal cancer liver metastasis specimen",
         "Pat11",
         "Meta",
         "FFPE",
         "ERR791905",
         "SAMEA3308204",
         "ERX836053",
         "PRJEB8754",
         "Pat11_Meta_FFPE",
         "German Cancer Research Center",
         "9606",
         "Homo sapiens",
         "ftp.sra.ebi.ac.uk/vol1/fastq/ERR791/ERR791905/ERR791905_1.fastq.gz;ftp.sra.ebi.ac.uk/vol1/fastq/ERR791/ERR791905/ERR791905_2.fastq.gz",
         null,
         null
        ],
        [
         "13",
         "Frozen colorectal cancer liver metastasis specimen",
         "Pat11",
         "Meta",
         "Frozen",
         "ERR791889",
         "SAMEA3308188",
         "ERX836037",
         "PRJEB8754",
         "Pat11_Meta_Frozen",
         "German Cancer Research Center",
         "9606",
         "Homo sapiens",
         "ftp.sra.ebi.ac.uk/vol1/fastq/ERR791/ERR791889/ERR791889_1.fastq.gz;ftp.sra.ebi.ac.uk/vol1/fastq/ERR791/ERR791889/ERR791889_2.fastq.gz",
         null,
         null
        ],
        [
         "14",
         "FFPE colorectal cancer liver metastasis specimen",
         "Pat12",
         "Meta",
         "FFPE",
         "ERR791907",
         "SAMEA3308206",
         "ERX836055",
         "PRJEB8754",
         "Pat12_Meta_FFPE",
         "German Cancer Research Center",
         "9606",
         "Homo sapiens",
         "ftp.sra.ebi.ac.uk/vol1/fastq/ERR791/ERR791907/ERR791907_1.fastq.gz;ftp.sra.ebi.ac.uk/vol1/fastq/ERR791/ERR791907/ERR791907_2.fastq.gz",
         null,
         null
        ],
        [
         "15",
         "Frozen colorectal cancer liver metastasis specimen",
         "Pat12",
         "Meta",
         "Frozen",
         "ERR791911",
         "SAMEA3308210",
         "ERX836059",
         "PRJEB8754",
         "Pat12_Meta_Frozen",
         "German Cancer Research Center",
         "9606",
         "Homo sapiens",
         "ftp.sra.ebi.ac.uk/vol1/fastq/ERR791/ERR791911/ERR791911_1.fastq.gz;ftp.sra.ebi.ac.uk/vol1/fastq/ERR791/ERR791911/ERR791911_2.fastq.gz",
         null,
         null
        ],
        [
         "16",
         "FFPE colorectal cancer liver metastasis specimen",
         "Pat13",
         "Meta",
         "FFPE",
         "ERR791908",
         "SAMEA3308207",
         "ERX836056",
         "PRJEB8754",
         "Pat13_Meta_FFPE",
         "German Cancer Research Center",
         "9606",
         "Homo sapiens",
         "ftp.sra.ebi.ac.uk/vol1/fastq/ERR791/ERR791908/ERR791908_1.fastq.gz;ftp.sra.ebi.ac.uk/vol1/fastq/ERR791/ERR791908/ERR791908_2.fastq.gz",
         null,
         null
        ],
        [
         "17",
         "Frozen colorectal cancer liver metastasis specimen",
         "Pat13",
         "Meta",
         "Frozen",
         "ERR791890",
         "SAMEA3308189",
         "ERX836038",
         "PRJEB8754",
         "Pat13_Meta_Frozen",
         "German Cancer Research Center",
         "9606",
         "Homo sapiens",
         "ftp.sra.ebi.ac.uk/vol1/fastq/ERR791/ERR791890/ERR791890_1.fastq.gz;ftp.sra.ebi.ac.uk/vol1/fastq/ERR791/ERR791890/ERR791890_2.fastq.gz",
         null,
         null
        ],
        [
         "18",
         "FFPE colorectal cancer liver metastasis specimen",
         "Pat14",
         "Meta",
         "FFPE",
         "ERR791909",
         "SAMEA3308208",
         "ERX836057",
         "PRJEB8754",
         "Pat14_Meta_FFPE",
         "German Cancer Research Center",
         "9606",
         "Homo sapiens",
         "ftp.sra.ebi.ac.uk/vol1/fastq/ERR791/ERR791909/ERR791909_1.fastq.gz;ftp.sra.ebi.ac.uk/vol1/fastq/ERR791/ERR791909/ERR791909_2.fastq.gz",
         null,
         null
        ],
        [
         "19",
         "Frozen colorectal cancer liver metastasis specimen",
         "Pat14",
         "Meta",
         "Frozen",
         "ERR791885",
         "SAMEA3308184",
         "ERX836033",
         "PRJEB8754",
         "Pat14_Meta_Frozen",
         "German Cancer Research Center",
         "9606",
         "Homo sapiens",
         "ftp.sra.ebi.ac.uk/vol1/fastq/ERR791/ERR791885/ERR791885_1.fastq.gz;ftp.sra.ebi.ac.uk/vol1/fastq/ERR791/ERR791885/ERR791885_2.fastq.gz",
         null,
         null
        ]
       ],
       "shape": {
        "columns": 15,
        "rows": 20
       }
      },
      "text/html": [
       "<div><style>\n",
       ".dataframe > thead > tr,\n",
       ".dataframe > tbody > tr {\n",
       "  text-align: right;\n",
       "  white-space: pre-wrap;\n",
       "}\n",
       "</style>\n",
       "<small>shape: (20, 15)</small><table border=\"1\" class=\"dataframe\"><thead><tr><th>sample_title</th><th>inferred_id</th><th>sample_type</th><th>preservation</th><th>run_accession</th><th>sample_accession</th><th>experiment_accession</th><th>study_accession</th><th>sample_alias</th><th>center_name</th><th>tax_id</th><th>scientific_name</th><th>fastq_ftp</th><th>sra_ftp</th><th>bam_ftp</th></tr><tr><td>str</td><td>str</td><td>str</td><td>str</td><td>str</td><td>str</td><td>str</td><td>str</td><td>str</td><td>str</td><td>i64</td><td>str</td><td>str</td><td>str</td><td>str</td></tr></thead><tbody><tr><td>&quot;FFPE colorectal cancer liver m…</td><td>&quot;Pat01&quot;</td><td>&quot;Meta&quot;</td><td>&quot;FFPE&quot;</td><td>&quot;ERR791893&quot;</td><td>&quot;SAMEA3308192&quot;</td><td>&quot;ERX836041&quot;</td><td>&quot;PRJEB8754&quot;</td><td>&quot;Pat01_Meta_FFPE&quot;</td><td>&quot;German Cancer Research Center&quot;</td><td>9606</td><td>&quot;Homo sapiens&quot;</td><td>&quot;ftp.sra.ebi.ac.uk/vol1/fastq/E…</td><td>null</td><td>null</td></tr><tr><td>&quot;Frozen colorectal cancer liver…</td><td>&quot;Pat01&quot;</td><td>&quot;Meta&quot;</td><td>&quot;Frozen&quot;</td><td>&quot;ERR791883&quot;</td><td>&quot;SAMEA3308182&quot;</td><td>&quot;ERX836031&quot;</td><td>&quot;PRJEB8754&quot;</td><td>&quot;Pat01_Meta_Frozen&quot;</td><td>&quot;German Cancer Research Center&quot;</td><td>9606</td><td>&quot;Homo sapiens&quot;</td><td>&quot;ftp.sra.ebi.ac.uk/vol1/fastq/E…</td><td>null</td><td>null</td></tr><tr><td>&quot;FFPE colorectal cancer liver m…</td><td>&quot;Pat03&quot;</td><td>&quot;Meta&quot;</td><td>&quot;FFPE&quot;</td><td>&quot;ERR791895&quot;</td><td>&quot;SAMEA3308194&quot;</td><td>&quot;ERX836043&quot;</td><td>&quot;PRJEB8754&quot;</td><td>&quot;Pat03_Meta_FFPE&quot;</td><td>&quot;German Cancer Research Center&quot;</td><td>9606</td><td>&quot;Homo sapiens&quot;</td><td>&quot;ftp.sra.ebi.ac.uk/vol1/fastq/E…</td><td>null</td><td>null</td></tr><tr><td>&quot;Frozen colorectal cancer liver…</td><td>&quot;Pat03&quot;</td><td>&quot;Meta&quot;</td><td>&quot;Frozen&quot;</td><td>&quot;ERR791884&quot;</td><td>&quot;SAMEA3308183&quot;</td><td>&quot;ERX836032&quot;</td><td>&quot;PRJEB8754&quot;</td><td>&quot;Pat03_Meta_Frozen&quot;</td><td>&quot;German Cancer Research Center&quot;</td><td>9606</td><td>&quot;Homo sapiens&quot;</td><td>&quot;ftp.sra.ebi.ac.uk/vol1/fastq/E…</td><td>null</td><td>null</td></tr><tr><td>&quot;FFPE colorectal cancer liver m…</td><td>&quot;Pat04&quot;</td><td>&quot;Meta&quot;</td><td>&quot;FFPE&quot;</td><td>&quot;ERR791896&quot;</td><td>&quot;SAMEA3308195&quot;</td><td>&quot;ERX836044&quot;</td><td>&quot;PRJEB8754&quot;</td><td>&quot;Pat04_Meta_FFPE&quot;</td><td>&quot;German Cancer Research Center&quot;</td><td>9606</td><td>&quot;Homo sapiens&quot;</td><td>&quot;ftp.sra.ebi.ac.uk/vol1/fastq/E…</td><td>null</td><td>null</td></tr><tr><td>&hellip;</td><td>&hellip;</td><td>&hellip;</td><td>&hellip;</td><td>&hellip;</td><td>&hellip;</td><td>&hellip;</td><td>&hellip;</td><td>&hellip;</td><td>&hellip;</td><td>&hellip;</td><td>&hellip;</td><td>&hellip;</td><td>&hellip;</td><td>&hellip;</td></tr><tr><td>&quot;Frozen colorectal cancer liver…</td><td>&quot;Pat12&quot;</td><td>&quot;Meta&quot;</td><td>&quot;Frozen&quot;</td><td>&quot;ERR791911&quot;</td><td>&quot;SAMEA3308210&quot;</td><td>&quot;ERX836059&quot;</td><td>&quot;PRJEB8754&quot;</td><td>&quot;Pat12_Meta_Frozen&quot;</td><td>&quot;German Cancer Research Center&quot;</td><td>9606</td><td>&quot;Homo sapiens&quot;</td><td>&quot;ftp.sra.ebi.ac.uk/vol1/fastq/E…</td><td>null</td><td>null</td></tr><tr><td>&quot;FFPE colorectal cancer liver m…</td><td>&quot;Pat13&quot;</td><td>&quot;Meta&quot;</td><td>&quot;FFPE&quot;</td><td>&quot;ERR791908&quot;</td><td>&quot;SAMEA3308207&quot;</td><td>&quot;ERX836056&quot;</td><td>&quot;PRJEB8754&quot;</td><td>&quot;Pat13_Meta_FFPE&quot;</td><td>&quot;German Cancer Research Center&quot;</td><td>9606</td><td>&quot;Homo sapiens&quot;</td><td>&quot;ftp.sra.ebi.ac.uk/vol1/fastq/E…</td><td>null</td><td>null</td></tr><tr><td>&quot;Frozen colorectal cancer liver…</td><td>&quot;Pat13&quot;</td><td>&quot;Meta&quot;</td><td>&quot;Frozen&quot;</td><td>&quot;ERR791890&quot;</td><td>&quot;SAMEA3308189&quot;</td><td>&quot;ERX836038&quot;</td><td>&quot;PRJEB8754&quot;</td><td>&quot;Pat13_Meta_Frozen&quot;</td><td>&quot;German Cancer Research Center&quot;</td><td>9606</td><td>&quot;Homo sapiens&quot;</td><td>&quot;ftp.sra.ebi.ac.uk/vol1/fastq/E…</td><td>null</td><td>null</td></tr><tr><td>&quot;FFPE colorectal cancer liver m…</td><td>&quot;Pat14&quot;</td><td>&quot;Meta&quot;</td><td>&quot;FFPE&quot;</td><td>&quot;ERR791909&quot;</td><td>&quot;SAMEA3308208&quot;</td><td>&quot;ERX836057&quot;</td><td>&quot;PRJEB8754&quot;</td><td>&quot;Pat14_Meta_FFPE&quot;</td><td>&quot;German Cancer Research Center&quot;</td><td>9606</td><td>&quot;Homo sapiens&quot;</td><td>&quot;ftp.sra.ebi.ac.uk/vol1/fastq/E…</td><td>null</td><td>null</td></tr><tr><td>&quot;Frozen colorectal cancer liver…</td><td>&quot;Pat14&quot;</td><td>&quot;Meta&quot;</td><td>&quot;Frozen&quot;</td><td>&quot;ERR791885&quot;</td><td>&quot;SAMEA3308184&quot;</td><td>&quot;ERX836033&quot;</td><td>&quot;PRJEB8754&quot;</td><td>&quot;Pat14_Meta_Frozen&quot;</td><td>&quot;German Cancer Research Center&quot;</td><td>9606</td><td>&quot;Homo sapiens&quot;</td><td>&quot;ftp.sra.ebi.ac.uk/vol1/fastq/E…</td><td>null</td><td>null</td></tr></tbody></table></div>"
      ],
      "text/plain": [
       "shape: (20, 15)\n",
       "┌────────────┬────────────┬────────────┬───────────┬───┬───────────┬───────────┬─────────┬─────────┐\n",
       "│ sample_tit ┆ inferred_i ┆ sample_typ ┆ preservat ┆ … ┆ scientifi ┆ fastq_ftp ┆ sra_ftp ┆ bam_ftp │\n",
       "│ le         ┆ d          ┆ e          ┆ ion       ┆   ┆ c_name    ┆ ---       ┆ ---     ┆ ---     │\n",
       "│ ---        ┆ ---        ┆ ---        ┆ ---       ┆   ┆ ---       ┆ str       ┆ str     ┆ str     │\n",
       "│ str        ┆ str        ┆ str        ┆ str       ┆   ┆ str       ┆           ┆         ┆         │\n",
       "╞════════════╪════════════╪════════════╪═══════════╪═══╪═══════════╪═══════════╪═════════╪═════════╡\n",
       "│ FFPE       ┆ Pat01      ┆ Meta       ┆ FFPE      ┆ … ┆ Homo      ┆ ftp.sra.e ┆ null    ┆ null    │\n",
       "│ colorectal ┆            ┆            ┆           ┆   ┆ sapiens   ┆ bi.ac.uk/ ┆         ┆         │\n",
       "│ cancer     ┆            ┆            ┆           ┆   ┆           ┆ vol1/fast ┆         ┆         │\n",
       "│ liver m…   ┆            ┆            ┆           ┆   ┆           ┆ q/E…      ┆         ┆         │\n",
       "│ Frozen     ┆ Pat01      ┆ Meta       ┆ Frozen    ┆ … ┆ Homo      ┆ ftp.sra.e ┆ null    ┆ null    │\n",
       "│ colorectal ┆            ┆            ┆           ┆   ┆ sapiens   ┆ bi.ac.uk/ ┆         ┆         │\n",
       "│ cancer     ┆            ┆            ┆           ┆   ┆           ┆ vol1/fast ┆         ┆         │\n",
       "│ liver…     ┆            ┆            ┆           ┆   ┆           ┆ q/E…      ┆         ┆         │\n",
       "│ FFPE       ┆ Pat03      ┆ Meta       ┆ FFPE      ┆ … ┆ Homo      ┆ ftp.sra.e ┆ null    ┆ null    │\n",
       "│ colorectal ┆            ┆            ┆           ┆   ┆ sapiens   ┆ bi.ac.uk/ ┆         ┆         │\n",
       "│ cancer     ┆            ┆            ┆           ┆   ┆           ┆ vol1/fast ┆         ┆         │\n",
       "│ liver m…   ┆            ┆            ┆           ┆   ┆           ┆ q/E…      ┆         ┆         │\n",
       "│ Frozen     ┆ Pat03      ┆ Meta       ┆ Frozen    ┆ … ┆ Homo      ┆ ftp.sra.e ┆ null    ┆ null    │\n",
       "│ colorectal ┆            ┆            ┆           ┆   ┆ sapiens   ┆ bi.ac.uk/ ┆         ┆         │\n",
       "│ cancer     ┆            ┆            ┆           ┆   ┆           ┆ vol1/fast ┆         ┆         │\n",
       "│ liver…     ┆            ┆            ┆           ┆   ┆           ┆ q/E…      ┆         ┆         │\n",
       "│ FFPE       ┆ Pat04      ┆ Meta       ┆ FFPE      ┆ … ┆ Homo      ┆ ftp.sra.e ┆ null    ┆ null    │\n",
       "│ colorectal ┆            ┆            ┆           ┆   ┆ sapiens   ┆ bi.ac.uk/ ┆         ┆         │\n",
       "│ cancer     ┆            ┆            ┆           ┆   ┆           ┆ vol1/fast ┆         ┆         │\n",
       "│ liver m…   ┆            ┆            ┆           ┆   ┆           ┆ q/E…      ┆         ┆         │\n",
       "│ …          ┆ …          ┆ …          ┆ …         ┆ … ┆ …         ┆ …         ┆ …       ┆ …       │\n",
       "│ Frozen     ┆ Pat12      ┆ Meta       ┆ Frozen    ┆ … ┆ Homo      ┆ ftp.sra.e ┆ null    ┆ null    │\n",
       "│ colorectal ┆            ┆            ┆           ┆   ┆ sapiens   ┆ bi.ac.uk/ ┆         ┆         │\n",
       "│ cancer     ┆            ┆            ┆           ┆   ┆           ┆ vol1/fast ┆         ┆         │\n",
       "│ liver…     ┆            ┆            ┆           ┆   ┆           ┆ q/E…      ┆         ┆         │\n",
       "│ FFPE       ┆ Pat13      ┆ Meta       ┆ FFPE      ┆ … ┆ Homo      ┆ ftp.sra.e ┆ null    ┆ null    │\n",
       "│ colorectal ┆            ┆            ┆           ┆   ┆ sapiens   ┆ bi.ac.uk/ ┆         ┆         │\n",
       "│ cancer     ┆            ┆            ┆           ┆   ┆           ┆ vol1/fast ┆         ┆         │\n",
       "│ liver m…   ┆            ┆            ┆           ┆   ┆           ┆ q/E…      ┆         ┆         │\n",
       "│ Frozen     ┆ Pat13      ┆ Meta       ┆ Frozen    ┆ … ┆ Homo      ┆ ftp.sra.e ┆ null    ┆ null    │\n",
       "│ colorectal ┆            ┆            ┆           ┆   ┆ sapiens   ┆ bi.ac.uk/ ┆         ┆         │\n",
       "│ cancer     ┆            ┆            ┆           ┆   ┆           ┆ vol1/fast ┆         ┆         │\n",
       "│ liver…     ┆            ┆            ┆           ┆   ┆           ┆ q/E…      ┆         ┆         │\n",
       "│ FFPE       ┆ Pat14      ┆ Meta       ┆ FFPE      ┆ … ┆ Homo      ┆ ftp.sra.e ┆ null    ┆ null    │\n",
       "│ colorectal ┆            ┆            ┆           ┆   ┆ sapiens   ┆ bi.ac.uk/ ┆         ┆         │\n",
       "│ cancer     ┆            ┆            ┆           ┆   ┆           ┆ vol1/fast ┆         ┆         │\n",
       "│ liver m…   ┆            ┆            ┆           ┆   ┆           ┆ q/E…      ┆         ┆         │\n",
       "│ Frozen     ┆ Pat14      ┆ Meta       ┆ Frozen    ┆ … ┆ Homo      ┆ ftp.sra.e ┆ null    ┆ null    │\n",
       "│ colorectal ┆            ┆            ┆           ┆   ┆ sapiens   ┆ bi.ac.uk/ ┆         ┆         │\n",
       "│ cancer     ┆            ┆            ┆           ┆   ┆           ┆ vol1/fast ┆         ┆         │\n",
       "│ liver…     ┆            ┆            ┆           ┆   ┆           ┆ q/E…      ┆         ┆         │\n",
       "└────────────┴────────────┴────────────┴───────────┴───┴───────────┴───────────┴─────────┴─────────┘"
      ]
     },
     "execution_count": 146,
     "metadata": {},
     "output_type": "execute_result"
    }
   ],
   "source": [
    "sample_info_matched_ffpe_ff_pat_stype = sample_info_new.join(matched_ffpe_ff, on=[\"inferred_id\", \"sample_type\"], how=\"semi\")\n",
    "sample_info_matched_ffpe_ff_pat_stype.write_csv(\"sample-info_matched-ff-ffpe_on-pat-id-sample-type.tsv\", separator=\"\\t\")\n",
    "sample_info_matched_ffpe_ff_pat_stype"
   ]
  },
  {
   "cell_type": "code",
   "execution_count": null,
   "id": "3a47cf29",
   "metadata": {},
   "outputs": [
    {
     "data": {
      "application/vnd.microsoft.datawrangler.viewer.v0+json": {
       "columns": [
        {
         "name": "index",
         "rawType": "int64",
         "type": "integer"
        },
        {
         "name": "run_accession",
         "rawType": "object",
         "type": "string"
        }
       ],
       "ref": "9a9136b8-8d1d-4195-a94e-92a68c35d18d",
       "rows": [
        [
         "0",
         "ERR791893"
        ],
        [
         "1",
         "ERR791883"
        ],
        [
         "2",
         "ERR791895"
        ],
        [
         "3",
         "ERR791884"
        ],
        [
         "4",
         "ERR791897"
        ],
        [
         "5",
         "ERR791896"
        ],
        [
         "6",
         "ERR791891"
        ],
        [
         "7",
         "ERR791901"
        ],
        [
         "8",
         "ERR791886"
        ],
        [
         "9",
         "ERR791902"
        ],
        [
         "10",
         "ERR791887"
        ],
        [
         "11",
         "ERR791903"
        ],
        [
         "12",
         "ERR791904"
        ],
        [
         "13",
         "ERR791888"
        ],
        [
         "14",
         "ERR791905"
        ],
        [
         "15",
         "ERR791906"
        ],
        [
         "16",
         "ERR791889"
        ],
        [
         "17",
         "ERR791907"
        ],
        [
         "18",
         "ERR791911"
        ],
        [
         "19",
         "ERR791908"
        ],
        [
         "20",
         "ERR791890"
        ],
        [
         "21",
         "ERR791909"
        ],
        [
         "22",
         "ERR791910"
        ],
        [
         "23",
         "ERR791885"
        ]
       ],
       "shape": {
        "columns": 1,
        "rows": 24
       }
      },
      "text/html": [
       "<div><style>\n",
       ".dataframe > thead > tr,\n",
       ".dataframe > tbody > tr {\n",
       "  text-align: right;\n",
       "  white-space: pre-wrap;\n",
       "}\n",
       "</style>\n",
       "<small>shape: (24, 1)</small><table border=\"1\" class=\"dataframe\"><thead><tr><th>run_accession</th></tr><tr><td>str</td></tr></thead><tbody><tr><td>&quot;ERR791893&quot;</td></tr><tr><td>&quot;ERR791883&quot;</td></tr><tr><td>&quot;ERR791895&quot;</td></tr><tr><td>&quot;ERR791884&quot;</td></tr><tr><td>&quot;ERR791897&quot;</td></tr><tr><td>&hellip;</td></tr><tr><td>&quot;ERR791908&quot;</td></tr><tr><td>&quot;ERR791890&quot;</td></tr><tr><td>&quot;ERR791909&quot;</td></tr><tr><td>&quot;ERR791910&quot;</td></tr><tr><td>&quot;ERR791885&quot;</td></tr></tbody></table></div>"
      ],
      "text/plain": [
       "shape: (24, 1)\n",
       "┌───────────────┐\n",
       "│ run_accession │\n",
       "│ ---           │\n",
       "│ str           │\n",
       "╞═══════════════╡\n",
       "│ ERR791893     │\n",
       "│ ERR791883     │\n",
       "│ ERR791895     │\n",
       "│ ERR791884     │\n",
       "│ ERR791897     │\n",
       "│ …             │\n",
       "│ ERR791908     │\n",
       "│ ERR791890     │\n",
       "│ ERR791909     │\n",
       "│ ERR791910     │\n",
       "│ ERR791885     │\n",
       "└───────────────┘"
      ]
     },
     "execution_count": 149,
     "metadata": {},
     "output_type": "execute_result"
    }
   ],
   "source": [
    "(\n",
    "\tsample_info_matched_ffpe_ff_pat\n",
    "\t.select(\"run_accession\")\n",
    "\t.with_columns([\n",
    "\t\tpl.lit(\"\") + pl.col(\"run_accession\") + pl.lit()\n",
    "\t])\n",
    ")"
   ]
  },
  {
   "cell_type": "code",
   "execution_count": 13,
   "id": "ddc06896",
   "metadata": {},
   "outputs": [
    {
     "data": {
      "application/vnd.microsoft.datawrangler.viewer.v0+json": {
       "columns": [
        {
         "name": "index",
         "rawType": "int64",
         "type": "integer"
        },
        {
         "name": "fastq_ftp",
         "rawType": "object",
         "type": "string"
        }
       ],
       "ref": "6971ee7d-e33e-40ef-98fb-b1b63ebb4aac",
       "rows": [
        [
         "0",
         "ftp://ftp.sra.ebi.ac.uk/vol1/fastq/ERR791/ERR791879/ERR791879_1.fastq.gz"
        ],
        [
         "1",
         "ftp://ftp.sra.ebi.ac.uk/vol1/fastq/ERR791/ERR791879/ERR791879_2.fastq.gz"
        ],
        [
         "2",
         "ftp://ftp.sra.ebi.ac.uk/vol1/fastq/ERR791/ERR791881/ERR791881_1.fastq.gz"
        ],
        [
         "3",
         "ftp://ftp.sra.ebi.ac.uk/vol1/fastq/ERR791/ERR791881/ERR791881_2.fastq.gz"
        ],
        [
         "4",
         "ftp://ftp.sra.ebi.ac.uk/vol1/fastq/ERR791/ERR791882/ERR791882_1.fastq.gz"
        ],
        [
         "5",
         "ftp://ftp.sra.ebi.ac.uk/vol1/fastq/ERR791/ERR791882/ERR791882_2.fastq.gz"
        ],
        [
         "6",
         "ftp://ftp.sra.ebi.ac.uk/vol1/fastq/ERR791/ERR791884/ERR791884_1.fastq.gz"
        ],
        [
         "7",
         "ftp://ftp.sra.ebi.ac.uk/vol1/fastq/ERR791/ERR791884/ERR791884_2.fastq.gz"
        ],
        [
         "8",
         "ftp://ftp.sra.ebi.ac.uk/vol1/fastq/ERR791/ERR791888/ERR791888_1.fastq.gz"
        ],
        [
         "9",
         "ftp://ftp.sra.ebi.ac.uk/vol1/fastq/ERR791/ERR791888/ERR791888_2.fastq.gz"
        ],
        [
         "10",
         "ftp://ftp.sra.ebi.ac.uk/vol1/fastq/ERR791/ERR791890/ERR791890_1.fastq.gz"
        ],
        [
         "11",
         "ftp://ftp.sra.ebi.ac.uk/vol1/fastq/ERR791/ERR791890/ERR791890_2.fastq.gz"
        ],
        [
         "12",
         "ftp://ftp.sra.ebi.ac.uk/vol1/fastq/ERR791/ERR791892/ERR791892_1.fastq.gz"
        ],
        [
         "13",
         "ftp://ftp.sra.ebi.ac.uk/vol1/fastq/ERR791/ERR791892/ERR791892_2.fastq.gz"
        ],
        [
         "14",
         "ftp://ftp.sra.ebi.ac.uk/vol1/fastq/ERR791/ERR791895/ERR791895_1.fastq.gz"
        ],
        [
         "15",
         "ftp://ftp.sra.ebi.ac.uk/vol1/fastq/ERR791/ERR791895/ERR791895_2.fastq.gz"
        ],
        [
         "16",
         "ftp://ftp.sra.ebi.ac.uk/vol1/fastq/ERR791/ERR791898/ERR791898_1.fastq.gz"
        ],
        [
         "17",
         "ftp://ftp.sra.ebi.ac.uk/vol1/fastq/ERR791/ERR791898/ERR791898_2.fastq.gz"
        ],
        [
         "18",
         "ftp://ftp.sra.ebi.ac.uk/vol1/fastq/ERR791/ERR791902/ERR791902_1.fastq.gz"
        ],
        [
         "19",
         "ftp://ftp.sra.ebi.ac.uk/vol1/fastq/ERR791/ERR791902/ERR791902_2.fastq.gz"
        ],
        [
         "20",
         "ftp://ftp.sra.ebi.ac.uk/vol1/fastq/ERR791/ERR791907/ERR791907_1.fastq.gz"
        ],
        [
         "21",
         "ftp://ftp.sra.ebi.ac.uk/vol1/fastq/ERR791/ERR791907/ERR791907_2.fastq.gz"
        ],
        [
         "22",
         "ftp://ftp.sra.ebi.ac.uk/vol1/fastq/ERR791/ERR791908/ERR791908_1.fastq.gz"
        ],
        [
         "23",
         "ftp://ftp.sra.ebi.ac.uk/vol1/fastq/ERR791/ERR791908/ERR791908_2.fastq.gz"
        ],
        [
         "24",
         "ftp://ftp.sra.ebi.ac.uk/vol1/fastq/ERR791/ERR791909/ERR791909_1.fastq.gz"
        ],
        [
         "25",
         "ftp://ftp.sra.ebi.ac.uk/vol1/fastq/ERR791/ERR791909/ERR791909_2.fastq.gz"
        ],
        [
         "26",
         "ftp://ftp.sra.ebi.ac.uk/vol1/fastq/ERR791/ERR791913/ERR791913_1.fastq.gz"
        ],
        [
         "27",
         "ftp://ftp.sra.ebi.ac.uk/vol1/fastq/ERR791/ERR791913/ERR791913_2.fastq.gz"
        ],
        [
         "28",
         "ftp://ftp.sra.ebi.ac.uk/vol1/fastq/ERR791/ERR791914/ERR791914_1.fastq.gz"
        ],
        [
         "29",
         "ftp://ftp.sra.ebi.ac.uk/vol1/fastq/ERR791/ERR791914/ERR791914_2.fastq.gz"
        ],
        [
         "30",
         "ftp://ftp.sra.ebi.ac.uk/vol1/fastq/ERR791/ERR791916/ERR791916_1.fastq.gz"
        ],
        [
         "31",
         "ftp://ftp.sra.ebi.ac.uk/vol1/fastq/ERR791/ERR791916/ERR791916_2.fastq.gz"
        ],
        [
         "32",
         "ftp://ftp.sra.ebi.ac.uk/vol1/fastq/ERR791/ERR791876/ERR791876_1.fastq.gz"
        ],
        [
         "33",
         "ftp://ftp.sra.ebi.ac.uk/vol1/fastq/ERR791/ERR791876/ERR791876_2.fastq.gz"
        ],
        [
         "34",
         "ftp://ftp.sra.ebi.ac.uk/vol1/fastq/ERR791/ERR791878/ERR791878_1.fastq.gz"
        ],
        [
         "35",
         "ftp://ftp.sra.ebi.ac.uk/vol1/fastq/ERR791/ERR791878/ERR791878_2.fastq.gz"
        ],
        [
         "36",
         "ftp://ftp.sra.ebi.ac.uk/vol1/fastq/ERR791/ERR791885/ERR791885_1.fastq.gz"
        ],
        [
         "37",
         "ftp://ftp.sra.ebi.ac.uk/vol1/fastq/ERR791/ERR791885/ERR791885_2.fastq.gz"
        ],
        [
         "38",
         "ftp://ftp.sra.ebi.ac.uk/vol1/fastq/ERR791/ERR791887/ERR791887_1.fastq.gz"
        ],
        [
         "39",
         "ftp://ftp.sra.ebi.ac.uk/vol1/fastq/ERR791/ERR791887/ERR791887_2.fastq.gz"
        ],
        [
         "40",
         "ftp://ftp.sra.ebi.ac.uk/vol1/fastq/ERR791/ERR791889/ERR791889_1.fastq.gz"
        ],
        [
         "41",
         "ftp://ftp.sra.ebi.ac.uk/vol1/fastq/ERR791/ERR791889/ERR791889_2.fastq.gz"
        ],
        [
         "42",
         "ftp://ftp.sra.ebi.ac.uk/vol1/fastq/ERR791/ERR791893/ERR791893_1.fastq.gz"
        ],
        [
         "43",
         "ftp://ftp.sra.ebi.ac.uk/vol1/fastq/ERR791/ERR791893/ERR791893_2.fastq.gz"
        ],
        [
         "44",
         "ftp://ftp.sra.ebi.ac.uk/vol1/fastq/ERR791/ERR791894/ERR791894_1.fastq.gz"
        ],
        [
         "45",
         "ftp://ftp.sra.ebi.ac.uk/vol1/fastq/ERR791/ERR791894/ERR791894_2.fastq.gz"
        ],
        [
         "46",
         "ftp://ftp.sra.ebi.ac.uk/vol1/fastq/ERR791/ERR791896/ERR791896_1.fastq.gz"
        ],
        [
         "47",
         "ftp://ftp.sra.ebi.ac.uk/vol1/fastq/ERR791/ERR791896/ERR791896_2.fastq.gz"
        ],
        [
         "48",
         "ftp://ftp.sra.ebi.ac.uk/vol1/fastq/ERR791/ERR791900/ERR791900_1.fastq.gz"
        ],
        [
         "49",
         "ftp://ftp.sra.ebi.ac.uk/vol1/fastq/ERR791/ERR791900/ERR791900_2.fastq.gz"
        ]
       ],
       "shape": {
        "columns": 1,
        "rows": 86
       }
      },
      "text/html": [
       "<div><style>\n",
       ".dataframe > thead > tr,\n",
       ".dataframe > tbody > tr {\n",
       "  text-align: right;\n",
       "  white-space: pre-wrap;\n",
       "}\n",
       "</style>\n",
       "<small>shape: (86, 1)</small><table border=\"1\" class=\"dataframe\"><thead><tr><th>fastq_ftp</th></tr><tr><td>str</td></tr></thead><tbody><tr><td>&quot;ftp://ftp.sra.ebi.ac.uk/vol1/f…</td></tr><tr><td>&quot;ftp://ftp.sra.ebi.ac.uk/vol1/f…</td></tr><tr><td>&quot;ftp://ftp.sra.ebi.ac.uk/vol1/f…</td></tr><tr><td>&quot;ftp://ftp.sra.ebi.ac.uk/vol1/f…</td></tr><tr><td>&quot;ftp://ftp.sra.ebi.ac.uk/vol1/f…</td></tr><tr><td>&hellip;</td></tr><tr><td>&quot;ftp://ftp.sra.ebi.ac.uk/vol1/f…</td></tr><tr><td>&quot;ftp://ftp.sra.ebi.ac.uk/vol1/f…</td></tr><tr><td>&quot;ftp://ftp.sra.ebi.ac.uk/vol1/f…</td></tr><tr><td>&quot;ftp://ftp.sra.ebi.ac.uk/vol1/f…</td></tr><tr><td>&quot;ftp://ftp.sra.ebi.ac.uk/vol1/f…</td></tr></tbody></table></div>"
      ],
      "text/plain": [
       "shape: (86, 1)\n",
       "┌─────────────────────────────────┐\n",
       "│ fastq_ftp                       │\n",
       "│ ---                             │\n",
       "│ str                             │\n",
       "╞═════════════════════════════════╡\n",
       "│ ftp://ftp.sra.ebi.ac.uk/vol1/f… │\n",
       "│ ftp://ftp.sra.ebi.ac.uk/vol1/f… │\n",
       "│ ftp://ftp.sra.ebi.ac.uk/vol1/f… │\n",
       "│ ftp://ftp.sra.ebi.ac.uk/vol1/f… │\n",
       "│ ftp://ftp.sra.ebi.ac.uk/vol1/f… │\n",
       "│ …                               │\n",
       "│ ftp://ftp.sra.ebi.ac.uk/vol1/f… │\n",
       "│ ftp://ftp.sra.ebi.ac.uk/vol1/f… │\n",
       "│ ftp://ftp.sra.ebi.ac.uk/vol1/f… │\n",
       "│ ftp://ftp.sra.ebi.ac.uk/vol1/f… │\n",
       "│ ftp://ftp.sra.ebi.ac.uk/vol1/f… │\n",
       "└─────────────────────────────────┘"
      ]
     },
     "execution_count": 13,
     "metadata": {},
     "output_type": "execute_result"
    }
   ],
   "source": [
    "fastq_links = (\n",
    "\tsample_info\n",
    " \t.with_columns(pl.col(\"fastq_ftp\").str.split(\";\"))\n",
    "\t.select(\"fastq_ftp\")\n",
    "  \t.explode(\"fastq_ftp\")\n",
    "\t.with_columns([\n",
    "\t\t(pl.lit(\"ftp://\") + pl.col(\"fastq_ftp\")).alias(\"fastq_ftp\")\n",
    "\t])\n",
    ")\n",
    "\n",
    "fastq_links.write_csv(\"fq_ftp_links.txt\", include_header=False, separator=\"\\t\")\n",
    "\n",
    "fastq_links"
   ]
  },
  {
   "cell_type": "code",
   "execution_count": 9,
   "id": "00678f82",
   "metadata": {},
   "outputs": [],
   "source": [
    "wget = [\"#!/bin/bash\"]\n",
    "\n",
    "for link in fastq_links.get_column(\"fastq_ftp\"):\n",
    "    basename = os.path.basename(link)\n",
    "    dir_name = f\"{link.split(\"/\")[-2]}\"\n",
    "    \n",
    "    wget.append(f\"mkdir -p {dir_name} && wget {link} -O {dir_name}/{basename}\")\n"
   ]
  },
  {
   "cell_type": "code",
   "execution_count": 42,
   "id": "22e9f8d2",
   "metadata": {},
   "outputs": [],
   "source": [
    "fastq_get_path = \"../data/fq/fastq_ftp_download.sh\"\n",
    "with open(fastq_get_path, \"w\") as file:\n",
    "    for line in wget:\n",
    "        file.write(f\"{line}\\n\")"
   ]
  }
 ],
 "metadata": {
  "kernelspec": {
   "display_name": "py-env",
   "language": "python",
   "name": "python3"
  },
  "language_info": {
   "codemirror_mode": {
    "name": "ipython",
    "version": 3
   },
   "file_extension": ".py",
   "mimetype": "text/x-python",
   "name": "python",
   "nbconvert_exporter": "python",
   "pygments_lexer": "ipython3",
   "version": "3.13.3"
  }
 },
 "nbformat": 4,
 "nbformat_minor": 5
}
