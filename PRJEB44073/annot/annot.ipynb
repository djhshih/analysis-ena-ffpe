{
 "cells": [
  {
   "cell_type": "code",
   "execution_count": 2,
   "id": "578c0587",
   "metadata": {},
   "outputs": [],
   "source": [
    "import polars as pl\n",
    "import os\n",
    "import glob"
   ]
  },
  {
   "cell_type": "markdown",
   "id": "28afb7cb",
   "metadata": {},
   "source": [
    "## PRJEB44073\n",
    "\n",
    "16 matched fresh frozen and FFPE gastro-oesophageal tumours"
   ]
  },
  {
   "cell_type": "code",
   "execution_count": 3,
   "id": "6a5e9a42",
   "metadata": {},
   "outputs": [
    {
     "data": {
      "application/vnd.microsoft.datawrangler.viewer.v0+json": {
       "columns": [
        {
         "name": "index",
         "rawType": "int64",
         "type": "integer"
        },
        {
         "name": "run_accession",
         "rawType": "object",
         "type": "string"
        },
        {
         "name": "experiment_accession",
         "rawType": "object",
         "type": "string"
        },
        {
         "name": "sample_accession",
         "rawType": "object",
         "type": "string"
        },
        {
         "name": "scientific_name",
         "rawType": "object",
         "type": "string"
        },
        {
         "name": "instrument_model",
         "rawType": "object",
         "type": "string"
        },
        {
         "name": "read_count",
         "rawType": "int64",
         "type": "integer"
        },
        {
         "name": "study_title",
         "rawType": "object",
         "type": "string"
        },
        {
         "name": "experiment_alias",
         "rawType": "object",
         "type": "string"
        },
        {
         "name": "fastq_md5",
         "rawType": "object",
         "type": "string"
        },
        {
         "name": "fastq_ftp",
         "rawType": "object",
         "type": "string"
        },
        {
         "name": "sample_alias",
         "rawType": "object",
         "type": "string"
        }
       ],
       "ref": "3e12e6bd-f0a3-4e3c-b7fa-fa762b8a1e13",
       "rows": [
        [
         "0",
         "ERR5644713",
         "ERX5360213",
         "SAMEA8491803",
         "Homo sapiens",
         "Illumina HiSeq 2500",
         "197028108",
         "The Mutational Concordance of Fixed Formalin Paraffin Embedded and Fresh Frozen Gastro-oesophageal Tumours Using Whole Exome Sequencing",
         "ena-EXPERIMENT-INSTITUTE OF CANCER RESEARCH-31-03-2021-20:57:16:333-3",
         "4bc3952b0a6ddcd6ff25528e6f1ad131;2ed14f727fcba47a3c4bb15d8b7852c9",
         "ftp.sra.ebi.ac.uk/vol1/fastq/ERR564/003/ERR5644713/ERR5644713_1.fastq.gz;ftp.sra.ebi.ac.uk/vol1/fastq/ERR564/003/ERR5644713/ERR5644713_2.fastq.gz",
         "Sample_B83_0003"
        ],
        [
         "1",
         "ERR5644714",
         "ERX5360214",
         "SAMEA8491804",
         "Homo sapiens",
         "Illumina HiSeq 2500",
         "205455448",
         "The Mutational Concordance of Fixed Formalin Paraffin Embedded and Fresh Frozen Gastro-oesophageal Tumours Using Whole Exome Sequencing",
         "ena-EXPERIMENT-INSTITUTE OF CANCER RESEARCH-31-03-2021-20:57:16:333-4",
         "e9d6712ef9790e852de74494aee6acd7;be50f0f8f3368af792dbdedc89cc6baf",
         "ftp.sra.ebi.ac.uk/vol1/fastq/ERR564/004/ERR5644714/ERR5644714_1.fastq.gz;ftp.sra.ebi.ac.uk/vol1/fastq/ERR564/004/ERR5644714/ERR5644714_2.fastq.gz",
         "Sample_B83_0004"
        ],
        [
         "2",
         "ERR5644715",
         "ERX5360215",
         "SAMEA8491805",
         "Homo sapiens",
         "Illumina HiSeq 2500",
         "194014036",
         "The Mutational Concordance of Fixed Formalin Paraffin Embedded and Fresh Frozen Gastro-oesophageal Tumours Using Whole Exome Sequencing",
         "ena-EXPERIMENT-INSTITUTE OF CANCER RESEARCH-31-03-2021-20:57:16:333-5",
         "c169ba74aaa8b52e1ac04563c9526b67;6a62c087571ded1205b7860a96d7f479",
         "ftp.sra.ebi.ac.uk/vol1/fastq/ERR564/005/ERR5644715/ERR5644715_1.fastq.gz;ftp.sra.ebi.ac.uk/vol1/fastq/ERR564/005/ERR5644715/ERR5644715_2.fastq.gz",
         "Sample_B83_0005"
        ],
        [
         "3",
         "ERR5644716",
         "ERX5360216",
         "SAMEA8491806",
         "Homo sapiens",
         "Illumina HiSeq 2500",
         "209619282",
         "The Mutational Concordance of Fixed Formalin Paraffin Embedded and Fresh Frozen Gastro-oesophageal Tumours Using Whole Exome Sequencing",
         "ena-EXPERIMENT-INSTITUTE OF CANCER RESEARCH-31-03-2021-20:57:16:333-6",
         "6ae9d291c4224c88437cfc310f15946c;4f8e480df627a82970404b43b851dee8",
         "ftp.sra.ebi.ac.uk/vol1/fastq/ERR564/006/ERR5644716/ERR5644716_1.fastq.gz;ftp.sra.ebi.ac.uk/vol1/fastq/ERR564/006/ERR5644716/ERR5644716_2.fastq.gz",
         "Sample_B83_0006"
        ],
        [
         "4",
         "ERR5644719",
         "ERX5360219",
         "SAMEA8491809",
         "Homo sapiens",
         "Illumina HiSeq 2500",
         "189055664",
         "The Mutational Concordance of Fixed Formalin Paraffin Embedded and Fresh Frozen Gastro-oesophageal Tumours Using Whole Exome Sequencing",
         "ena-EXPERIMENT-INSTITUTE OF CANCER RESEARCH-31-03-2021-20:57:16:333-9",
         "43132a52abb775a85de6c10706c69971;7c6b67c2b95953fc159e48af7a05e1c7",
         "ftp.sra.ebi.ac.uk/vol1/fastq/ERR564/009/ERR5644719/ERR5644719_1.fastq.gz;ftp.sra.ebi.ac.uk/vol1/fastq/ERR564/009/ERR5644719/ERR5644719_2.fastq.gz",
         "Sample_B83_1009"
        ],
        [
         "5",
         "ERR5644724",
         "ERX5360224",
         "SAMEA8491814",
         "Homo sapiens",
         "Illumina HiSeq 2500",
         "245709320",
         "The Mutational Concordance of Fixed Formalin Paraffin Embedded and Fresh Frozen Gastro-oesophageal Tumours Using Whole Exome Sequencing",
         "ena-EXPERIMENT-INSTITUTE OF CANCER RESEARCH-31-03-2021-20:57:16:333-14",
         "a3fed594661593070605e3b6d90e062b;acc031e5cbaa88fc33cfb353fb89aee0",
         "ftp.sra.ebi.ac.uk/vol1/fastq/ERR564/004/ERR5644724/ERR5644724_1.fastq.gz;ftp.sra.ebi.ac.uk/vol1/fastq/ERR564/004/ERR5644724/ERR5644724_2.fastq.gz",
         "Sample_B83_0014"
        ],
        [
         "6",
         "ERR5644725",
         "ERX5360225",
         "SAMEA8491815",
         "Homo sapiens",
         "Illumina HiSeq 2500",
         "245699032",
         "The Mutational Concordance of Fixed Formalin Paraffin Embedded and Fresh Frozen Gastro-oesophageal Tumours Using Whole Exome Sequencing",
         "ena-EXPERIMENT-INSTITUTE OF CANCER RESEARCH-31-03-2021-20:57:16:333-15",
         "c105134fb477293eaeacd73a23d52831;43b7639d9266b6f90f5252ad6aa7de69",
         "ftp.sra.ebi.ac.uk/vol1/fastq/ERR564/005/ERR5644725/ERR5644725_1.fastq.gz;ftp.sra.ebi.ac.uk/vol1/fastq/ERR564/005/ERR5644725/ERR5644725_2.fastq.gz",
         "Sample_B83_0015"
        ],
        [
         "7",
         "ERR5644729",
         "ERX5360229",
         "SAMEA8491819",
         "Homo sapiens",
         "Illumina HiSeq 2500",
         "173346960",
         "The Mutational Concordance of Fixed Formalin Paraffin Embedded and Fresh Frozen Gastro-oesophageal Tumours Using Whole Exome Sequencing",
         "ena-EXPERIMENT-INSTITUTE OF CANCER RESEARCH-31-03-2021-20:57:16:333-19",
         "1097d51418a9e36c2d87ac18954a2885;c6e71f67371932cac41f5185a5058bb2",
         "ftp.sra.ebi.ac.uk/vol1/fastq/ERR564/009/ERR5644729/ERR5644729_1.fastq.gz;ftp.sra.ebi.ac.uk/vol1/fastq/ERR564/009/ERR5644729/ERR5644729_2.fastq.gz",
         "Sample_B83_0019"
        ],
        [
         "8",
         "ERR5644731",
         "ERX5360231",
         "SAMEA8491821",
         "Homo sapiens",
         "Illumina HiSeq 2500",
         "164321270",
         "The Mutational Concordance of Fixed Formalin Paraffin Embedded and Fresh Frozen Gastro-oesophageal Tumours Using Whole Exome Sequencing",
         "ena-EXPERIMENT-INSTITUTE OF CANCER RESEARCH-31-03-2021-20:57:16:333-21",
         "f415e870e24bf3bb8747260d9e2e85a5;89e25d370ab6310d124950f362a4e067",
         "ftp.sra.ebi.ac.uk/vol1/fastq/ERR564/001/ERR5644731/ERR5644731_1.fastq.gz;ftp.sra.ebi.ac.uk/vol1/fastq/ERR564/001/ERR5644731/ERR5644731_2.fastq.gz",
         "Sample_B83_0021"
        ],
        [
         "9",
         "ERR5644735",
         "ERX5360235",
         "SAMEA8491825",
         "Homo sapiens",
         "Illumina HiSeq 2500",
         "153569762",
         "The Mutational Concordance of Fixed Formalin Paraffin Embedded and Fresh Frozen Gastro-oesophageal Tumours Using Whole Exome Sequencing",
         "ena-EXPERIMENT-INSTITUTE OF CANCER RESEARCH-31-03-2021-20:57:16:333-25",
         "f532d8c6c26b556057e89018c1310f10;5a8a5622765aef1b102cf9a63fed0436",
         "ftp.sra.ebi.ac.uk/vol1/fastq/ERR564/005/ERR5644735/ERR5644735_1.fastq.gz;ftp.sra.ebi.ac.uk/vol1/fastq/ERR564/005/ERR5644735/ERR5644735_2.fastq.gz",
         "Sample_B83_0025"
        ],
        [
         "10",
         "ERR5644739",
         "ERX5360239",
         "SAMEA8491829",
         "Homo sapiens",
         "Illumina HiSeq 2500",
         "141550986",
         "The Mutational Concordance of Fixed Formalin Paraffin Embedded and Fresh Frozen Gastro-oesophageal Tumours Using Whole Exome Sequencing",
         "ena-EXPERIMENT-INSTITUTE OF CANCER RESEARCH-31-03-2021-20:57:16:334-29",
         "da153b0800d8445f5fb125191437e343;4b90eef974a8a90b6d19d30252a05e63",
         "ftp.sra.ebi.ac.uk/vol1/fastq/ERR564/009/ERR5644739/ERR5644739_1.fastq.gz;ftp.sra.ebi.ac.uk/vol1/fastq/ERR564/009/ERR5644739/ERR5644739_2.fastq.gz",
         "Sample_B83_0029"
        ],
        [
         "11",
         "ERR5644741",
         "ERX5360241",
         "SAMEA8491831",
         "Homo sapiens",
         "Illumina HiSeq 2500",
         "184364252",
         "The Mutational Concordance of Fixed Formalin Paraffin Embedded and Fresh Frozen Gastro-oesophageal Tumours Using Whole Exome Sequencing",
         "ena-EXPERIMENT-INSTITUTE OF CANCER RESEARCH-31-03-2021-20:57:16:334-31",
         "d184aa8eb41171e11ccff5945b5e3f67;155757074c74caeca8c499fbcac72fc7",
         "ftp.sra.ebi.ac.uk/vol1/fastq/ERR564/001/ERR5644741/ERR5644741_1.fastq.gz;ftp.sra.ebi.ac.uk/vol1/fastq/ERR564/001/ERR5644741/ERR5644741_2.fastq.gz",
         "Sample_B83_0031"
        ],
        [
         "12",
         "ERR5644711",
         "ERX5360211",
         "SAMEA8491801",
         "Homo sapiens",
         "Illumina HiSeq 2500",
         "178962206",
         "The Mutational Concordance of Fixed Formalin Paraffin Embedded and Fresh Frozen Gastro-oesophageal Tumours Using Whole Exome Sequencing",
         "ena-EXPERIMENT-INSTITUTE OF CANCER RESEARCH-31-03-2021-20:57:16:332-1",
         "4559681ab4e1d008af35ae223d770166;583cd52aa9541ebf031a457a248523ac",
         "ftp.sra.ebi.ac.uk/vol1/fastq/ERR564/001/ERR5644711/ERR5644711_1.fastq.gz;ftp.sra.ebi.ac.uk/vol1/fastq/ERR564/001/ERR5644711/ERR5644711_2.fastq.gz",
         "Sample_B83_0001"
        ],
        [
         "13",
         "ERR5644712",
         "ERX5360212",
         "SAMEA8491802",
         "Homo sapiens",
         "Illumina HiSeq 2500",
         "194893592",
         "The Mutational Concordance of Fixed Formalin Paraffin Embedded and Fresh Frozen Gastro-oesophageal Tumours Using Whole Exome Sequencing",
         "ena-EXPERIMENT-INSTITUTE OF CANCER RESEARCH-31-03-2021-20:57:16:333-2",
         "f6ff8022f22d3384503312d98e4f294d;fbaf339991160dfa3945ca5c639d66fa",
         "ftp.sra.ebi.ac.uk/vol1/fastq/ERR564/002/ERR5644712/ERR5644712_1.fastq.gz;ftp.sra.ebi.ac.uk/vol1/fastq/ERR564/002/ERR5644712/ERR5644712_2.fastq.gz",
         "Sample_B83_0002"
        ],
        [
         "14",
         "ERR5644717",
         "ERX5360217",
         "SAMEA8491807",
         "Homo sapiens",
         "Illumina HiSeq 2500",
         "188757126",
         "The Mutational Concordance of Fixed Formalin Paraffin Embedded and Fresh Frozen Gastro-oesophageal Tumours Using Whole Exome Sequencing",
         "ena-EXPERIMENT-INSTITUTE OF CANCER RESEARCH-31-03-2021-20:57:16:333-7",
         "79c9cf3664db20f221250c14416df17c;00e20792b55bed6eea5001a92ffc6974",
         "ftp.sra.ebi.ac.uk/vol1/fastq/ERR564/007/ERR5644717/ERR5644717_1.fastq.gz;ftp.sra.ebi.ac.uk/vol1/fastq/ERR564/007/ERR5644717/ERR5644717_2.fastq.gz",
         "Sample_B83_0007"
        ],
        [
         "15",
         "ERR5644720",
         "ERX5360220",
         "SAMEA8491810",
         "Homo sapiens",
         "Illumina HiSeq 2500",
         "151661702",
         "The Mutational Concordance of Fixed Formalin Paraffin Embedded and Fresh Frozen Gastro-oesophageal Tumours Using Whole Exome Sequencing",
         "ena-EXPERIMENT-INSTITUTE OF CANCER RESEARCH-31-03-2021-20:57:16:333-10",
         "0b74f2c03d0bc01fa7c8ea9d5b7ff5d8;71e55f53a9cd99ad7cad315748aa846a",
         "ftp.sra.ebi.ac.uk/vol1/fastq/ERR564/000/ERR5644720/ERR5644720_1.fastq.gz;ftp.sra.ebi.ac.uk/vol1/fastq/ERR564/000/ERR5644720/ERR5644720_2.fastq.gz",
         "Sample_B83_0010"
        ],
        [
         "16",
         "ERR5644722",
         "ERX5360222",
         "SAMEA8491812",
         "Homo sapiens",
         "Illumina HiSeq 2500",
         "192343852",
         "The Mutational Concordance of Fixed Formalin Paraffin Embedded and Fresh Frozen Gastro-oesophageal Tumours Using Whole Exome Sequencing",
         "ena-EXPERIMENT-INSTITUTE OF CANCER RESEARCH-31-03-2021-20:57:16:333-12",
         "f33f2dcd00ba1509eb7b83b1211c9318;fa97595459ffa8227a17d176cffc17cb",
         "ftp.sra.ebi.ac.uk/vol1/fastq/ERR564/002/ERR5644722/ERR5644722_1.fastq.gz;ftp.sra.ebi.ac.uk/vol1/fastq/ERR564/002/ERR5644722/ERR5644722_2.fastq.gz",
         "Sample_B83_0012"
        ],
        [
         "17",
         "ERR5644723",
         "ERX5360223",
         "SAMEA8491813",
         "Homo sapiens",
         "Illumina HiSeq 2500",
         "169198036",
         "The Mutational Concordance of Fixed Formalin Paraffin Embedded and Fresh Frozen Gastro-oesophageal Tumours Using Whole Exome Sequencing",
         "ena-EXPERIMENT-INSTITUTE OF CANCER RESEARCH-31-03-2021-20:57:16:333-13",
         "136625649799d49a8bc470a8c857b87e;629d98947c018b929ee17cff0fb37e21",
         "ftp.sra.ebi.ac.uk/vol1/fastq/ERR564/003/ERR5644723/ERR5644723_1.fastq.gz;ftp.sra.ebi.ac.uk/vol1/fastq/ERR564/003/ERR5644723/ERR5644723_2.fastq.gz",
         "Sample_B83_0013"
        ],
        [
         "18",
         "ERR5644726",
         "ERX5360226",
         "SAMEA8491816",
         "Homo sapiens",
         "Illumina HiSeq 2500",
         "267632496",
         "The Mutational Concordance of Fixed Formalin Paraffin Embedded and Fresh Frozen Gastro-oesophageal Tumours Using Whole Exome Sequencing",
         "ena-EXPERIMENT-INSTITUTE OF CANCER RESEARCH-31-03-2021-20:57:16:333-16",
         "cac6ad388460325c2df298ecfb85185e;a0b9c1405ed55cde222f6c83f57c8191",
         "ftp.sra.ebi.ac.uk/vol1/fastq/ERR564/006/ERR5644726/ERR5644726_1.fastq.gz;ftp.sra.ebi.ac.uk/vol1/fastq/ERR564/006/ERR5644726/ERR5644726_2.fastq.gz",
         "Sample_B83_0016"
        ],
        [
         "19",
         "ERR5644730",
         "ERX5360230",
         "SAMEA8491820",
         "Homo sapiens",
         "Illumina HiSeq 2500",
         "181694812",
         "The Mutational Concordance of Fixed Formalin Paraffin Embedded and Fresh Frozen Gastro-oesophageal Tumours Using Whole Exome Sequencing",
         "ena-EXPERIMENT-INSTITUTE OF CANCER RESEARCH-31-03-2021-20:57:16:333-20",
         "4ddeacfaff9a71fa22e5b56f2e1b67ec;cbfb7c32a08fc61fa672da6b3428981d",
         "ftp.sra.ebi.ac.uk/vol1/fastq/ERR564/000/ERR5644730/ERR5644730_1.fastq.gz;ftp.sra.ebi.ac.uk/vol1/fastq/ERR564/000/ERR5644730/ERR5644730_2.fastq.gz",
         "Sample_B83_0020"
        ],
        [
         "20",
         "ERR5644732",
         "ERX5360232",
         "SAMEA8491822",
         "Homo sapiens",
         "Illumina HiSeq 2500",
         "218942056",
         "The Mutational Concordance of Fixed Formalin Paraffin Embedded and Fresh Frozen Gastro-oesophageal Tumours Using Whole Exome Sequencing",
         "ena-EXPERIMENT-INSTITUTE OF CANCER RESEARCH-31-03-2021-20:57:16:333-22",
         "786a4de6096ee4ec5ee4e1f0bcc6bf14;ca3c7d174cf7707915b663fb376ac9c3",
         "ftp.sra.ebi.ac.uk/vol1/fastq/ERR564/002/ERR5644732/ERR5644732_1.fastq.gz;ftp.sra.ebi.ac.uk/vol1/fastq/ERR564/002/ERR5644732/ERR5644732_2.fastq.gz",
         "Sample_B83_0022"
        ],
        [
         "21",
         "ERR5644733",
         "ERX5360233",
         "SAMEA8491823",
         "Homo sapiens",
         "Illumina HiSeq 2500",
         "183681126",
         "The Mutational Concordance of Fixed Formalin Paraffin Embedded and Fresh Frozen Gastro-oesophageal Tumours Using Whole Exome Sequencing",
         "ena-EXPERIMENT-INSTITUTE OF CANCER RESEARCH-31-03-2021-20:57:16:333-23",
         "bf6bc87fb81984358b5badcafd436392;35c51974f76147ec13c8790c756e5c83",
         "ftp.sra.ebi.ac.uk/vol1/fastq/ERR564/003/ERR5644733/ERR5644733_1.fastq.gz;ftp.sra.ebi.ac.uk/vol1/fastq/ERR564/003/ERR5644733/ERR5644733_2.fastq.gz",
         "Sample_B83_0023"
        ],
        [
         "22",
         "ERR5644734",
         "ERX5360234",
         "SAMEA8491824",
         "Homo sapiens",
         "Illumina HiSeq 2500",
         "190073236",
         "The Mutational Concordance of Fixed Formalin Paraffin Embedded and Fresh Frozen Gastro-oesophageal Tumours Using Whole Exome Sequencing",
         "ena-EXPERIMENT-INSTITUTE OF CANCER RESEARCH-31-03-2021-20:57:16:333-24",
         "284e1bcac20542959b62896145115f93;96e63e6065ace898a27fdfd165486566",
         "ftp.sra.ebi.ac.uk/vol1/fastq/ERR564/004/ERR5644734/ERR5644734_1.fastq.gz;ftp.sra.ebi.ac.uk/vol1/fastq/ERR564/004/ERR5644734/ERR5644734_2.fastq.gz",
         "Sample_B83_0024"
        ],
        [
         "23",
         "ERR5644740",
         "ERX5360240",
         "SAMEA8491830",
         "Homo sapiens",
         "Illumina HiSeq 2500",
         "168767714",
         "The Mutational Concordance of Fixed Formalin Paraffin Embedded and Fresh Frozen Gastro-oesophageal Tumours Using Whole Exome Sequencing",
         "ena-EXPERIMENT-INSTITUTE OF CANCER RESEARCH-31-03-2021-20:57:16:334-30",
         "6359af5347d2d0d3319ea479f330d820;f2dc371108f921012bc414f211541cdc",
         "ftp.sra.ebi.ac.uk/vol1/fastq/ERR564/000/ERR5644740/ERR5644740_1.fastq.gz;ftp.sra.ebi.ac.uk/vol1/fastq/ERR564/000/ERR5644740/ERR5644740_2.fastq.gz",
         "Sample_B83_0030"
        ],
        [
         "24",
         "ERR5644742",
         "ERX5360242",
         "SAMEA8491832",
         "Homo sapiens",
         "Illumina HiSeq 2500",
         "181114018",
         "The Mutational Concordance of Fixed Formalin Paraffin Embedded and Fresh Frozen Gastro-oesophageal Tumours Using Whole Exome Sequencing",
         "ena-EXPERIMENT-INSTITUTE OF CANCER RESEARCH-31-03-2021-20:57:16:334-32",
         "9d9ef7436ae16750d88672c76e0183f2;c2eef1e88ad5b40d4645e85de4feeb2c",
         "ftp.sra.ebi.ac.uk/vol1/fastq/ERR564/002/ERR5644742/ERR5644742_1.fastq.gz;ftp.sra.ebi.ac.uk/vol1/fastq/ERR564/002/ERR5644742/ERR5644742_2.fastq.gz",
         "Sample_B83_0032"
        ],
        [
         "25",
         "ERR5644718",
         "ERX5360218",
         "SAMEA8491808",
         "Homo sapiens",
         "Illumina HiSeq 2500",
         "182798200",
         "The Mutational Concordance of Fixed Formalin Paraffin Embedded and Fresh Frozen Gastro-oesophageal Tumours Using Whole Exome Sequencing",
         "ena-EXPERIMENT-INSTITUTE OF CANCER RESEARCH-31-03-2021-20:57:16:333-8",
         "23a4ff2d260299051bfef70c9c6726b4;ad1a14f47cd714a0717b824af9b742a7",
         "ftp.sra.ebi.ac.uk/vol1/fastq/ERR564/008/ERR5644718/ERR5644718_1.fastq.gz;ftp.sra.ebi.ac.uk/vol1/fastq/ERR564/008/ERR5644718/ERR5644718_2.fastq.gz",
         "Sample_B83_0008"
        ],
        [
         "26",
         "ERR5644721",
         "ERX5360221",
         "SAMEA8491811",
         "Homo sapiens",
         "Illumina HiSeq 2500",
         "225636096",
         "The Mutational Concordance of Fixed Formalin Paraffin Embedded and Fresh Frozen Gastro-oesophageal Tumours Using Whole Exome Sequencing",
         "ena-EXPERIMENT-INSTITUTE OF CANCER RESEARCH-31-03-2021-20:57:16:333-11",
         "98aca5d94d0e0657c75e614a8b437a7e;b6162ee34f35f1c0717733b28a62f61c",
         "ftp.sra.ebi.ac.uk/vol1/fastq/ERR564/001/ERR5644721/ERR5644721_1.fastq.gz;ftp.sra.ebi.ac.uk/vol1/fastq/ERR564/001/ERR5644721/ERR5644721_2.fastq.gz",
         "Sample_B83_0011"
        ],
        [
         "27",
         "ERR5644727",
         "ERX5360227",
         "SAMEA8491817",
         "Homo sapiens",
         "Illumina HiSeq 2500",
         "189259720",
         "The Mutational Concordance of Fixed Formalin Paraffin Embedded and Fresh Frozen Gastro-oesophageal Tumours Using Whole Exome Sequencing",
         "ena-EXPERIMENT-INSTITUTE OF CANCER RESEARCH-31-03-2021-20:57:16:333-17",
         "a51b91be354467185ac7c977606fb535;86d3842dad54abe9de689859af5bed89",
         "ftp.sra.ebi.ac.uk/vol1/fastq/ERR564/007/ERR5644727/ERR5644727_1.fastq.gz;ftp.sra.ebi.ac.uk/vol1/fastq/ERR564/007/ERR5644727/ERR5644727_2.fastq.gz",
         "Sample_B83_0017"
        ],
        [
         "28",
         "ERR5644728",
         "ERX5360228",
         "SAMEA8491818",
         "Homo sapiens",
         "Illumina HiSeq 2500",
         "176384408",
         "The Mutational Concordance of Fixed Formalin Paraffin Embedded and Fresh Frozen Gastro-oesophageal Tumours Using Whole Exome Sequencing",
         "ena-EXPERIMENT-INSTITUTE OF CANCER RESEARCH-31-03-2021-20:57:16:333-18",
         "6e3cc0365d7f4f78dbacc68774bd4fe8;ab1cc85c7b42b8bc457416de4efc1ab5",
         "ftp.sra.ebi.ac.uk/vol1/fastq/ERR564/008/ERR5644728/ERR5644728_1.fastq.gz;ftp.sra.ebi.ac.uk/vol1/fastq/ERR564/008/ERR5644728/ERR5644728_2.fastq.gz",
         "Sample_B83_0018"
        ],
        [
         "29",
         "ERR5644736",
         "ERX5360236",
         "SAMEA8491826",
         "Homo sapiens",
         "Illumina HiSeq 2500",
         "193571786",
         "The Mutational Concordance of Fixed Formalin Paraffin Embedded and Fresh Frozen Gastro-oesophageal Tumours Using Whole Exome Sequencing",
         "ena-EXPERIMENT-INSTITUTE OF CANCER RESEARCH-31-03-2021-20:57:16:333-26",
         "961e94e9c4c0fb8aabe17f0b79c57a5f;7f13f209337b534e6daa585a158dce71",
         "ftp.sra.ebi.ac.uk/vol1/fastq/ERR564/006/ERR5644736/ERR5644736_1.fastq.gz;ftp.sra.ebi.ac.uk/vol1/fastq/ERR564/006/ERR5644736/ERR5644736_2.fastq.gz",
         "Sample_B83_0026"
        ],
        [
         "30",
         "ERR5644737",
         "ERX5360237",
         "SAMEA8491827",
         "Homo sapiens",
         "Illumina HiSeq 2500",
         "183640672",
         "The Mutational Concordance of Fixed Formalin Paraffin Embedded and Fresh Frozen Gastro-oesophageal Tumours Using Whole Exome Sequencing",
         "ena-EXPERIMENT-INSTITUTE OF CANCER RESEARCH-31-03-2021-20:57:16:333-27",
         "07a54b4c2712c5cb3a01d472e651bbc9;c792f98e366f5e3499b9c78c69b2572a",
         "ftp.sra.ebi.ac.uk/vol1/fastq/ERR564/007/ERR5644737/ERR5644737_1.fastq.gz;ftp.sra.ebi.ac.uk/vol1/fastq/ERR564/007/ERR5644737/ERR5644737_2.fastq.gz",
         "Sample_B83_0027"
        ],
        [
         "31",
         "ERR5644738",
         "ERX5360238",
         "SAMEA8491828",
         "Homo sapiens",
         "Illumina HiSeq 2500",
         "145512406",
         "The Mutational Concordance of Fixed Formalin Paraffin Embedded and Fresh Frozen Gastro-oesophageal Tumours Using Whole Exome Sequencing",
         "ena-EXPERIMENT-INSTITUTE OF CANCER RESEARCH-31-03-2021-20:57:16:334-28",
         "d3a4d346d24df0280527718bbbe043ae;807f0201d9c4c134e3a0c7e8c8f6cd88",
         "ftp.sra.ebi.ac.uk/vol1/fastq/ERR564/008/ERR5644738/ERR5644738_1.fastq.gz;ftp.sra.ebi.ac.uk/vol1/fastq/ERR564/008/ERR5644738/ERR5644738_2.fastq.gz",
         "Sample_B83_0028"
        ]
       ],
       "shape": {
        "columns": 11,
        "rows": 32
       }
      },
      "text/html": [
       "<div><style>\n",
       ".dataframe > thead > tr,\n",
       ".dataframe > tbody > tr {\n",
       "  text-align: right;\n",
       "  white-space: pre-wrap;\n",
       "}\n",
       "</style>\n",
       "<small>shape: (32, 11)</small><table border=\"1\" class=\"dataframe\"><thead><tr><th>run_accession</th><th>experiment_accession</th><th>sample_accession</th><th>scientific_name</th><th>instrument_model</th><th>read_count</th><th>study_title</th><th>experiment_alias</th><th>fastq_md5</th><th>fastq_ftp</th><th>sample_alias</th></tr><tr><td>str</td><td>str</td><td>str</td><td>str</td><td>str</td><td>i64</td><td>str</td><td>str</td><td>str</td><td>str</td><td>str</td></tr></thead><tbody><tr><td>&quot;ERR5644713&quot;</td><td>&quot;ERX5360213&quot;</td><td>&quot;SAMEA8491803&quot;</td><td>&quot;Homo sapiens&quot;</td><td>&quot;Illumina HiSeq 2500&quot;</td><td>197028108</td><td>&quot;The Mutational Concordance of …</td><td>&quot;ena-EXPERIMENT-INSTITUTE OF CA…</td><td>&quot;4bc3952b0a6ddcd6ff25528e6f1ad1…</td><td>&quot;ftp.sra.ebi.ac.uk/vol1/fastq/E…</td><td>&quot;Sample_B83_0003&quot;</td></tr><tr><td>&quot;ERR5644714&quot;</td><td>&quot;ERX5360214&quot;</td><td>&quot;SAMEA8491804&quot;</td><td>&quot;Homo sapiens&quot;</td><td>&quot;Illumina HiSeq 2500&quot;</td><td>205455448</td><td>&quot;The Mutational Concordance of …</td><td>&quot;ena-EXPERIMENT-INSTITUTE OF CA…</td><td>&quot;e9d6712ef9790e852de74494aee6ac…</td><td>&quot;ftp.sra.ebi.ac.uk/vol1/fastq/E…</td><td>&quot;Sample_B83_0004&quot;</td></tr><tr><td>&quot;ERR5644715&quot;</td><td>&quot;ERX5360215&quot;</td><td>&quot;SAMEA8491805&quot;</td><td>&quot;Homo sapiens&quot;</td><td>&quot;Illumina HiSeq 2500&quot;</td><td>194014036</td><td>&quot;The Mutational Concordance of …</td><td>&quot;ena-EXPERIMENT-INSTITUTE OF CA…</td><td>&quot;c169ba74aaa8b52e1ac04563c9526b…</td><td>&quot;ftp.sra.ebi.ac.uk/vol1/fastq/E…</td><td>&quot;Sample_B83_0005&quot;</td></tr><tr><td>&quot;ERR5644716&quot;</td><td>&quot;ERX5360216&quot;</td><td>&quot;SAMEA8491806&quot;</td><td>&quot;Homo sapiens&quot;</td><td>&quot;Illumina HiSeq 2500&quot;</td><td>209619282</td><td>&quot;The Mutational Concordance of …</td><td>&quot;ena-EXPERIMENT-INSTITUTE OF CA…</td><td>&quot;6ae9d291c4224c88437cfc310f1594…</td><td>&quot;ftp.sra.ebi.ac.uk/vol1/fastq/E…</td><td>&quot;Sample_B83_0006&quot;</td></tr><tr><td>&quot;ERR5644719&quot;</td><td>&quot;ERX5360219&quot;</td><td>&quot;SAMEA8491809&quot;</td><td>&quot;Homo sapiens&quot;</td><td>&quot;Illumina HiSeq 2500&quot;</td><td>189055664</td><td>&quot;The Mutational Concordance of …</td><td>&quot;ena-EXPERIMENT-INSTITUTE OF CA…</td><td>&quot;43132a52abb775a85de6c10706c699…</td><td>&quot;ftp.sra.ebi.ac.uk/vol1/fastq/E…</td><td>&quot;Sample_B83_1009&quot;</td></tr><tr><td>&hellip;</td><td>&hellip;</td><td>&hellip;</td><td>&hellip;</td><td>&hellip;</td><td>&hellip;</td><td>&hellip;</td><td>&hellip;</td><td>&hellip;</td><td>&hellip;</td><td>&hellip;</td></tr><tr><td>&quot;ERR5644727&quot;</td><td>&quot;ERX5360227&quot;</td><td>&quot;SAMEA8491817&quot;</td><td>&quot;Homo sapiens&quot;</td><td>&quot;Illumina HiSeq 2500&quot;</td><td>189259720</td><td>&quot;The Mutational Concordance of …</td><td>&quot;ena-EXPERIMENT-INSTITUTE OF CA…</td><td>&quot;a51b91be354467185ac7c977606fb5…</td><td>&quot;ftp.sra.ebi.ac.uk/vol1/fastq/E…</td><td>&quot;Sample_B83_0017&quot;</td></tr><tr><td>&quot;ERR5644728&quot;</td><td>&quot;ERX5360228&quot;</td><td>&quot;SAMEA8491818&quot;</td><td>&quot;Homo sapiens&quot;</td><td>&quot;Illumina HiSeq 2500&quot;</td><td>176384408</td><td>&quot;The Mutational Concordance of …</td><td>&quot;ena-EXPERIMENT-INSTITUTE OF CA…</td><td>&quot;6e3cc0365d7f4f78dbacc68774bd4f…</td><td>&quot;ftp.sra.ebi.ac.uk/vol1/fastq/E…</td><td>&quot;Sample_B83_0018&quot;</td></tr><tr><td>&quot;ERR5644736&quot;</td><td>&quot;ERX5360236&quot;</td><td>&quot;SAMEA8491826&quot;</td><td>&quot;Homo sapiens&quot;</td><td>&quot;Illumina HiSeq 2500&quot;</td><td>193571786</td><td>&quot;The Mutational Concordance of …</td><td>&quot;ena-EXPERIMENT-INSTITUTE OF CA…</td><td>&quot;961e94e9c4c0fb8aabe17f0b79c57a…</td><td>&quot;ftp.sra.ebi.ac.uk/vol1/fastq/E…</td><td>&quot;Sample_B83_0026&quot;</td></tr><tr><td>&quot;ERR5644737&quot;</td><td>&quot;ERX5360237&quot;</td><td>&quot;SAMEA8491827&quot;</td><td>&quot;Homo sapiens&quot;</td><td>&quot;Illumina HiSeq 2500&quot;</td><td>183640672</td><td>&quot;The Mutational Concordance of …</td><td>&quot;ena-EXPERIMENT-INSTITUTE OF CA…</td><td>&quot;07a54b4c2712c5cb3a01d472e651bb…</td><td>&quot;ftp.sra.ebi.ac.uk/vol1/fastq/E…</td><td>&quot;Sample_B83_0027&quot;</td></tr><tr><td>&quot;ERR5644738&quot;</td><td>&quot;ERX5360238&quot;</td><td>&quot;SAMEA8491828&quot;</td><td>&quot;Homo sapiens&quot;</td><td>&quot;Illumina HiSeq 2500&quot;</td><td>145512406</td><td>&quot;The Mutational Concordance of …</td><td>&quot;ena-EXPERIMENT-INSTITUTE OF CA…</td><td>&quot;d3a4d346d24df0280527718bbbe043…</td><td>&quot;ftp.sra.ebi.ac.uk/vol1/fastq/E…</td><td>&quot;Sample_B83_0028&quot;</td></tr></tbody></table></div>"
      ],
      "text/plain": [
       "shape: (32, 11)\n",
       "┌───────────┬───────────┬───────────┬───────────┬───┬───────────┬───────────┬───────────┬──────────┐\n",
       "│ run_acces ┆ experimen ┆ sample_ac ┆ scientifi ┆ … ┆ experimen ┆ fastq_md5 ┆ fastq_ftp ┆ sample_a │\n",
       "│ sion      ┆ t_accessi ┆ cession   ┆ c_name    ┆   ┆ t_alias   ┆ ---       ┆ ---       ┆ lias     │\n",
       "│ ---       ┆ on        ┆ ---       ┆ ---       ┆   ┆ ---       ┆ str       ┆ str       ┆ ---      │\n",
       "│ str       ┆ ---       ┆ str       ┆ str       ┆   ┆ str       ┆           ┆           ┆ str      │\n",
       "│           ┆ str       ┆           ┆           ┆   ┆           ┆           ┆           ┆          │\n",
       "╞═══════════╪═══════════╪═══════════╪═══════════╪═══╪═══════════╪═══════════╪═══════════╪══════════╡\n",
       "│ ERR564471 ┆ ERX536021 ┆ SAMEA8491 ┆ Homo      ┆ … ┆ ena-EXPER ┆ 4bc3952b0 ┆ ftp.sra.e ┆ Sample_B │\n",
       "│ 3         ┆ 3         ┆ 803       ┆ sapiens   ┆   ┆ IMENT-INS ┆ a6ddcd6ff ┆ bi.ac.uk/ ┆ 83_0003  │\n",
       "│           ┆           ┆           ┆           ┆   ┆ TITUTE OF ┆ 25528e6f1 ┆ vol1/fast ┆          │\n",
       "│           ┆           ┆           ┆           ┆   ┆ CA…       ┆ ad1…      ┆ q/E…      ┆          │\n",
       "│ ERR564471 ┆ ERX536021 ┆ SAMEA8491 ┆ Homo      ┆ … ┆ ena-EXPER ┆ e9d6712ef ┆ ftp.sra.e ┆ Sample_B │\n",
       "│ 4         ┆ 4         ┆ 804       ┆ sapiens   ┆   ┆ IMENT-INS ┆ 9790e852d ┆ bi.ac.uk/ ┆ 83_0004  │\n",
       "│           ┆           ┆           ┆           ┆   ┆ TITUTE OF ┆ e74494aee ┆ vol1/fast ┆          │\n",
       "│           ┆           ┆           ┆           ┆   ┆ CA…       ┆ 6ac…      ┆ q/E…      ┆          │\n",
       "│ ERR564471 ┆ ERX536021 ┆ SAMEA8491 ┆ Homo      ┆ … ┆ ena-EXPER ┆ c169ba74a ┆ ftp.sra.e ┆ Sample_B │\n",
       "│ 5         ┆ 5         ┆ 805       ┆ sapiens   ┆   ┆ IMENT-INS ┆ aa8b52e1a ┆ bi.ac.uk/ ┆ 83_0005  │\n",
       "│           ┆           ┆           ┆           ┆   ┆ TITUTE OF ┆ c04563c95 ┆ vol1/fast ┆          │\n",
       "│           ┆           ┆           ┆           ┆   ┆ CA…       ┆ 26b…      ┆ q/E…      ┆          │\n",
       "│ ERR564471 ┆ ERX536021 ┆ SAMEA8491 ┆ Homo      ┆ … ┆ ena-EXPER ┆ 6ae9d291c ┆ ftp.sra.e ┆ Sample_B │\n",
       "│ 6         ┆ 6         ┆ 806       ┆ sapiens   ┆   ┆ IMENT-INS ┆ 4224c8843 ┆ bi.ac.uk/ ┆ 83_0006  │\n",
       "│           ┆           ┆           ┆           ┆   ┆ TITUTE OF ┆ 7cfc310f1 ┆ vol1/fast ┆          │\n",
       "│           ┆           ┆           ┆           ┆   ┆ CA…       ┆ 594…      ┆ q/E…      ┆          │\n",
       "│ ERR564471 ┆ ERX536021 ┆ SAMEA8491 ┆ Homo      ┆ … ┆ ena-EXPER ┆ 43132a52a ┆ ftp.sra.e ┆ Sample_B │\n",
       "│ 9         ┆ 9         ┆ 809       ┆ sapiens   ┆   ┆ IMENT-INS ┆ bb775a85d ┆ bi.ac.uk/ ┆ 83_1009  │\n",
       "│           ┆           ┆           ┆           ┆   ┆ TITUTE OF ┆ e6c10706c ┆ vol1/fast ┆          │\n",
       "│           ┆           ┆           ┆           ┆   ┆ CA…       ┆ 699…      ┆ q/E…      ┆          │\n",
       "│ …         ┆ …         ┆ …         ┆ …         ┆ … ┆ …         ┆ …         ┆ …         ┆ …        │\n",
       "│ ERR564472 ┆ ERX536022 ┆ SAMEA8491 ┆ Homo      ┆ … ┆ ena-EXPER ┆ a51b91be3 ┆ ftp.sra.e ┆ Sample_B │\n",
       "│ 7         ┆ 7         ┆ 817       ┆ sapiens   ┆   ┆ IMENT-INS ┆ 54467185a ┆ bi.ac.uk/ ┆ 83_0017  │\n",
       "│           ┆           ┆           ┆           ┆   ┆ TITUTE OF ┆ c7c977606 ┆ vol1/fast ┆          │\n",
       "│           ┆           ┆           ┆           ┆   ┆ CA…       ┆ fb5…      ┆ q/E…      ┆          │\n",
       "│ ERR564472 ┆ ERX536022 ┆ SAMEA8491 ┆ Homo      ┆ … ┆ ena-EXPER ┆ 6e3cc0365 ┆ ftp.sra.e ┆ Sample_B │\n",
       "│ 8         ┆ 8         ┆ 818       ┆ sapiens   ┆   ┆ IMENT-INS ┆ d7f4f78db ┆ bi.ac.uk/ ┆ 83_0018  │\n",
       "│           ┆           ┆           ┆           ┆   ┆ TITUTE OF ┆ acc68774b ┆ vol1/fast ┆          │\n",
       "│           ┆           ┆           ┆           ┆   ┆ CA…       ┆ d4f…      ┆ q/E…      ┆          │\n",
       "│ ERR564473 ┆ ERX536023 ┆ SAMEA8491 ┆ Homo      ┆ … ┆ ena-EXPER ┆ 961e94e9c ┆ ftp.sra.e ┆ Sample_B │\n",
       "│ 6         ┆ 6         ┆ 826       ┆ sapiens   ┆   ┆ IMENT-INS ┆ 4c0fb8aab ┆ bi.ac.uk/ ┆ 83_0026  │\n",
       "│           ┆           ┆           ┆           ┆   ┆ TITUTE OF ┆ e17f0b79c ┆ vol1/fast ┆          │\n",
       "│           ┆           ┆           ┆           ┆   ┆ CA…       ┆ 57a…      ┆ q/E…      ┆          │\n",
       "│ ERR564473 ┆ ERX536023 ┆ SAMEA8491 ┆ Homo      ┆ … ┆ ena-EXPER ┆ 07a54b4c2 ┆ ftp.sra.e ┆ Sample_B │\n",
       "│ 7         ┆ 7         ┆ 827       ┆ sapiens   ┆   ┆ IMENT-INS ┆ 712c5cb3a ┆ bi.ac.uk/ ┆ 83_0027  │\n",
       "│           ┆           ┆           ┆           ┆   ┆ TITUTE OF ┆ 01d472e65 ┆ vol1/fast ┆          │\n",
       "│           ┆           ┆           ┆           ┆   ┆ CA…       ┆ 1bb…      ┆ q/E…      ┆          │\n",
       "│ ERR564473 ┆ ERX536023 ┆ SAMEA8491 ┆ Homo      ┆ … ┆ ena-EXPER ┆ d3a4d346d ┆ ftp.sra.e ┆ Sample_B │\n",
       "│ 8         ┆ 8         ┆ 828       ┆ sapiens   ┆   ┆ IMENT-INS ┆ 24df02805 ┆ bi.ac.uk/ ┆ 83_0028  │\n",
       "│           ┆           ┆           ┆           ┆   ┆ TITUTE OF ┆ 27718bbbe ┆ vol1/fast ┆          │\n",
       "│           ┆           ┆           ┆           ┆   ┆ CA…       ┆ 043…      ┆ q/E…      ┆          │\n",
       "└───────────┴───────────┴───────────┴───────────┴───┴───────────┴───────────┴───────────┴──────────┘"
      ]
     },
     "execution_count": 3,
     "metadata": {},
     "output_type": "execute_result"
    }
   ],
   "source": [
    "sample_info = pl.read_csv(\"sample-info_stage0.tsv\", separator=\"\\t\")\n",
    "sample_info"
   ]
  },
  {
   "cell_type": "code",
   "execution_count": 6,
   "id": "2349966c",
   "metadata": {},
   "outputs": [],
   "source": [
    "new_sample_info = (\n",
    "\tsample_info\n",
    "\t# .with_columns([\n",
    "\t# \tpl.col(\"sample_alias\").str.replace(\"BGI-FROZ\", \"\").str.replace(\"BGI-FFPE\", \"\").cast(int).alias(\"sample_number\"),\n",
    "\t# \tpl.col(\"sample_alias\").str.replace(\"BGI-\", \"\").str.replace(r\"\\d+$\", \"\").alias(\"sample_type\")\n",
    "\t# ])\n",
    "\t.sort(\"sample_alias\")\n",
    "\t.select(['study_title','run_accession','experiment_accession','sample_accession','scientific_name','sample_alias','instrument_model','fastq_md5','fastq_ftp'])\n",
    ")\n",
    "\n",
    "new_sample_info.write_csv(\"sample-info_stage1.tsv\", separator=\"\\t\")"
   ]
  },
  {
   "cell_type": "code",
   "execution_count": 12,
   "id": "35139651",
   "metadata": {},
   "outputs": [
    {
     "data": {
      "application/vnd.microsoft.datawrangler.viewer.v0+json": {
       "columns": [
        {
         "name": "index",
         "rawType": "int64",
         "type": "integer"
        },
        {
         "name": "study_title",
         "rawType": "object",
         "type": "string"
        },
        {
         "name": "run_accession",
         "rawType": "object",
         "type": "string"
        },
        {
         "name": "experiment_accession",
         "rawType": "object",
         "type": "string"
        },
        {
         "name": "sample_accession",
         "rawType": "object",
         "type": "string"
        },
        {
         "name": "scientific_name",
         "rawType": "object",
         "type": "string"
        },
        {
         "name": "sample_alias",
         "rawType": "object",
         "type": "string"
        },
        {
         "name": "instrument_model",
         "rawType": "object",
         "type": "string"
        },
        {
         "name": "fastq_md5",
         "rawType": "object",
         "type": "string"
        },
        {
         "name": "fastq_ftp",
         "rawType": "object",
         "type": "string"
        }
       ],
       "ref": "7ef71533-e014-4c55-81d9-657ba199c5ab",
       "rows": [
        [
         "0",
         "The Mutational Concordance of Fixed Formalin Paraffin Embedded and Fresh Frozen Gastro-oesophageal Tumours Using Whole Exome Sequencing",
         "ERR5644711",
         "ERX5360211",
         "SAMEA8491801",
         "Homo sapiens",
         "Sample_B83_0001",
         "Illumina HiSeq 2500",
         "4559681ab4e1d008af35ae223d770166;583cd52aa9541ebf031a457a248523ac",
         "ftp.sra.ebi.ac.uk/vol1/fastq/ERR564/001/ERR5644711/ERR5644711_1.fastq.gz;ftp.sra.ebi.ac.uk/vol1/fastq/ERR564/001/ERR5644711/ERR5644711_2.fastq.gz"
        ],
        [
         "1",
         "The Mutational Concordance of Fixed Formalin Paraffin Embedded and Fresh Frozen Gastro-oesophageal Tumours Using Whole Exome Sequencing",
         "ERR5644712",
         "ERX5360212",
         "SAMEA8491802",
         "Homo sapiens",
         "Sample_B83_0002",
         "Illumina HiSeq 2500",
         "f6ff8022f22d3384503312d98e4f294d;fbaf339991160dfa3945ca5c639d66fa",
         "ftp.sra.ebi.ac.uk/vol1/fastq/ERR564/002/ERR5644712/ERR5644712_1.fastq.gz;ftp.sra.ebi.ac.uk/vol1/fastq/ERR564/002/ERR5644712/ERR5644712_2.fastq.gz"
        ],
        [
         "2",
         "The Mutational Concordance of Fixed Formalin Paraffin Embedded and Fresh Frozen Gastro-oesophageal Tumours Using Whole Exome Sequencing",
         "ERR5644713",
         "ERX5360213",
         "SAMEA8491803",
         "Homo sapiens",
         "Sample_B83_0003",
         "Illumina HiSeq 2500",
         "4bc3952b0a6ddcd6ff25528e6f1ad131;2ed14f727fcba47a3c4bb15d8b7852c9",
         "ftp.sra.ebi.ac.uk/vol1/fastq/ERR564/003/ERR5644713/ERR5644713_1.fastq.gz;ftp.sra.ebi.ac.uk/vol1/fastq/ERR564/003/ERR5644713/ERR5644713_2.fastq.gz"
        ],
        [
         "3",
         "The Mutational Concordance of Fixed Formalin Paraffin Embedded and Fresh Frozen Gastro-oesophageal Tumours Using Whole Exome Sequencing",
         "ERR5644714",
         "ERX5360214",
         "SAMEA8491804",
         "Homo sapiens",
         "Sample_B83_0004",
         "Illumina HiSeq 2500",
         "e9d6712ef9790e852de74494aee6acd7;be50f0f8f3368af792dbdedc89cc6baf",
         "ftp.sra.ebi.ac.uk/vol1/fastq/ERR564/004/ERR5644714/ERR5644714_1.fastq.gz;ftp.sra.ebi.ac.uk/vol1/fastq/ERR564/004/ERR5644714/ERR5644714_2.fastq.gz"
        ],
        [
         "4",
         "The Mutational Concordance of Fixed Formalin Paraffin Embedded and Fresh Frozen Gastro-oesophageal Tumours Using Whole Exome Sequencing",
         "ERR5644715",
         "ERX5360215",
         "SAMEA8491805",
         "Homo sapiens",
         "Sample_B83_0005",
         "Illumina HiSeq 2500",
         "c169ba74aaa8b52e1ac04563c9526b67;6a62c087571ded1205b7860a96d7f479",
         "ftp.sra.ebi.ac.uk/vol1/fastq/ERR564/005/ERR5644715/ERR5644715_1.fastq.gz;ftp.sra.ebi.ac.uk/vol1/fastq/ERR564/005/ERR5644715/ERR5644715_2.fastq.gz"
        ],
        [
         "5",
         "The Mutational Concordance of Fixed Formalin Paraffin Embedded and Fresh Frozen Gastro-oesophageal Tumours Using Whole Exome Sequencing",
         "ERR5644716",
         "ERX5360216",
         "SAMEA8491806",
         "Homo sapiens",
         "Sample_B83_0006",
         "Illumina HiSeq 2500",
         "6ae9d291c4224c88437cfc310f15946c;4f8e480df627a82970404b43b851dee8",
         "ftp.sra.ebi.ac.uk/vol1/fastq/ERR564/006/ERR5644716/ERR5644716_1.fastq.gz;ftp.sra.ebi.ac.uk/vol1/fastq/ERR564/006/ERR5644716/ERR5644716_2.fastq.gz"
        ],
        [
         "6",
         "The Mutational Concordance of Fixed Formalin Paraffin Embedded and Fresh Frozen Gastro-oesophageal Tumours Using Whole Exome Sequencing",
         "ERR5644717",
         "ERX5360217",
         "SAMEA8491807",
         "Homo sapiens",
         "Sample_B83_0007",
         "Illumina HiSeq 2500",
         "79c9cf3664db20f221250c14416df17c;00e20792b55bed6eea5001a92ffc6974",
         "ftp.sra.ebi.ac.uk/vol1/fastq/ERR564/007/ERR5644717/ERR5644717_1.fastq.gz;ftp.sra.ebi.ac.uk/vol1/fastq/ERR564/007/ERR5644717/ERR5644717_2.fastq.gz"
        ],
        [
         "7",
         "The Mutational Concordance of Fixed Formalin Paraffin Embedded and Fresh Frozen Gastro-oesophageal Tumours Using Whole Exome Sequencing",
         "ERR5644718",
         "ERX5360218",
         "SAMEA8491808",
         "Homo sapiens",
         "Sample_B83_0008",
         "Illumina HiSeq 2500",
         "23a4ff2d260299051bfef70c9c6726b4;ad1a14f47cd714a0717b824af9b742a7",
         "ftp.sra.ebi.ac.uk/vol1/fastq/ERR564/008/ERR5644718/ERR5644718_1.fastq.gz;ftp.sra.ebi.ac.uk/vol1/fastq/ERR564/008/ERR5644718/ERR5644718_2.fastq.gz"
        ],
        [
         "8",
         "The Mutational Concordance of Fixed Formalin Paraffin Embedded and Fresh Frozen Gastro-oesophageal Tumours Using Whole Exome Sequencing",
         "ERR5644720",
         "ERX5360220",
         "SAMEA8491810",
         "Homo sapiens",
         "Sample_B83_0010",
         "Illumina HiSeq 2500",
         "0b74f2c03d0bc01fa7c8ea9d5b7ff5d8;71e55f53a9cd99ad7cad315748aa846a",
         "ftp.sra.ebi.ac.uk/vol1/fastq/ERR564/000/ERR5644720/ERR5644720_1.fastq.gz;ftp.sra.ebi.ac.uk/vol1/fastq/ERR564/000/ERR5644720/ERR5644720_2.fastq.gz"
        ],
        [
         "9",
         "The Mutational Concordance of Fixed Formalin Paraffin Embedded and Fresh Frozen Gastro-oesophageal Tumours Using Whole Exome Sequencing",
         "ERR5644721",
         "ERX5360221",
         "SAMEA8491811",
         "Homo sapiens",
         "Sample_B83_0011",
         "Illumina HiSeq 2500",
         "98aca5d94d0e0657c75e614a8b437a7e;b6162ee34f35f1c0717733b28a62f61c",
         "ftp.sra.ebi.ac.uk/vol1/fastq/ERR564/001/ERR5644721/ERR5644721_1.fastq.gz;ftp.sra.ebi.ac.uk/vol1/fastq/ERR564/001/ERR5644721/ERR5644721_2.fastq.gz"
        ],
        [
         "10",
         "The Mutational Concordance of Fixed Formalin Paraffin Embedded and Fresh Frozen Gastro-oesophageal Tumours Using Whole Exome Sequencing",
         "ERR5644722",
         "ERX5360222",
         "SAMEA8491812",
         "Homo sapiens",
         "Sample_B83_0012",
         "Illumina HiSeq 2500",
         "f33f2dcd00ba1509eb7b83b1211c9318;fa97595459ffa8227a17d176cffc17cb",
         "ftp.sra.ebi.ac.uk/vol1/fastq/ERR564/002/ERR5644722/ERR5644722_1.fastq.gz;ftp.sra.ebi.ac.uk/vol1/fastq/ERR564/002/ERR5644722/ERR5644722_2.fastq.gz"
        ],
        [
         "11",
         "The Mutational Concordance of Fixed Formalin Paraffin Embedded and Fresh Frozen Gastro-oesophageal Tumours Using Whole Exome Sequencing",
         "ERR5644723",
         "ERX5360223",
         "SAMEA8491813",
         "Homo sapiens",
         "Sample_B83_0013",
         "Illumina HiSeq 2500",
         "136625649799d49a8bc470a8c857b87e;629d98947c018b929ee17cff0fb37e21",
         "ftp.sra.ebi.ac.uk/vol1/fastq/ERR564/003/ERR5644723/ERR5644723_1.fastq.gz;ftp.sra.ebi.ac.uk/vol1/fastq/ERR564/003/ERR5644723/ERR5644723_2.fastq.gz"
        ],
        [
         "12",
         "The Mutational Concordance of Fixed Formalin Paraffin Embedded and Fresh Frozen Gastro-oesophageal Tumours Using Whole Exome Sequencing",
         "ERR5644724",
         "ERX5360224",
         "SAMEA8491814",
         "Homo sapiens",
         "Sample_B83_0014",
         "Illumina HiSeq 2500",
         "a3fed594661593070605e3b6d90e062b;acc031e5cbaa88fc33cfb353fb89aee0",
         "ftp.sra.ebi.ac.uk/vol1/fastq/ERR564/004/ERR5644724/ERR5644724_1.fastq.gz;ftp.sra.ebi.ac.uk/vol1/fastq/ERR564/004/ERR5644724/ERR5644724_2.fastq.gz"
        ],
        [
         "13",
         "The Mutational Concordance of Fixed Formalin Paraffin Embedded and Fresh Frozen Gastro-oesophageal Tumours Using Whole Exome Sequencing",
         "ERR5644725",
         "ERX5360225",
         "SAMEA8491815",
         "Homo sapiens",
         "Sample_B83_0015",
         "Illumina HiSeq 2500",
         "c105134fb477293eaeacd73a23d52831;43b7639d9266b6f90f5252ad6aa7de69",
         "ftp.sra.ebi.ac.uk/vol1/fastq/ERR564/005/ERR5644725/ERR5644725_1.fastq.gz;ftp.sra.ebi.ac.uk/vol1/fastq/ERR564/005/ERR5644725/ERR5644725_2.fastq.gz"
        ],
        [
         "14",
         "The Mutational Concordance of Fixed Formalin Paraffin Embedded and Fresh Frozen Gastro-oesophageal Tumours Using Whole Exome Sequencing",
         "ERR5644726",
         "ERX5360226",
         "SAMEA8491816",
         "Homo sapiens",
         "Sample_B83_0016",
         "Illumina HiSeq 2500",
         "cac6ad388460325c2df298ecfb85185e;a0b9c1405ed55cde222f6c83f57c8191",
         "ftp.sra.ebi.ac.uk/vol1/fastq/ERR564/006/ERR5644726/ERR5644726_1.fastq.gz;ftp.sra.ebi.ac.uk/vol1/fastq/ERR564/006/ERR5644726/ERR5644726_2.fastq.gz"
        ],
        [
         "15",
         "The Mutational Concordance of Fixed Formalin Paraffin Embedded and Fresh Frozen Gastro-oesophageal Tumours Using Whole Exome Sequencing",
         "ERR5644727",
         "ERX5360227",
         "SAMEA8491817",
         "Homo sapiens",
         "Sample_B83_0017",
         "Illumina HiSeq 2500",
         "a51b91be354467185ac7c977606fb535;86d3842dad54abe9de689859af5bed89",
         "ftp.sra.ebi.ac.uk/vol1/fastq/ERR564/007/ERR5644727/ERR5644727_1.fastq.gz;ftp.sra.ebi.ac.uk/vol1/fastq/ERR564/007/ERR5644727/ERR5644727_2.fastq.gz"
        ],
        [
         "16",
         "The Mutational Concordance of Fixed Formalin Paraffin Embedded and Fresh Frozen Gastro-oesophageal Tumours Using Whole Exome Sequencing",
         "ERR5644728",
         "ERX5360228",
         "SAMEA8491818",
         "Homo sapiens",
         "Sample_B83_0018",
         "Illumina HiSeq 2500",
         "6e3cc0365d7f4f78dbacc68774bd4fe8;ab1cc85c7b42b8bc457416de4efc1ab5",
         "ftp.sra.ebi.ac.uk/vol1/fastq/ERR564/008/ERR5644728/ERR5644728_1.fastq.gz;ftp.sra.ebi.ac.uk/vol1/fastq/ERR564/008/ERR5644728/ERR5644728_2.fastq.gz"
        ],
        [
         "17",
         "The Mutational Concordance of Fixed Formalin Paraffin Embedded and Fresh Frozen Gastro-oesophageal Tumours Using Whole Exome Sequencing",
         "ERR5644729",
         "ERX5360229",
         "SAMEA8491819",
         "Homo sapiens",
         "Sample_B83_0019",
         "Illumina HiSeq 2500",
         "1097d51418a9e36c2d87ac18954a2885;c6e71f67371932cac41f5185a5058bb2",
         "ftp.sra.ebi.ac.uk/vol1/fastq/ERR564/009/ERR5644729/ERR5644729_1.fastq.gz;ftp.sra.ebi.ac.uk/vol1/fastq/ERR564/009/ERR5644729/ERR5644729_2.fastq.gz"
        ],
        [
         "18",
         "The Mutational Concordance of Fixed Formalin Paraffin Embedded and Fresh Frozen Gastro-oesophageal Tumours Using Whole Exome Sequencing",
         "ERR5644730",
         "ERX5360230",
         "SAMEA8491820",
         "Homo sapiens",
         "Sample_B83_0020",
         "Illumina HiSeq 2500",
         "4ddeacfaff9a71fa22e5b56f2e1b67ec;cbfb7c32a08fc61fa672da6b3428981d",
         "ftp.sra.ebi.ac.uk/vol1/fastq/ERR564/000/ERR5644730/ERR5644730_1.fastq.gz;ftp.sra.ebi.ac.uk/vol1/fastq/ERR564/000/ERR5644730/ERR5644730_2.fastq.gz"
        ],
        [
         "19",
         "The Mutational Concordance of Fixed Formalin Paraffin Embedded and Fresh Frozen Gastro-oesophageal Tumours Using Whole Exome Sequencing",
         "ERR5644731",
         "ERX5360231",
         "SAMEA8491821",
         "Homo sapiens",
         "Sample_B83_0021",
         "Illumina HiSeq 2500",
         "f415e870e24bf3bb8747260d9e2e85a5;89e25d370ab6310d124950f362a4e067",
         "ftp.sra.ebi.ac.uk/vol1/fastq/ERR564/001/ERR5644731/ERR5644731_1.fastq.gz;ftp.sra.ebi.ac.uk/vol1/fastq/ERR564/001/ERR5644731/ERR5644731_2.fastq.gz"
        ],
        [
         "20",
         "The Mutational Concordance of Fixed Formalin Paraffin Embedded and Fresh Frozen Gastro-oesophageal Tumours Using Whole Exome Sequencing",
         "ERR5644732",
         "ERX5360232",
         "SAMEA8491822",
         "Homo sapiens",
         "Sample_B83_0022",
         "Illumina HiSeq 2500",
         "786a4de6096ee4ec5ee4e1f0bcc6bf14;ca3c7d174cf7707915b663fb376ac9c3",
         "ftp.sra.ebi.ac.uk/vol1/fastq/ERR564/002/ERR5644732/ERR5644732_1.fastq.gz;ftp.sra.ebi.ac.uk/vol1/fastq/ERR564/002/ERR5644732/ERR5644732_2.fastq.gz"
        ],
        [
         "21",
         "The Mutational Concordance of Fixed Formalin Paraffin Embedded and Fresh Frozen Gastro-oesophageal Tumours Using Whole Exome Sequencing",
         "ERR5644733",
         "ERX5360233",
         "SAMEA8491823",
         "Homo sapiens",
         "Sample_B83_0023",
         "Illumina HiSeq 2500",
         "bf6bc87fb81984358b5badcafd436392;35c51974f76147ec13c8790c756e5c83",
         "ftp.sra.ebi.ac.uk/vol1/fastq/ERR564/003/ERR5644733/ERR5644733_1.fastq.gz;ftp.sra.ebi.ac.uk/vol1/fastq/ERR564/003/ERR5644733/ERR5644733_2.fastq.gz"
        ],
        [
         "22",
         "The Mutational Concordance of Fixed Formalin Paraffin Embedded and Fresh Frozen Gastro-oesophageal Tumours Using Whole Exome Sequencing",
         "ERR5644734",
         "ERX5360234",
         "SAMEA8491824",
         "Homo sapiens",
         "Sample_B83_0024",
         "Illumina HiSeq 2500",
         "284e1bcac20542959b62896145115f93;96e63e6065ace898a27fdfd165486566",
         "ftp.sra.ebi.ac.uk/vol1/fastq/ERR564/004/ERR5644734/ERR5644734_1.fastq.gz;ftp.sra.ebi.ac.uk/vol1/fastq/ERR564/004/ERR5644734/ERR5644734_2.fastq.gz"
        ],
        [
         "23",
         "The Mutational Concordance of Fixed Formalin Paraffin Embedded and Fresh Frozen Gastro-oesophageal Tumours Using Whole Exome Sequencing",
         "ERR5644735",
         "ERX5360235",
         "SAMEA8491825",
         "Homo sapiens",
         "Sample_B83_0025",
         "Illumina HiSeq 2500",
         "f532d8c6c26b556057e89018c1310f10;5a8a5622765aef1b102cf9a63fed0436",
         "ftp.sra.ebi.ac.uk/vol1/fastq/ERR564/005/ERR5644735/ERR5644735_1.fastq.gz;ftp.sra.ebi.ac.uk/vol1/fastq/ERR564/005/ERR5644735/ERR5644735_2.fastq.gz"
        ],
        [
         "24",
         "The Mutational Concordance of Fixed Formalin Paraffin Embedded and Fresh Frozen Gastro-oesophageal Tumours Using Whole Exome Sequencing",
         "ERR5644736",
         "ERX5360236",
         "SAMEA8491826",
         "Homo sapiens",
         "Sample_B83_0026",
         "Illumina HiSeq 2500",
         "961e94e9c4c0fb8aabe17f0b79c57a5f;7f13f209337b534e6daa585a158dce71",
         "ftp.sra.ebi.ac.uk/vol1/fastq/ERR564/006/ERR5644736/ERR5644736_1.fastq.gz;ftp.sra.ebi.ac.uk/vol1/fastq/ERR564/006/ERR5644736/ERR5644736_2.fastq.gz"
        ],
        [
         "25",
         "The Mutational Concordance of Fixed Formalin Paraffin Embedded and Fresh Frozen Gastro-oesophageal Tumours Using Whole Exome Sequencing",
         "ERR5644737",
         "ERX5360237",
         "SAMEA8491827",
         "Homo sapiens",
         "Sample_B83_0027",
         "Illumina HiSeq 2500",
         "07a54b4c2712c5cb3a01d472e651bbc9;c792f98e366f5e3499b9c78c69b2572a",
         "ftp.sra.ebi.ac.uk/vol1/fastq/ERR564/007/ERR5644737/ERR5644737_1.fastq.gz;ftp.sra.ebi.ac.uk/vol1/fastq/ERR564/007/ERR5644737/ERR5644737_2.fastq.gz"
        ],
        [
         "26",
         "The Mutational Concordance of Fixed Formalin Paraffin Embedded and Fresh Frozen Gastro-oesophageal Tumours Using Whole Exome Sequencing",
         "ERR5644738",
         "ERX5360238",
         "SAMEA8491828",
         "Homo sapiens",
         "Sample_B83_0028",
         "Illumina HiSeq 2500",
         "d3a4d346d24df0280527718bbbe043ae;807f0201d9c4c134e3a0c7e8c8f6cd88",
         "ftp.sra.ebi.ac.uk/vol1/fastq/ERR564/008/ERR5644738/ERR5644738_1.fastq.gz;ftp.sra.ebi.ac.uk/vol1/fastq/ERR564/008/ERR5644738/ERR5644738_2.fastq.gz"
        ],
        [
         "27",
         "The Mutational Concordance of Fixed Formalin Paraffin Embedded and Fresh Frozen Gastro-oesophageal Tumours Using Whole Exome Sequencing",
         "ERR5644739",
         "ERX5360239",
         "SAMEA8491829",
         "Homo sapiens",
         "Sample_B83_0029",
         "Illumina HiSeq 2500",
         "da153b0800d8445f5fb125191437e343;4b90eef974a8a90b6d19d30252a05e63",
         "ftp.sra.ebi.ac.uk/vol1/fastq/ERR564/009/ERR5644739/ERR5644739_1.fastq.gz;ftp.sra.ebi.ac.uk/vol1/fastq/ERR564/009/ERR5644739/ERR5644739_2.fastq.gz"
        ],
        [
         "28",
         "The Mutational Concordance of Fixed Formalin Paraffin Embedded and Fresh Frozen Gastro-oesophageal Tumours Using Whole Exome Sequencing",
         "ERR5644740",
         "ERX5360240",
         "SAMEA8491830",
         "Homo sapiens",
         "Sample_B83_0030",
         "Illumina HiSeq 2500",
         "6359af5347d2d0d3319ea479f330d820;f2dc371108f921012bc414f211541cdc",
         "ftp.sra.ebi.ac.uk/vol1/fastq/ERR564/000/ERR5644740/ERR5644740_1.fastq.gz;ftp.sra.ebi.ac.uk/vol1/fastq/ERR564/000/ERR5644740/ERR5644740_2.fastq.gz"
        ],
        [
         "29",
         "The Mutational Concordance of Fixed Formalin Paraffin Embedded and Fresh Frozen Gastro-oesophageal Tumours Using Whole Exome Sequencing",
         "ERR5644741",
         "ERX5360241",
         "SAMEA8491831",
         "Homo sapiens",
         "Sample_B83_0031",
         "Illumina HiSeq 2500",
         "d184aa8eb41171e11ccff5945b5e3f67;155757074c74caeca8c499fbcac72fc7",
         "ftp.sra.ebi.ac.uk/vol1/fastq/ERR564/001/ERR5644741/ERR5644741_1.fastq.gz;ftp.sra.ebi.ac.uk/vol1/fastq/ERR564/001/ERR5644741/ERR5644741_2.fastq.gz"
        ],
        [
         "30",
         "The Mutational Concordance of Fixed Formalin Paraffin Embedded and Fresh Frozen Gastro-oesophageal Tumours Using Whole Exome Sequencing",
         "ERR5644742",
         "ERX5360242",
         "SAMEA8491832",
         "Homo sapiens",
         "Sample_B83_0032",
         "Illumina HiSeq 2500",
         "9d9ef7436ae16750d88672c76e0183f2;c2eef1e88ad5b40d4645e85de4feeb2c",
         "ftp.sra.ebi.ac.uk/vol1/fastq/ERR564/002/ERR5644742/ERR5644742_1.fastq.gz;ftp.sra.ebi.ac.uk/vol1/fastq/ERR564/002/ERR5644742/ERR5644742_2.fastq.gz"
        ],
        [
         "31",
         "The Mutational Concordance of Fixed Formalin Paraffin Embedded and Fresh Frozen Gastro-oesophageal Tumours Using Whole Exome Sequencing",
         "ERR5644719",
         "ERX5360219",
         "SAMEA8491809",
         "Homo sapiens",
         "Sample_B83_1009",
         "Illumina HiSeq 2500",
         "43132a52abb775a85de6c10706c69971;7c6b67c2b95953fc159e48af7a05e1c7",
         "ftp.sra.ebi.ac.uk/vol1/fastq/ERR564/009/ERR5644719/ERR5644719_1.fastq.gz;ftp.sra.ebi.ac.uk/vol1/fastq/ERR564/009/ERR5644719/ERR5644719_2.fastq.gz"
        ]
       ],
       "shape": {
        "columns": 9,
        "rows": 32
       }
      },
      "text/html": [
       "<div><style>\n",
       ".dataframe > thead > tr,\n",
       ".dataframe > tbody > tr {\n",
       "  text-align: right;\n",
       "  white-space: pre-wrap;\n",
       "}\n",
       "</style>\n",
       "<small>shape: (32, 9)</small><table border=\"1\" class=\"dataframe\"><thead><tr><th>study_title</th><th>run_accession</th><th>experiment_accession</th><th>sample_accession</th><th>scientific_name</th><th>sample_alias</th><th>instrument_model</th><th>fastq_md5</th><th>fastq_ftp</th></tr><tr><td>str</td><td>str</td><td>str</td><td>str</td><td>str</td><td>str</td><td>str</td><td>str</td><td>str</td></tr></thead><tbody><tr><td>&quot;The Mutational Concordance of …</td><td>&quot;ERR5644711&quot;</td><td>&quot;ERX5360211&quot;</td><td>&quot;SAMEA8491801&quot;</td><td>&quot;Homo sapiens&quot;</td><td>&quot;Sample_B83_0001&quot;</td><td>&quot;Illumina HiSeq 2500&quot;</td><td>&quot;4559681ab4e1d008af35ae223d7701…</td><td>&quot;ftp.sra.ebi.ac.uk/vol1/fastq/E…</td></tr><tr><td>&quot;The Mutational Concordance of …</td><td>&quot;ERR5644712&quot;</td><td>&quot;ERX5360212&quot;</td><td>&quot;SAMEA8491802&quot;</td><td>&quot;Homo sapiens&quot;</td><td>&quot;Sample_B83_0002&quot;</td><td>&quot;Illumina HiSeq 2500&quot;</td><td>&quot;f6ff8022f22d3384503312d98e4f29…</td><td>&quot;ftp.sra.ebi.ac.uk/vol1/fastq/E…</td></tr><tr><td>&quot;The Mutational Concordance of …</td><td>&quot;ERR5644713&quot;</td><td>&quot;ERX5360213&quot;</td><td>&quot;SAMEA8491803&quot;</td><td>&quot;Homo sapiens&quot;</td><td>&quot;Sample_B83_0003&quot;</td><td>&quot;Illumina HiSeq 2500&quot;</td><td>&quot;4bc3952b0a6ddcd6ff25528e6f1ad1…</td><td>&quot;ftp.sra.ebi.ac.uk/vol1/fastq/E…</td></tr><tr><td>&quot;The Mutational Concordance of …</td><td>&quot;ERR5644714&quot;</td><td>&quot;ERX5360214&quot;</td><td>&quot;SAMEA8491804&quot;</td><td>&quot;Homo sapiens&quot;</td><td>&quot;Sample_B83_0004&quot;</td><td>&quot;Illumina HiSeq 2500&quot;</td><td>&quot;e9d6712ef9790e852de74494aee6ac…</td><td>&quot;ftp.sra.ebi.ac.uk/vol1/fastq/E…</td></tr><tr><td>&quot;The Mutational Concordance of …</td><td>&quot;ERR5644715&quot;</td><td>&quot;ERX5360215&quot;</td><td>&quot;SAMEA8491805&quot;</td><td>&quot;Homo sapiens&quot;</td><td>&quot;Sample_B83_0005&quot;</td><td>&quot;Illumina HiSeq 2500&quot;</td><td>&quot;c169ba74aaa8b52e1ac04563c9526b…</td><td>&quot;ftp.sra.ebi.ac.uk/vol1/fastq/E…</td></tr><tr><td>&hellip;</td><td>&hellip;</td><td>&hellip;</td><td>&hellip;</td><td>&hellip;</td><td>&hellip;</td><td>&hellip;</td><td>&hellip;</td><td>&hellip;</td></tr><tr><td>&quot;The Mutational Concordance of …</td><td>&quot;ERR5644739&quot;</td><td>&quot;ERX5360239&quot;</td><td>&quot;SAMEA8491829&quot;</td><td>&quot;Homo sapiens&quot;</td><td>&quot;Sample_B83_0029&quot;</td><td>&quot;Illumina HiSeq 2500&quot;</td><td>&quot;da153b0800d8445f5fb125191437e3…</td><td>&quot;ftp.sra.ebi.ac.uk/vol1/fastq/E…</td></tr><tr><td>&quot;The Mutational Concordance of …</td><td>&quot;ERR5644740&quot;</td><td>&quot;ERX5360240&quot;</td><td>&quot;SAMEA8491830&quot;</td><td>&quot;Homo sapiens&quot;</td><td>&quot;Sample_B83_0030&quot;</td><td>&quot;Illumina HiSeq 2500&quot;</td><td>&quot;6359af5347d2d0d3319ea479f330d8…</td><td>&quot;ftp.sra.ebi.ac.uk/vol1/fastq/E…</td></tr><tr><td>&quot;The Mutational Concordance of …</td><td>&quot;ERR5644741&quot;</td><td>&quot;ERX5360241&quot;</td><td>&quot;SAMEA8491831&quot;</td><td>&quot;Homo sapiens&quot;</td><td>&quot;Sample_B83_0031&quot;</td><td>&quot;Illumina HiSeq 2500&quot;</td><td>&quot;d184aa8eb41171e11ccff5945b5e3f…</td><td>&quot;ftp.sra.ebi.ac.uk/vol1/fastq/E…</td></tr><tr><td>&quot;The Mutational Concordance of …</td><td>&quot;ERR5644742&quot;</td><td>&quot;ERX5360242&quot;</td><td>&quot;SAMEA8491832&quot;</td><td>&quot;Homo sapiens&quot;</td><td>&quot;Sample_B83_0032&quot;</td><td>&quot;Illumina HiSeq 2500&quot;</td><td>&quot;9d9ef7436ae16750d88672c76e0183…</td><td>&quot;ftp.sra.ebi.ac.uk/vol1/fastq/E…</td></tr><tr><td>&quot;The Mutational Concordance of …</td><td>&quot;ERR5644719&quot;</td><td>&quot;ERX5360219&quot;</td><td>&quot;SAMEA8491809&quot;</td><td>&quot;Homo sapiens&quot;</td><td>&quot;Sample_B83_1009&quot;</td><td>&quot;Illumina HiSeq 2500&quot;</td><td>&quot;43132a52abb775a85de6c10706c699…</td><td>&quot;ftp.sra.ebi.ac.uk/vol1/fastq/E…</td></tr></tbody></table></div>"
      ],
      "text/plain": [
       "shape: (32, 9)\n",
       "┌───────────┬───────────┬───────────┬───────────┬───┬───────────┬───────────┬───────────┬──────────┐\n",
       "│ study_tit ┆ run_acces ┆ experimen ┆ sample_ac ┆ … ┆ sample_al ┆ instrumen ┆ fastq_md5 ┆ fastq_ft │\n",
       "│ le        ┆ sion      ┆ t_accessi ┆ cession   ┆   ┆ ias       ┆ t_model   ┆ ---       ┆ p        │\n",
       "│ ---       ┆ ---       ┆ on        ┆ ---       ┆   ┆ ---       ┆ ---       ┆ str       ┆ ---      │\n",
       "│ str       ┆ str       ┆ ---       ┆ str       ┆   ┆ str       ┆ str       ┆           ┆ str      │\n",
       "│           ┆           ┆ str       ┆           ┆   ┆           ┆           ┆           ┆          │\n",
       "╞═══════════╪═══════════╪═══════════╪═══════════╪═══╪═══════════╪═══════════╪═══════════╪══════════╡\n",
       "│ The Mutat ┆ ERR564471 ┆ ERX536021 ┆ SAMEA8491 ┆ … ┆ Sample_B8 ┆ Illumina  ┆ 4559681ab ┆ ftp.sra. │\n",
       "│ ional Con ┆ 1         ┆ 1         ┆ 801       ┆   ┆ 3_0001    ┆ HiSeq     ┆ 4e1d008af ┆ ebi.ac.u │\n",
       "│ cordance  ┆           ┆           ┆           ┆   ┆           ┆ 2500      ┆ 35ae223d7 ┆ k/vol1/f │\n",
       "│ of …      ┆           ┆           ┆           ┆   ┆           ┆           ┆ 701…      ┆ astq/E…  │\n",
       "│ The Mutat ┆ ERR564471 ┆ ERX536021 ┆ SAMEA8491 ┆ … ┆ Sample_B8 ┆ Illumina  ┆ f6ff8022f ┆ ftp.sra. │\n",
       "│ ional Con ┆ 2         ┆ 2         ┆ 802       ┆   ┆ 3_0002    ┆ HiSeq     ┆ 22d338450 ┆ ebi.ac.u │\n",
       "│ cordance  ┆           ┆           ┆           ┆   ┆           ┆ 2500      ┆ 3312d98e4 ┆ k/vol1/f │\n",
       "│ of …      ┆           ┆           ┆           ┆   ┆           ┆           ┆ f29…      ┆ astq/E…  │\n",
       "│ The Mutat ┆ ERR564471 ┆ ERX536021 ┆ SAMEA8491 ┆ … ┆ Sample_B8 ┆ Illumina  ┆ 4bc3952b0 ┆ ftp.sra. │\n",
       "│ ional Con ┆ 3         ┆ 3         ┆ 803       ┆   ┆ 3_0003    ┆ HiSeq     ┆ a6ddcd6ff ┆ ebi.ac.u │\n",
       "│ cordance  ┆           ┆           ┆           ┆   ┆           ┆ 2500      ┆ 25528e6f1 ┆ k/vol1/f │\n",
       "│ of …      ┆           ┆           ┆           ┆   ┆           ┆           ┆ ad1…      ┆ astq/E…  │\n",
       "│ The Mutat ┆ ERR564471 ┆ ERX536021 ┆ SAMEA8491 ┆ … ┆ Sample_B8 ┆ Illumina  ┆ e9d6712ef ┆ ftp.sra. │\n",
       "│ ional Con ┆ 4         ┆ 4         ┆ 804       ┆   ┆ 3_0004    ┆ HiSeq     ┆ 9790e852d ┆ ebi.ac.u │\n",
       "│ cordance  ┆           ┆           ┆           ┆   ┆           ┆ 2500      ┆ e74494aee ┆ k/vol1/f │\n",
       "│ of …      ┆           ┆           ┆           ┆   ┆           ┆           ┆ 6ac…      ┆ astq/E…  │\n",
       "│ The Mutat ┆ ERR564471 ┆ ERX536021 ┆ SAMEA8491 ┆ … ┆ Sample_B8 ┆ Illumina  ┆ c169ba74a ┆ ftp.sra. │\n",
       "│ ional Con ┆ 5         ┆ 5         ┆ 805       ┆   ┆ 3_0005    ┆ HiSeq     ┆ aa8b52e1a ┆ ebi.ac.u │\n",
       "│ cordance  ┆           ┆           ┆           ┆   ┆           ┆ 2500      ┆ c04563c95 ┆ k/vol1/f │\n",
       "│ of …      ┆           ┆           ┆           ┆   ┆           ┆           ┆ 26b…      ┆ astq/E…  │\n",
       "│ …         ┆ …         ┆ …         ┆ …         ┆ … ┆ …         ┆ …         ┆ …         ┆ …        │\n",
       "│ The Mutat ┆ ERR564473 ┆ ERX536023 ┆ SAMEA8491 ┆ … ┆ Sample_B8 ┆ Illumina  ┆ da153b080 ┆ ftp.sra. │\n",
       "│ ional Con ┆ 9         ┆ 9         ┆ 829       ┆   ┆ 3_0029    ┆ HiSeq     ┆ 0d8445f5f ┆ ebi.ac.u │\n",
       "│ cordance  ┆           ┆           ┆           ┆   ┆           ┆ 2500      ┆ b12519143 ┆ k/vol1/f │\n",
       "│ of …      ┆           ┆           ┆           ┆   ┆           ┆           ┆ 7e3…      ┆ astq/E…  │\n",
       "│ The Mutat ┆ ERR564474 ┆ ERX536024 ┆ SAMEA8491 ┆ … ┆ Sample_B8 ┆ Illumina  ┆ 6359af534 ┆ ftp.sra. │\n",
       "│ ional Con ┆ 0         ┆ 0         ┆ 830       ┆   ┆ 3_0030    ┆ HiSeq     ┆ 7d2d0d331 ┆ ebi.ac.u │\n",
       "│ cordance  ┆           ┆           ┆           ┆   ┆           ┆ 2500      ┆ 9ea479f33 ┆ k/vol1/f │\n",
       "│ of …      ┆           ┆           ┆           ┆   ┆           ┆           ┆ 0d8…      ┆ astq/E…  │\n",
       "│ The Mutat ┆ ERR564474 ┆ ERX536024 ┆ SAMEA8491 ┆ … ┆ Sample_B8 ┆ Illumina  ┆ d184aa8eb ┆ ftp.sra. │\n",
       "│ ional Con ┆ 1         ┆ 1         ┆ 831       ┆   ┆ 3_0031    ┆ HiSeq     ┆ 41171e11c ┆ ebi.ac.u │\n",
       "│ cordance  ┆           ┆           ┆           ┆   ┆           ┆ 2500      ┆ cff5945b5 ┆ k/vol1/f │\n",
       "│ of …      ┆           ┆           ┆           ┆   ┆           ┆           ┆ e3f…      ┆ astq/E…  │\n",
       "│ The Mutat ┆ ERR564474 ┆ ERX536024 ┆ SAMEA8491 ┆ … ┆ Sample_B8 ┆ Illumina  ┆ 9d9ef7436 ┆ ftp.sra. │\n",
       "│ ional Con ┆ 2         ┆ 2         ┆ 832       ┆   ┆ 3_0032    ┆ HiSeq     ┆ ae16750d8 ┆ ebi.ac.u │\n",
       "│ cordance  ┆           ┆           ┆           ┆   ┆           ┆ 2500      ┆ 8672c76e0 ┆ k/vol1/f │\n",
       "│ of …      ┆           ┆           ┆           ┆   ┆           ┆           ┆ 183…      ┆ astq/E…  │\n",
       "│ The Mutat ┆ ERR564471 ┆ ERX536021 ┆ SAMEA8491 ┆ … ┆ Sample_B8 ┆ Illumina  ┆ 43132a52a ┆ ftp.sra. │\n",
       "│ ional Con ┆ 9         ┆ 9         ┆ 809       ┆   ┆ 3_1009    ┆ HiSeq     ┆ bb775a85d ┆ ebi.ac.u │\n",
       "│ cordance  ┆           ┆           ┆           ┆   ┆           ┆ 2500      ┆ e6c10706c ┆ k/vol1/f │\n",
       "│ of …      ┆           ┆           ┆           ┆   ┆           ┆           ┆ 699…      ┆ astq/E…  │\n",
       "└───────────┴───────────┴───────────┴───────────┴───┴───────────┴───────────┴───────────┴──────────┘"
      ]
     },
     "execution_count": 12,
     "metadata": {},
     "output_type": "execute_result"
    }
   ],
   "source": [
    "new_sample_info"
   ]
  },
  {
   "cell_type": "code",
   "execution_count": 24,
   "id": "15b0f0f5",
   "metadata": {},
   "outputs": [],
   "source": [
    "sample_count = (\n",
    "\tnew_sample_info\n",
    "\t.group_by([\"sample_number\"])\n",
    "\t.agg([\n",
    "\t\t(pl.col(\"sample_type\") == \"FFPE\").sum().alias(\"n_ffpe\"),\n",
    "\t\t(pl.col(\"sample_type\") == \"FROZ\").sum().alias(\"n_frozen\")\n",
    "\t])\n",
    ")\n",
    "\n",
    "sample_count.write_csv(\"sample-count.tsv\", separator=\"\\t\")"
   ]
  },
  {
   "cell_type": "code",
   "execution_count": 7,
   "id": "5fbdcd32",
   "metadata": {},
   "outputs": [
    {
     "data": {
      "application/vnd.microsoft.datawrangler.viewer.v0+json": {
       "columns": [
        {
         "name": "index",
         "rawType": "int64",
         "type": "integer"
        },
        {
         "name": "sample_alias",
         "rawType": "object",
         "type": "string"
        },
        {
         "name": "fastq_ftp",
         "rawType": "object",
         "type": "string"
        }
       ],
       "ref": "c52f868c-f23c-4032-a76d-68e3a3563227",
       "rows": [
        [
         "0",
         "Sample_B83_0001",
         "ftp://ftp.sra.ebi.ac.uk/vol1/fastq/ERR564/001/ERR5644711/ERR5644711_1.fastq.gz"
        ],
        [
         "1",
         "Sample_B83_0001",
         "ftp://ftp.sra.ebi.ac.uk/vol1/fastq/ERR564/001/ERR5644711/ERR5644711_2.fastq.gz"
        ],
        [
         "2",
         "Sample_B83_0002",
         "ftp://ftp.sra.ebi.ac.uk/vol1/fastq/ERR564/002/ERR5644712/ERR5644712_1.fastq.gz"
        ],
        [
         "3",
         "Sample_B83_0002",
         "ftp://ftp.sra.ebi.ac.uk/vol1/fastq/ERR564/002/ERR5644712/ERR5644712_2.fastq.gz"
        ],
        [
         "4",
         "Sample_B83_0003",
         "ftp://ftp.sra.ebi.ac.uk/vol1/fastq/ERR564/003/ERR5644713/ERR5644713_1.fastq.gz"
        ],
        [
         "5",
         "Sample_B83_0003",
         "ftp://ftp.sra.ebi.ac.uk/vol1/fastq/ERR564/003/ERR5644713/ERR5644713_2.fastq.gz"
        ],
        [
         "6",
         "Sample_B83_0004",
         "ftp://ftp.sra.ebi.ac.uk/vol1/fastq/ERR564/004/ERR5644714/ERR5644714_1.fastq.gz"
        ],
        [
         "7",
         "Sample_B83_0004",
         "ftp://ftp.sra.ebi.ac.uk/vol1/fastq/ERR564/004/ERR5644714/ERR5644714_2.fastq.gz"
        ],
        [
         "8",
         "Sample_B83_0005",
         "ftp://ftp.sra.ebi.ac.uk/vol1/fastq/ERR564/005/ERR5644715/ERR5644715_1.fastq.gz"
        ],
        [
         "9",
         "Sample_B83_0005",
         "ftp://ftp.sra.ebi.ac.uk/vol1/fastq/ERR564/005/ERR5644715/ERR5644715_2.fastq.gz"
        ],
        [
         "10",
         "Sample_B83_0006",
         "ftp://ftp.sra.ebi.ac.uk/vol1/fastq/ERR564/006/ERR5644716/ERR5644716_1.fastq.gz"
        ],
        [
         "11",
         "Sample_B83_0006",
         "ftp://ftp.sra.ebi.ac.uk/vol1/fastq/ERR564/006/ERR5644716/ERR5644716_2.fastq.gz"
        ],
        [
         "12",
         "Sample_B83_0007",
         "ftp://ftp.sra.ebi.ac.uk/vol1/fastq/ERR564/007/ERR5644717/ERR5644717_1.fastq.gz"
        ],
        [
         "13",
         "Sample_B83_0007",
         "ftp://ftp.sra.ebi.ac.uk/vol1/fastq/ERR564/007/ERR5644717/ERR5644717_2.fastq.gz"
        ],
        [
         "14",
         "Sample_B83_0008",
         "ftp://ftp.sra.ebi.ac.uk/vol1/fastq/ERR564/008/ERR5644718/ERR5644718_1.fastq.gz"
        ],
        [
         "15",
         "Sample_B83_0008",
         "ftp://ftp.sra.ebi.ac.uk/vol1/fastq/ERR564/008/ERR5644718/ERR5644718_2.fastq.gz"
        ],
        [
         "16",
         "Sample_B83_0010",
         "ftp://ftp.sra.ebi.ac.uk/vol1/fastq/ERR564/000/ERR5644720/ERR5644720_1.fastq.gz"
        ],
        [
         "17",
         "Sample_B83_0010",
         "ftp://ftp.sra.ebi.ac.uk/vol1/fastq/ERR564/000/ERR5644720/ERR5644720_2.fastq.gz"
        ],
        [
         "18",
         "Sample_B83_0011",
         "ftp://ftp.sra.ebi.ac.uk/vol1/fastq/ERR564/001/ERR5644721/ERR5644721_1.fastq.gz"
        ],
        [
         "19",
         "Sample_B83_0011",
         "ftp://ftp.sra.ebi.ac.uk/vol1/fastq/ERR564/001/ERR5644721/ERR5644721_2.fastq.gz"
        ],
        [
         "20",
         "Sample_B83_0012",
         "ftp://ftp.sra.ebi.ac.uk/vol1/fastq/ERR564/002/ERR5644722/ERR5644722_1.fastq.gz"
        ],
        [
         "21",
         "Sample_B83_0012",
         "ftp://ftp.sra.ebi.ac.uk/vol1/fastq/ERR564/002/ERR5644722/ERR5644722_2.fastq.gz"
        ],
        [
         "22",
         "Sample_B83_0013",
         "ftp://ftp.sra.ebi.ac.uk/vol1/fastq/ERR564/003/ERR5644723/ERR5644723_1.fastq.gz"
        ],
        [
         "23",
         "Sample_B83_0013",
         "ftp://ftp.sra.ebi.ac.uk/vol1/fastq/ERR564/003/ERR5644723/ERR5644723_2.fastq.gz"
        ],
        [
         "24",
         "Sample_B83_0014",
         "ftp://ftp.sra.ebi.ac.uk/vol1/fastq/ERR564/004/ERR5644724/ERR5644724_1.fastq.gz"
        ],
        [
         "25",
         "Sample_B83_0014",
         "ftp://ftp.sra.ebi.ac.uk/vol1/fastq/ERR564/004/ERR5644724/ERR5644724_2.fastq.gz"
        ],
        [
         "26",
         "Sample_B83_0015",
         "ftp://ftp.sra.ebi.ac.uk/vol1/fastq/ERR564/005/ERR5644725/ERR5644725_1.fastq.gz"
        ],
        [
         "27",
         "Sample_B83_0015",
         "ftp://ftp.sra.ebi.ac.uk/vol1/fastq/ERR564/005/ERR5644725/ERR5644725_2.fastq.gz"
        ],
        [
         "28",
         "Sample_B83_0016",
         "ftp://ftp.sra.ebi.ac.uk/vol1/fastq/ERR564/006/ERR5644726/ERR5644726_1.fastq.gz"
        ],
        [
         "29",
         "Sample_B83_0016",
         "ftp://ftp.sra.ebi.ac.uk/vol1/fastq/ERR564/006/ERR5644726/ERR5644726_2.fastq.gz"
        ],
        [
         "30",
         "Sample_B83_0017",
         "ftp://ftp.sra.ebi.ac.uk/vol1/fastq/ERR564/007/ERR5644727/ERR5644727_1.fastq.gz"
        ],
        [
         "31",
         "Sample_B83_0017",
         "ftp://ftp.sra.ebi.ac.uk/vol1/fastq/ERR564/007/ERR5644727/ERR5644727_2.fastq.gz"
        ],
        [
         "32",
         "Sample_B83_0018",
         "ftp://ftp.sra.ebi.ac.uk/vol1/fastq/ERR564/008/ERR5644728/ERR5644728_1.fastq.gz"
        ],
        [
         "33",
         "Sample_B83_0018",
         "ftp://ftp.sra.ebi.ac.uk/vol1/fastq/ERR564/008/ERR5644728/ERR5644728_2.fastq.gz"
        ],
        [
         "34",
         "Sample_B83_0019",
         "ftp://ftp.sra.ebi.ac.uk/vol1/fastq/ERR564/009/ERR5644729/ERR5644729_1.fastq.gz"
        ],
        [
         "35",
         "Sample_B83_0019",
         "ftp://ftp.sra.ebi.ac.uk/vol1/fastq/ERR564/009/ERR5644729/ERR5644729_2.fastq.gz"
        ],
        [
         "36",
         "Sample_B83_0020",
         "ftp://ftp.sra.ebi.ac.uk/vol1/fastq/ERR564/000/ERR5644730/ERR5644730_1.fastq.gz"
        ],
        [
         "37",
         "Sample_B83_0020",
         "ftp://ftp.sra.ebi.ac.uk/vol1/fastq/ERR564/000/ERR5644730/ERR5644730_2.fastq.gz"
        ],
        [
         "38",
         "Sample_B83_0021",
         "ftp://ftp.sra.ebi.ac.uk/vol1/fastq/ERR564/001/ERR5644731/ERR5644731_1.fastq.gz"
        ],
        [
         "39",
         "Sample_B83_0021",
         "ftp://ftp.sra.ebi.ac.uk/vol1/fastq/ERR564/001/ERR5644731/ERR5644731_2.fastq.gz"
        ],
        [
         "40",
         "Sample_B83_0022",
         "ftp://ftp.sra.ebi.ac.uk/vol1/fastq/ERR564/002/ERR5644732/ERR5644732_1.fastq.gz"
        ],
        [
         "41",
         "Sample_B83_0022",
         "ftp://ftp.sra.ebi.ac.uk/vol1/fastq/ERR564/002/ERR5644732/ERR5644732_2.fastq.gz"
        ],
        [
         "42",
         "Sample_B83_0023",
         "ftp://ftp.sra.ebi.ac.uk/vol1/fastq/ERR564/003/ERR5644733/ERR5644733_1.fastq.gz"
        ],
        [
         "43",
         "Sample_B83_0023",
         "ftp://ftp.sra.ebi.ac.uk/vol1/fastq/ERR564/003/ERR5644733/ERR5644733_2.fastq.gz"
        ],
        [
         "44",
         "Sample_B83_0024",
         "ftp://ftp.sra.ebi.ac.uk/vol1/fastq/ERR564/004/ERR5644734/ERR5644734_1.fastq.gz"
        ],
        [
         "45",
         "Sample_B83_0024",
         "ftp://ftp.sra.ebi.ac.uk/vol1/fastq/ERR564/004/ERR5644734/ERR5644734_2.fastq.gz"
        ],
        [
         "46",
         "Sample_B83_0025",
         "ftp://ftp.sra.ebi.ac.uk/vol1/fastq/ERR564/005/ERR5644735/ERR5644735_1.fastq.gz"
        ],
        [
         "47",
         "Sample_B83_0025",
         "ftp://ftp.sra.ebi.ac.uk/vol1/fastq/ERR564/005/ERR5644735/ERR5644735_2.fastq.gz"
        ],
        [
         "48",
         "Sample_B83_0026",
         "ftp://ftp.sra.ebi.ac.uk/vol1/fastq/ERR564/006/ERR5644736/ERR5644736_1.fastq.gz"
        ],
        [
         "49",
         "Sample_B83_0026",
         "ftp://ftp.sra.ebi.ac.uk/vol1/fastq/ERR564/006/ERR5644736/ERR5644736_2.fastq.gz"
        ]
       ],
       "shape": {
        "columns": 2,
        "rows": 64
       }
      },
      "text/html": [
       "<div><style>\n",
       ".dataframe > thead > tr,\n",
       ".dataframe > tbody > tr {\n",
       "  text-align: right;\n",
       "  white-space: pre-wrap;\n",
       "}\n",
       "</style>\n",
       "<small>shape: (64, 2)</small><table border=\"1\" class=\"dataframe\"><thead><tr><th>sample_alias</th><th>fastq_ftp</th></tr><tr><td>str</td><td>str</td></tr></thead><tbody><tr><td>&quot;Sample_B83_0001&quot;</td><td>&quot;ftp://ftp.sra.ebi.ac.uk/vol1/f…</td></tr><tr><td>&quot;Sample_B83_0001&quot;</td><td>&quot;ftp://ftp.sra.ebi.ac.uk/vol1/f…</td></tr><tr><td>&quot;Sample_B83_0002&quot;</td><td>&quot;ftp://ftp.sra.ebi.ac.uk/vol1/f…</td></tr><tr><td>&quot;Sample_B83_0002&quot;</td><td>&quot;ftp://ftp.sra.ebi.ac.uk/vol1/f…</td></tr><tr><td>&quot;Sample_B83_0003&quot;</td><td>&quot;ftp://ftp.sra.ebi.ac.uk/vol1/f…</td></tr><tr><td>&hellip;</td><td>&hellip;</td></tr><tr><td>&quot;Sample_B83_0031&quot;</td><td>&quot;ftp://ftp.sra.ebi.ac.uk/vol1/f…</td></tr><tr><td>&quot;Sample_B83_0032&quot;</td><td>&quot;ftp://ftp.sra.ebi.ac.uk/vol1/f…</td></tr><tr><td>&quot;Sample_B83_0032&quot;</td><td>&quot;ftp://ftp.sra.ebi.ac.uk/vol1/f…</td></tr><tr><td>&quot;Sample_B83_1009&quot;</td><td>&quot;ftp://ftp.sra.ebi.ac.uk/vol1/f…</td></tr><tr><td>&quot;Sample_B83_1009&quot;</td><td>&quot;ftp://ftp.sra.ebi.ac.uk/vol1/f…</td></tr></tbody></table></div>"
      ],
      "text/plain": [
       "shape: (64, 2)\n",
       "┌─────────────────┬─────────────────────────────────┐\n",
       "│ sample_alias    ┆ fastq_ftp                       │\n",
       "│ ---             ┆ ---                             │\n",
       "│ str             ┆ str                             │\n",
       "╞═════════════════╪═════════════════════════════════╡\n",
       "│ Sample_B83_0001 ┆ ftp://ftp.sra.ebi.ac.uk/vol1/f… │\n",
       "│ Sample_B83_0001 ┆ ftp://ftp.sra.ebi.ac.uk/vol1/f… │\n",
       "│ Sample_B83_0002 ┆ ftp://ftp.sra.ebi.ac.uk/vol1/f… │\n",
       "│ Sample_B83_0002 ┆ ftp://ftp.sra.ebi.ac.uk/vol1/f… │\n",
       "│ Sample_B83_0003 ┆ ftp://ftp.sra.ebi.ac.uk/vol1/f… │\n",
       "│ …               ┆ …                               │\n",
       "│ Sample_B83_0031 ┆ ftp://ftp.sra.ebi.ac.uk/vol1/f… │\n",
       "│ Sample_B83_0032 ┆ ftp://ftp.sra.ebi.ac.uk/vol1/f… │\n",
       "│ Sample_B83_0032 ┆ ftp://ftp.sra.ebi.ac.uk/vol1/f… │\n",
       "│ Sample_B83_1009 ┆ ftp://ftp.sra.ebi.ac.uk/vol1/f… │\n",
       "│ Sample_B83_1009 ┆ ftp://ftp.sra.ebi.ac.uk/vol1/f… │\n",
       "└─────────────────┴─────────────────────────────────┘"
      ]
     },
     "execution_count": 7,
     "metadata": {},
     "output_type": "execute_result"
    }
   ],
   "source": [
    "fastq_links = (\n",
    "\tnew_sample_info\n",
    " \t.with_columns(pl.col(\"fastq_ftp\").str.split(\";\"))\n",
    "\t.select([\"sample_alias\", \"fastq_ftp\"])\n",
    "  \t.explode(\"fastq_ftp\")\n",
    "\t.with_columns([\n",
    "\t\t(pl.lit(\"ftp://\") + pl.col(\"fastq_ftp\")).alias(\"fastq_ftp\")\n",
    "\t])\n",
    ")\n",
    "\n",
    "fastq_links"
   ]
  },
  {
   "cell_type": "code",
   "execution_count": 8,
   "id": "011499a7",
   "metadata": {},
   "outputs": [
    {
     "name": "stdout",
     "output_type": "stream",
     "text": [
      "Saved fastq ftp links to: fq_ftp_links.txt\n"
     ]
    }
   ],
   "source": [
    "fastq_links.select(\"fastq_ftp\").write_csv(\"fq_ftp_links.txt\", include_header=False, separator=\"\\t\")\n",
    "print(\"Saved fastq ftp links to: fq_ftp_links.txt\")\n"
   ]
  },
  {
   "cell_type": "code",
   "execution_count": null,
   "id": "eff5b14a",
   "metadata": {},
   "outputs": [
    {
     "name": "stdout",
     "output_type": "stream",
     "text": [
      "Created a bash script to obtain fastqs from the EBI ftp at : ../data/fq/fastq_ftp_download.sh\n"
     ]
    }
   ],
   "source": [
    "# fastq_links\n",
    "\n",
    "wget = [\"#!/bin/bash\"]\n",
    "\n",
    "for i in range(fastq_links.shape[0]):\n",
    "    \n",
    "    link = fastq_links[i, \"fastq_ftp\"]\n",
    "    sample_name = fastq_links[i, \"sample_alias\"]\n",
    "    basename = os.path.basename(link)\n",
    "    read_number = basename.split(\"_\")[1].split(\".\")[0]\n",
    "    dir_name = f\"{link.split(\"/\")[-2]}\"\n",
    "    \n",
    "    wget.append(f\"mkdir -p {sample_name} && wget {link} -O {sample_name}/{sample_name}_{basename}\")\n",
    "\n",
    "fastq_dir = \"../data/fq\"\n",
    "os.makedirs(fastq_dir, exist_ok=True)\n",
    "\n",
    "fastq_get_path = \"../data/fq/fastq_ftp_download.sh\"\n",
    "with open(fastq_get_path, \"w\") as file:\n",
    "    for line in wget:\n",
    "        file.write(f\"{line}\\n\")\n",
    "\n",
    "print(f\"Created a bash script to obtain fastqs from the EBI ftp at : {fastq_get_path}\")\n",
    "\n"
   ]
  },
  {
   "cell_type": "code",
   "execution_count": 21,
   "id": "b8dd74b5",
   "metadata": {},
   "outputs": [],
   "source": [
    "# parallel\n",
    "\n",
    "\n",
    "script_dir = \"../data/fq/parallel_downloads\"\n",
    "os.makedirs(script_dir, exist_ok=True)\n",
    "\n",
    "for i in range(fastq_links.shape[0]):\n",
    "    \n",
    "    link = fastq_links[i, \"fastq_ftp\"]\n",
    "    sample_name = fastq_links[i, \"sample_alias\"]\n",
    "    basename = os.path.basename(link)\n",
    "    read_number = basename.split(\"_\")[1].split(\".\")[0]\n",
    "    dir_name = f\"{link.split(\"/\")[-2]}\"\n",
    "    \n",
    "    wget = [\"#!/bin/bash\"]\n",
    "    wget.append(f\"mkdir -p {sample_name} && wget {link} -O {sample_name}/{sample_name}_{basename}\")\n",
    "    \n",
    "    script_path = f\"{script_dir}/{sample_name}_{basename}.sh\"\n",
    "    with open(script_path, \"w\") as file: \n",
    "        for line in wget:\n",
    "        \tfile.write(f\"{line}\\n\")\n",
    "        \n"
   ]
  }
 ],
 "metadata": {
  "kernelspec": {
   "display_name": "ena-ffpe",
   "language": "python",
   "name": "python3"
  },
  "language_info": {
   "codemirror_mode": {
    "name": "ipython",
    "version": 3
   },
   "file_extension": ".py",
   "mimetype": "text/x-python",
   "name": "python",
   "nbconvert_exporter": "python",
   "pygments_lexer": "ipython3",
   "version": "3.12.11"
  }
 },
 "nbformat": 4,
 "nbformat_minor": 5
}
