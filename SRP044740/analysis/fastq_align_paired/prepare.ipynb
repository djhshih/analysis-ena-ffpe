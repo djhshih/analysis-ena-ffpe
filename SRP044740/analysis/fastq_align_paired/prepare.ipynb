{
 "cells": [
  {
   "cell_type": "code",
   "execution_count": 2,
   "id": "f8ad1491",
   "metadata": {},
   "outputs": [],
   "source": [
    "#!/usr/bin/env python3\n",
    "\n",
    "# Prepare json input files for WDL fastq_aligned_paired workflow \n",
    "\n",
    "import os\n",
    "import json\n",
    "import pandas as pd\n",
    "\n",
    "# ---\n"
   ]
  },
  {
   "cell_type": "code",
   "execution_count": 3,
   "id": "48a003c1",
   "metadata": {},
   "outputs": [],
   "source": [
    "\n",
    "# absolute path is required in the json input files for WDL\n",
    "ref_root = os.path.abspath('../../data/ref')\n",
    "ref_fname = 'Homo_sapiens_assembly38.fasta'\n",
    "\n",
    "infname = '../../annot/sample-info_stage1.tsv'\n",
    "rg_root = os.path.abspath('../../data/rg')\n",
    "fq_root = os.path.abspath('../../data/fq')\n",
    "out_dir = 'inputs'\n",
    "\n",
    "\n",
    "if not os.path.exists(out_dir):\n",
    "    os.makedirs(out_dir)\n",
    "\n",
    "fastq_pd = pd.read_csv(infname, sep='\\t')\n",
    "\n",
    "# ----\n"
   ]
  },
  {
   "cell_type": "code",
   "execution_count": 5,
   "id": "f93585e6",
   "metadata": {},
   "outputs": [],
   "source": [
    "\n",
    "samples = []\n",
    "for _, x in fastq_pd.groupby('run_accession'):\n",
    "    run_accession = x['run_accession'].iloc[0]\n",
    "    alias = x['sample_alias'].iloc[0]\n",
    "    fastqs_r1 = os.path.join(fq_root, f\"{alias}/{alias}_{run_accession}_1.fastq.gz\")\n",
    "    fastqs_r2 = os.path.join(fq_root, f\"{alias}/{alias}_{run_accession}_2.fastq.gz\")\n",
    "    samples.append(\n",
    "        {\n",
    "            'sample_id': f\"{alias}_{run_accession}\",\n",
    "            'accession': run_accession,\n",
    "            'fastqs_r1': fastqs_r1,\n",
    "            'fastqs_r2': fastqs_r2,\n",
    "        }\n",
    "    )\n",
    "\n",
    "ref_fpath = os.path.join(ref_root, ref_fname)\n",
    "\n",
    "# base wdl input\n",
    "base = {\n",
    "    'fastq_align_paired.fastq_bwa_mem_paired.ref_fasta': ref_fpath,\n",
    "    'fastq_align_paired.fastq_bwa_mem_paired.ref_fasta_amb': ref_fpath + '.64.amb',\n",
    "    'fastq_align_paired.fastq_bwa_mem_paired.ref_fasta_ann': ref_fpath + '.64.ann',\n",
    "    'fastq_align_paired.fastq_bwa_mem_paired.ref_fasta_alt': ref_fpath + '.64.alt',\n",
    "    'fastq_align_paired.fastq_bwa_mem_paired.ref_fasta_pac': ref_fpath + '.64.pac',\n",
    "    'fastq_align_paired.fastq_bwa_mem_paired.ref_fasta_bwt': ref_fpath + '.64.bwt',\n",
    "    'fastq_align_paired.fastq_bwa_mem_paired.ref_fasta_sa': ref_fpath + '.64.sa',\n",
    "    'fastq_align_paired.fastq_bwa_mem_paired.cpu': 4,\n",
    "    'fastq_align_paired.fastq_bwa_mem_paired.memory_gb': 12,\n",
    "    'fastq_align_paired.fastq_bwa_mem_paired.preemptible_tries': 1,\n",
    "    'fastq_align_paired.bam_sort_coord.cpu': 4,\n",
    "    'fastq_align_paired.bam_sort_coord.memory_gb': 4,\n",
    "    'fastq_align_paired.bam_sort_coord.preemptible_tries': 1,\n",
    "}\n",
    "\n",
    "# write wdl input json file for each sample\n",
    "for x in samples:\n",
    "    out = base.copy()\n",
    "    out['fastq_align_paired.sample_id'] = x['sample_id']\n",
    "    out['fastq_align_paired.fastq_bwa_mem_paired.fastqs_r1'] = [x['fastqs_r1']]\n",
    "    out['fastq_align_paired.fastq_bwa_mem_paired.fastqs_r2'] = [x['fastqs_r2']]\n",
    "    out['fastq_align_paired.fastq_bwa_mem_paired.rg_header'] = os.path.join(rg_root, x[\"sample_id\"] + '.rg.txt')\n",
    "    out_path = os.path.join(out_dir, x['sample_id'] + '.inputs')\n",
    "    with open(out_path, 'w') as outf:\n",
    "        outf.write(json.dumps(out, indent=True, sort_keys=True))\n",
    "\n"
   ]
  }
 ],
 "metadata": {
  "kernelspec": {
   "display_name": "ena-ffpe",
   "language": "python",
   "name": "python3"
  },
  "language_info": {
   "codemirror_mode": {
    "name": "ipython",
    "version": 3
   },
   "file_extension": ".py",
   "mimetype": "text/x-python",
   "name": "python",
   "nbconvert_exporter": "python",
   "pygments_lexer": "ipython3",
   "version": "3.12.11"
  }
 },
 "nbformat": 4,
 "nbformat_minor": 5
}
