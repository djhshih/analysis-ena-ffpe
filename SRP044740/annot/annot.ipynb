{
 "cells": [
  {
   "cell_type": "code",
   "execution_count": 2,
   "id": "578c0587",
   "metadata": {},
   "outputs": [],
   "source": [
    "import polars as pl\n",
    "import os\n",
    "import glob"
   ]
  },
  {
   "cell_type": "markdown",
   "id": "28afb7cb",
   "metadata": {},
   "source": [
    "## SRP044740\n",
    "\n",
    "Dataset with exomes of 13 FFPE breast tumor samples and 13 corresponding frozen samples."
   ]
  },
  {
   "cell_type": "code",
   "execution_count": 8,
   "id": "6a5e9a42",
   "metadata": {},
   "outputs": [
    {
     "data": {
      "application/vnd.microsoft.datawrangler.viewer.v0+json": {
       "columns": [
        {
         "name": "index",
         "rawType": "int64",
         "type": "integer"
        },
        {
         "name": "run_accession",
         "rawType": "object",
         "type": "string"
        },
        {
         "name": "experiment_accession",
         "rawType": "object",
         "type": "string"
        },
        {
         "name": "sample_accession",
         "rawType": "object",
         "type": "string"
        },
        {
         "name": "scientific_name",
         "rawType": "object",
         "type": "string"
        },
        {
         "name": "instrument_model",
         "rawType": "object",
         "type": "string"
        },
        {
         "name": "study_title",
         "rawType": "object",
         "type": "string"
        },
        {
         "name": "fastq_md5",
         "rawType": "object",
         "type": "string"
        },
        {
         "name": "fastq_ftp",
         "rawType": "object",
         "type": "string"
        },
        {
         "name": "sra_ftp",
         "rawType": "object",
         "type": "string"
        },
        {
         "name": "sample_alias",
         "rawType": "object",
         "type": "string"
        },
        {
         "name": "sample_title",
         "rawType": "object",
         "type": "string"
        }
       ],
       "ref": "462db538-f3a0-4f3a-9c6e-b4a993622e8a",
       "rows": [
        [
         "0",
         "SRR1523240",
         "SRX659776",
         "SAMN02934178",
         "Homo sapiens",
         "Illumina HiSeq 2000",
         "WES of 13 FFPE breast tumor samples and 13 corresponding frozen samples",
         "1a53bc5402125072b95bace710818333;aa439cdc2246c059749f0e0dda98bf4b",
         "ftp.sra.ebi.ac.uk/vol1/fastq/SRR152/000/SRR1523240/SRR1523240_1.fastq.gz;ftp.sra.ebi.ac.uk/vol1/fastq/SRR152/000/SRR1523240/SRR1523240_2.fastq.gz",
         "ftp.sra.ebi.ac.uk/vol1/srr/SRR152/000/SRR1523240",
         "BGI-FROZ3",
         "Sample from Homo sapiens"
        ],
        [
         "1",
         "SRR1523242",
         "SRX659778",
         "SAMN02934180",
         "Homo sapiens",
         "Illumina HiSeq 2000",
         "WES of 13 FFPE breast tumor samples and 13 corresponding frozen samples",
         "d312810b83c3c2cb991bfe9e7915b7a7;cfb036afc8f73a1bbe840fcf52570f6e",
         "ftp.sra.ebi.ac.uk/vol1/fastq/SRR152/002/SRR1523242/SRR1523242_1.fastq.gz;ftp.sra.ebi.ac.uk/vol1/fastq/SRR152/002/SRR1523242/SRR1523242_2.fastq.gz",
         "ftp.sra.ebi.ac.uk/vol1/srr/SRR152/002/SRR1523242",
         "BGI-FROZ6",
         "Sample from Homo sapiens"
        ],
        [
         "2",
         "SRR1523243",
         "SRX659779",
         "SAMN02934181",
         "Homo sapiens",
         "Illumina HiSeq 2000",
         "WES of 13 FFPE breast tumor samples and 13 corresponding frozen samples",
         "5cc183bc8031a1d2b146f338e76f8ea3;ff101edc3daf57d41395dcbc0c9e8da3",
         "ftp.sra.ebi.ac.uk/vol1/fastq/SRR152/003/SRR1523243/SRR1523243_1.fastq.gz;ftp.sra.ebi.ac.uk/vol1/fastq/SRR152/003/SRR1523243/SRR1523243_2.fastq.gz",
         "ftp.sra.ebi.ac.uk/vol1/srr/SRR152/003/SRR1523243",
         "BGI-FFPE1",
         "Sample from Homo sapiens"
        ],
        [
         "3",
         "SRR1523244",
         "SRX659780",
         "SAMN02934182",
         "Homo sapiens",
         "Illumina HiSeq 2000",
         "WES of 13 FFPE breast tumor samples and 13 corresponding frozen samples",
         "32793cef24679667017bf7a5d364e44e;91b215c751daef1ae8b1c20c5e5befdf",
         "ftp.sra.ebi.ac.uk/vol1/fastq/SRR152/004/SRR1523244/SRR1523244_1.fastq.gz;ftp.sra.ebi.ac.uk/vol1/fastq/SRR152/004/SRR1523244/SRR1523244_2.fastq.gz",
         "ftp.sra.ebi.ac.uk/vol1/srr/SRR152/004/SRR1523244",
         "BGI-FFPE2",
         "Sample from Homo sapiens"
        ],
        [
         "4",
         "SRR1523245",
         "SRX659781",
         "SAMN02934183",
         "Homo sapiens",
         "Illumina HiSeq 2000",
         "WES of 13 FFPE breast tumor samples and 13 corresponding frozen samples",
         "9fbe4b6582a6dc1d9b2173dd0ba56e1c;93d01f4f996786e64e0628407ca60022",
         "ftp.sra.ebi.ac.uk/vol1/fastq/SRR152/005/SRR1523245/SRR1523245_1.fastq.gz;ftp.sra.ebi.ac.uk/vol1/fastq/SRR152/005/SRR1523245/SRR1523245_2.fastq.gz",
         "ftp.sra.ebi.ac.uk/vol1/srr/SRR152/005/SRR1523245",
         "BGI-FFPE8",
         "Sample from Homo sapiens"
        ],
        [
         "5",
         "SRR1523248",
         "SRX659784",
         "SAMN02934186",
         "Homo sapiens",
         "Illumina HiSeq 2000",
         "WES of 13 FFPE breast tumor samples and 13 corresponding frozen samples",
         "76ca9c3b8c86c6c361b7b20ec21f89a1;c715e9b78e098ffd3a0ced58b122e103",
         "ftp.sra.ebi.ac.uk/vol1/fastq/SRR152/008/SRR1523248/SRR1523248_1.fastq.gz;ftp.sra.ebi.ac.uk/vol1/fastq/SRR152/008/SRR1523248/SRR1523248_2.fastq.gz",
         "ftp.sra.ebi.ac.uk/vol1/srr/SRR152/008/SRR1523248",
         "BGI-FFPE12",
         "Sample from Homo sapiens"
        ],
        [
         "6",
         "SRR1523253",
         "SRX659789",
         "SAMN02934191",
         "Homo sapiens",
         "Illumina HiSeq 2000",
         "WES of 13 FFPE breast tumor samples and 13 corresponding frozen samples",
         "74b0d88946fd648d45e097018e24a411;16aacc43cc81cfcce63444a911b54b39",
         "ftp.sra.ebi.ac.uk/vol1/fastq/SRR152/003/SRR1523253/SRR1523253_1.fastq.gz;ftp.sra.ebi.ac.uk/vol1/fastq/SRR152/003/SRR1523253/SRR1523253_2.fastq.gz",
         "ftp.sra.ebi.ac.uk/vol1/srr/SRR152/003/SRR1523253",
         "BGI-FFPE4",
         "Sample from Homo sapiens"
        ],
        [
         "7",
         "SRR1523255",
         "SRX659791",
         "SAMN02934193",
         "Homo sapiens",
         "Illumina HiSeq 2000",
         "WES of 13 FFPE breast tumor samples and 13 corresponding frozen samples",
         "34b3676c06db46ca74e3765ee875533f;d51969986a1b634e915d7f60c73143da",
         "ftp.sra.ebi.ac.uk/vol1/fastq/SRR152/005/SRR1523255/SRR1523255_1.fastq.gz;ftp.sra.ebi.ac.uk/vol1/fastq/SRR152/005/SRR1523255/SRR1523255_2.fastq.gz",
         "ftp.sra.ebi.ac.uk/vol1/srr/SRR152/005/SRR1523255",
         "BGI-FFPE9",
         "Sample from Homo sapiens"
        ],
        [
         "8",
         "SRR1523256",
         "SRX659792",
         "SAMN02934192",
         "Homo sapiens",
         "Illumina HiSeq 2000",
         "WES of 13 FFPE breast tumor samples and 13 corresponding frozen samples",
         "b7cc36b9ef42c3d13caa5e2644c88315;2762b623bfd4688fd18a2ea4941a490c",
         "ftp.sra.ebi.ac.uk/vol1/fastq/SRR152/006/SRR1523256/SRR1523256_1.fastq.gz;ftp.sra.ebi.ac.uk/vol1/fastq/SRR152/006/SRR1523256/SRR1523256_2.fastq.gz",
         "ftp.sra.ebi.ac.uk/vol1/srr/SRR152/006/SRR1523256",
         "BGI-FFPE6",
         "Sample from Homo sapiens"
        ],
        [
         "9",
         "SRR1523257",
         "SRX659793",
         "SAMN02934181",
         "Homo sapiens",
         "Illumina HiSeq 2000",
         "WES of 13 FFPE breast tumor samples and 13 corresponding frozen samples",
         "036fb379a1074d7a372352c9260cbe24;c5f3ee550a4018946694a83603573664",
         "ftp.sra.ebi.ac.uk/vol1/fastq/SRR152/007/SRR1523257/SRR1523257_1.fastq.gz;ftp.sra.ebi.ac.uk/vol1/fastq/SRR152/007/SRR1523257/SRR1523257_2.fastq.gz",
         "ftp.sra.ebi.ac.uk/vol1/srr/SRR152/007/SRR1523257",
         "BGI-FFPE1",
         "Sample from Homo sapiens"
        ],
        [
         "10",
         "SRR1523258",
         "SRX659794",
         "SAMN02934188",
         "Homo sapiens",
         "Illumina HiSeq 2000",
         "WES of 13 FFPE breast tumor samples and 13 corresponding frozen samples",
         "74cd8ee47bc118746e4c1dbd8fb2e177;f297afd57e372736790f406e700a511a",
         "ftp.sra.ebi.ac.uk/vol1/fastq/SRR152/008/SRR1523258/SRR1523258_1.fastq.gz;ftp.sra.ebi.ac.uk/vol1/fastq/SRR152/008/SRR1523258/SRR1523258_2.fastq.gz",
         "ftp.sra.ebi.ac.uk/vol1/srr/SRR152/008/SRR1523258",
         "BGI-FFPE11",
         "Sample from Homo sapiens"
        ],
        [
         "11",
         "SRR1523262",
         "SRX659798",
         "SAMN02934183",
         "Homo sapiens",
         "Illumina HiSeq 2000",
         "WES of 13 FFPE breast tumor samples and 13 corresponding frozen samples",
         "4231752a960193529d940ab4fd3b77d7;ccbbb39e4c4bd47fe12f27a2f177c345",
         "ftp.sra.ebi.ac.uk/vol1/fastq/SRR152/002/SRR1523262/SRR1523262_1.fastq.gz;ftp.sra.ebi.ac.uk/vol1/fastq/SRR152/002/SRR1523262/SRR1523262_2.fastq.gz",
         "ftp.sra.ebi.ac.uk/vol1/srr/SRR152/002/SRR1523262",
         "BGI-FFPE8",
         "Sample from Homo sapiens"
        ],
        [
         "12",
         "SRR1523263",
         "SRX659799",
         "SAMN02934181",
         "Homo sapiens",
         "Illumina HiSeq 2000",
         "WES of 13 FFPE breast tumor samples and 13 corresponding frozen samples",
         "f9d7fab8c2072118b68dc925f179106a;f7e1da1803ca9dcadd2d0e491b1abe64",
         "ftp.sra.ebi.ac.uk/vol1/fastq/SRR152/003/SRR1523263/SRR1523263_1.fastq.gz;ftp.sra.ebi.ac.uk/vol1/fastq/SRR152/003/SRR1523263/SRR1523263_2.fastq.gz",
         "ftp.sra.ebi.ac.uk/vol1/srr/SRR152/003/SRR1523263",
         "BGI-FFPE1",
         "Sample from Homo sapiens"
        ],
        [
         "13",
         "SRR1523264",
         "SRX659800",
         "SAMN02934182",
         "Homo sapiens",
         "Illumina HiSeq 2000",
         "WES of 13 FFPE breast tumor samples and 13 corresponding frozen samples",
         "d2370f2e36302d091722b0e39d2fe123;8d728be2e3e3da60706d79d6c285f758",
         "ftp.sra.ebi.ac.uk/vol1/fastq/SRR152/004/SRR1523264/SRR1523264_1.fastq.gz;ftp.sra.ebi.ac.uk/vol1/fastq/SRR152/004/SRR1523264/SRR1523264_2.fastq.gz",
         "ftp.sra.ebi.ac.uk/vol1/srr/SRR152/004/SRR1523264",
         "BGI-FFPE2",
         "Sample from Homo sapiens"
        ],
        [
         "14",
         "SRR1523268",
         "SRX659804",
         "SAMN02934191",
         "Homo sapiens",
         "Illumina HiSeq 2000",
         "WES of 13 FFPE breast tumor samples and 13 corresponding frozen samples",
         "358eda80a81a094d462cee4239e3425a;407a95ec80dba50dec399bef358a26ec",
         "ftp.sra.ebi.ac.uk/vol1/fastq/SRR152/008/SRR1523268/SRR1523268_1.fastq.gz;ftp.sra.ebi.ac.uk/vol1/fastq/SRR152/008/SRR1523268/SRR1523268_2.fastq.gz",
         "ftp.sra.ebi.ac.uk/vol1/srr/SRR152/008/SRR1523268",
         "BGI-FFPE4",
         "Sample from Homo sapiens"
        ],
        [
         "15",
         "SRR1523230",
         "SRX659766",
         "SAMN02934168",
         "Homo sapiens",
         "Illumina HiSeq 2000",
         "WES of 13 FFPE breast tumor samples and 13 corresponding frozen samples",
         "729546d1d43d8d97f441ce553e544727;8ceca36bfaeb2ec59fb6649cf003ec70",
         "ftp.sra.ebi.ac.uk/vol1/fastq/SRR152/000/SRR1523230/SRR1523230_1.fastq.gz;ftp.sra.ebi.ac.uk/vol1/fastq/SRR152/000/SRR1523230/SRR1523230_2.fastq.gz",
         "ftp.sra.ebi.ac.uk/vol1/srr/SRR152/000/SRR1523230",
         "BGI-FROZ1",
         "Sample from Homo sapiens"
        ],
        [
         "16",
         "SRR1523231",
         "SRX659767",
         "SAMN02934169",
         "Homo sapiens",
         "Illumina HiSeq 2000",
         "WES of 13 FFPE breast tumor samples and 13 corresponding frozen samples",
         "cb83c124d8370b78cdd7d725ee44028e;f65eaecf9a382a8939b639da304c9300",
         "ftp.sra.ebi.ac.uk/vol1/fastq/SRR152/001/SRR1523231/SRR1523231_1.fastq.gz;ftp.sra.ebi.ac.uk/vol1/fastq/SRR152/001/SRR1523231/SRR1523231_2.fastq.gz",
         "ftp.sra.ebi.ac.uk/vol1/srr/SRR152/001/SRR1523231",
         "BGI-FROZ2",
         "Sample from Homo sapiens"
        ],
        [
         "17",
         "SRR1523234",
         "SRX659770",
         "SAMN02934172",
         "Homo sapiens",
         "Illumina HiSeq 2000",
         "WES of 13 FFPE breast tumor samples and 13 corresponding frozen samples",
         "211518f4a01f36b3a34237a825e373dc;0989f205b0734c896a6b09ffa266a0dc",
         "ftp.sra.ebi.ac.uk/vol1/fastq/SRR152/004/SRR1523234/SRR1523234_1.fastq.gz;ftp.sra.ebi.ac.uk/vol1/fastq/SRR152/004/SRR1523234/SRR1523234_2.fastq.gz",
         "ftp.sra.ebi.ac.uk/vol1/srr/SRR152/004/SRR1523234",
         "BGI-FROZ7",
         "Sample from Homo sapiens"
        ],
        [
         "18",
         "SRR1523237",
         "SRX659773",
         "SAMN02934175",
         "Homo sapiens",
         "Illumina HiSeq 2000",
         "WES of 13 FFPE breast tumor samples and 13 corresponding frozen samples",
         "7ab0a905e6c8e315abc41497a4d39e79;a5bb5a91b119232901bd122f10872502",
         "ftp.sra.ebi.ac.uk/vol1/fastq/SRR152/007/SRR1523237/SRR1523237_1.fastq.gz;ftp.sra.ebi.ac.uk/vol1/fastq/SRR152/007/SRR1523237/SRR1523237_2.fastq.gz",
         "ftp.sra.ebi.ac.uk/vol1/srr/SRR152/007/SRR1523237",
         "BGI-FROZ13",
         "Sample from Homo sapiens"
        ],
        [
         "19",
         "SRR1523239",
         "SRX659775",
         "SAMN02934177",
         "Homo sapiens",
         "Illumina HiSeq 2000",
         "WES of 13 FFPE breast tumor samples and 13 corresponding frozen samples",
         "6288f4a7ee1a9b0b8000fecb273d5ab8;7013050b70530e93615c6ab42338d32e",
         "ftp.sra.ebi.ac.uk/vol1/fastq/SRR152/009/SRR1523239/SRR1523239_1.fastq.gz;ftp.sra.ebi.ac.uk/vol1/fastq/SRR152/009/SRR1523239/SRR1523239_2.fastq.gz",
         "ftp.sra.ebi.ac.uk/vol1/srr/SRR152/009/SRR1523239",
         "BGI-FROZ4",
         "Sample from Homo sapiens"
        ],
        [
         "20",
         "SRR1523247",
         "SRX659783",
         "SAMN02934185",
         "Homo sapiens",
         "Illumina HiSeq 2000",
         "WES of 13 FFPE breast tumor samples and 13 corresponding frozen samples",
         "7a42c509712a26d9cb8c9a3175fe97e6;508058ac965a2f7a630e2e27268897ee",
         "ftp.sra.ebi.ac.uk/vol1/fastq/SRR152/007/SRR1523247/SRR1523247_1.fastq.gz;ftp.sra.ebi.ac.uk/vol1/fastq/SRR152/007/SRR1523247/SRR1523247_2.fastq.gz",
         "ftp.sra.ebi.ac.uk/vol1/srr/SRR152/007/SRR1523247",
         "BGI-FFPE7",
         "Sample from Homo sapiens"
        ],
        [
         "21",
         "SRR1523251",
         "SRX659787",
         "SAMN02934189",
         "Homo sapiens",
         "Illumina HiSeq 2000",
         "WES of 13 FFPE breast tumor samples and 13 corresponding frozen samples",
         "c3ea74da894508c310e38469e6a2e9f6;265eb6de33773c0a3d882e8b4576f9eb",
         "ftp.sra.ebi.ac.uk/vol1/fastq/SRR152/001/SRR1523251/SRR1523251_1.fastq.gz;ftp.sra.ebi.ac.uk/vol1/fastq/SRR152/001/SRR1523251/SRR1523251_2.fastq.gz",
         "ftp.sra.ebi.ac.uk/vol1/srr/SRR152/001/SRR1523251",
         "BGI-FFPE3",
         "Sample from Homo sapiens"
        ],
        [
         "22",
         "SRR1523266",
         "SRX659802",
         "SAMN02934185",
         "Homo sapiens",
         "Illumina HiSeq 2000",
         "WES of 13 FFPE breast tumor samples and 13 corresponding frozen samples",
         "2c9097f63392d0e47df9c1dbae2d3c24;b7253c8673903a7567dc1691303caf26",
         "ftp.sra.ebi.ac.uk/vol1/fastq/SRR152/006/SRR1523266/SRR1523266_1.fastq.gz;ftp.sra.ebi.ac.uk/vol1/fastq/SRR152/006/SRR1523266/SRR1523266_2.fastq.gz",
         "ftp.sra.ebi.ac.uk/vol1/srr/SRR152/006/SRR1523266",
         "BGI-FFPE7",
         "Sample from Homo sapiens"
        ],
        [
         "23",
         "SRR1523267",
         "SRX659803",
         "SAMN02934187",
         "Homo sapiens",
         "Illumina HiSeq 2000",
         "WES of 13 FFPE breast tumor samples and 13 corresponding frozen samples",
         "e1d280e5ca57d0c9bbe7a0bf3e60178e;f93ac2ea8fa4ccb3c6cf9107eb46a4b8",
         "ftp.sra.ebi.ac.uk/vol1/fastq/SRR152/007/SRR1523267/SRR1523267_1.fastq.gz;ftp.sra.ebi.ac.uk/vol1/fastq/SRR152/007/SRR1523267/SRR1523267_2.fastq.gz",
         "ftp.sra.ebi.ac.uk/vol1/srr/SRR152/007/SRR1523267",
         "BGI-FFPE13",
         "Sample from Homo sapiens"
        ],
        [
         "24",
         "SRR1523269",
         "SRX659805",
         "SAMN02934189",
         "Homo sapiens",
         "Illumina HiSeq 2000",
         "WES of 13 FFPE breast tumor samples and 13 corresponding frozen samples",
         "d8c5891864f75c1bbb8cd30cfac1ece8;54b5a2f811a10248b5aa2994a4a2ab76",
         "ftp.sra.ebi.ac.uk/vol1/fastq/SRR152/009/SRR1523269/SRR1523269_1.fastq.gz;ftp.sra.ebi.ac.uk/vol1/fastq/SRR152/009/SRR1523269/SRR1523269_2.fastq.gz",
         "ftp.sra.ebi.ac.uk/vol1/srr/SRR152/009/SRR1523269",
         "BGI-FFPE3",
         "Sample from Homo sapiens"
        ],
        [
         "25",
         "SRR1523232",
         "SRX659768",
         "SAMN02934170",
         "Homo sapiens",
         "Illumina HiSeq 2000",
         "WES of 13 FFPE breast tumor samples and 13 corresponding frozen samples",
         "619cb6b9cb5582b7c793639865e3a01e;9ff4cc216ffe421e071d17a11f9d4a6f",
         "ftp.sra.ebi.ac.uk/vol1/fastq/SRR152/002/SRR1523232/SRR1523232_1.fastq.gz;ftp.sra.ebi.ac.uk/vol1/fastq/SRR152/002/SRR1523232/SRR1523232_2.fastq.gz",
         "ftp.sra.ebi.ac.uk/vol1/srr/SRR152/002/SRR1523232",
         "BGI-FROZ8",
         "Sample from Homo sapiens"
        ],
        [
         "26",
         "SRR1523233",
         "SRX659769",
         "SAMN02934171",
         "Homo sapiens",
         "Illumina HiSeq 2000",
         "WES of 13 FFPE breast tumor samples and 13 corresponding frozen samples",
         "df367974008a0d4d9edbf8df00745591;daa66be7acef41688a022c8d6a0dc56b",
         "ftp.sra.ebi.ac.uk/vol1/fastq/SRR152/003/SRR1523233/SRR1523233_1.fastq.gz;ftp.sra.ebi.ac.uk/vol1/fastq/SRR152/003/SRR1523233/SRR1523233_2.fastq.gz",
         "ftp.sra.ebi.ac.uk/vol1/srr/SRR152/003/SRR1523233",
         "BGI-FROZ10",
         "Sample from Homo sapiens"
        ],
        [
         "27",
         "SRR1523235",
         "SRX659771",
         "SAMN02934173",
         "Homo sapiens",
         "Illumina HiSeq 2000",
         "WES of 13 FFPE breast tumor samples and 13 corresponding frozen samples",
         "2d7c08079f1f1b726794922a5407cbb2;8d5be071fe5949abff1e1ebaf1bc4716",
         "ftp.sra.ebi.ac.uk/vol1/fastq/SRR152/005/SRR1523235/SRR1523235_1.fastq.gz;ftp.sra.ebi.ac.uk/vol1/fastq/SRR152/005/SRR1523235/SRR1523235_2.fastq.gz",
         "ftp.sra.ebi.ac.uk/vol1/srr/SRR152/005/SRR1523235",
         "BGI-FROZ12",
         "Sample from Homo sapiens"
        ],
        [
         "28",
         "SRR1523236",
         "SRX659772",
         "SAMN02934174",
         "Homo sapiens",
         "Illumina HiSeq 2000",
         "WES of 13 FFPE breast tumor samples and 13 corresponding frozen samples",
         "675be3214cd2d85e5f01be32aa580636;261b26e94373593b4756f3fc2fe729e7",
         "ftp.sra.ebi.ac.uk/vol1/fastq/SRR152/006/SRR1523236/SRR1523236_1.fastq.gz;ftp.sra.ebi.ac.uk/vol1/fastq/SRR152/006/SRR1523236/SRR1523236_2.fastq.gz",
         "ftp.sra.ebi.ac.uk/vol1/srr/SRR152/006/SRR1523236",
         "BGI-FROZ11",
         "Sample from Homo sapiens"
        ],
        [
         "29",
         "SRR1523238",
         "SRX659774",
         "SAMN02934176",
         "Homo sapiens",
         "Illumina HiSeq 2000",
         "WES of 13 FFPE breast tumor samples and 13 corresponding frozen samples",
         "d4af06ef99782394d22a318e0acc6f59;67ae78411ac02bf0811d06d3a1a5d0aa",
         "ftp.sra.ebi.ac.uk/vol1/fastq/SRR152/008/SRR1523238/SRR1523238_1.fastq.gz;ftp.sra.ebi.ac.uk/vol1/fastq/SRR152/008/SRR1523238/SRR1523238_2.fastq.gz",
         "ftp.sra.ebi.ac.uk/vol1/srr/SRR152/008/SRR1523238",
         "BGI-FROZ5",
         "Sample from Homo sapiens"
        ],
        [
         "30",
         "SRR1523241",
         "SRX659777",
         "SAMN02934179",
         "Homo sapiens",
         "Illumina HiSeq 2000",
         "WES of 13 FFPE breast tumor samples and 13 corresponding frozen samples",
         "cfcc3ab88230ac95c5d64fcae893a4ae;f3295c7d075a340710f20e35b5adfb58",
         "ftp.sra.ebi.ac.uk/vol1/fastq/SRR152/001/SRR1523241/SRR1523241_1.fastq.gz;ftp.sra.ebi.ac.uk/vol1/fastq/SRR152/001/SRR1523241/SRR1523241_2.fastq.gz",
         "ftp.sra.ebi.ac.uk/vol1/srr/SRR152/001/SRR1523241",
         "BGI-FROZ9",
         "Sample from Homo sapiens"
        ],
        [
         "31",
         "SRR1523246",
         "SRX659782",
         "SAMN02934184",
         "Homo sapiens",
         "Illumina HiSeq 2000",
         "WES of 13 FFPE breast tumor samples and 13 corresponding frozen samples",
         "62c428bbc2700cf16b9bec0f6d083bb9;e948b05757c608bafcb84f2b4e45edab",
         "ftp.sra.ebi.ac.uk/vol1/fastq/SRR152/006/SRR1523246/SRR1523246_1.fastq.gz;ftp.sra.ebi.ac.uk/vol1/fastq/SRR152/006/SRR1523246/SRR1523246_2.fastq.gz",
         "ftp.sra.ebi.ac.uk/vol1/srr/SRR152/006/SRR1523246",
         "BGI-FFPE10",
         "Sample from Homo sapiens"
        ],
        [
         "32",
         "SRR1523249",
         "SRX659785",
         "SAMN02934187",
         "Homo sapiens",
         "Illumina HiSeq 2000",
         "WES of 13 FFPE breast tumor samples and 13 corresponding frozen samples",
         "a1c5d3e8f49ca6913bb3e3b989d80b75;ac930fb8d88d68fac078d7216eb4a24f",
         "ftp.sra.ebi.ac.uk/vol1/fastq/SRR152/009/SRR1523249/SRR1523249_1.fastq.gz;ftp.sra.ebi.ac.uk/vol1/fastq/SRR152/009/SRR1523249/SRR1523249_2.fastq.gz",
         "ftp.sra.ebi.ac.uk/vol1/srr/SRR152/009/SRR1523249",
         "BGI-FFPE13",
         "Sample from Homo sapiens"
        ],
        [
         "33",
         "SRR1523250",
         "SRX659786",
         "SAMN02934188",
         "Homo sapiens",
         "Illumina HiSeq 2000",
         "WES of 13 FFPE breast tumor samples and 13 corresponding frozen samples",
         "4b798ddd31ae2b51575d1866f3d2ad72;77b1ceafb07a3b5a09f14103b3c08855",
         "ftp.sra.ebi.ac.uk/vol1/fastq/SRR152/000/SRR1523250/SRR1523250_1.fastq.gz;ftp.sra.ebi.ac.uk/vol1/fastq/SRR152/000/SRR1523250/SRR1523250_2.fastq.gz",
         "ftp.sra.ebi.ac.uk/vol1/srr/SRR152/000/SRR1523250",
         "BGI-FFPE11",
         "Sample from Homo sapiens"
        ],
        [
         "34",
         "SRR1523252",
         "SRX659788",
         "SAMN02934190",
         "Homo sapiens",
         "Illumina HiSeq 2000",
         "WES of 13 FFPE breast tumor samples and 13 corresponding frozen samples",
         "f071cae6191f92d80b9c5438ef7c75a6;fba0cc2b0a7c0f7528d3a5664e2e8644",
         "ftp.sra.ebi.ac.uk/vol1/fastq/SRR152/002/SRR1523252/SRR1523252_1.fastq.gz;ftp.sra.ebi.ac.uk/vol1/fastq/SRR152/002/SRR1523252/SRR1523252_2.fastq.gz",
         "ftp.sra.ebi.ac.uk/vol1/srr/SRR152/002/SRR1523252",
         "BGI-FFPE5",
         "Sample from Homo sapiens"
        ],
        [
         "35",
         "SRR1523254",
         "SRX659790",
         "SAMN02934192",
         "Homo sapiens",
         "Illumina HiSeq 2000",
         "WES of 13 FFPE breast tumor samples and 13 corresponding frozen samples",
         "7f23adebc0b409b8fa8721ffb10df7ae;ce6f979decaf15a140c97c8a3c38310c",
         "ftp.sra.ebi.ac.uk/vol1/fastq/SRR152/004/SRR1523254/SRR1523254_1.fastq.gz;ftp.sra.ebi.ac.uk/vol1/fastq/SRR152/004/SRR1523254/SRR1523254_2.fastq.gz",
         "ftp.sra.ebi.ac.uk/vol1/srr/SRR152/004/SRR1523254",
         "BGI-FFPE6",
         "Sample from Homo sapiens"
        ],
        [
         "36",
         "SRR1523259",
         "SRX659795",
         "SAMN02934186",
         "Homo sapiens",
         "Illumina HiSeq 2000",
         "WES of 13 FFPE breast tumor samples and 13 corresponding frozen samples",
         "5e079acc63c38a3c4aa7d7dc32f4ef36;060dae0bc0231377f3be7e7d96037f48",
         "ftp.sra.ebi.ac.uk/vol1/fastq/SRR152/009/SRR1523259/SRR1523259_1.fastq.gz;ftp.sra.ebi.ac.uk/vol1/fastq/SRR152/009/SRR1523259/SRR1523259_2.fastq.gz",
         "ftp.sra.ebi.ac.uk/vol1/srr/SRR152/009/SRR1523259",
         "BGI-FFPE12",
         "Sample from Homo sapiens"
        ],
        [
         "37",
         "SRR1523260",
         "SRX659796",
         "SAMN02934184",
         "Homo sapiens",
         "Illumina HiSeq 2000",
         "WES of 13 FFPE breast tumor samples and 13 corresponding frozen samples",
         "d6ab9ad9b7fe337ec3c069b2846c8e98;88228efa9fb554070ea3fcbf873a3f6c",
         "ftp.sra.ebi.ac.uk/vol1/fastq/SRR152/000/SRR1523260/SRR1523260_1.fastq.gz;ftp.sra.ebi.ac.uk/vol1/fastq/SRR152/000/SRR1523260/SRR1523260_2.fastq.gz",
         "ftp.sra.ebi.ac.uk/vol1/srr/SRR152/000/SRR1523260",
         "BGI-FFPE10",
         "Sample from Homo sapiens"
        ],
        [
         "38",
         "SRR1523261",
         "SRX659797",
         "SAMN02934190",
         "Homo sapiens",
         "Illumina HiSeq 2000",
         "WES of 13 FFPE breast tumor samples and 13 corresponding frozen samples",
         "ecb9c7416e7337cf8f3146fe032895e5;ba3cf9950dfd40bc39ad0d48019c695d",
         "ftp.sra.ebi.ac.uk/vol1/fastq/SRR152/001/SRR1523261/SRR1523261_1.fastq.gz;ftp.sra.ebi.ac.uk/vol1/fastq/SRR152/001/SRR1523261/SRR1523261_2.fastq.gz",
         "ftp.sra.ebi.ac.uk/vol1/srr/SRR152/001/SRR1523261",
         "BGI-FFPE5",
         "Sample from Homo sapiens"
        ],
        [
         "39",
         "SRR1523265",
         "SRX659801",
         "SAMN02934184",
         "Homo sapiens",
         "Illumina HiSeq 2000",
         "WES of 13 FFPE breast tumor samples and 13 corresponding frozen samples",
         "48deec2a18f1cbbe70074b83c5a3761f;7b9a8727ba8567549104e1a696185e98",
         "ftp.sra.ebi.ac.uk/vol1/fastq/SRR152/005/SRR1523265/SRR1523265_1.fastq.gz;ftp.sra.ebi.ac.uk/vol1/fastq/SRR152/005/SRR1523265/SRR1523265_2.fastq.gz",
         "ftp.sra.ebi.ac.uk/vol1/srr/SRR152/005/SRR1523265",
         "BGI-FFPE10",
         "Sample from Homo sapiens"
        ]
       ],
       "shape": {
        "columns": 11,
        "rows": 40
       }
      },
      "text/html": [
       "<div><style>\n",
       ".dataframe > thead > tr,\n",
       ".dataframe > tbody > tr {\n",
       "  text-align: right;\n",
       "  white-space: pre-wrap;\n",
       "}\n",
       "</style>\n",
       "<small>shape: (40, 11)</small><table border=\"1\" class=\"dataframe\"><thead><tr><th>run_accession</th><th>experiment_accession</th><th>sample_accession</th><th>scientific_name</th><th>instrument_model</th><th>study_title</th><th>fastq_md5</th><th>fastq_ftp</th><th>sra_ftp</th><th>sample_alias</th><th>sample_title</th></tr><tr><td>str</td><td>str</td><td>str</td><td>str</td><td>str</td><td>str</td><td>str</td><td>str</td><td>str</td><td>str</td><td>str</td></tr></thead><tbody><tr><td>&quot;SRR1523240&quot;</td><td>&quot;SRX659776&quot;</td><td>&quot;SAMN02934178&quot;</td><td>&quot;Homo sapiens&quot;</td><td>&quot;Illumina HiSeq 2000&quot;</td><td>&quot;WES of 13 FFPE breast tumor sa…</td><td>&quot;1a53bc5402125072b95bace7108183…</td><td>&quot;ftp.sra.ebi.ac.uk/vol1/fastq/S…</td><td>&quot;ftp.sra.ebi.ac.uk/vol1/srr/SRR…</td><td>&quot;BGI-FROZ3&quot;</td><td>&quot;Sample from Homo sapiens&quot;</td></tr><tr><td>&quot;SRR1523242&quot;</td><td>&quot;SRX659778&quot;</td><td>&quot;SAMN02934180&quot;</td><td>&quot;Homo sapiens&quot;</td><td>&quot;Illumina HiSeq 2000&quot;</td><td>&quot;WES of 13 FFPE breast tumor sa…</td><td>&quot;d312810b83c3c2cb991bfe9e7915b7…</td><td>&quot;ftp.sra.ebi.ac.uk/vol1/fastq/S…</td><td>&quot;ftp.sra.ebi.ac.uk/vol1/srr/SRR…</td><td>&quot;BGI-FROZ6&quot;</td><td>&quot;Sample from Homo sapiens&quot;</td></tr><tr><td>&quot;SRR1523243&quot;</td><td>&quot;SRX659779&quot;</td><td>&quot;SAMN02934181&quot;</td><td>&quot;Homo sapiens&quot;</td><td>&quot;Illumina HiSeq 2000&quot;</td><td>&quot;WES of 13 FFPE breast tumor sa…</td><td>&quot;5cc183bc8031a1d2b146f338e76f8e…</td><td>&quot;ftp.sra.ebi.ac.uk/vol1/fastq/S…</td><td>&quot;ftp.sra.ebi.ac.uk/vol1/srr/SRR…</td><td>&quot;BGI-FFPE1&quot;</td><td>&quot;Sample from Homo sapiens&quot;</td></tr><tr><td>&quot;SRR1523244&quot;</td><td>&quot;SRX659780&quot;</td><td>&quot;SAMN02934182&quot;</td><td>&quot;Homo sapiens&quot;</td><td>&quot;Illumina HiSeq 2000&quot;</td><td>&quot;WES of 13 FFPE breast tumor sa…</td><td>&quot;32793cef24679667017bf7a5d364e4…</td><td>&quot;ftp.sra.ebi.ac.uk/vol1/fastq/S…</td><td>&quot;ftp.sra.ebi.ac.uk/vol1/srr/SRR…</td><td>&quot;BGI-FFPE2&quot;</td><td>&quot;Sample from Homo sapiens&quot;</td></tr><tr><td>&quot;SRR1523245&quot;</td><td>&quot;SRX659781&quot;</td><td>&quot;SAMN02934183&quot;</td><td>&quot;Homo sapiens&quot;</td><td>&quot;Illumina HiSeq 2000&quot;</td><td>&quot;WES of 13 FFPE breast tumor sa…</td><td>&quot;9fbe4b6582a6dc1d9b2173dd0ba56e…</td><td>&quot;ftp.sra.ebi.ac.uk/vol1/fastq/S…</td><td>&quot;ftp.sra.ebi.ac.uk/vol1/srr/SRR…</td><td>&quot;BGI-FFPE8&quot;</td><td>&quot;Sample from Homo sapiens&quot;</td></tr><tr><td>&hellip;</td><td>&hellip;</td><td>&hellip;</td><td>&hellip;</td><td>&hellip;</td><td>&hellip;</td><td>&hellip;</td><td>&hellip;</td><td>&hellip;</td><td>&hellip;</td><td>&hellip;</td></tr><tr><td>&quot;SRR1523254&quot;</td><td>&quot;SRX659790&quot;</td><td>&quot;SAMN02934192&quot;</td><td>&quot;Homo sapiens&quot;</td><td>&quot;Illumina HiSeq 2000&quot;</td><td>&quot;WES of 13 FFPE breast tumor sa…</td><td>&quot;7f23adebc0b409b8fa8721ffb10df7…</td><td>&quot;ftp.sra.ebi.ac.uk/vol1/fastq/S…</td><td>&quot;ftp.sra.ebi.ac.uk/vol1/srr/SRR…</td><td>&quot;BGI-FFPE6&quot;</td><td>&quot;Sample from Homo sapiens&quot;</td></tr><tr><td>&quot;SRR1523259&quot;</td><td>&quot;SRX659795&quot;</td><td>&quot;SAMN02934186&quot;</td><td>&quot;Homo sapiens&quot;</td><td>&quot;Illumina HiSeq 2000&quot;</td><td>&quot;WES of 13 FFPE breast tumor sa…</td><td>&quot;5e079acc63c38a3c4aa7d7dc32f4ef…</td><td>&quot;ftp.sra.ebi.ac.uk/vol1/fastq/S…</td><td>&quot;ftp.sra.ebi.ac.uk/vol1/srr/SRR…</td><td>&quot;BGI-FFPE12&quot;</td><td>&quot;Sample from Homo sapiens&quot;</td></tr><tr><td>&quot;SRR1523260&quot;</td><td>&quot;SRX659796&quot;</td><td>&quot;SAMN02934184&quot;</td><td>&quot;Homo sapiens&quot;</td><td>&quot;Illumina HiSeq 2000&quot;</td><td>&quot;WES of 13 FFPE breast tumor sa…</td><td>&quot;d6ab9ad9b7fe337ec3c069b2846c8e…</td><td>&quot;ftp.sra.ebi.ac.uk/vol1/fastq/S…</td><td>&quot;ftp.sra.ebi.ac.uk/vol1/srr/SRR…</td><td>&quot;BGI-FFPE10&quot;</td><td>&quot;Sample from Homo sapiens&quot;</td></tr><tr><td>&quot;SRR1523261&quot;</td><td>&quot;SRX659797&quot;</td><td>&quot;SAMN02934190&quot;</td><td>&quot;Homo sapiens&quot;</td><td>&quot;Illumina HiSeq 2000&quot;</td><td>&quot;WES of 13 FFPE breast tumor sa…</td><td>&quot;ecb9c7416e7337cf8f3146fe032895…</td><td>&quot;ftp.sra.ebi.ac.uk/vol1/fastq/S…</td><td>&quot;ftp.sra.ebi.ac.uk/vol1/srr/SRR…</td><td>&quot;BGI-FFPE5&quot;</td><td>&quot;Sample from Homo sapiens&quot;</td></tr><tr><td>&quot;SRR1523265&quot;</td><td>&quot;SRX659801&quot;</td><td>&quot;SAMN02934184&quot;</td><td>&quot;Homo sapiens&quot;</td><td>&quot;Illumina HiSeq 2000&quot;</td><td>&quot;WES of 13 FFPE breast tumor sa…</td><td>&quot;48deec2a18f1cbbe70074b83c5a376…</td><td>&quot;ftp.sra.ebi.ac.uk/vol1/fastq/S…</td><td>&quot;ftp.sra.ebi.ac.uk/vol1/srr/SRR…</td><td>&quot;BGI-FFPE10&quot;</td><td>&quot;Sample from Homo sapiens&quot;</td></tr></tbody></table></div>"
      ],
      "text/plain": [
       "shape: (40, 11)\n",
       "┌───────────┬───────────┬───────────┬───────────┬───┬───────────┬───────────┬───────────┬──────────┐\n",
       "│ run_acces ┆ experimen ┆ sample_ac ┆ scientifi ┆ … ┆ fastq_ftp ┆ sra_ftp   ┆ sample_al ┆ sample_t │\n",
       "│ sion      ┆ t_accessi ┆ cession   ┆ c_name    ┆   ┆ ---       ┆ ---       ┆ ias       ┆ itle     │\n",
       "│ ---       ┆ on        ┆ ---       ┆ ---       ┆   ┆ str       ┆ str       ┆ ---       ┆ ---      │\n",
       "│ str       ┆ ---       ┆ str       ┆ str       ┆   ┆           ┆           ┆ str       ┆ str      │\n",
       "│           ┆ str       ┆           ┆           ┆   ┆           ┆           ┆           ┆          │\n",
       "╞═══════════╪═══════════╪═══════════╪═══════════╪═══╪═══════════╪═══════════╪═══════════╪══════════╡\n",
       "│ SRR152324 ┆ SRX659776 ┆ SAMN02934 ┆ Homo      ┆ … ┆ ftp.sra.e ┆ ftp.sra.e ┆ BGI-FROZ3 ┆ Sample   │\n",
       "│ 0         ┆           ┆ 178       ┆ sapiens   ┆   ┆ bi.ac.uk/ ┆ bi.ac.uk/ ┆           ┆ from     │\n",
       "│           ┆           ┆           ┆           ┆   ┆ vol1/fast ┆ vol1/srr/ ┆           ┆ Homo     │\n",
       "│           ┆           ┆           ┆           ┆   ┆ q/S…      ┆ SRR…      ┆           ┆ sapiens  │\n",
       "│ SRR152324 ┆ SRX659778 ┆ SAMN02934 ┆ Homo      ┆ … ┆ ftp.sra.e ┆ ftp.sra.e ┆ BGI-FROZ6 ┆ Sample   │\n",
       "│ 2         ┆           ┆ 180       ┆ sapiens   ┆   ┆ bi.ac.uk/ ┆ bi.ac.uk/ ┆           ┆ from     │\n",
       "│           ┆           ┆           ┆           ┆   ┆ vol1/fast ┆ vol1/srr/ ┆           ┆ Homo     │\n",
       "│           ┆           ┆           ┆           ┆   ┆ q/S…      ┆ SRR…      ┆           ┆ sapiens  │\n",
       "│ SRR152324 ┆ SRX659779 ┆ SAMN02934 ┆ Homo      ┆ … ┆ ftp.sra.e ┆ ftp.sra.e ┆ BGI-FFPE1 ┆ Sample   │\n",
       "│ 3         ┆           ┆ 181       ┆ sapiens   ┆   ┆ bi.ac.uk/ ┆ bi.ac.uk/ ┆           ┆ from     │\n",
       "│           ┆           ┆           ┆           ┆   ┆ vol1/fast ┆ vol1/srr/ ┆           ┆ Homo     │\n",
       "│           ┆           ┆           ┆           ┆   ┆ q/S…      ┆ SRR…      ┆           ┆ sapiens  │\n",
       "│ SRR152324 ┆ SRX659780 ┆ SAMN02934 ┆ Homo      ┆ … ┆ ftp.sra.e ┆ ftp.sra.e ┆ BGI-FFPE2 ┆ Sample   │\n",
       "│ 4         ┆           ┆ 182       ┆ sapiens   ┆   ┆ bi.ac.uk/ ┆ bi.ac.uk/ ┆           ┆ from     │\n",
       "│           ┆           ┆           ┆           ┆   ┆ vol1/fast ┆ vol1/srr/ ┆           ┆ Homo     │\n",
       "│           ┆           ┆           ┆           ┆   ┆ q/S…      ┆ SRR…      ┆           ┆ sapiens  │\n",
       "│ SRR152324 ┆ SRX659781 ┆ SAMN02934 ┆ Homo      ┆ … ┆ ftp.sra.e ┆ ftp.sra.e ┆ BGI-FFPE8 ┆ Sample   │\n",
       "│ 5         ┆           ┆ 183       ┆ sapiens   ┆   ┆ bi.ac.uk/ ┆ bi.ac.uk/ ┆           ┆ from     │\n",
       "│           ┆           ┆           ┆           ┆   ┆ vol1/fast ┆ vol1/srr/ ┆           ┆ Homo     │\n",
       "│           ┆           ┆           ┆           ┆   ┆ q/S…      ┆ SRR…      ┆           ┆ sapiens  │\n",
       "│ …         ┆ …         ┆ …         ┆ …         ┆ … ┆ …         ┆ …         ┆ …         ┆ …        │\n",
       "│ SRR152325 ┆ SRX659790 ┆ SAMN02934 ┆ Homo      ┆ … ┆ ftp.sra.e ┆ ftp.sra.e ┆ BGI-FFPE6 ┆ Sample   │\n",
       "│ 4         ┆           ┆ 192       ┆ sapiens   ┆   ┆ bi.ac.uk/ ┆ bi.ac.uk/ ┆           ┆ from     │\n",
       "│           ┆           ┆           ┆           ┆   ┆ vol1/fast ┆ vol1/srr/ ┆           ┆ Homo     │\n",
       "│           ┆           ┆           ┆           ┆   ┆ q/S…      ┆ SRR…      ┆           ┆ sapiens  │\n",
       "│ SRR152325 ┆ SRX659795 ┆ SAMN02934 ┆ Homo      ┆ … ┆ ftp.sra.e ┆ ftp.sra.e ┆ BGI-FFPE1 ┆ Sample   │\n",
       "│ 9         ┆           ┆ 186       ┆ sapiens   ┆   ┆ bi.ac.uk/ ┆ bi.ac.uk/ ┆ 2         ┆ from     │\n",
       "│           ┆           ┆           ┆           ┆   ┆ vol1/fast ┆ vol1/srr/ ┆           ┆ Homo     │\n",
       "│           ┆           ┆           ┆           ┆   ┆ q/S…      ┆ SRR…      ┆           ┆ sapiens  │\n",
       "│ SRR152326 ┆ SRX659796 ┆ SAMN02934 ┆ Homo      ┆ … ┆ ftp.sra.e ┆ ftp.sra.e ┆ BGI-FFPE1 ┆ Sample   │\n",
       "│ 0         ┆           ┆ 184       ┆ sapiens   ┆   ┆ bi.ac.uk/ ┆ bi.ac.uk/ ┆ 0         ┆ from     │\n",
       "│           ┆           ┆           ┆           ┆   ┆ vol1/fast ┆ vol1/srr/ ┆           ┆ Homo     │\n",
       "│           ┆           ┆           ┆           ┆   ┆ q/S…      ┆ SRR…      ┆           ┆ sapiens  │\n",
       "│ SRR152326 ┆ SRX659797 ┆ SAMN02934 ┆ Homo      ┆ … ┆ ftp.sra.e ┆ ftp.sra.e ┆ BGI-FFPE5 ┆ Sample   │\n",
       "│ 1         ┆           ┆ 190       ┆ sapiens   ┆   ┆ bi.ac.uk/ ┆ bi.ac.uk/ ┆           ┆ from     │\n",
       "│           ┆           ┆           ┆           ┆   ┆ vol1/fast ┆ vol1/srr/ ┆           ┆ Homo     │\n",
       "│           ┆           ┆           ┆           ┆   ┆ q/S…      ┆ SRR…      ┆           ┆ sapiens  │\n",
       "│ SRR152326 ┆ SRX659801 ┆ SAMN02934 ┆ Homo      ┆ … ┆ ftp.sra.e ┆ ftp.sra.e ┆ BGI-FFPE1 ┆ Sample   │\n",
       "│ 5         ┆           ┆ 184       ┆ sapiens   ┆   ┆ bi.ac.uk/ ┆ bi.ac.uk/ ┆ 0         ┆ from     │\n",
       "│           ┆           ┆           ┆           ┆   ┆ vol1/fast ┆ vol1/srr/ ┆           ┆ Homo     │\n",
       "│           ┆           ┆           ┆           ┆   ┆ q/S…      ┆ SRR…      ┆           ┆ sapiens  │\n",
       "└───────────┴───────────┴───────────┴───────────┴───┴───────────┴───────────┴───────────┴──────────┘"
      ]
     },
     "execution_count": 8,
     "metadata": {},
     "output_type": "execute_result"
    }
   ],
   "source": [
    "sample_info = pl.read_csv(\"sample-info_stage0.tsv\", separator=\"\\t\")\n",
    "sample_info"
   ]
  },
  {
   "cell_type": "code",
   "execution_count": 25,
   "id": "2349966c",
   "metadata": {},
   "outputs": [],
   "source": [
    "new_sample_info = (\n",
    "\tsample_info\n",
    "\t.with_columns([\n",
    "\t\tpl.col(\"sample_alias\").str.replace(\"BGI-FROZ\", \"\").str.replace(\"BGI-FFPE\", \"\").cast(int).alias(\"sample_number\"),\n",
    "\t\tpl.col(\"sample_alias\").str.replace(\"BGI-\", \"\").str.replace(r\"\\d+$\", \"\").alias(\"sample_type\")\n",
    "\t])\n",
    "\t.sort(\"sample_number\")\n",
    "\t.select(['study_title','sample_number','sample_type','run_accession','experiment_accession','sample_accession','scientific_name','sample_alias','instrument_model','fastq_md5','fastq_ftp'])\n",
    ")\n",
    "\n",
    "new_sample_info.write_csv(\"sample-info_stage1.tsv\", separator=\"\\t\")"
   ]
  },
  {
   "cell_type": "code",
   "execution_count": 24,
   "id": "15b0f0f5",
   "metadata": {},
   "outputs": [],
   "source": [
    "sample_count = (\n",
    "\tnew_sample_info\n",
    "\t.group_by([\"sample_number\"])\n",
    "\t.agg([\n",
    "\t\t(pl.col(\"sample_type\") == \"FFPE\").sum().alias(\"n_ffpe\"),\n",
    "\t\t(pl.col(\"sample_type\") == \"FROZ\").sum().alias(\"n_frozen\")\n",
    "\t])\n",
    ")\n",
    "\n",
    "sample_count.write_csv(\"sample-count.tsv\", separator=\"\\t\")"
   ]
  },
  {
   "cell_type": "code",
   "execution_count": 31,
   "id": "5fbdcd32",
   "metadata": {},
   "outputs": [
    {
     "data": {
      "application/vnd.microsoft.datawrangler.viewer.v0+json": {
       "columns": [
        {
         "name": "index",
         "rawType": "int64",
         "type": "integer"
        },
        {
         "name": "sample_alias",
         "rawType": "object",
         "type": "string"
        },
        {
         "name": "fastq_ftp",
         "rawType": "object",
         "type": "string"
        }
       ],
       "ref": "0add5a5b-b419-4558-8edd-b97a1be68e21",
       "rows": [
        [
         "0",
         "BGI-FFPE1",
         "ftp://ftp.sra.ebi.ac.uk/vol1/fastq/SRR152/003/SRR1523243/SRR1523243_1.fastq.gz"
        ],
        [
         "1",
         "BGI-FFPE1",
         "ftp://ftp.sra.ebi.ac.uk/vol1/fastq/SRR152/003/SRR1523243/SRR1523243_2.fastq.gz"
        ],
        [
         "2",
         "BGI-FFPE1",
         "ftp://ftp.sra.ebi.ac.uk/vol1/fastq/SRR152/007/SRR1523257/SRR1523257_1.fastq.gz"
        ],
        [
         "3",
         "BGI-FFPE1",
         "ftp://ftp.sra.ebi.ac.uk/vol1/fastq/SRR152/007/SRR1523257/SRR1523257_2.fastq.gz"
        ],
        [
         "4",
         "BGI-FFPE1",
         "ftp://ftp.sra.ebi.ac.uk/vol1/fastq/SRR152/003/SRR1523263/SRR1523263_1.fastq.gz"
        ],
        [
         "5",
         "BGI-FFPE1",
         "ftp://ftp.sra.ebi.ac.uk/vol1/fastq/SRR152/003/SRR1523263/SRR1523263_2.fastq.gz"
        ],
        [
         "6",
         "BGI-FROZ1",
         "ftp://ftp.sra.ebi.ac.uk/vol1/fastq/SRR152/000/SRR1523230/SRR1523230_1.fastq.gz"
        ],
        [
         "7",
         "BGI-FROZ1",
         "ftp://ftp.sra.ebi.ac.uk/vol1/fastq/SRR152/000/SRR1523230/SRR1523230_2.fastq.gz"
        ],
        [
         "8",
         "BGI-FFPE2",
         "ftp://ftp.sra.ebi.ac.uk/vol1/fastq/SRR152/004/SRR1523244/SRR1523244_1.fastq.gz"
        ],
        [
         "9",
         "BGI-FFPE2",
         "ftp://ftp.sra.ebi.ac.uk/vol1/fastq/SRR152/004/SRR1523244/SRR1523244_2.fastq.gz"
        ],
        [
         "10",
         "BGI-FFPE2",
         "ftp://ftp.sra.ebi.ac.uk/vol1/fastq/SRR152/004/SRR1523264/SRR1523264_1.fastq.gz"
        ],
        [
         "11",
         "BGI-FFPE2",
         "ftp://ftp.sra.ebi.ac.uk/vol1/fastq/SRR152/004/SRR1523264/SRR1523264_2.fastq.gz"
        ],
        [
         "12",
         "BGI-FROZ2",
         "ftp://ftp.sra.ebi.ac.uk/vol1/fastq/SRR152/001/SRR1523231/SRR1523231_1.fastq.gz"
        ],
        [
         "13",
         "BGI-FROZ2",
         "ftp://ftp.sra.ebi.ac.uk/vol1/fastq/SRR152/001/SRR1523231/SRR1523231_2.fastq.gz"
        ],
        [
         "14",
         "BGI-FROZ3",
         "ftp://ftp.sra.ebi.ac.uk/vol1/fastq/SRR152/000/SRR1523240/SRR1523240_1.fastq.gz"
        ],
        [
         "15",
         "BGI-FROZ3",
         "ftp://ftp.sra.ebi.ac.uk/vol1/fastq/SRR152/000/SRR1523240/SRR1523240_2.fastq.gz"
        ],
        [
         "16",
         "BGI-FFPE3",
         "ftp://ftp.sra.ebi.ac.uk/vol1/fastq/SRR152/001/SRR1523251/SRR1523251_1.fastq.gz"
        ],
        [
         "17",
         "BGI-FFPE3",
         "ftp://ftp.sra.ebi.ac.uk/vol1/fastq/SRR152/001/SRR1523251/SRR1523251_2.fastq.gz"
        ],
        [
         "18",
         "BGI-FFPE3",
         "ftp://ftp.sra.ebi.ac.uk/vol1/fastq/SRR152/009/SRR1523269/SRR1523269_1.fastq.gz"
        ],
        [
         "19",
         "BGI-FFPE3",
         "ftp://ftp.sra.ebi.ac.uk/vol1/fastq/SRR152/009/SRR1523269/SRR1523269_2.fastq.gz"
        ],
        [
         "20",
         "BGI-FFPE4",
         "ftp://ftp.sra.ebi.ac.uk/vol1/fastq/SRR152/003/SRR1523253/SRR1523253_1.fastq.gz"
        ],
        [
         "21",
         "BGI-FFPE4",
         "ftp://ftp.sra.ebi.ac.uk/vol1/fastq/SRR152/003/SRR1523253/SRR1523253_2.fastq.gz"
        ],
        [
         "22",
         "BGI-FFPE4",
         "ftp://ftp.sra.ebi.ac.uk/vol1/fastq/SRR152/008/SRR1523268/SRR1523268_1.fastq.gz"
        ],
        [
         "23",
         "BGI-FFPE4",
         "ftp://ftp.sra.ebi.ac.uk/vol1/fastq/SRR152/008/SRR1523268/SRR1523268_2.fastq.gz"
        ],
        [
         "24",
         "BGI-FROZ4",
         "ftp://ftp.sra.ebi.ac.uk/vol1/fastq/SRR152/009/SRR1523239/SRR1523239_1.fastq.gz"
        ],
        [
         "25",
         "BGI-FROZ4",
         "ftp://ftp.sra.ebi.ac.uk/vol1/fastq/SRR152/009/SRR1523239/SRR1523239_2.fastq.gz"
        ],
        [
         "26",
         "BGI-FROZ5",
         "ftp://ftp.sra.ebi.ac.uk/vol1/fastq/SRR152/008/SRR1523238/SRR1523238_1.fastq.gz"
        ],
        [
         "27",
         "BGI-FROZ5",
         "ftp://ftp.sra.ebi.ac.uk/vol1/fastq/SRR152/008/SRR1523238/SRR1523238_2.fastq.gz"
        ],
        [
         "28",
         "BGI-FFPE5",
         "ftp://ftp.sra.ebi.ac.uk/vol1/fastq/SRR152/002/SRR1523252/SRR1523252_1.fastq.gz"
        ],
        [
         "29",
         "BGI-FFPE5",
         "ftp://ftp.sra.ebi.ac.uk/vol1/fastq/SRR152/002/SRR1523252/SRR1523252_2.fastq.gz"
        ],
        [
         "30",
         "BGI-FFPE5",
         "ftp://ftp.sra.ebi.ac.uk/vol1/fastq/SRR152/001/SRR1523261/SRR1523261_1.fastq.gz"
        ],
        [
         "31",
         "BGI-FFPE5",
         "ftp://ftp.sra.ebi.ac.uk/vol1/fastq/SRR152/001/SRR1523261/SRR1523261_2.fastq.gz"
        ],
        [
         "32",
         "BGI-FROZ6",
         "ftp://ftp.sra.ebi.ac.uk/vol1/fastq/SRR152/002/SRR1523242/SRR1523242_1.fastq.gz"
        ],
        [
         "33",
         "BGI-FROZ6",
         "ftp://ftp.sra.ebi.ac.uk/vol1/fastq/SRR152/002/SRR1523242/SRR1523242_2.fastq.gz"
        ],
        [
         "34",
         "BGI-FFPE6",
         "ftp://ftp.sra.ebi.ac.uk/vol1/fastq/SRR152/006/SRR1523256/SRR1523256_1.fastq.gz"
        ],
        [
         "35",
         "BGI-FFPE6",
         "ftp://ftp.sra.ebi.ac.uk/vol1/fastq/SRR152/006/SRR1523256/SRR1523256_2.fastq.gz"
        ],
        [
         "36",
         "BGI-FFPE6",
         "ftp://ftp.sra.ebi.ac.uk/vol1/fastq/SRR152/004/SRR1523254/SRR1523254_1.fastq.gz"
        ],
        [
         "37",
         "BGI-FFPE6",
         "ftp://ftp.sra.ebi.ac.uk/vol1/fastq/SRR152/004/SRR1523254/SRR1523254_2.fastq.gz"
        ],
        [
         "38",
         "BGI-FROZ7",
         "ftp://ftp.sra.ebi.ac.uk/vol1/fastq/SRR152/004/SRR1523234/SRR1523234_1.fastq.gz"
        ],
        [
         "39",
         "BGI-FROZ7",
         "ftp://ftp.sra.ebi.ac.uk/vol1/fastq/SRR152/004/SRR1523234/SRR1523234_2.fastq.gz"
        ],
        [
         "40",
         "BGI-FFPE7",
         "ftp://ftp.sra.ebi.ac.uk/vol1/fastq/SRR152/007/SRR1523247/SRR1523247_1.fastq.gz"
        ],
        [
         "41",
         "BGI-FFPE7",
         "ftp://ftp.sra.ebi.ac.uk/vol1/fastq/SRR152/007/SRR1523247/SRR1523247_2.fastq.gz"
        ],
        [
         "42",
         "BGI-FFPE7",
         "ftp://ftp.sra.ebi.ac.uk/vol1/fastq/SRR152/006/SRR1523266/SRR1523266_1.fastq.gz"
        ],
        [
         "43",
         "BGI-FFPE7",
         "ftp://ftp.sra.ebi.ac.uk/vol1/fastq/SRR152/006/SRR1523266/SRR1523266_2.fastq.gz"
        ],
        [
         "44",
         "BGI-FFPE8",
         "ftp://ftp.sra.ebi.ac.uk/vol1/fastq/SRR152/005/SRR1523245/SRR1523245_1.fastq.gz"
        ],
        [
         "45",
         "BGI-FFPE8",
         "ftp://ftp.sra.ebi.ac.uk/vol1/fastq/SRR152/005/SRR1523245/SRR1523245_2.fastq.gz"
        ],
        [
         "46",
         "BGI-FFPE8",
         "ftp://ftp.sra.ebi.ac.uk/vol1/fastq/SRR152/002/SRR1523262/SRR1523262_1.fastq.gz"
        ],
        [
         "47",
         "BGI-FFPE8",
         "ftp://ftp.sra.ebi.ac.uk/vol1/fastq/SRR152/002/SRR1523262/SRR1523262_2.fastq.gz"
        ],
        [
         "48",
         "BGI-FROZ8",
         "ftp://ftp.sra.ebi.ac.uk/vol1/fastq/SRR152/002/SRR1523232/SRR1523232_1.fastq.gz"
        ],
        [
         "49",
         "BGI-FROZ8",
         "ftp://ftp.sra.ebi.ac.uk/vol1/fastq/SRR152/002/SRR1523232/SRR1523232_2.fastq.gz"
        ]
       ],
       "shape": {
        "columns": 2,
        "rows": 80
       }
      },
      "text/html": [
       "<div><style>\n",
       ".dataframe > thead > tr,\n",
       ".dataframe > tbody > tr {\n",
       "  text-align: right;\n",
       "  white-space: pre-wrap;\n",
       "}\n",
       "</style>\n",
       "<small>shape: (80, 2)</small><table border=\"1\" class=\"dataframe\"><thead><tr><th>sample_alias</th><th>fastq_ftp</th></tr><tr><td>str</td><td>str</td></tr></thead><tbody><tr><td>&quot;BGI-FFPE1&quot;</td><td>&quot;ftp://ftp.sra.ebi.ac.uk/vol1/f…</td></tr><tr><td>&quot;BGI-FFPE1&quot;</td><td>&quot;ftp://ftp.sra.ebi.ac.uk/vol1/f…</td></tr><tr><td>&quot;BGI-FFPE1&quot;</td><td>&quot;ftp://ftp.sra.ebi.ac.uk/vol1/f…</td></tr><tr><td>&quot;BGI-FFPE1&quot;</td><td>&quot;ftp://ftp.sra.ebi.ac.uk/vol1/f…</td></tr><tr><td>&quot;BGI-FFPE1&quot;</td><td>&quot;ftp://ftp.sra.ebi.ac.uk/vol1/f…</td></tr><tr><td>&hellip;</td><td>&hellip;</td></tr><tr><td>&quot;BGI-FROZ13&quot;</td><td>&quot;ftp://ftp.sra.ebi.ac.uk/vol1/f…</td></tr><tr><td>&quot;BGI-FFPE13&quot;</td><td>&quot;ftp://ftp.sra.ebi.ac.uk/vol1/f…</td></tr><tr><td>&quot;BGI-FFPE13&quot;</td><td>&quot;ftp://ftp.sra.ebi.ac.uk/vol1/f…</td></tr><tr><td>&quot;BGI-FFPE13&quot;</td><td>&quot;ftp://ftp.sra.ebi.ac.uk/vol1/f…</td></tr><tr><td>&quot;BGI-FFPE13&quot;</td><td>&quot;ftp://ftp.sra.ebi.ac.uk/vol1/f…</td></tr></tbody></table></div>"
      ],
      "text/plain": [
       "shape: (80, 2)\n",
       "┌──────────────┬─────────────────────────────────┐\n",
       "│ sample_alias ┆ fastq_ftp                       │\n",
       "│ ---          ┆ ---                             │\n",
       "│ str          ┆ str                             │\n",
       "╞══════════════╪═════════════════════════════════╡\n",
       "│ BGI-FFPE1    ┆ ftp://ftp.sra.ebi.ac.uk/vol1/f… │\n",
       "│ BGI-FFPE1    ┆ ftp://ftp.sra.ebi.ac.uk/vol1/f… │\n",
       "│ BGI-FFPE1    ┆ ftp://ftp.sra.ebi.ac.uk/vol1/f… │\n",
       "│ BGI-FFPE1    ┆ ftp://ftp.sra.ebi.ac.uk/vol1/f… │\n",
       "│ BGI-FFPE1    ┆ ftp://ftp.sra.ebi.ac.uk/vol1/f… │\n",
       "│ …            ┆ …                               │\n",
       "│ BGI-FROZ13   ┆ ftp://ftp.sra.ebi.ac.uk/vol1/f… │\n",
       "│ BGI-FFPE13   ┆ ftp://ftp.sra.ebi.ac.uk/vol1/f… │\n",
       "│ BGI-FFPE13   ┆ ftp://ftp.sra.ebi.ac.uk/vol1/f… │\n",
       "│ BGI-FFPE13   ┆ ftp://ftp.sra.ebi.ac.uk/vol1/f… │\n",
       "│ BGI-FFPE13   ┆ ftp://ftp.sra.ebi.ac.uk/vol1/f… │\n",
       "└──────────────┴─────────────────────────────────┘"
      ]
     },
     "execution_count": 31,
     "metadata": {},
     "output_type": "execute_result"
    }
   ],
   "source": [
    "fastq_links = (\n",
    "\tnew_sample_info\n",
    " \t.with_columns(pl.col(\"fastq_ftp\").str.split(\";\"))\n",
    "\t.select([\"sample_alias\", \"fastq_ftp\"])\n",
    "  \t.explode(\"fastq_ftp\")\n",
    "\t.with_columns([\n",
    "\t\t(pl.lit(\"ftp://\") + pl.col(\"fastq_ftp\")).alias(\"fastq_ftp\")\n",
    "\t])\n",
    ")\n",
    "\n",
    "fastq_links"
   ]
  },
  {
   "cell_type": "code",
   "execution_count": 32,
   "id": "011499a7",
   "metadata": {},
   "outputs": [
    {
     "name": "stdout",
     "output_type": "stream",
     "text": [
      "Saved fastq ftp links to: fq_ftp_links.txt\n"
     ]
    }
   ],
   "source": [
    "fastq_links.select(\"fastq_ftp\").write_csv(\"fq_ftp_links.txt\", include_header=False, separator=\"\\t\")\n",
    "print(\"Saved fastq ftp links to: fq_ftp_links.txt\")\n"
   ]
  },
  {
   "cell_type": "code",
   "execution_count": 43,
   "id": "eff5b14a",
   "metadata": {},
   "outputs": [
    {
     "name": "stdout",
     "output_type": "stream",
     "text": [
      "Created a bash script to obtain fastqs from the EBI ftp at : ../data/fq/fastq_ftp_download.sh\n"
     ]
    }
   ],
   "source": [
    "# fastq_links\n",
    "\n",
    "wget = [\"#!/bin/bash\"]\n",
    "\n",
    "for i in range(fastq_links.shape[0]):\n",
    "    \n",
    "    link = fastq_links[i, \"fastq_ftp\"]\n",
    "    sample_name = fastq_links[i, \"sample_alias\"]\n",
    "    \n",
    "    basename = os.path.basename(link)\n",
    "    read_number = basename.split(\"_\")[1].split(\".\")[0]\n",
    "    dir_name = f\"{link.split(\"/\")[-2]}\"\n",
    "    \n",
    "    wget.append(f\"mkdir -p {sample_name} && wget {link} -O {sample_name}/{sample_name}_{basename}\")\n",
    "\n",
    "fastq_dir = \"../data/fq\"\n",
    "os.makedirs(fastq_dir, exist_ok=True)\n",
    "\n",
    "fastq_get_path = \"../data/fq/fastq_ftp_download.sh\"\n",
    "with open(fastq_get_path, \"w\") as file:\n",
    "    for line in wget:\n",
    "        file.write(f\"{line}\\n\")\n",
    "\n",
    "print(f\"Created a bash script to obtain fastqs from the EBI ftp at : {fastq_get_path}\")"
   ]
  },
  {
   "cell_type": "code",
   "execution_count": 47,
   "id": "878a2276",
   "metadata": {},
   "outputs": [],
   "source": [
    "# parallel\n",
    "\n",
    "\n",
    "script_dir = \"../data/fq/parallel_downloads\"\n",
    "os.makedirs(script_dir, exist_ok=True)\n",
    "\n",
    "for i in range(fastq_links.shape[0]):\n",
    "    \n",
    "    link = fastq_links[i, \"fastq_ftp\"]\n",
    "    sample_name = fastq_links[i, \"sample_alias\"]\n",
    "    basename = os.path.basename(link)\n",
    "    read_number = basename.split(\"_\")[1].split(\".\")[0]\n",
    "    dir_name = f\"{link.split(\"/\")[-2]}\"\n",
    "    \n",
    "    wget = [\"#!/bin/bash\"]\n",
    "    wget.append(f\"mkdir -p {sample_name} && wget --tries=50 --retry-connrefused -O {sample_name}/{sample_name}_{basename} {link}\")\n",
    "    \n",
    "    script_path = f\"{script_dir}/{sample_name}_{basename}.sh\"\n",
    "    with open(script_path, \"w\") as file: \n",
    "        for line in wget:\n",
    "        \tfile.write(f\"{line}\\n\")\n",
    "        \n"
   ]
  }
 ],
 "metadata": {
  "kernelspec": {
   "display_name": "ena-ffpe",
   "language": "python",
   "name": "python3"
  },
  "language_info": {
   "codemirror_mode": {
    "name": "ipython",
    "version": 3
   },
   "file_extension": ".py",
   "mimetype": "text/x-python",
   "name": "python",
   "nbconvert_exporter": "python",
   "pygments_lexer": "ipython3",
   "version": "3.12.11"
  }
 },
 "nbformat": 4,
 "nbformat_minor": 5
}
