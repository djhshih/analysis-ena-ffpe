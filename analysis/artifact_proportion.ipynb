{
 "cells": [
  {
   "cell_type": "code",
   "execution_count": 25,
   "id": "963ec3a3",
   "metadata": {
    "vscode": {
     "languageId": "r"
    }
   },
   "outputs": [],
   "source": [
    "source(\"../common-ffpe-snvf/R/eval.R\")"
   ]
  },
  {
   "cell_type": "code",
   "execution_count": 2,
   "id": "cb71fac1",
   "metadata": {
    "vscode": {
     "languageId": "r"
    }
   },
   "outputs": [],
   "source": [
    "snv_filter <- function(df){\n",
    "\tdf[(nchar(df$ref) == 1) & (nchar(df$alt) == 1), ]\n",
    "}"
   ]
  },
  {
   "cell_type": "markdown",
   "id": "3b87a408",
   "metadata": {},
   "source": [
    "### PRJEB8754"
   ]
  },
  {
   "cell_type": "code",
   "execution_count": 9,
   "id": "eb4a54b6",
   "metadata": {
    "vscode": {
     "languageId": "r"
    }
   },
   "outputs": [],
   "source": [
    "dset_name <- \"PRJEB8754\"\n",
    "vcf_dir = \"../vcf/PRJEB8754/vcf_pass-orient-pos-sb_ad_filtered\""
   ]
  },
  {
   "cell_type": "code",
   "execution_count": 5,
   "id": "04558ce0",
   "metadata": {
    "vscode": {
     "languageId": "r"
    }
   },
   "outputs": [],
   "source": [
    "snv_truth_paths <- Sys.glob(\"../eval/PRJEB8754/vcf_pass-orient-pos-sb_ad_filtered/model-scores_truths/*/*_mobsnvf-scores_truths.tsv\")"
   ]
  },
  {
   "cell_type": "code",
   "execution_count": 10,
   "id": "9f584e9b",
   "metadata": {
    "vscode": {
     "languageId": "r"
    }
   },
   "outputs": [],
   "source": [
    "proportions <- list()\n",
    "\n",
    "for (i in seq_len(length(snv_truth_paths))){\n",
    "\tpath <- snv_truth_paths[i]\n",
    "\n",
    "\tparts <- unlist(strsplit(path, \"/\"))\n",
    "\tsample_name <- parts[length(parts) - 1]\n",
    "\n",
    "\tffpe_annot_ct <- read.delim(path)\n",
    "\n",
    "\tffpe_snv_all <- snv_filter(read_vcf(file.path(vcf_dir, sample_name, sprintf(\"%s.vcf\", sample_name)), columns = c(\"chrom\", \"pos\", \"ref\", \"alt\")))\n",
    "\t# ffpe_snv_nct <- ct_filter(ffpe_snv_all, invert = TRUE) |> mutate(truth = TRUE)\n",
    "\t# ffpe_annot_all <- rbind(ffpe_annot_ct, ffpe_snv_nct)\n",
    "\n",
    "\tffpe_ct_artifacts <- ffpe_annot_ct[!ffpe_annot_ct$truth, ]\n",
    "\t# ffpe_ct_real <- ffpe_annot_ct[ffpe_annot_ct$truth, ] \n",
    "\t# ffpe_all_real <- ffpe_annot_all[ffpe_annot_all$truth, ] \n",
    "\t\n",
    "\tprop_per_sample <- data.frame(\n",
    "\t\tsample_name = sample_name,\n",
    "\t\tct_artifact_out_of_ct_snv = nrow(ffpe_ct_artifacts)/nrow(ffpe_annot_ct),\n",
    "\t\tct_artifact_out_of_all_snv = nrow(ffpe_ct_artifacts)/nrow(ffpe_snv_all)\n",
    "\t)\n",
    "\n",
    "\tproportions[[i]] <- prop_per_sample\n",
    "\n",
    "}\n",
    "\n",
    "proportions <- do.call(rbind, proportions)\n",
    "proportions$dataset <- dset_name\n",
    "\n",
    "qwrite(proportions, sprintf(\"%s/%s_artifact_proportions.tsv\", dset_name, dset_name))"
   ]
  },
  {
   "cell_type": "code",
   "execution_count": 11,
   "id": "9c4ff084",
   "metadata": {
    "vscode": {
     "languageId": "r"
    }
   },
   "outputs": [
    {
     "data": {
      "text/html": [
       "0.383136839613533"
      ],
      "text/latex": [
       "0.383136839613533"
      ],
      "text/markdown": [
       "0.383136839613533"
      ],
      "text/plain": [
       "[1] 0.3831368"
      ]
     },
     "metadata": {},
     "output_type": "display_data"
    },
    {
     "data": {
      "text/html": [
       "0.5"
      ],
      "text/latex": [
       "0.5"
      ],
      "text/markdown": [
       "0.5"
      ],
      "text/plain": [
       "[1] 0.5"
      ]
     },
     "metadata": {},
     "output_type": "display_data"
    }
   ],
   "source": [
    "mean(proportions$ct_artifact_out_of_all_snv)\n",
    "max(proportions$ct_artifact_out_of_all_snv)"
   ]
  },
  {
   "cell_type": "code",
   "execution_count": 12,
   "id": "b954cf4f",
   "metadata": {
    "vscode": {
     "languageId": "r"
    }
   },
   "outputs": [
    {
     "data": {
      "text/html": [
       "0.956198029447918"
      ],
      "text/latex": [
       "0.956198029447918"
      ],
      "text/markdown": [
       "0.956198029447918"
      ],
      "text/plain": [
       "[1] 0.956198"
      ]
     },
     "metadata": {},
     "output_type": "display_data"
    },
    {
     "data": {
      "text/html": [
       "0.970588235294118"
      ],
      "text/latex": [
       "0.970588235294118"
      ],
      "text/markdown": [
       "0.970588235294118"
      ],
      "text/plain": [
       "[1] 0.9705882"
      ]
     },
     "metadata": {},
     "output_type": "display_data"
    }
   ],
   "source": [
    "mean(proportions$ct_artifact_out_of_ct_snv)\n",
    "max(proportions$ct_artifact_out_of_ct_snv)"
   ]
  },
  {
   "cell_type": "markdown",
   "id": "27254cb5",
   "metadata": {},
   "source": [
    "### SRP044740"
   ]
  },
  {
   "cell_type": "code",
   "execution_count": 13,
   "id": "0597d7a2",
   "metadata": {
    "vscode": {
     "languageId": "r"
    }
   },
   "outputs": [],
   "source": [
    "dset_name <- \"SRP044740\"\n",
    "vcf_dir = \"../vcf/SRP044740/vcf_filtered_pass_orientation\""
   ]
  },
  {
   "cell_type": "code",
   "execution_count": 14,
   "id": "694dc28b",
   "metadata": {
    "vscode": {
     "languageId": "r"
    }
   },
   "outputs": [],
   "source": [
    "snv_truth_paths <- Sys.glob(\"../eval/SRP044740/vcf_filtered_pass_orientation/model-scores_truths/*/*_mobsnvf-scores_truths.tsv\")"
   ]
  },
  {
   "cell_type": "code",
   "execution_count": 28,
   "id": "6ed09b7d",
   "metadata": {
    "vscode": {
     "languageId": "r"
    }
   },
   "outputs": [],
   "source": [
    "proportions <- list()\n",
    "\n",
    "for (i in seq_len(length(snv_truth_paths))){\n",
    "\tpath <- snv_truth_paths[i]\n",
    "\n",
    "\tparts <- unlist(strsplit(path, \"/\"))\n",
    "\tsample_name <- parts[length(parts) - 1]\n",
    "\n",
    "\tffpe_annot_ct <- read.delim(path)\n",
    "\n",
    "\tffpe_snv_all <- snv_filter(read_vcf(file.path(vcf_dir, sample_name, sprintf(\"%s.vcf\", sample_name)), columns = c(\"chrom\", \"pos\", \"ref\", \"alt\")))\n",
    "\t# ffpe_snv_nct <- ct_filter(ffpe_snv_all, invert = TRUE) |> mutate(truth = TRUE)\n",
    "\t# ffpe_annot_all <- rbind(ffpe_annot_ct, ffpe_snv_nct)\n",
    "\n",
    "\tffpe_ct_artifacts <- ffpe_annot_ct[!ffpe_annot_ct$truth, ]\n",
    "\t# ffpe_ct_real <- ffpe_annot_ct[ffpe_annot_ct$truth, ] \n",
    "\t# ffpe_all_real <- ffpe_annot_all[ffpe_annot_all$truth, ] \n",
    "\t\n",
    "\tprop_per_sample <- data.frame(\n",
    "\t\tsample_name = sample_name,\n",
    "\t\tct_artifact_out_of_ct_snv = nrow(ffpe_ct_artifacts)/nrow(ffpe_annot_ct),\n",
    "\t\tct_artifact_out_of_all_snv = nrow(ffpe_ct_artifacts)/nrow(ffpe_snv_all)\n",
    "\t)\n",
    "\n",
    "\tproportions[[i]] <- prop_per_sample\n",
    "\n",
    "}\n",
    "\n",
    "proportions <- do.call(rbind, proportions)\n",
    "proportions$dataset <- dset_name\n",
    "\n",
    "qwrite(proportions, sprintf(\"%s/%s_artifact_proportions.tsv\", dset_name, dset_name))"
   ]
  },
  {
   "cell_type": "code",
   "execution_count": 17,
   "id": "52ad6e79",
   "metadata": {
    "vscode": {
     "languageId": "r"
    }
   },
   "outputs": [
    {
     "data": {
      "text/html": [
       "0.829097828662707"
      ],
      "text/latex": [
       "0.829097828662707"
      ],
      "text/markdown": [
       "0.829097828662707"
      ],
      "text/plain": [
       "[1] 0.8290978"
      ]
     },
     "metadata": {},
     "output_type": "display_data"
    },
    {
     "data": {
      "text/html": [
       "0.905410723069356"
      ],
      "text/latex": [
       "0.905410723069356"
      ],
      "text/markdown": [
       "0.905410723069356"
      ],
      "text/plain": [
       "[1] 0.9054107"
      ]
     },
     "metadata": {},
     "output_type": "display_data"
    }
   ],
   "source": [
    "mean(proportions$ct_artifact_out_of_all_snv)\n",
    "max(proportions$ct_artifact_out_of_all_snv)"
   ]
  },
  {
   "cell_type": "code",
   "execution_count": 18,
   "id": "2b0b27c9",
   "metadata": {
    "vscode": {
     "languageId": "r"
    }
   },
   "outputs": [
    {
     "data": {
      "text/html": [
       "0.998979027114444"
      ],
      "text/latex": [
       "0.998979027114444"
      ],
      "text/markdown": [
       "0.998979027114444"
      ],
      "text/plain": [
       "[1] 0.998979"
      ]
     },
     "metadata": {},
     "output_type": "display_data"
    },
    {
     "data": {
      "text/html": [
       "0.999477447394247"
      ],
      "text/latex": [
       "0.999477447394247"
      ],
      "text/markdown": [
       "0.999477447394247"
      ],
      "text/plain": [
       "[1] 0.9994774"
      ]
     },
     "metadata": {},
     "output_type": "display_data"
    }
   ],
   "source": [
    "mean(proportions$ct_artifact_out_of_ct_snv)\n",
    "max(proportions$ct_artifact_out_of_ct_snv)"
   ]
  }
 ],
 "metadata": {
  "kernelspec": {
   "display_name": "R",
   "language": "R",
   "name": "ir"
  },
  "language_info": {
   "codemirror_mode": "r",
   "file_extension": ".r",
   "mimetype": "text/x-r-source",
   "name": "R",
   "pygments_lexer": "r",
   "version": "4.3.3"
  }
 },
 "nbformat": 4,
 "nbformat_minor": 5
}
