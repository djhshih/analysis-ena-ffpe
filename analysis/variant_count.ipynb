{
 "cells": [
  {
   "cell_type": "code",
   "execution_count": 1,
   "id": "b51fdd2d",
   "metadata": {
    "vscode": {
     "languageId": "r"
    }
   },
   "outputs": [
    {
     "name": "stderr",
     "output_type": "stream",
     "text": [
      "Loading required package: filenamer\n",
      "\n",
      "\n",
      "Attaching package: ‘dplyr’\n",
      "\n",
      "\n",
      "The following objects are masked from ‘package:stats’:\n",
      "\n",
      "    filter, lag\n",
      "\n",
      "\n",
      "The following objects are masked from ‘package:base’:\n",
      "\n",
      "    intersect, setdiff, setequal, union\n",
      "\n",
      "\n"
     ]
    }
   ],
   "source": [
    "source(\"../common-ffpe-snvf/R/eval.R\")\n",
    "library(ggplot2)\n",
    "library(scales)\n",
    "library(dplyr)\n",
    "library(patchwork)"
   ]
  },
  {
   "cell_type": "code",
   "execution_count": 2,
   "id": "132a4e40",
   "metadata": {
    "vscode": {
     "languageId": "r"
    }
   },
   "outputs": [],
   "source": [
    "get_ct_count <- function(ffpe_annot, ff_annot, dataset_id, case_id_col, sample_id_col = \"sample_name\") {\n",
    "\t\n",
    "\tct_count <- list()\n",
    "\n",
    "\tfor (i in seq_len(nrow(ffpe_annot))){\n",
    "\t\t\n",
    "\t\tcase_id <- ffpe_annot[i, case_id_col]\n",
    "\t\tffpe_sample_name <- ffpe_annot[i, sample_id_col]\n",
    "\n",
    "\t\tmessage(sprintf(\"processing %s. %s\", i, ffpe_sample_name))\n",
    "\n",
    "\t\tmatched_ff_annot <- ff_annot[ff_annot[[case_id_col]] == case_id, ]\n",
    "\t\tff_sample_names <- matched_ff_annot[[sample_id_col]]\n",
    "\t\t\n",
    "\t\tffpe_snv <- read_vcf(file.path(vcf_dir, ffpe_sample_name, sprintf(\"%s.vcf\", ffpe_sample_name)), columns = c(\"chrom\", \"pos\", \"ref\", \"alt\"))\n",
    "\t\t# Filter C:G>T:A variants\n",
    "\t\tffpe_snv_ct <- ct_filter(ffpe_snv)\n",
    "\n",
    "\t\tgt_paths <- file.path(vcf_dir, ff_sample_names, sprintf(\"%s.vcf\", ff_sample_names))\n",
    "\t\tgt_snv <- snv_union(gt_paths)\n",
    "\t\t# Filter C:G>T:A variants\n",
    "\t\tgt_snv_ct <- ct_filter(gt_snv)\n",
    "\n",
    "\t\t## Count C>T variants\n",
    "\t\tn_ct_ffpe <- nrow(ffpe_snv_ct)\n",
    "\t\tn_ct_gt <- nrow(gt_snv_ct)\n",
    "\n",
    "\t\tsample_ct_count <- data.frame(\n",
    "\t\t\tcase_id = case_id,\n",
    "\t\t\tffpe_sample_name = ffpe_sample_name,\n",
    "\t\t\tmatched_ff_sample_name = paste0(ff_sample_names, collapse = \";\"),\n",
    "\t\t\tn_ct_ffpe = n_ct_ffpe,\n",
    "\t\t\tn_ct_gt = n_ct_gt\n",
    "\t\t)\n",
    "\n",
    "\t\tct_count[[i]] <- sample_ct_count\n",
    "\n",
    "\t}\n",
    "\n",
    "\tall_ct_count <- do.call(rbind, ct_count)\n",
    "\t## Wide to Long\n",
    "\tct_count_long <- reshape(all_ct_count, idvar = c(\"ffpe_sample_name\", \"matched_ff_sample_name\"), direction = \"long\", v.names = \"n_ct\", varying = c(\"n_ct_ffpe\", \"n_ct_gt\"), timevar = \"sample_type\", times = c(\"FFPE\", \"Ground Truth\"))\n",
    "\trow.names(ct_count_long) <- NULL\n",
    "\tct_count_long$dataset_id <- dataset_id\n",
    "\n",
    "\tct_count_long\n",
    "}\n"
   ]
  },
  {
   "cell_type": "code",
   "execution_count": 3,
   "id": "72dfd127",
   "metadata": {
    "vscode": {
     "languageId": "r"
    }
   },
   "outputs": [],
   "source": [
    "make_bar_chart_paired <- function(df){\n",
    "\tggplot(data = df, aes(x = ffpe_sample_name, y = n_ct, fill = sample_type)) +\n",
    "\tfacet_wrap(~dataset_id, scales = \"free\") +\n",
    "\tgeom_bar(stat=\"identity\", position=position_dodge()) +\n",
    "\tscale_y_continuous(labels = label_number()) +\n",
    "\tlabs(\n",
    "\t\tx = \"Samples\", \n",
    "\t\ty = \"C>T Mutation Count\",\n",
    "\t\t# fill = \"Sample Type\",\n",
    "\t\t# title = \"C:G>T:A SNV Count\"\n",
    "\t) +\n",
    "\t# theme_minimal() +\n",
    "\ttheme(\n",
    "\t\tplot.title = element_text(hjust = 0.5, face = \"bold\", size = 12, margin = margin(t = 10, b = 10)),\n",
    "\t\tplot.subtitle = element_text(hjust = 0.5),\n",
    "\t\tplot.caption = element_text(hjust = 0),\n",
    "\t\tlegend.position = \"bottom\",\n",
    "\t\tlegend.title = element_blank(), # element_text(size = 10)\n",
    "\t\tlegend.text = element_text(size = 8),\n",
    "\t\tlegend.key.size = unit(0.5, \"cm\"),\n",
    "\t\taxis.text.x = element_blank(),\n",
    "\t\taxis.ticks.x = element_blank(),\n",
    "\t\tpanel.background = element_rect(fill = \"white\", color = NA)\n",
    "\t\t# axis.title.x = element_text(size = 10),\n",
    "\t\t# axis.title.y = element_text(size = 10),\n",
    "\t\t\n",
    "\t)\n",
    "}"
   ]
  },
  {
   "cell_type": "code",
   "execution_count": 4,
   "id": "a6444e7f",
   "metadata": {
    "vscode": {
     "languageId": "r"
    }
   },
   "outputs": [],
   "source": [
    "get_ct_count_case_based <- function(ffpe_annot, ff_annot, dataset_id, case_id_col, sample_id_col = \"sample_name\"){\n",
    "\n",
    "\tcases <- unique(ffpe_annot[[case_id_col]])\n",
    "\tct_count <- list()\n",
    "\n",
    "\tfor (i in seq_len(length(cases))){\n",
    "\n",
    "\t\tcase_id <- cases[i]\n",
    "\t\tffpe_samples <- ffpe_annot[ffpe_annot[[case_id_col]] == case_id, ]\n",
    "\t\tffpe_sample_names <- ffpe_samples[[sample_id_col]]\n",
    "\n",
    "\t\tmessage(sprintf(\"Processing Case: %s\", case_id))\n",
    "\n",
    "\t\tffpe_ct_count <- list()\n",
    "\n",
    "\t\tfor (j in seq_len(length(ffpe_sample_names))){\n",
    "\t\t\tffpe_snv <- read_vcf(file.path(vcf_dir, ffpe_sample_names[j], sprintf(\"%s.vcf\", ffpe_sample_names[j])), columns = c(\"chrom\", \"pos\", \"ref\", \"alt\"))\n",
    "\t\t\tffpe_snv_ct <- ct_filter(ffpe_snv)\n",
    "\n",
    "\t\t\tmessage(sprintf(\"\tFFPE Sample: %s\", ffpe_sample_names[j]))\n",
    "\t\t\t\n",
    "\t\t\tffpe_sample_ct_count <- data.frame(\n",
    "\t\t\t\tcase_id = case_id,\n",
    "\t\t\t\tsample_name = ffpe_sample_names[j],\n",
    "\t\t\t\tsample_type = sprintf(\"FFPE\"),\n",
    "\t\t\t\tn_ct = nrow(ffpe_snv_ct)\n",
    "\t\t\t)\n",
    "\t\t\t\n",
    "\t\t\tffpe_ct_count[[j]] <- ffpe_sample_ct_count\n",
    "\t\t}\n",
    "\n",
    "\t\tffpe_ct_count <- do.call(rbind, ffpe_ct_count)\n",
    "\n",
    "\t\tff_samples <- ff_annot[ff_annot[[case_id_col]] == case_id, ]\n",
    "\t\tff_sample_names <- ff_samples[[sample_id_col]]\n",
    "\n",
    "\t\tff_ct_count <- list()\n",
    "\n",
    "\t\tfor (j in seq_len(length(ff_sample_names))){\n",
    "\t\t\tff_snv <- read_vcf(file.path(vcf_dir, ff_sample_names[j], sprintf(\"%s.vcf\", ff_sample_names[j])), columns = c(\"chrom\", \"pos\", \"ref\", \"alt\"))\n",
    "\t\t\tff_snv_ct <- ct_filter(ff_snv)\n",
    "\n",
    "\t\t\tmessage(sprintf(\"\tFresh Frozen Sample: %s\", ff_sample_names[j]))\n",
    "\t\t\t\n",
    "\t\t\tff_sample_ct_count <- data.frame(\n",
    "\t\t\t\tcase_id = case_id,\n",
    "\t\t\t\tsample_name = ff_sample_names[j],\n",
    "\t\t\t\tsample_type = sprintf(\"Fresh Frozen\"),\n",
    "\t\t\t\tn_ct = nrow(ff_snv_ct)\n",
    "\t\t\t)\n",
    "\t\t\t\n",
    "\t\t\tff_ct_count[[j]] <- ff_sample_ct_count\n",
    "\t\t}\n",
    "\n",
    "\t\tff_ct_count <- do.call(rbind, ff_ct_count)\n",
    "\n",
    "\t\tcase_ct_count <- rbind(ffpe_ct_count, ff_ct_count)\n",
    "\t\tct_count[[i]] <- case_ct_count\n",
    "\t}\n",
    "\n",
    "\tct_count <- do.call(rbind, ct_count)\n",
    "\tct_count$dataset_id <- dataset_id\n",
    "\tct_count\n",
    "}"
   ]
  },
  {
   "cell_type": "code",
   "execution_count": 5,
   "id": "be81a365",
   "metadata": {
    "vscode": {
     "languageId": "r"
    }
   },
   "outputs": [],
   "source": [
    "make_dot_plot <- function(df){\n",
    "\tggplot(df, aes(x = case_id, y = n_ct, color = sample_type)) +\n",
    "\tgeom_point(alpha = 0.3, size = 3) +\n",
    "\tfacet_wrap(~dataset_id) +\n",
    "\tscale_y_continuous(labels = label_number()) +\n",
    "\tlabs(\n",
    "\t\tx = \"Cases\", \n",
    "\t\ty = \"C>T count\",\n",
    "\t\tcolor = \"Sample Type\",\n",
    "\t\t# title = \"C:G>T:A SNV Count\"\n",
    "\t) +\n",
    "\t# theme_minimal() +\n",
    "\ttheme(\n",
    "\t\tlegend.position = \"bottom\",\n",
    "\t\tlegend.title = element_blank(), # element_text(size = 10)\n",
    "\t\taxis.text.x = element_text(angle = 45, hjust=1.1), # element_blank(),\n",
    "\t\tpanel.background = element_rect(fill = \"white\", color = NA)\n",
    "\t\t# plot.title = element_text(hjust = 0.5, face = \"bold\", size = 12, margin = margin(t = 10, b = 10)),\n",
    "\t\t# plot.subtitle = element_text(hjust = 0.5),\n",
    "\t\t# plot.caption = element_text(hjust = 0),\n",
    "\t\t# axis.title.x = element_text(size = 10),\n",
    "\t\t# axis.title.y = element_text(size = 10),\n",
    "\t\t# axis.ticks.x = element_blank(),\n",
    "\t\t# legend.text = element_text(size = 8),\n",
    "\t\t# legend.key.size = unit(0.5, \"cm\"),\n",
    "\t)\n",
    "}"
   ]
  },
  {
   "cell_type": "code",
   "execution_count": 6,
   "id": "24455f5a",
   "metadata": {
    "vscode": {
     "languageId": "r"
    }
   },
   "outputs": [],
   "source": [
    "make_bar_chart <- function(df){\n",
    "\tggplot(data = df, aes(x = case_id, y = n_ct, fill = sample_type, group = sample_name)) +\n",
    "\tfacet_wrap(~dataset_id, scales = \"free\") +\n",
    "\tgeom_bar(stat=\"identity\", position=position_dodge(), color = \"black\") +\n",
    "\tscale_y_continuous(labels = label_number()) +\n",
    "\tlabs(\n",
    "\t\tx = \"Case\", \n",
    "\t\ty = \"C>T count\",\n",
    "\t\t# fill = \"Sample Type\",\n",
    "\t\t# title = \"C:G>T:A SNV Count\"\n",
    "\t) +\n",
    "\t# theme_minimal() +\n",
    "\ttheme(\n",
    "\t\tplot.title = element_text(hjust = 0.5, face = \"bold\", size = 12, margin = margin(t = 10, b = 10)),\n",
    "\t\tplot.subtitle = element_text(hjust = 0.5),\n",
    "\t\tplot.caption = element_text(hjust = 0),\n",
    "\t\tlegend.position = \"bottom\",\n",
    "\t\tlegend.title = element_blank(), # element_text(size = 10)\n",
    "\t\tlegend.text = element_text(size = 8),\n",
    "\t\tlegend.key.size = unit(0.5, \"cm\"),\n",
    "\t\taxis.text.x = element_text(angle = 45, vjust = 1, hjust=1.2),\n",
    "\t\t# axis.ticks.x = element_blank(),\n",
    "\t\tpanel.background = element_rect(fill = \"white\", color = NA)\n",
    "\t\t# axis.title.x = element_text(size = 10),\n",
    "\t\t# axis.title.y = element_text(size = 10),\n",
    "\t\t\n",
    "\t) + \n",
    "\tscale_fill_brewer(palette = \"Paired\")\n",
    "\t\n",
    "}"
   ]
  },
  {
   "cell_type": "code",
   "execution_count": 7,
   "id": "5abb7f0e",
   "metadata": {
    "vscode": {
     "languageId": "r"
    }
   },
   "outputs": [],
   "source": [
    "w= 5; h = 3\n",
    "options(repr.plot.width = w, repr.plot.height = h)\n"
   ]
  },
  {
   "cell_type": "code",
   "execution_count": 8,
   "id": "ac350846",
   "metadata": {
    "vscode": {
     "languageId": "r"
    }
   },
   "outputs": [],
   "source": [
    "## Dataset specific variables\n",
    "dataset_id <- \"SRP044740\"\n",
    "vcf_dir <- \"../vcf/SRP044740/vcf_filtered_pass_orientation\"\n",
    "lookup_table <- read.delim(\"../annot/SRP044740/sample-info_stage1.tsv\")\n",
    "ffpe_annot <- lookup_table[lookup_table$sample_type == \"FFPE\", ]\n",
    "ff_annot <- lookup_table[lookup_table$sample_type == \"FROZ\", ]\n",
    "sample_id_col <- \"sample_name\"\n",
    "match_id_col <- \"sample_number\"\n"
   ]
  },
  {
   "cell_type": "code",
   "execution_count": 9,
   "id": "6c3cc8b9",
   "metadata": {
    "vscode": {
     "languageId": "r"
    }
   },
   "outputs": [
    {
     "name": "stderr",
     "output_type": "stream",
     "text": [
      "Processing Case: 1\n",
      "\n"
     ]
    },
    {
     "name": "stderr",
     "output_type": "stream",
     "text": [
      "\tFFPE Sample: BGI-FFPE1_SRR1523243\n",
      "\n",
      "\tFFPE Sample: BGI-FFPE1_SRR1523257\n",
      "\n",
      "\tFFPE Sample: BGI-FFPE1_SRR1523263\n",
      "\n",
      "\tFresh Frozen Sample: BGI-FROZ1_SRR1523230\n",
      "\n",
      "Processing Case: 2\n",
      "\n",
      "\tFFPE Sample: BGI-FFPE2_SRR1523244\n",
      "\n",
      "\tFFPE Sample: BGI-FFPE2_SRR1523264\n",
      "\n",
      "\tFresh Frozen Sample: BGI-FROZ2_SRR1523231\n",
      "\n",
      "Processing Case: 3\n",
      "\n",
      "\tFFPE Sample: BGI-FFPE3_SRR1523251\n",
      "\n",
      "\tFFPE Sample: BGI-FFPE3_SRR1523269\n",
      "\n",
      "\tFresh Frozen Sample: BGI-FROZ3_SRR1523240\n",
      "\n",
      "Processing Case: 4\n",
      "\n",
      "\tFFPE Sample: BGI-FFPE4_SRR1523253\n",
      "\n",
      "\tFFPE Sample: BGI-FFPE4_SRR1523268\n",
      "\n",
      "\tFresh Frozen Sample: BGI-FROZ4_SRR1523239\n",
      "\n",
      "Processing Case: 5\n",
      "\n",
      "\tFFPE Sample: BGI-FFPE5_SRR1523252\n",
      "\n",
      "\tFFPE Sample: BGI-FFPE5_SRR1523261\n",
      "\n",
      "\tFresh Frozen Sample: BGI-FROZ5_SRR1523238\n",
      "\n",
      "Processing Case: 6\n",
      "\n",
      "\tFFPE Sample: BGI-FFPE6_SRR1523256\n",
      "\n",
      "\tFFPE Sample: BGI-FFPE6_SRR1523254\n",
      "\n",
      "\tFresh Frozen Sample: BGI-FROZ6_SRR1523242\n",
      "\n",
      "Processing Case: 7\n",
      "\n",
      "\tFFPE Sample: BGI-FFPE7_SRR1523247\n",
      "\n",
      "\tFFPE Sample: BGI-FFPE7_SRR1523266\n",
      "\n",
      "\tFresh Frozen Sample: BGI-FROZ7_SRR1523234\n",
      "\n",
      "Processing Case: 8\n",
      "\n",
      "\tFFPE Sample: BGI-FFPE8_SRR1523245\n",
      "\n",
      "\tFFPE Sample: BGI-FFPE8_SRR1523262\n",
      "\n",
      "\tFresh Frozen Sample: BGI-FROZ8_SRR1523232\n",
      "\n",
      "Processing Case: 9\n",
      "\n",
      "\tFFPE Sample: BGI-FFPE9_SRR1523255\n",
      "\n",
      "\tFresh Frozen Sample: BGI-FROZ9_SRR1523241\n",
      "\n",
      "Processing Case: 10\n",
      "\n",
      "\tFFPE Sample: BGI-FFPE10_SRR1523246\n",
      "\n",
      "\tFFPE Sample: BGI-FFPE10_SRR1523260\n",
      "\n",
      "\tFFPE Sample: BGI-FFPE10_SRR1523265\n",
      "\n",
      "\tFresh Frozen Sample: BGI-FROZ10_SRR1523233\n",
      "\n",
      "Processing Case: 11\n",
      "\n",
      "\tFFPE Sample: BGI-FFPE11_SRR1523258\n",
      "\n",
      "\tFFPE Sample: BGI-FFPE11_SRR1523250\n",
      "\n",
      "\tFresh Frozen Sample: BGI-FROZ11_SRR1523236\n",
      "\n",
      "Processing Case: 12\n",
      "\n",
      "\tFFPE Sample: BGI-FFPE12_SRR1523248\n",
      "\n",
      "\tFFPE Sample: BGI-FFPE12_SRR1523259\n",
      "\n",
      "\tFresh Frozen Sample: BGI-FROZ12_SRR1523235\n",
      "\n",
      "Processing Case: 13\n",
      "\n",
      "\tFFPE Sample: BGI-FFPE13_SRR1523267\n",
      "\n",
      "\tFFPE Sample: BGI-FFPE13_SRR1523249\n",
      "\n",
      "\tFresh Frozen Sample: BGI-FROZ13_SRR1523237\n",
      "\n"
     ]
    }
   ],
   "source": [
    "srp_ct_count <- get_ct_count_case_based(ffpe_annot, ff_annot, \"ENA SRP044740\", match_id_col, sample_id_col)\n",
    "srp_ct_count$case_id <- sprintf(\"%02d\", srp_ct_count$case_id)\n",
    "qwrite(srp_ct_count, \"SRP044740/SRP044740_ct_count.tsv\")\n",
    "\n",
    "srp_bar_chart <- make_bar_chart(srp_ct_count)\n",
    "srp_dot_plot <- make_dot_plot(srp_ct_count)\n",
    "\n",
    "qwrite(srp_bar_chart, \"SRP044740/SRP044740_ct_count_bar_chart.rds\")\n",
    "qwrite(srp_dot_plot, \"SRP044740/SRP044740_ct_count_dot_plot.rds\")\n",
    "\n",
    "qdraw(srp_bar_chart, \"SRP044740/SRP044740_ct_count_bar_chart.pdf\", width = 5, height = 3)\n",
    "qdraw(srp_dot_plot, \"SRP044740/SRP044740_ct_count_dot_plot.pdf\", width = 5, height = 3)"
   ]
  },
  {
   "cell_type": "code",
   "execution_count": 10,
   "id": "0f93b439",
   "metadata": {
    "vscode": {
     "languageId": "r"
    }
   },
   "outputs": [],
   "source": [
    "## Dataset specific variables\n",
    "dataset <- \"PRJEB8754\"\n",
    "vcf_dir <- \"../vcf/PRJEB8754/vcf_pass-orient-pos-sb_ad_filtered\"\n",
    "lookup_table <- read.delim(\"../annot/PRJEB8754/sample-info_matched-ff-ffpe_on-pat-id-sample-type.tsv\")\n",
    "ffpe_annot <- lookup_table[lookup_table$preservation == \"FFPE\", ]\n",
    "ff_annot <- lookup_table[lookup_table$preservation == \"Frozen\", ]\n",
    "sample_id_col <- \"sample_name\"\n",
    "case_id_col <- \"inferred_id\""
   ]
  },
  {
   "cell_type": "code",
   "execution_count": 12,
   "id": "a0fdd27b",
   "metadata": {
    "vscode": {
     "languageId": "r"
    }
   },
   "outputs": [
    {
     "name": "stderr",
     "output_type": "stream",
     "text": [
      "Processing Case: Pat01\n",
      "\n",
      "\tFFPE Sample: Pat01_Meta_FFPE_ERR791893\n",
      "\n",
      "\tFresh Frozen Sample: Pat01_Meta_Frozen_ERR791883\n",
      "\n"
     ]
    },
    {
     "name": "stderr",
     "output_type": "stream",
     "text": [
      "Processing Case: Pat03\n",
      "\n",
      "\tFFPE Sample: Pat03_Meta_FFPE_ERR791895\n",
      "\n",
      "\tFresh Frozen Sample: Pat03_Meta_Frozen_ERR791884\n",
      "\n",
      "Processing Case: Pat04\n",
      "\n",
      "\tFFPE Sample: Pat04_Meta_FFPE_ERR791896\n",
      "\n",
      "\tFresh Frozen Sample: Pat04_Meta_Frozen_ERR791891\n",
      "\n",
      "Processing Case: Pat08\n",
      "\n",
      "\tFFPE Sample: Pat08_Meta_FFPE_ERR791901\n",
      "\n",
      "\tFresh Frozen Sample: Pat08_Meta_Frozen_ERR791886\n",
      "\n",
      "Processing Case: Pat09\n",
      "\n",
      "\tFFPE Sample: Pat09_Meta_FFPE_ERR791902\n",
      "\n",
      "\tFresh Frozen Sample: Pat09_Meta_Frozen_ERR791887\n",
      "\n",
      "Processing Case: Pat10\n",
      "\n",
      "\tFFPE Sample: Pat10_Meta_FFPE_ERR791903\n",
      "\n",
      "\tFresh Frozen Sample: Pat10_Meta_Frozen_ERR791888\n",
      "\n",
      "Processing Case: Pat11\n",
      "\n",
      "\tFFPE Sample: Pat11_Meta_FFPE_ERR791905\n",
      "\n",
      "\tFresh Frozen Sample: Pat11_Meta_Frozen_ERR791889\n",
      "\n",
      "Processing Case: Pat12\n",
      "\n",
      "\tFFPE Sample: Pat12_Meta_FFPE_ERR791907\n",
      "\n",
      "\tFresh Frozen Sample: Pat12_Meta_Frozen_ERR791911\n",
      "\n",
      "Processing Case: Pat13\n",
      "\n",
      "\tFFPE Sample: Pat13_Meta_FFPE_ERR791908\n",
      "\n",
      "\tFresh Frozen Sample: Pat13_Meta_Frozen_ERR791890\n",
      "\n",
      "Processing Case: Pat14\n",
      "\n",
      "\tFFPE Sample: Pat14_Meta_FFPE_ERR791909\n",
      "\n",
      "\tFresh Frozen Sample: Pat14_Meta_Frozen_ERR791885\n",
      "\n"
     ]
    }
   ],
   "source": [
    "betge_ct_count <- get_ct_count_case_based(ffpe_annot, ff_annot, \"betge15\", case_id_col, sample_id_col)\n",
    "qwrite(betge_ct_count, \"PRJEB8754/PRJEB8754_ct_count.tsv\")\n",
    "\n",
    "betge_bar_chart <- make_bar_chart(betge_ct_count)\n",
    "betge_dot_plot <- make_dot_plot(betge_ct_count)\n",
    "\n",
    "qwrite(betge_bar_chart, \"PRJEB8754/PRJEB8754_ct_count_bar_chart.rds\")\n",
    "qwrite(betge_dot_plot, \"PRJEB8754/PRJEB8754_ct_count_dot_plot.rds\")\n",
    "\n",
    "qdraw(betge_bar_chart, \"PRJEB8754/PRJEB8754_ct_count_bar_chart.pdf\", width = 5, height =  3)\n",
    "qdraw(betge_dot_plot, \"PRJEB8754/PRJEB8754_ct_count_dot_plot.pdf\", width = 5, height =  3)"
   ]
  }
 ],
 "metadata": {
  "kernelspec": {
   "display_name": "R",
   "language": "R",
   "name": "ir"
  },
  "language_info": {
   "codemirror_mode": "r",
   "file_extension": ".r",
   "mimetype": "text/x-r-source",
   "name": "R",
   "pygments_lexer": "r",
   "version": "4.3.3"
  }
 },
 "nbformat": 4,
 "nbformat_minor": 5
}
